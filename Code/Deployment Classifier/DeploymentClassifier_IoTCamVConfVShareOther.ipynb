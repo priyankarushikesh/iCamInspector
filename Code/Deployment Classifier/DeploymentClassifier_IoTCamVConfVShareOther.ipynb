{
 "cells": [
  {
   "cell_type": "code",
   "execution_count": 1,
   "id": "1e49535b",
   "metadata": {},
   "outputs": [],
   "source": [
    "import pandas as pd\n",
    "import numpy as np\n",
    "from sklearn.model_selection import train_test_split\n",
    "from sklearn.feature_selection import SelectKBest\n",
    "from sklearn.feature_selection import f_classif\n",
    "from sklearn.model_selection import cross_val_score\n",
    "from sklearn.tree import DecisionTreeClassifier\n",
    "from sklearn import metrics\n",
    "from matplotlib import pyplot"
   ]
  },
  {
   "cell_type": "code",
   "execution_count": 2,
   "id": "26f541ab",
   "metadata": {},
   "outputs": [],
   "source": [
    "fnamesIPcam = [\"D:/New pcaps_IoTSpyCamera/TDSC_WorkAfterReview/filteredPcapCSV/IPCamera_filteredpcapcsv/alarmClockCam_1_Flow.csv\",\n",
    "          \"D:/New pcaps_IoTSpyCamera/TDSC_WorkAfterReview/filteredPcapCSV/IPCamera_filteredpcapcsv/alarmClockCam_2_Flow.csv\",\n",
    "          \"D:/New pcaps_IoTSpyCamera/TDSC_WorkAfterReview/filteredPcapCSV/IPCamera_filteredpcapcsv/alarmClockCam_3_Flow.csv\",\n",
    "          \"D:/New pcaps_IoTSpyCamera/TDSC_WorkAfterReview/filteredPcapCSV/IPCamera_filteredpcapcsv/alarmClockCam_4_Flow.csv\",\n",
    "          \"D:/New pcaps_IoTSpyCamera/TDSC_WorkAfterReview/filteredPcapCSV/IPCamera_filteredpcapcsv/canarycam_1_Flow.csv\",\n",
    "          \"D:/New pcaps_IoTSpyCamera/TDSC_WorkAfterReview/filteredPcapCSV/IPCamera_filteredpcapcsv/canarycam_2_Flow.csv\",\n",
    "          \"D:/New pcaps_IoTSpyCamera/TDSC_WorkAfterReview/filteredPcapCSV/IPCamera_filteredpcapcsv/canarycam_3_Flow.csv\",\n",
    "          \"D:/New pcaps_IoTSpyCamera/TDSC_WorkAfterReview/filteredPcapCSV/IPCamera_filteredpcapcsv/canarycam_4_Flow.csv\",\n",
    "          \"D:/New pcaps_IoTSpyCamera/TDSC_WorkAfterReview/filteredPcapCSV/IPCamera_filteredpcapcsv/d3dtraffic_1_Flow.csv\",\n",
    "          \"D:/New pcaps_IoTSpyCamera/TDSC_WorkAfterReview/filteredPcapCSV/IPCamera_filteredpcapcsv/d3dtraffic_2_Flow.csv\",\n",
    "          \"D:/New pcaps_IoTSpyCamera/TDSC_WorkAfterReview/filteredPcapCSV/IPCamera_filteredpcapcsv/d3dtraffic_3_Flow.csv\",\n",
    "          \"D:/New pcaps_IoTSpyCamera/TDSC_WorkAfterReview/filteredPcapCSV/IPCamera_filteredpcapcsv/ezviz_1_Flow.csv\",\n",
    "          \"D:/New pcaps_IoTSpyCamera/TDSC_WorkAfterReview/filteredPcapCSV/IPCamera_filteredpcapcsv/ezviz_2_Flow.csv\",\n",
    "          \"D:/New pcaps_IoTSpyCamera/TDSC_WorkAfterReview/filteredPcapCSV/IPCamera_filteredpcapcsv/ezviz_3_Flow.csv\",\n",
    "          \"D:/New pcaps_IoTSpyCamera/TDSC_WorkAfterReview/filteredPcapCSV/IPCamera_filteredpcapcsv/ezviz_4_Flow.csv\",\n",
    "          \"D:/New pcaps_IoTSpyCamera/TDSC_WorkAfterReview/filteredPcapCSV/IPCamera_filteredpcapcsv/ezviz_5_Flow.csv\",\n",
    "          \"D:/New pcaps_IoTSpyCamera/TDSC_WorkAfterReview/filteredPcapCSV/IPCamera_filteredpcapcsv/ezviz_6_Flow.csv\",\n",
    "          \"D:/New pcaps_IoTSpyCamera/TDSC_WorkAfterReview/filteredPcapCSV/IPCamera_filteredpcapcsv/ezviz_7_Flow.csv\",\n",
    "          \"D:/New pcaps_IoTSpyCamera/TDSC_WorkAfterReview/filteredPcapCSV/IPCamera_filteredpcapcsv/netatmocam1_Flow.csv\",\n",
    "          \"D:/New pcaps_IoTSpyCamera/TDSC_WorkAfterReview/filteredPcapCSV/IPCamera_filteredpcapcsv/netatmocam2_Flow.csv\",\n",
    "          \"D:/New pcaps_IoTSpyCamera/TDSC_WorkAfterReview/filteredPcapCSV/IPCamera_filteredpcapcsv/netatmocam3_Flow.csv\",\n",
    "          \"D:/New pcaps_IoTSpyCamera/TDSC_WorkAfterReview/filteredPcapCSV/IPCamera_filteredpcapcsv/v380Cam1_1_Flow.csv\",\n",
    "          \"D:/New pcaps_IoTSpyCamera/TDSC_WorkAfterReview/filteredPcapCSV/IPCamera_filteredpcapcsv/v380Cam1_2_Flow.csv\",\n",
    "          \"D:/New pcaps_IoTSpyCamera/TDSC_WorkAfterReview/filteredPcapCSV/IPCamera_filteredpcapcsv/v380Cam1_3_Flow.csv\",\n",
    "          \"D:/New pcaps_IoTSpyCamera/TDSC_WorkAfterReview/filteredPcapCSV/IPCamera_filteredpcapcsv/v380Cam1_4_Flow.csv\",\n",
    "          \"D:/New pcaps_IoTSpyCamera/TDSC_WorkAfterReview/filteredPcapCSV/IPCamera_filteredpcapcsv/v380Cam1_5_Flow.csv\",\n",
    "          \"D:/New pcaps_IoTSpyCamera/TDSC_WorkAfterReview/filteredPcapCSV/IPCamera_filteredpcapcsv/v380Cam1_6_Flow.csv\",\n",
    "          \"D:/New pcaps_IoTSpyCamera/TDSC_WorkAfterReview/filteredPcapCSV/IPCamera_filteredpcapcsv/v380Cam1_7_Flow.csv\",\n",
    "          \"D:/New pcaps_IoTSpyCamera/TDSC_WorkAfterReview/filteredPcapCSV/IPCamera_filteredpcapcsv/v380Cam1_8_Flow.csv\"]\n",
    "fnamesConf = [\n",
    "          \"D:/New pcaps_IoTSpyCamera/TDSC_WorkAfterReview/filteredPcapCSV/VideoConferencing_filteredpcapcsv/gmeet1_Flow.csv\",\n",
    "          \"D:/New pcaps_IoTSpyCamera/TDSC_WorkAfterReview/filteredPcapCSV/VideoConferencing_filteredpcapcsv/gmeet2_Flow.csv\",\n",
    "          \"D:/New pcaps_IoTSpyCamera/TDSC_WorkAfterReview/filteredPcapCSV/VideoConferencing_filteredpcapcsv/gmeet3_Flow.csv\",\n",
    "          \"D:/New pcaps_IoTSpyCamera/TDSC_WorkAfterReview/filteredPcapCSV/VideoConferencing_filteredpcapcsv/gmeet4_Flow.csv\",\n",
    "          \"D:/New pcaps_IoTSpyCamera/TDSC_WorkAfterReview/filteredPcapCSV/VideoConferencing_filteredpcapcsv/gmeet5_Flow.csv\",\n",
    "          \"D:/New pcaps_IoTSpyCamera/TDSC_WorkAfterReview/filteredPcapCSV/VideoConferencing_filteredpcapcsv/gmeet6_Flow.csv\",\n",
    "          \"D:/New pcaps_IoTSpyCamera/TDSC_WorkAfterReview/filteredPcapCSV/VideoConferencing_filteredpcapcsv/gmeet7_Flow.csv\",\n",
    "          \"D:/New pcaps_IoTSpyCamera/TDSC_WorkAfterReview/filteredPcapCSV/VideoConferencing_filteredpcapcsv/gmeet8_Flow.csv\",\n",
    "          \"D:/New pcaps_IoTSpyCamera/TDSC_WorkAfterReview/filteredPcapCSV/VideoConferencing_filteredpcapcsv/gmeet9_Flow.csv\",\n",
    "          \"D:/New pcaps_IoTSpyCamera/TDSC_WorkAfterReview/filteredPcapCSV/VideoConferencing_filteredpcapcsv/gmeet10_Flow.csv\",\n",
    "          \"D:/New pcaps_IoTSpyCamera/TDSC_WorkAfterReview/filteredPcapCSV/VideoConferencing_filteredpcapcsv/gmeet11_Flow.csv\",\n",
    "          \"D:/New pcaps_IoTSpyCamera/TDSC_WorkAfterReview/filteredPcapCSV/VideoConferencing_filteredpcapcsv/gmeet12_Flow.csv\",\n",
    "          \"D:/New pcaps_IoTSpyCamera/TDSC_WorkAfterReview/filteredPcapCSV/VideoConferencing_filteredpcapcsv/MSTeams1_Flow.csv\",\n",
    "          \"D:/New pcaps_IoTSpyCamera/TDSC_WorkAfterReview/filteredPcapCSV/VideoConferencing_filteredpcapcsv/MSTeams2_Flow.csv\",\n",
    "          \"D:/New pcaps_IoTSpyCamera/TDSC_WorkAfterReview/filteredPcapCSV/VideoConferencing_filteredpcapcsv/MSTeams11_Flow.csv\",\n",
    "          \"D:/New pcaps_IoTSpyCamera/TDSC_WorkAfterReview/filteredPcapCSV/VideoConferencing_filteredpcapcsv/MSTeams12_Flow.csv\",\n",
    "          \"D:/New pcaps_IoTSpyCamera/TDSC_WorkAfterReview/filteredPcapCSV/VideoConferencing_filteredpcapcsv/MSTeams21_Flow.csv\",\n",
    "          \"D:/New pcaps_IoTSpyCamera/TDSC_WorkAfterReview/filteredPcapCSV/VideoConferencing_filteredpcapcsv/MSTeams22_Flow.csv\",\n",
    "          \"D:/New pcaps_IoTSpyCamera/TDSC_WorkAfterReview/filteredPcapCSV/VideoConferencing_filteredpcapcsv/Skype_1_Flow.csv\",\n",
    "          \"D:/New pcaps_IoTSpyCamera/TDSC_WorkAfterReview/filteredPcapCSV/VideoConferencing_filteredpcapcsv/Skype_2_Flow.csv\",\n",
    "          \"D:/New pcaps_IoTSpyCamera/TDSC_WorkAfterReview/filteredPcapCSV/VideoConferencing_filteredpcapcsv/Skype_3_Flow.csv\",\n",
    "          \"D:/New pcaps_IoTSpyCamera/TDSC_WorkAfterReview/filteredPcapCSV/VideoConferencing_filteredpcapcsv/Skype_4_Flow.csv\",\n",
    "          \"D:/New pcaps_IoTSpyCamera/TDSC_WorkAfterReview/filteredPcapCSV/VideoConferencing_filteredpcapcsv/Skype_5_Flow.csv\",\n",
    "          \"D:/New pcaps_IoTSpyCamera/TDSC_WorkAfterReview/filteredPcapCSV/VideoConferencing_filteredpcapcsv/Skype_6_Flow.csv\",\n",
    "          \"D:/New pcaps_IoTSpyCamera/TDSC_WorkAfterReview/filteredPcapCSV/VideoConferencing_filteredpcapcsv/Skype_7_Flow.csv\",\n",
    "          \"D:/New pcaps_IoTSpyCamera/TDSC_WorkAfterReview/filteredPcapCSV/VideoConferencing_filteredpcapcsv/Skype_8_Flow.csv\",\n",
    "          \"D:/New pcaps_IoTSpyCamera/TDSC_WorkAfterReview/filteredPcapCSV/VideoConferencing_filteredpcapcsv/Skype_9_Flow.csv\",\n",
    "          \"D:/New pcaps_IoTSpyCamera/TDSC_WorkAfterReview/filteredPcapCSV/VideoConferencing_filteredpcapcsv/Skype_10_Flow.csv\",\n",
    "          \"D:/New pcaps_IoTSpyCamera/TDSC_WorkAfterReview/filteredPcapCSV/VideoConferencing_filteredpcapcsv/Skype_11_Flow.csv\",\n",
    "          \"D:/New pcaps_IoTSpyCamera/TDSC_WorkAfterReview/filteredPcapCSV/VideoConferencing_filteredpcapcsv/Skype_12_Flow.csv\",\n",
    "          \"D:/New pcaps_IoTSpyCamera/TDSC_WorkAfterReview/filteredPcapCSV/VideoConferencing_filteredpcapcsv/Skype_13_Flow.csv\",\n",
    "          \"D:/New pcaps_IoTSpyCamera/TDSC_WorkAfterReview/filteredPcapCSV/VideoConferencing_filteredpcapcsv/Skype_14_Flow.csv\",\n",
    "          \"D:/New pcaps_IoTSpyCamera/TDSC_WorkAfterReview/filteredPcapCSV/VideoConferencing_filteredpcapcsv/Skype_15_Flow.csv\",\n",
    "          \"D:/New pcaps_IoTSpyCamera/TDSC_WorkAfterReview/filteredPcapCSV/VideoConferencing_filteredpcapcsv/zoom1_Flow.csv\",\n",
    "          \"D:/New pcaps_IoTSpyCamera/TDSC_WorkAfterReview/filteredPcapCSV/VideoConferencing_filteredpcapcsv/zoom2_Flow.csv\",\n",
    "          \"D:/New pcaps_IoTSpyCamera/TDSC_WorkAfterReview/filteredPcapCSV/VideoConferencing_filteredpcapcsv/zoom3_Flow.csv\",\n",
    "          \"D:/New pcaps_IoTSpyCamera/TDSC_WorkAfterReview/filteredPcapCSV/VideoConferencing_filteredpcapcsv/zoom4_Flow.csv\",\n",
    "          \"D:/New pcaps_IoTSpyCamera/TDSC_WorkAfterReview/filteredPcapCSV/VideoConferencing_filteredpcapcsv/zoom5_Flow.csv\",\n",
    "          \"D:/New pcaps_IoTSpyCamera/TDSC_WorkAfterReview/filteredPcapCSV/VideoConferencing_filteredpcapcsv/zoom_6_Flow.csv\",\n",
    "          \"D:/New pcaps_IoTSpyCamera/TDSC_WorkAfterReview/filteredPcapCSV/VideoConferencing_filteredpcapcsv/zoom_7_Flow.csv\",\n",
    "          \"D:/New pcaps_IoTSpyCamera/TDSC_WorkAfterReview/filteredPcapCSV/VideoConferencing_filteredpcapcsv/zoom_8_Flow.csv\",\n",
    "          ]\n",
    "fnamesShare = [\n",
    "          \"D:/New pcaps_IoTSpyCamera/TDSC_WorkAfterReview/filteredPcapCSV/VideoSharing_filteredpcapcsv/amazon1_Flow.csv\",\n",
    "          \"D:/New pcaps_IoTSpyCamera/TDSC_WorkAfterReview/filteredPcapCSV/VideoSharing_filteredpcapcsv/amazon2_Flow.csv\",\n",
    "          \"D:/New pcaps_IoTSpyCamera/TDSC_WorkAfterReview/filteredPcapCSV/VideoSharing_filteredpcapcsv/amazon3_Flow.csv\",\n",
    "          \"D:/New pcaps_IoTSpyCamera/TDSC_WorkAfterReview/filteredPcapCSV/VideoSharing_filteredpcapcsv/amazon4_Flow.csv\",\n",
    "          \"D:/New pcaps_IoTSpyCamera/TDSC_WorkAfterReview/filteredPcapCSV/VideoSharing_filteredpcapcsv/amazon5_Flow.csv\",\n",
    "          \"D:/New pcaps_IoTSpyCamera/TDSC_WorkAfterReview/filteredPcapCSV/VideoSharing_filteredpcapcsv/YouTube_1_Flow.csv\",\n",
    "          \"D:/New pcaps_IoTSpyCamera/TDSC_WorkAfterReview/filteredPcapCSV/VideoSharing_filteredpcapcsv/YouTube_2_Flow.csv\",\n",
    "          \"D:/New pcaps_IoTSpyCamera/TDSC_WorkAfterReview/filteredPcapCSV/VideoSharing_filteredpcapcsv/YouTube_3_Flow.csv\",\n",
    "          \"D:/New pcaps_IoTSpyCamera/TDSC_WorkAfterReview/filteredPcapCSV/VideoSharing_filteredpcapcsv/YouTube_4_Flow.csv\",\n",
    "          \"D:/New pcaps_IoTSpyCamera/TDSC_WorkAfterReview/filteredPcapCSV/VideoSharing_filteredpcapcsv/YouTube_5_Flow.csv\",\n",
    "          \"D:/New pcaps_IoTSpyCamera/TDSC_WorkAfterReview/filteredPcapCSV/VideoSharing_filteredpcapcsv/YouTube_6_Flow.csv\",\n",
    "          \"D:/New pcaps_IoTSpyCamera/TDSC_WorkAfterReview/filteredPcapCSV/VideoSharing_filteredpcapcsv/YouTube_7_Flow.csv\",\n",
    "          \"D:/New pcaps_IoTSpyCamera/TDSC_WorkAfterReview/filteredPcapCSV/VideoSharing_filteredpcapcsv/YouTube_8_Flow.csv\",\n",
    "          \"D:/New pcaps_IoTSpyCamera/TDSC_WorkAfterReview/filteredPcapCSV/VideoSharing_filteredpcapcsv/YouTube_9_Flow.csv\",\n",
    "         ]\n",
    "fnamesOther = [\n",
    "          \"D:/New pcaps_IoTSpyCamera/TDSC_WorkAfterReview/Skype/New collection/Other data/csv/other1_Flow.csv\",\n",
    "          \"D:/New pcaps_IoTSpyCamera/TDSC_WorkAfterReview/Skype/New collection/Other data/csv/other2_Flow.csv\",\n",
    "          \"D:/New pcaps_IoTSpyCamera/TDSC_WorkAfterReview/Skype/New collection/Other data/csv/other3_Flow.csv\",\n",
    "          \"D:/New pcaps_IoTSpyCamera/TDSC_WorkAfterReview/Skype/New collection/Other data/csv/other4_Flow.csv\",\n",
    "          \"D:/New pcaps_IoTSpyCamera/TDSC_WorkAfterReview/Skype/New collection/Other data/csv/other3_Flow.csv\",\n",
    "         ]"
   ]
  },
  {
   "cell_type": "code",
   "execution_count": 3,
   "id": "9276fafc",
   "metadata": {},
   "outputs": [
    {
     "name": "stdout",
     "output_type": "stream",
     "text": [
      "file: D:/New pcaps_IoTSpyCamera/TDSC_WorkAfterReview/filteredPcapCSV/IPCamera_filteredpcapcsv/alarmClockCam_1_Flow.csv  data size:  (125, 84)\n",
      "file: D:/New pcaps_IoTSpyCamera/TDSC_WorkAfterReview/filteredPcapCSV/IPCamera_filteredpcapcsv/alarmClockCam_2_Flow.csv  data size:  (157, 84)\n",
      "file: D:/New pcaps_IoTSpyCamera/TDSC_WorkAfterReview/filteredPcapCSV/IPCamera_filteredpcapcsv/alarmClockCam_3_Flow.csv  data size:  (95, 84)\n",
      "file: D:/New pcaps_IoTSpyCamera/TDSC_WorkAfterReview/filteredPcapCSV/IPCamera_filteredpcapcsv/alarmClockCam_4_Flow.csv  data size:  (18, 84)\n",
      "file: D:/New pcaps_IoTSpyCamera/TDSC_WorkAfterReview/filteredPcapCSV/IPCamera_filteredpcapcsv/canarycam_1_Flow.csv  data size:  (45, 84)\n",
      "file: D:/New pcaps_IoTSpyCamera/TDSC_WorkAfterReview/filteredPcapCSV/IPCamera_filteredpcapcsv/canarycam_2_Flow.csv  data size:  (45, 84)\n",
      "file: D:/New pcaps_IoTSpyCamera/TDSC_WorkAfterReview/filteredPcapCSV/IPCamera_filteredpcapcsv/canarycam_3_Flow.csv  data size:  (143, 84)\n",
      "file: D:/New pcaps_IoTSpyCamera/TDSC_WorkAfterReview/filteredPcapCSV/IPCamera_filteredpcapcsv/canarycam_4_Flow.csv  data size:  (188, 84)\n",
      "file: D:/New pcaps_IoTSpyCamera/TDSC_WorkAfterReview/filteredPcapCSV/IPCamera_filteredpcapcsv/d3dtraffic_1_Flow.csv  data size:  (503, 84)\n",
      "file: D:/New pcaps_IoTSpyCamera/TDSC_WorkAfterReview/filteredPcapCSV/IPCamera_filteredpcapcsv/d3dtraffic_2_Flow.csv  data size:  (665, 84)\n",
      "file: D:/New pcaps_IoTSpyCamera/TDSC_WorkAfterReview/filteredPcapCSV/IPCamera_filteredpcapcsv/d3dtraffic_3_Flow.csv  data size:  (565, 84)\n",
      "file: D:/New pcaps_IoTSpyCamera/TDSC_WorkAfterReview/filteredPcapCSV/IPCamera_filteredpcapcsv/ezviz_1_Flow.csv  data size:  (234, 84)\n",
      "file: D:/New pcaps_IoTSpyCamera/TDSC_WorkAfterReview/filteredPcapCSV/IPCamera_filteredpcapcsv/ezviz_2_Flow.csv  data size:  (336, 84)\n",
      "file: D:/New pcaps_IoTSpyCamera/TDSC_WorkAfterReview/filteredPcapCSV/IPCamera_filteredpcapcsv/ezviz_3_Flow.csv  data size:  (479, 84)\n",
      "file: D:/New pcaps_IoTSpyCamera/TDSC_WorkAfterReview/filteredPcapCSV/IPCamera_filteredpcapcsv/ezviz_4_Flow.csv  data size:  (605, 84)\n",
      "file: D:/New pcaps_IoTSpyCamera/TDSC_WorkAfterReview/filteredPcapCSV/IPCamera_filteredpcapcsv/ezviz_5_Flow.csv  data size:  (563, 84)\n",
      "file: D:/New pcaps_IoTSpyCamera/TDSC_WorkAfterReview/filteredPcapCSV/IPCamera_filteredpcapcsv/ezviz_6_Flow.csv  data size:  (339, 84)\n",
      "file: D:/New pcaps_IoTSpyCamera/TDSC_WorkAfterReview/filteredPcapCSV/IPCamera_filteredpcapcsv/ezviz_7_Flow.csv  data size:  (30, 84)\n",
      "file: D:/New pcaps_IoTSpyCamera/TDSC_WorkAfterReview/filteredPcapCSV/IPCamera_filteredpcapcsv/netatmocam1_Flow.csv  data size:  (432, 84)\n",
      "file: D:/New pcaps_IoTSpyCamera/TDSC_WorkAfterReview/filteredPcapCSV/IPCamera_filteredpcapcsv/netatmocam2_Flow.csv  data size:  (158, 84)\n",
      "file: D:/New pcaps_IoTSpyCamera/TDSC_WorkAfterReview/filteredPcapCSV/IPCamera_filteredpcapcsv/netatmocam3_Flow.csv  data size:  (353, 84)\n",
      "file: D:/New pcaps_IoTSpyCamera/TDSC_WorkAfterReview/filteredPcapCSV/IPCamera_filteredpcapcsv/v380Cam1_1_Flow.csv  data size:  (249, 84)\n",
      "file: D:/New pcaps_IoTSpyCamera/TDSC_WorkAfterReview/filteredPcapCSV/IPCamera_filteredpcapcsv/v380Cam1_2_Flow.csv  data size:  (1678, 84)\n",
      "file: D:/New pcaps_IoTSpyCamera/TDSC_WorkAfterReview/filteredPcapCSV/IPCamera_filteredpcapcsv/v380Cam1_3_Flow.csv  data size:  (347, 84)\n",
      "file: D:/New pcaps_IoTSpyCamera/TDSC_WorkAfterReview/filteredPcapCSV/IPCamera_filteredpcapcsv/v380Cam1_4_Flow.csv  data size:  (425, 84)\n",
      "file: D:/New pcaps_IoTSpyCamera/TDSC_WorkAfterReview/filteredPcapCSV/IPCamera_filteredpcapcsv/v380Cam1_5_Flow.csv  data size:  (264, 84)\n",
      "file: D:/New pcaps_IoTSpyCamera/TDSC_WorkAfterReview/filteredPcapCSV/IPCamera_filteredpcapcsv/v380Cam1_6_Flow.csv  data size:  (288, 84)\n",
      "file: D:/New pcaps_IoTSpyCamera/TDSC_WorkAfterReview/filteredPcapCSV/IPCamera_filteredpcapcsv/v380Cam1_7_Flow.csv  data size:  (280, 84)\n",
      "file: D:/New pcaps_IoTSpyCamera/TDSC_WorkAfterReview/filteredPcapCSV/IPCamera_filteredpcapcsv/v380Cam1_8_Flow.csv  data size:  (391, 84)\n",
      "(10000, 84)\n"
     ]
    }
   ],
   "source": [
    "dfList = list()\n",
    "for fname in fnamesIPcam: \n",
    "    data = pd.read_csv(fname)\n",
    "    print('file:', fname, ' data size: ',data.shape)\n",
    "    dfList.append(data)\n",
    "############## combine the data frames\n",
    "ipcamDF = pd.concat(dfList)\n",
    "print(ipcamDF.shape)"
   ]
  },
  {
   "cell_type": "code",
   "execution_count": 4,
   "id": "593b2921",
   "metadata": {},
   "outputs": [
    {
     "name": "stdout",
     "output_type": "stream",
     "text": [
      "['IPCam_AlarmClock', 'IPCam_Canary', 'IPCam_D3D', 'IPCam_Ezviz', 'IPCam_Netatmo', 'IPCam_V380']\n"
     ]
    }
   ],
   "source": [
    "#see unique labels\n",
    "print(list(ipcamDF['Label'].unique()))\n"
   ]
  },
  {
   "cell_type": "code",
   "execution_count": 5,
   "id": "3f02fd7d",
   "metadata": {},
   "outputs": [
    {
     "name": "stdout",
     "output_type": "stream",
     "text": [
      "['IPCam', 'IPCam_Canary', 'IPCam_D3D', 'IPCam_Ezviz', 'IPCam_Netatmo', 'IPCam_V380']\n"
     ]
    }
   ],
   "source": [
    "ipcamDF['Label'].replace('IPCam_AlarmClock','IPCam',inplace=True)\n",
    "#uniqueLabels = list(ipcamDF['Label'].unique())\n",
    "#print(uniqueLabels)\n",
    "print(list(ipcamDF['Label'].unique()))"
   ]
  },
  {
   "cell_type": "code",
   "execution_count": 6,
   "id": "1b0ed4c5",
   "metadata": {},
   "outputs": [
    {
     "name": "stdout",
     "output_type": "stream",
     "text": [
      "['IPCam', 'IPCam_D3D', 'IPCam_Ezviz', 'IPCam_Netatmo', 'IPCam_V380']\n"
     ]
    }
   ],
   "source": [
    "ipcamDF['Label'].replace('IPCam_Canary','IPCam',inplace=True)\n",
    "#uniqueLabels = list(ipcamDF['Label'].unique())\n",
    "#print(uniqueLabels)\n",
    "print(list(ipcamDF['Label'].unique()))"
   ]
  },
  {
   "cell_type": "code",
   "execution_count": 7,
   "id": "286d3e1d",
   "metadata": {},
   "outputs": [
    {
     "name": "stdout",
     "output_type": "stream",
     "text": [
      "['IPCam', 'IPCam_Ezviz', 'IPCam_Netatmo', 'IPCam_V380']\n"
     ]
    }
   ],
   "source": [
    "ipcamDF['Label'].replace('IPCam_D3D','IPCam',inplace=True)\n",
    "#uniqueLabels = list(ipcamDF['Label'].unique())\n",
    "#print(uniqueLabels)\n",
    "print(list(ipcamDF['Label'].unique()))"
   ]
  },
  {
   "cell_type": "code",
   "execution_count": 8,
   "id": "1dcdde44",
   "metadata": {},
   "outputs": [
    {
     "name": "stdout",
     "output_type": "stream",
     "text": [
      "['IPCam', 'IPCam_Netatmo', 'IPCam_V380']\n"
     ]
    }
   ],
   "source": [
    "ipcamDF['Label'].replace('IPCam_Ezviz','IPCam',inplace=True)\n",
    "#uniqueLabels = list(ipcamDF['Label'].unique())\n",
    "#print(uniqueLabels)\n",
    "print(list(ipcamDF['Label'].unique()))"
   ]
  },
  {
   "cell_type": "code",
   "execution_count": 9,
   "id": "c3cff128",
   "metadata": {},
   "outputs": [
    {
     "name": "stdout",
     "output_type": "stream",
     "text": [
      "['IPCam', 'IPCam_V380']\n"
     ]
    }
   ],
   "source": [
    "ipcamDF['Label'].replace('IPCam_Netatmo','IPCam',inplace=True)\n",
    "#uniqueLabels = list(ipcamDF['Label'].unique())\n",
    "#print(uniqueLabels)\n",
    "print(list(ipcamDF['Label'].unique()))"
   ]
  },
  {
   "cell_type": "code",
   "execution_count": 10,
   "id": "be04850e",
   "metadata": {},
   "outputs": [
    {
     "name": "stdout",
     "output_type": "stream",
     "text": [
      "['IPCam']\n"
     ]
    }
   ],
   "source": [
    "ipcamDF['Label'].replace('IPCam_V380','IPCam',inplace=True)\n",
    "uniqueLabels = list(ipcamDF['Label'].unique())\n",
    "print(uniqueLabels)\n",
    "#print(list(ipcamDF['Label'].unique()))"
   ]
  },
  {
   "cell_type": "code",
   "execution_count": 11,
   "id": "f69ba852",
   "metadata": {},
   "outputs": [
    {
     "name": "stdout",
     "output_type": "stream",
     "text": [
      "file: D:/New pcaps_IoTSpyCamera/TDSC_WorkAfterReview/filteredPcapCSV/VideoSharing_filteredpcapcsv/amazon1_Flow.csv  data size:  (870, 84)\n",
      "file: D:/New pcaps_IoTSpyCamera/TDSC_WorkAfterReview/filteredPcapCSV/VideoSharing_filteredpcapcsv/amazon2_Flow.csv  data size:  (516, 84)\n",
      "file: D:/New pcaps_IoTSpyCamera/TDSC_WorkAfterReview/filteredPcapCSV/VideoSharing_filteredpcapcsv/amazon3_Flow.csv  data size:  (921, 84)\n",
      "file: D:/New pcaps_IoTSpyCamera/TDSC_WorkAfterReview/filteredPcapCSV/VideoSharing_filteredpcapcsv/amazon4_Flow.csv  data size:  (467, 84)\n",
      "file: D:/New pcaps_IoTSpyCamera/TDSC_WorkAfterReview/filteredPcapCSV/VideoSharing_filteredpcapcsv/amazon5_Flow.csv  data size:  (800, 84)\n",
      "file: D:/New pcaps_IoTSpyCamera/TDSC_WorkAfterReview/filteredPcapCSV/VideoSharing_filteredpcapcsv/YouTube_1_Flow.csv  data size:  (1420, 84)\n",
      "file: D:/New pcaps_IoTSpyCamera/TDSC_WorkAfterReview/filteredPcapCSV/VideoSharing_filteredpcapcsv/YouTube_2_Flow.csv  data size:  (52, 84)\n",
      "file: D:/New pcaps_IoTSpyCamera/TDSC_WorkAfterReview/filteredPcapCSV/VideoSharing_filteredpcapcsv/YouTube_3_Flow.csv  data size:  (37, 84)\n",
      "file: D:/New pcaps_IoTSpyCamera/TDSC_WorkAfterReview/filteredPcapCSV/VideoSharing_filteredpcapcsv/YouTube_4_Flow.csv  data size:  (41, 84)\n",
      "file: D:/New pcaps_IoTSpyCamera/TDSC_WorkAfterReview/filteredPcapCSV/VideoSharing_filteredpcapcsv/YouTube_5_Flow.csv  data size:  (337, 84)\n",
      "file: D:/New pcaps_IoTSpyCamera/TDSC_WorkAfterReview/filteredPcapCSV/VideoSharing_filteredpcapcsv/YouTube_6_Flow.csv  data size:  (159, 84)\n",
      "file: D:/New pcaps_IoTSpyCamera/TDSC_WorkAfterReview/filteredPcapCSV/VideoSharing_filteredpcapcsv/YouTube_7_Flow.csv  data size:  (337, 84)\n",
      "file: D:/New pcaps_IoTSpyCamera/TDSC_WorkAfterReview/filteredPcapCSV/VideoSharing_filteredpcapcsv/YouTube_8_Flow.csv  data size:  (1729, 84)\n",
      "file: D:/New pcaps_IoTSpyCamera/TDSC_WorkAfterReview/filteredPcapCSV/VideoSharing_filteredpcapcsv/YouTube_9_Flow.csv  data size:  (194, 84)\n",
      "(7880, 84)\n"
     ]
    }
   ],
   "source": [
    "###################################\\\n",
    "dfList = list()\n",
    "for fname in fnamesShare: \n",
    "    data = pd.read_csv(fname)\n",
    "    print('file:', fname, ' data size: ',data.shape)\n",
    "    dfList.append(data)\n",
    "############## combine the data frames\n",
    "shareDF = pd.concat(dfList)\n",
    "print(shareDF.shape)"
   ]
  },
  {
   "cell_type": "code",
   "execution_count": 12,
   "id": "483c7c39",
   "metadata": {},
   "outputs": [
    {
     "name": "stdout",
     "output_type": "stream",
     "text": [
      "['VShare_Amazon', 'VShare_YouTube']\n"
     ]
    }
   ],
   "source": [
    "print(list(shareDF['Label'].unique()))"
   ]
  },
  {
   "cell_type": "code",
   "execution_count": 13,
   "id": "0876fe17",
   "metadata": {},
   "outputs": [
    {
     "name": "stdout",
     "output_type": "stream",
     "text": [
      "['VShare', 'VShare_YouTube']\n"
     ]
    }
   ],
   "source": [
    "shareDF['Label'].replace('VShare_Amazon','VShare',inplace=True)\n",
    "#uniqueLabels = list(ipcamDF['Label'].unique())\n",
    "#print(uniqueLabels)\n",
    "print(list(shareDF['Label'].unique()))"
   ]
  },
  {
   "cell_type": "code",
   "execution_count": 14,
   "id": "7d0d4e20",
   "metadata": {},
   "outputs": [
    {
     "name": "stdout",
     "output_type": "stream",
     "text": [
      "['VShare']\n"
     ]
    }
   ],
   "source": [
    "shareDF['Label'].replace('VShare_YouTube','VShare',inplace=True)\n",
    "uniqueLabels = list(shareDF['Label'].unique())\n",
    "print(uniqueLabels)\n",
    "#print(list(shareDF['Label'].unique()))"
   ]
  },
  {
   "cell_type": "code",
   "execution_count": 15,
   "id": "0d6f89ea",
   "metadata": {},
   "outputs": [
    {
     "name": "stdout",
     "output_type": "stream",
     "text": [
      "file: D:/New pcaps_IoTSpyCamera/TDSC_WorkAfterReview/filteredPcapCSV/VideoConferencing_filteredpcapcsv/gmeet1_Flow.csv  data size:  (2620, 84)\n",
      "file: D:/New pcaps_IoTSpyCamera/TDSC_WorkAfterReview/filteredPcapCSV/VideoConferencing_filteredpcapcsv/gmeet2_Flow.csv  data size:  (3350, 84)\n",
      "file: D:/New pcaps_IoTSpyCamera/TDSC_WorkAfterReview/filteredPcapCSV/VideoConferencing_filteredpcapcsv/gmeet3_Flow.csv  data size:  (3207, 84)\n",
      "file: D:/New pcaps_IoTSpyCamera/TDSC_WorkAfterReview/filteredPcapCSV/VideoConferencing_filteredpcapcsv/gmeet4_Flow.csv  data size:  (6585, 84)\n",
      "file: D:/New pcaps_IoTSpyCamera/TDSC_WorkAfterReview/filteredPcapCSV/VideoConferencing_filteredpcapcsv/gmeet5_Flow.csv  data size:  (331, 84)\n",
      "file: D:/New pcaps_IoTSpyCamera/TDSC_WorkAfterReview/filteredPcapCSV/VideoConferencing_filteredpcapcsv/gmeet6_Flow.csv  data size:  (4937, 84)\n",
      "file: D:/New pcaps_IoTSpyCamera/TDSC_WorkAfterReview/filteredPcapCSV/VideoConferencing_filteredpcapcsv/gmeet7_Flow.csv  data size:  (1436, 84)\n",
      "file: D:/New pcaps_IoTSpyCamera/TDSC_WorkAfterReview/filteredPcapCSV/VideoConferencing_filteredpcapcsv/gmeet8_Flow.csv  data size:  (569, 84)\n",
      "file: D:/New pcaps_IoTSpyCamera/TDSC_WorkAfterReview/filteredPcapCSV/VideoConferencing_filteredpcapcsv/gmeet9_Flow.csv  data size:  (2833, 84)\n",
      "file: D:/New pcaps_IoTSpyCamera/TDSC_WorkAfterReview/filteredPcapCSV/VideoConferencing_filteredpcapcsv/gmeet10_Flow.csv  data size:  (2157, 84)\n",
      "file: D:/New pcaps_IoTSpyCamera/TDSC_WorkAfterReview/filteredPcapCSV/VideoConferencing_filteredpcapcsv/gmeet11_Flow.csv  data size:  (3129, 84)\n",
      "file: D:/New pcaps_IoTSpyCamera/TDSC_WorkAfterReview/filteredPcapCSV/VideoConferencing_filteredpcapcsv/gmeet12_Flow.csv  data size:  (806, 84)\n",
      "file: D:/New pcaps_IoTSpyCamera/TDSC_WorkAfterReview/filteredPcapCSV/VideoConferencing_filteredpcapcsv/MSTeams1_Flow.csv  data size:  (1898, 84)\n",
      "file: D:/New pcaps_IoTSpyCamera/TDSC_WorkAfterReview/filteredPcapCSV/VideoConferencing_filteredpcapcsv/MSTeams2_Flow.csv  data size:  (382, 84)\n",
      "file: D:/New pcaps_IoTSpyCamera/TDSC_WorkAfterReview/filteredPcapCSV/VideoConferencing_filteredpcapcsv/MSTeams11_Flow.csv  data size:  (1898, 84)\n",
      "file: D:/New pcaps_IoTSpyCamera/TDSC_WorkAfterReview/filteredPcapCSV/VideoConferencing_filteredpcapcsv/MSTeams12_Flow.csv  data size:  (1898, 84)\n",
      "file: D:/New pcaps_IoTSpyCamera/TDSC_WorkAfterReview/filteredPcapCSV/VideoConferencing_filteredpcapcsv/MSTeams21_Flow.csv  data size:  (382, 84)\n",
      "file: D:/New pcaps_IoTSpyCamera/TDSC_WorkAfterReview/filteredPcapCSV/VideoConferencing_filteredpcapcsv/MSTeams22_Flow.csv  data size:  (382, 84)\n",
      "file: D:/New pcaps_IoTSpyCamera/TDSC_WorkAfterReview/filteredPcapCSV/VideoConferencing_filteredpcapcsv/Skype_1_Flow.csv  data size:  (186, 84)\n",
      "file: D:/New pcaps_IoTSpyCamera/TDSC_WorkAfterReview/filteredPcapCSV/VideoConferencing_filteredpcapcsv/Skype_2_Flow.csv  data size:  (285, 84)\n",
      "file: D:/New pcaps_IoTSpyCamera/TDSC_WorkAfterReview/filteredPcapCSV/VideoConferencing_filteredpcapcsv/Skype_3_Flow.csv  data size:  (25, 84)\n",
      "file: D:/New pcaps_IoTSpyCamera/TDSC_WorkAfterReview/filteredPcapCSV/VideoConferencing_filteredpcapcsv/Skype_4_Flow.csv  data size:  (271, 84)\n",
      "file: D:/New pcaps_IoTSpyCamera/TDSC_WorkAfterReview/filteredPcapCSV/VideoConferencing_filteredpcapcsv/Skype_5_Flow.csv  data size:  (55, 84)\n",
      "file: D:/New pcaps_IoTSpyCamera/TDSC_WorkAfterReview/filteredPcapCSV/VideoConferencing_filteredpcapcsv/Skype_6_Flow.csv  data size:  (417, 84)\n",
      "file: D:/New pcaps_IoTSpyCamera/TDSC_WorkAfterReview/filteredPcapCSV/VideoConferencing_filteredpcapcsv/Skype_7_Flow.csv  data size:  (85, 84)\n",
      "file: D:/New pcaps_IoTSpyCamera/TDSC_WorkAfterReview/filteredPcapCSV/VideoConferencing_filteredpcapcsv/Skype_8_Flow.csv  data size:  (64, 84)\n",
      "file: D:/New pcaps_IoTSpyCamera/TDSC_WorkAfterReview/filteredPcapCSV/VideoConferencing_filteredpcapcsv/Skype_9_Flow.csv  data size:  (733, 84)\n",
      "file: D:/New pcaps_IoTSpyCamera/TDSC_WorkAfterReview/filteredPcapCSV/VideoConferencing_filteredpcapcsv/Skype_10_Flow.csv  data size:  (1098, 84)\n",
      "file: D:/New pcaps_IoTSpyCamera/TDSC_WorkAfterReview/filteredPcapCSV/VideoConferencing_filteredpcapcsv/Skype_11_Flow.csv  data size:  (1024, 84)\n",
      "file: D:/New pcaps_IoTSpyCamera/TDSC_WorkAfterReview/filteredPcapCSV/VideoConferencing_filteredpcapcsv/Skype_12_Flow.csv  data size:  (928, 84)\n",
      "file: D:/New pcaps_IoTSpyCamera/TDSC_WorkAfterReview/filteredPcapCSV/VideoConferencing_filteredpcapcsv/Skype_13_Flow.csv  data size:  (1277, 84)\n",
      "file: D:/New pcaps_IoTSpyCamera/TDSC_WorkAfterReview/filteredPcapCSV/VideoConferencing_filteredpcapcsv/Skype_14_Flow.csv  data size:  (1637, 84)\n",
      "file: D:/New pcaps_IoTSpyCamera/TDSC_WorkAfterReview/filteredPcapCSV/VideoConferencing_filteredpcapcsv/Skype_15_Flow.csv  data size:  (1028, 84)\n",
      "file: D:/New pcaps_IoTSpyCamera/TDSC_WorkAfterReview/filteredPcapCSV/VideoConferencing_filteredpcapcsv/zoom1_Flow.csv  data size:  (237, 84)\n",
      "file: D:/New pcaps_IoTSpyCamera/TDSC_WorkAfterReview/filteredPcapCSV/VideoConferencing_filteredpcapcsv/zoom2_Flow.csv  data size:  (251, 84)\n",
      "file: D:/New pcaps_IoTSpyCamera/TDSC_WorkAfterReview/filteredPcapCSV/VideoConferencing_filteredpcapcsv/zoom3_Flow.csv  data size:  (180, 84)\n",
      "file: D:/New pcaps_IoTSpyCamera/TDSC_WorkAfterReview/filteredPcapCSV/VideoConferencing_filteredpcapcsv/zoom4_Flow.csv  data size:  (312, 84)\n",
      "file: D:/New pcaps_IoTSpyCamera/TDSC_WorkAfterReview/filteredPcapCSV/VideoConferencing_filteredpcapcsv/zoom5_Flow.csv  data size:  (108, 84)\n",
      "file: D:/New pcaps_IoTSpyCamera/TDSC_WorkAfterReview/filteredPcapCSV/VideoConferencing_filteredpcapcsv/zoom_6_Flow.csv  data size:  (23, 84)\n",
      "file: D:/New pcaps_IoTSpyCamera/TDSC_WorkAfterReview/filteredPcapCSV/VideoConferencing_filteredpcapcsv/zoom_7_Flow.csv  data size:  (12, 84)\n",
      "file: D:/New pcaps_IoTSpyCamera/TDSC_WorkAfterReview/filteredPcapCSV/VideoConferencing_filteredpcapcsv/zoom_8_Flow.csv  data size:  (15, 84)\n",
      "(49051, 84)\n"
     ]
    }
   ],
   "source": [
    "###################################\\\n",
    "dfList = list()\n",
    "for fname in fnamesConf: \n",
    "    data = pd.read_csv(fname)\n",
    "    print('file:', fname, ' data size: ',data.shape)\n",
    "    dfList.append(data)\n",
    "############## combine the data frames\n",
    "confDF = pd.concat(dfList)\n",
    "print(confDF.shape)"
   ]
  },
  {
   "cell_type": "code",
   "execution_count": 16,
   "id": "76819dd2",
   "metadata": {},
   "outputs": [
    {
     "name": "stdout",
     "output_type": "stream",
     "text": [
      "['VConf_GMeet', 'VConf_Teams', 'VConf_Skype', 'VConf_Zoom']\n"
     ]
    }
   ],
   "source": [
    "print(list(confDF['Label'].unique()))"
   ]
  },
  {
   "cell_type": "code",
   "execution_count": 17,
   "id": "9ecfd956",
   "metadata": {},
   "outputs": [
    {
     "name": "stdout",
     "output_type": "stream",
     "text": [
      "['VConf', 'VConf_Teams', 'VConf_Skype', 'VConf_Zoom']\n"
     ]
    }
   ],
   "source": [
    "confDF['Label'].replace('VConf_GMeet','VConf',inplace=True)\n",
    "#uniqueLabels = list(ipcamDF['Label'].unique())\n",
    "#print(uniqueLabels)\n",
    "print(list(confDF['Label'].unique()))"
   ]
  },
  {
   "cell_type": "code",
   "execution_count": 18,
   "id": "9384ba13",
   "metadata": {},
   "outputs": [
    {
     "name": "stdout",
     "output_type": "stream",
     "text": [
      "['VConf', 'VConf_Skype', 'VConf_Zoom']\n"
     ]
    }
   ],
   "source": [
    "confDF['Label'].replace('VConf_Teams','VConf',inplace=True)\n",
    "#uniqueLabels = list(ipcamDF['Label'].unique())\n",
    "#print(uniqueLabels)\n",
    "print(list(confDF['Label'].unique()))"
   ]
  },
  {
   "cell_type": "code",
   "execution_count": 19,
   "id": "8232c1db",
   "metadata": {},
   "outputs": [
    {
     "name": "stdout",
     "output_type": "stream",
     "text": [
      "['VConf', 'VConf_Zoom']\n"
     ]
    }
   ],
   "source": [
    "confDF['Label'].replace('VConf_Skype','VConf',inplace=True)\n",
    "#uniqueLabels = list(ipcamDF['Label'].unique())\n",
    "#print(uniqueLabels)\n",
    "print(list(confDF['Label'].unique()))"
   ]
  },
  {
   "cell_type": "code",
   "execution_count": 20,
   "id": "14140090",
   "metadata": {},
   "outputs": [
    {
     "name": "stdout",
     "output_type": "stream",
     "text": [
      "['VConf']\n"
     ]
    }
   ],
   "source": [
    "confDF['Label'].replace('VConf_Zoom','VConf',inplace=True)\n",
    "uniqueLabels = list(confDF['Label'].unique())\n",
    "print(uniqueLabels)"
   ]
  },
  {
   "cell_type": "code",
   "execution_count": 21,
   "id": "5f0c420e",
   "metadata": {},
   "outputs": [
    {
     "name": "stdout",
     "output_type": "stream",
     "text": [
      "file: D:/New pcaps_IoTSpyCamera/TDSC_WorkAfterReview/Skype/New collection/Other data/csv/other1_Flow.csv  data size:  (12155, 84)\n",
      "file: D:/New pcaps_IoTSpyCamera/TDSC_WorkAfterReview/Skype/New collection/Other data/csv/other2_Flow.csv  data size:  (1795, 84)\n",
      "file: D:/New pcaps_IoTSpyCamera/TDSC_WorkAfterReview/Skype/New collection/Other data/csv/other3_Flow.csv  data size:  (11728, 84)\n",
      "file: D:/New pcaps_IoTSpyCamera/TDSC_WorkAfterReview/Skype/New collection/Other data/csv/other4_Flow.csv  data size:  (5358, 84)\n",
      "file: D:/New pcaps_IoTSpyCamera/TDSC_WorkAfterReview/Skype/New collection/Other data/csv/other3_Flow.csv  data size:  (11728, 84)\n",
      "(42764, 84)\n"
     ]
    }
   ],
   "source": [
    "###################################\\\n",
    "dfList = list()\n",
    "for fname in fnamesOther: \n",
    "    data = pd.read_csv(fname)\n",
    "    print('file:', fname, ' data size: ',data.shape)\n",
    "    dfList.append(data)\n",
    "############## combine the data frames\n",
    "otherDF = pd.concat(dfList)\n",
    "print(otherDF.shape)"
   ]
  },
  {
   "cell_type": "code",
   "execution_count": 22,
   "id": "00f700c1",
   "metadata": {},
   "outputs": [
    {
     "name": "stdout",
     "output_type": "stream",
     "text": [
      "['Other', 'No Label']\n"
     ]
    }
   ],
   "source": [
    "print(list(otherDF['Label'].unique()))"
   ]
  },
  {
   "cell_type": "code",
   "execution_count": 23,
   "id": "c3fa722a",
   "metadata": {},
   "outputs": [
    {
     "name": "stdout",
     "output_type": "stream",
     "text": [
      "['Other']\n"
     ]
    }
   ],
   "source": [
    "otherDF['Label'].replace('No Label','Other',inplace=True)\n",
    "#uniqueLabels = list(ipcamDF['Label'].unique())\n",
    "#print(uniqueLabels)\n",
    "print(list(otherDF['Label'].unique()))"
   ]
  },
  {
   "cell_type": "code",
   "execution_count": 24,
   "id": "27e47089",
   "metadata": {},
   "outputs": [
    {
     "name": "stdout",
     "output_type": "stream",
     "text": [
      "['Other']\n"
     ]
    }
   ],
   "source": [
    "print(list(otherDF['Label'].unique()))"
   ]
  },
  {
   "cell_type": "code",
   "execution_count": 25,
   "id": "32ed46a1",
   "metadata": {},
   "outputs": [
    {
     "name": "stdout",
     "output_type": "stream",
     "text": [
      "['VConf']\n",
      "['VShare']\n",
      "['IPCam']\n",
      "['Other']\n"
     ]
    }
   ],
   "source": [
    "print(list(confDF['Label'].unique()))\n",
    "print(list(shareDF['Label'].unique()))\n",
    "print(list(ipcamDF['Label'].unique()))\n",
    "print(list(otherDF['Label'].unique()))"
   ]
  },
  {
   "cell_type": "code",
   "execution_count": 26,
   "id": "b134fabf",
   "metadata": {},
   "outputs": [
    {
     "name": "stdout",
     "output_type": "stream",
     "text": [
      "(109695, 84)\n"
     ]
    }
   ],
   "source": [
    "######### creating master DF\n",
    "dfListAll = [ipcamDF,shareDF, confDF, otherDF]\n",
    "masterDF = pd.concat(dfListAll)\n",
    "print(masterDF.shape)"
   ]
  },
  {
   "cell_type": "code",
   "execution_count": 27,
   "id": "4cd4657b",
   "metadata": {},
   "outputs": [
    {
     "name": "stdout",
     "output_type": "stream",
     "text": [
      "['IPCam', 'VShare', 'VConf', 'Other']\n"
     ]
    }
   ],
   "source": [
    "uniqueLabels = list(masterDF['Label'].unique())\n",
    "print(uniqueLabels)"
   ]
  },
  {
   "cell_type": "code",
   "execution_count": 28,
   "id": "7bd857e6",
   "metadata": {},
   "outputs": [
    {
     "name": "stdout",
     "output_type": "stream",
     "text": [
      "pruneddata size:  (109695, 77)\n",
      "['Flow Duration', 'Tot Fwd Pkts', 'Tot Bwd Pkts', 'TotLen Fwd Pkts', 'TotLen Bwd Pkts', 'Fwd Pkt Len Max', 'Fwd Pkt Len Min', 'Fwd Pkt Len Mean', 'Fwd Pkt Len Std', 'Bwd Pkt Len Max', 'Bwd Pkt Len Min', 'Bwd Pkt Len Mean', 'Bwd Pkt Len Std', 'Flow Byts/s', 'Flow Pkts/s', 'Flow IAT Mean', 'Flow IAT Std', 'Flow IAT Max', 'Flow IAT Min', 'Fwd IAT Tot', 'Fwd IAT Mean', 'Fwd IAT Std', 'Fwd IAT Max', 'Fwd IAT Min', 'Bwd IAT Tot', 'Bwd IAT Mean', 'Bwd IAT Std', 'Bwd IAT Max', 'Bwd IAT Min', 'Fwd PSH Flags', 'Bwd PSH Flags', 'Fwd URG Flags', 'Bwd URG Flags', 'Fwd Header Len', 'Bwd Header Len', 'Fwd Pkts/s', 'Bwd Pkts/s', 'Pkt Len Min', 'Pkt Len Max', 'Pkt Len Mean', 'Pkt Len Std', 'Pkt Len Var', 'FIN Flag Cnt', 'SYN Flag Cnt', 'RST Flag Cnt', 'PSH Flag Cnt', 'ACK Flag Cnt', 'URG Flag Cnt', 'CWE Flag Count', 'ECE Flag Cnt', 'Down/Up Ratio', 'Pkt Size Avg', 'Fwd Seg Size Avg', 'Bwd Seg Size Avg', 'Fwd Byts/b Avg', 'Fwd Pkts/b Avg', 'Fwd Blk Rate Avg', 'Bwd Byts/b Avg', 'Bwd Pkts/b Avg', 'Bwd Blk Rate Avg', 'Subflow Fwd Pkts', 'Subflow Fwd Byts', 'Subflow Bwd Pkts', 'Subflow Bwd Byts', 'Init Fwd Win Byts', 'Init Bwd Win Byts', 'Fwd Act Data Pkts', 'Fwd Seg Size Min', 'Active Mean', 'Active Std', 'Active Max', 'Active Min', 'Idle Mean', 'Idle Std', 'Idle Max', 'Idle Min', 'Label']\n"
     ]
    }
   ],
   "source": [
    "#discard all those columns that helps in uniquely identifying a flow\n",
    "masterPruned = masterDF.iloc[:,np.arange(7,84)]\n",
    "print('pruneddata size: ', masterPruned.shape)\n",
    "ftList = list(masterPruned.columns)\n",
    "print(ftList)"
   ]
  },
  {
   "cell_type": "code",
   "execution_count": 29,
   "id": "9e6d323e",
   "metadata": {},
   "outputs": [
    {
     "data": {
      "text/plain": [
       "(76976, 77)"
      ]
     },
     "execution_count": 29,
     "metadata": {},
     "output_type": "execute_result"
    }
   ],
   "source": [
    "#discard those flows that has 0 flow duration\n",
    "masterSelected = masterPruned.drop(masterPruned[masterPruned['Flow Duration']==0].index)\n",
    "masterSelected.shape"
   ]
  },
  {
   "cell_type": "code",
   "execution_count": 30,
   "id": "2e26b5e0",
   "metadata": {},
   "outputs": [
    {
     "name": "stdout",
     "output_type": "stream",
     "text": [
      "[]\n"
     ]
    }
   ],
   "source": [
    "#identify those columns that has non-numeric values\n",
    "typesList = masterSelected.dtypes\n",
    "ftCount = len(ftList)\n",
    "nonNumericFtList = list()\n",
    "for fi in range(ftCount):\n",
    "    if ftList[fi] != 'Label' and typesList[fi] != 'int64' and typesList[fi] != 'float64':\n",
    "        print(ftList[fi], '  ', typesList[fi])\n",
    "        nonNumericFtList.append(ftList[fi])\n",
    "print(nonNumericFtList)"
   ]
  },
  {
   "cell_type": "code",
   "execution_count": 31,
   "id": "c30f1708",
   "metadata": {},
   "outputs": [],
   "source": [
    "for ft in nonNumericFtList:\n",
    "    masterSelected[ft] = pd.to_numeric(masterSelected[ft], errors='coerce')"
   ]
  },
  {
   "cell_type": "code",
   "execution_count": 32,
   "id": "14dda2ca",
   "metadata": {},
   "outputs": [
    {
     "name": "stdout",
     "output_type": "stream",
     "text": [
      "[]\n"
     ]
    }
   ],
   "source": [
    "print(nonNumericFtList)\n",
    "for ft in nonNumericFtList:\n",
    "    countNaN = masterSelected[ft].isna().sum()\n",
    "    print('converted to numeric ft: ', ft, '  countNaN: ', countNaN)"
   ]
  },
  {
   "cell_type": "code",
   "execution_count": 33,
   "id": "e9b81fd1",
   "metadata": {},
   "outputs": [
    {
     "name": "stdout",
     "output_type": "stream",
     "text": [
      "count inf:  0\n"
     ]
    }
   ],
   "source": [
    "number_inf = masterSelected[masterSelected == np.inf].count().sum()\n",
    "print('count inf: ',number_inf)"
   ]
  },
  {
   "cell_type": "code",
   "execution_count": 34,
   "id": "96d12c8d",
   "metadata": {},
   "outputs": [
    {
     "name": "stdout",
     "output_type": "stream",
     "text": [
      "[]\n"
     ]
    }
   ],
   "source": [
    "typesList = masterSelected.dtypes\n",
    "ftCount = len(ftList)\n",
    "nonNumericFtList = list()\n",
    "for fi in range(ftCount):\n",
    "    if ftList[fi] != 'Label' and typesList[fi] != 'int64' and typesList[fi] != 'float64':\n",
    "        print(ftList[fi], '  ', typesList[fi])\n",
    "        nonNumericFtList.append(ftList[fi])\n",
    "print(nonNumericFtList)"
   ]
  },
  {
   "cell_type": "code",
   "execution_count": 35,
   "id": "21c27b74",
   "metadata": {},
   "outputs": [
    {
     "name": "stdout",
     "output_type": "stream",
     "text": [
      "count:  1  ft:  Fwd PSH Flags  ftmin:  0  ftMax:  0\n",
      "count:  2  ft:  Fwd URG Flags  ftmin:  0  ftMax:  0\n",
      "count:  3  ft:  Bwd URG Flags  ftmin:  0  ftMax:  0\n",
      "count:  4  ft:  URG Flag Cnt  ftmin:  0  ftMax:  0\n",
      "count:  5  ft:  CWE Flag Count  ftmin:  0  ftMax:  0\n",
      "count:  6  ft:  ECE Flag Cnt  ftmin:  0  ftMax:  0\n",
      "count:  7  ft:  Fwd Byts/b Avg  ftmin:  0  ftMax:  0\n",
      "count:  8  ft:  Fwd Pkts/b Avg  ftmin:  0  ftMax:  0\n",
      "count:  9  ft:  Fwd Blk Rate Avg  ftmin:  0  ftMax:  0\n",
      "count:  10  ft:  Bwd Byts/b Avg  ftmin:  0  ftMax:  0\n",
      "count:  11  ft:  Bwd Pkts/b Avg  ftmin:  0  ftMax:  0\n",
      "count:  12  ft:  Bwd Blk Rate Avg  ftmin:  0  ftMax:  0\n",
      "count:  13  ft:  Init Fwd Win Byts  ftmin:  -1  ftMax:  -1\n",
      "count:  14  ft:  Fwd Seg Size Min  ftmin:  0  ftMax:  0\n",
      "['Fwd PSH Flags', 'Fwd URG Flags', 'Bwd URG Flags', 'URG Flag Cnt', 'CWE Flag Count', 'ECE Flag Cnt', 'Fwd Byts/b Avg', 'Fwd Pkts/b Avg', 'Fwd Blk Rate Avg', 'Bwd Byts/b Avg', 'Bwd Pkts/b Avg', 'Bwd Blk Rate Avg', 'Init Fwd Win Byts', 'Fwd Seg Size Min']\n"
     ]
    }
   ],
   "source": [
    "#identify those columns that has 0 std\n",
    "count = 0\n",
    "staticFtList = list()\n",
    "for ft in ftList:\n",
    "    if ft == 'Label':\n",
    "        continue\n",
    "    #print('ft : ', ft)\n",
    "    ftMin = masterSelected[ft].min()\n",
    "    ftMax = masterSelected[ft].max()\n",
    "    #std = masterPruned[ft].std()\n",
    "    \n",
    "    if ftMin == ftMax:\n",
    "        count += 1\n",
    "        print('count: ', count, ' ft: ', ft, ' ftmin: ', ftMin, ' ftMax: ', ftMax)\n",
    "        staticFtList.append(ft)\n",
    "print(staticFtList)"
   ]
  },
  {
   "cell_type": "code",
   "execution_count": 36,
   "id": "a3b0de87",
   "metadata": {},
   "outputs": [
    {
     "name": "stdout",
     "output_type": "stream",
     "text": [
      "before droping column:  (76976, 77)\n",
      "after droping column:  (76976, 63)\n"
     ]
    }
   ],
   "source": [
    "#remove those columns that have 0 std\n",
    "print('before droping column: ', masterSelected.shape)\n",
    "for ft in staticFtList:\n",
    "    masterSelected.drop([ft], axis=1,inplace=True)\n",
    "print('after droping column: ', masterSelected.shape)    "
   ]
  },
  {
   "cell_type": "code",
   "execution_count": 37,
   "id": "eac39ef6",
   "metadata": {},
   "outputs": [
    {
     "name": "stdout",
     "output_type": "stream",
     "text": [
      "63\n",
      "['Flow Duration', 'Tot Fwd Pkts', 'Tot Bwd Pkts', 'TotLen Fwd Pkts', 'TotLen Bwd Pkts', 'Fwd Pkt Len Max', 'Fwd Pkt Len Min', 'Fwd Pkt Len Mean', 'Fwd Pkt Len Std', 'Bwd Pkt Len Max', 'Bwd Pkt Len Min', 'Bwd Pkt Len Mean', 'Bwd Pkt Len Std', 'Flow Byts/s', 'Flow Pkts/s', 'Flow IAT Mean', 'Flow IAT Std', 'Flow IAT Max', 'Flow IAT Min', 'Fwd IAT Tot', 'Fwd IAT Mean', 'Fwd IAT Std', 'Fwd IAT Max', 'Fwd IAT Min', 'Bwd IAT Tot', 'Bwd IAT Mean', 'Bwd IAT Std', 'Bwd IAT Max', 'Bwd IAT Min', 'Bwd PSH Flags', 'Fwd Header Len', 'Bwd Header Len', 'Fwd Pkts/s', 'Bwd Pkts/s', 'Pkt Len Min', 'Pkt Len Max', 'Pkt Len Mean', 'Pkt Len Std', 'Pkt Len Var', 'FIN Flag Cnt', 'SYN Flag Cnt', 'RST Flag Cnt', 'PSH Flag Cnt', 'ACK Flag Cnt', 'Down/Up Ratio', 'Pkt Size Avg', 'Fwd Seg Size Avg', 'Bwd Seg Size Avg', 'Subflow Fwd Pkts', 'Subflow Fwd Byts', 'Subflow Bwd Pkts', 'Subflow Bwd Byts', 'Init Bwd Win Byts', 'Fwd Act Data Pkts', 'Active Mean', 'Active Std', 'Active Max', 'Active Min', 'Idle Mean', 'Idle Std', 'Idle Max', 'Idle Min', 'Label']\n"
     ]
    }
   ],
   "source": [
    "xCount = masterSelected.shape[1]\n",
    "print(xCount)\n",
    "finalFtList = list(masterSelected.columns)\n",
    "print(finalFtList)"
   ]
  },
  {
   "cell_type": "code",
   "execution_count": 52,
   "id": "b6078ebd",
   "metadata": {},
   "outputs": [],
   "source": [
    "#report intermediate data frame to a csv\n",
    "masterSelected.to_csv('D:/New pcaps_IoTSpyCamera/TDSC_WorkAfterReview/filteredPcapCSV/ProcessedNPrunnedAllCombination_Others1.csv', index = False)"
   ]
  },
  {
   "cell_type": "code",
   "execution_count": 53,
   "id": "871044e7",
   "metadata": {},
   "outputs": [
    {
     "name": "stdout",
     "output_type": "stream",
     "text": [
      "Xshape:  (76976, 62)\n",
      "Yshape:  (76976,)\n"
     ]
    }
   ],
   "source": [
    "#classification with all the features\n",
    "masterDS = masterSelected.values\n",
    "X = masterDS[:,:-1]\n",
    "Y = masterDS[:,-1]\n",
    "print(\"Xshape: \", X.shape)\n",
    "print(\"Yshape: \", Y.shape)"
   ]
  },
  {
   "cell_type": "code",
   "execution_count": 54,
   "id": "4e71709c",
   "metadata": {},
   "outputs": [
    {
     "name": "stdout",
     "output_type": "stream",
     "text": [
      "classification with all features:\n",
      "[0.82826708 0.87892959 0.90426085 0.91569239 0.9193297  0.91556248\n",
      " 0.8822918  0.94283487 0.89736261 0.8478628 ]\n",
      "mean score:  0.8932394174082257 min score:  0.8282670823590543 max score:  0.9428348707288554  std score:  0.03299454831698832\n"
     ]
    }
   ],
   "source": [
    "#depth = 30 # for plot depth vs meanstd\n",
    "clf = DecisionTreeClassifier(random_state=15)\n",
    "print('classification with all features:')\n",
    "scores = cross_val_score(clf, X, Y, cv=10)\n",
    "print(scores)\n",
    "print('mean score: ', scores.mean(), 'min score: ', scores.min(), 'max score: ', scores.max(), ' std score: ', scores.std())"
   ]
  },
  {
   "cell_type": "code",
   "execution_count": 55,
   "id": "9d39d572",
   "metadata": {},
   "outputs": [
    {
     "name": "stdout",
     "output_type": "stream",
     "text": [
      "1673624468.77s start time\n",
      "0.12s elapsed during training\n"
     ]
    }
   ],
   "source": [
    "import time\n",
    "#performance with all features using decision tree\n",
    "X_train, X_test, Y_train, Y_test = train_test_split(X, Y, test_size=0.33, random_state=1)\n",
    "model = DecisionTreeClassifier(random_state=10)\n",
    "clf = model.fit(X_train,Y_train)\n",
    "start_time = time.time()\n",
    "print(f'{start_time:.2f}s start time')\n",
    "yhat = model.predict(X_test)\n",
    "elapsed_time = time.time() - start_time\n",
    "print(f'{elapsed_time:.2f}s elapsed during training')"
   ]
  },
  {
   "cell_type": "code",
   "execution_count": 56,
   "id": "940f287a",
   "metadata": {},
   "outputs": [
    {
     "name": "stdout",
     "output_type": "stream",
     "text": [
      "1673624468.91s start time\n",
      "24.89s elapsed during training\n"
     ]
    }
   ],
   "source": [
    "import time\n",
    "\n",
    "start_time = time.time()\n",
    "print(f'{start_time:.2f}s start time')\n",
    "clf = DecisionTreeClassifier(random_state=10)\n",
    "#print('classification with all features:')\n",
    "scores = cross_val_score(clf, X, Y, cv=10)\n",
    "clf.fit(X_train, Y_train)\n",
    "elapsed_time = time.time() - start_time\n",
    "print(f'{elapsed_time:.2f}s elapsed during training')"
   ]
  },
  {
   "cell_type": "code",
   "execution_count": 57,
   "id": "43e20293",
   "metadata": {},
   "outputs": [
    {
     "name": "stdout",
     "output_type": "stream",
     "text": [
      "1673624494.46s start time\n",
      "1.72s elapsed during training\n"
     ]
    }
   ],
   "source": [
    "import time\n",
    "\n",
    "#performance with all features using decision tree\n",
    "X_train, X_test, Y_train, Y_test = train_test_split(X, Y, test_size=0.33, random_state=1)\n",
    "start_time = time.time()\n",
    "print(f'{start_time:.2f}s start time')\n",
    "model = DecisionTreeClassifier(random_state=10)\n",
    "clf = model.fit(X_train,Y_train)\n",
    "elapsed_time = time.time() - start_time\n",
    "print(f'{elapsed_time:.2f}s elapsed during training')\n",
    "yhat = model.predict(X_test)"
   ]
  },
  {
   "cell_type": "code",
   "execution_count": 58,
   "id": "baca6d0e",
   "metadata": {},
   "outputs": [
    {
     "name": "stdout",
     "output_type": "stream",
     "text": [
      "1673624501.88s start time\n"
     ]
    }
   ],
   "source": [
    "import time\n",
    "\n",
    "start_time = time.time()\n",
    "print(f'{start_time:.2f}s start time')\n",
    "#clf.fit(X_train, y_train)\n",
    "#elapsed_time = time.time() - start_time\n",
    "#print(f'{elapsed_time:.2f}s elapsed during training')"
   ]
  },
  {
   "cell_type": "code",
   "execution_count": 59,
   "id": "dd5b1b92",
   "metadata": {},
   "outputs": [
    {
     "name": "stdout",
     "output_type": "stream",
     "text": [
      "(25403,)\n",
      "(51573, 62)\n"
     ]
    }
   ],
   "source": [
    "#performance with all features using decision tree\n",
    "X_train, X_test, Y_train, Y_test = train_test_split(X, Y, test_size=0.33, random_state=1)\n",
    "model = DecisionTreeClassifier(random_state=0)\n",
    "clf = model.fit(X_train,Y_train)\n",
    "yhat = model.predict(X_test)\n",
    "X_test.shape\n",
    "print(yhat.shape) #test records\n",
    "print(X_train.shape)  #train records"
   ]
  },
  {
   "cell_type": "code",
   "execution_count": 60,
   "id": "7c382684",
   "metadata": {},
   "outputs": [
    {
     "name": "stdout",
     "output_type": "stream",
     "text": [
      "5.18s elapsed during training\n"
     ]
    }
   ],
   "source": [
    "import time\n",
    "\n",
    "clf.fit(X_train, Y_train)\n",
    "elapsed_time = time.time() - start_time\n",
    "print(f'{elapsed_time:.2f}s elapsed during training')"
   ]
  },
  {
   "cell_type": "code",
   "execution_count": 61,
   "id": "1413a424",
   "metadata": {},
   "outputs": [],
   "source": [
    "import pickle\n",
    "trained_model_dump_fn = 'iVInspector.pkl'\n",
    "fhand = open(trained_model_dump_fn,'wb')\n",
    "pickle.dump(clf,fhand)"
   ]
  },
  {
   "cell_type": "code",
   "execution_count": 62,
   "id": "42ee9210",
   "metadata": {},
   "outputs": [
    {
     "ename": "EOFError",
     "evalue": "Ran out of input",
     "output_type": "error",
     "traceback": [
      "\u001b[1;31m---------------------------------------------------------------------------\u001b[0m",
      "\u001b[1;31mEOFError\u001b[0m                                  Traceback (most recent call last)",
      "Input \u001b[1;32mIn [62]\u001b[0m, in \u001b[0;36m<cell line: 2>\u001b[1;34m()\u001b[0m\n\u001b[0;32m      1\u001b[0m fhand_read \u001b[38;5;241m=\u001b[39m \u001b[38;5;28mopen\u001b[39m(trained_model_dump_fn,\u001b[38;5;124m'\u001b[39m\u001b[38;5;124mrb\u001b[39m\u001b[38;5;124m'\u001b[39m)\n\u001b[1;32m----> 2\u001b[0m loaded_clf \u001b[38;5;241m=\u001b[39m \u001b[43mpickle\u001b[49m\u001b[38;5;241;43m.\u001b[39;49m\u001b[43mload\u001b[49m\u001b[43m(\u001b[49m\u001b[43mfhand_read\u001b[49m\u001b[43m)\u001b[49m\n",
      "\u001b[1;31mEOFError\u001b[0m: Ran out of input"
     ]
    }
   ],
   "source": [
    "fhand_read = open(trained_model_dump_fn,'rb')\n",
    "loaded_clf = pickle.load(fhand_read)"
   ]
  },
  {
   "cell_type": "code",
   "execution_count": 63,
   "id": "846162f1",
   "metadata": {},
   "outputs": [],
   "source": [
    "#For visualizing graph\n",
    "\n",
    "clf = DecisionTreeClassifier(random_state=1)\n",
    "model = clf.fit(X_train,Y_train)"
   ]
  },
  {
   "cell_type": "code",
   "execution_count": 64,
   "id": "85f9c75a",
   "metadata": {},
   "outputs": [
    {
     "name": "stdout",
     "output_type": "stream",
     "text": [
      "[[ 1384    17    44    39]\n",
      " [   13  1004   175   261]\n",
      " [   36   111  9858   827]\n",
      " [   17   178   497 10942]]\n",
      "\n",
      "\n",
      "IPCam as IPCam =  1384  percent =  0.9326145552560647\n",
      "IPCam as VShare =  17  percent =  0.011455525606469003\n",
      "IPCam as VConf =  44  percent =  0.029649595687331536\n",
      "IPCam as Other =  39  percent =  0.02628032345013477\n",
      "\n",
      "\n",
      "VShare as IPCam =  13  percent =  0.008947006194081212\n",
      "VShare as VShare =  1004  percent =  0.690984170681349\n",
      "VShare as VConf =  175  percent =  0.12044046799724707\n",
      "VShare as Other =  261  percent =  0.17962835512732278\n",
      "\n",
      "\n",
      "VConf as IPCam =  36  percent =  0.0033234859675036928\n",
      "VConf as VShare =  111  percent =  0.01024741506646972\n",
      "VConf as VConf =  9858  percent =  0.9100812407680945\n",
      "VConf as Other =  827  percent =  0.07634785819793205\n",
      "\n",
      "\n",
      "Other as IPCam =  17  percent =  0.0014612343132198728\n",
      "Other as VShare =  178  percent =  0.01529998280900808\n",
      "Other as VConf =  497  percent =  0.04271961492178099\n",
      "Other as Other =  10942  percent =  0.9405191679559911\n",
      "\n",
      "\n"
     ]
    }
   ],
   "source": [
    "comb_mat = metrics.confusion_matrix(Y_test, yhat,labels=uniqueLabels)\n",
    "#[i][j] ==> knwon to be in group i and predicted as group j\n",
    "print(comb_mat)\n",
    "print('\\n')\n",
    "print('IPCam as IPCam = ',comb_mat[0][0],' percent = ', (comb_mat[0][0]/(comb_mat[0][0]+comb_mat[0][1]+comb_mat[0][2]+comb_mat[0][3])))\n",
    "print('IPCam as VShare = ',comb_mat[0][1],' percent = ', (comb_mat[0][1]/(comb_mat[0][0]+comb_mat[0][1]+comb_mat[0][2]+comb_mat[0][3])))\n",
    "print('IPCam as VConf = ',comb_mat[0][2],' percent = ', (comb_mat[0][2]/(comb_mat[0][0]+comb_mat[0][1]+comb_mat[0][2]+comb_mat[0][3])))\n",
    "print('IPCam as Other = ',comb_mat[0][3],' percent = ', (comb_mat[0][3]/(comb_mat[0][0]+comb_mat[0][1]+comb_mat[0][2]+comb_mat[0][3])))\n",
    "print('\\n')\n",
    "\n",
    "print('VShare as IPCam = ',comb_mat[1][0],' percent = ', (comb_mat[1][0]/(comb_mat[1][0]+comb_mat[1][1]+comb_mat[1][2]+comb_mat[1][3])))\n",
    "print('VShare as VShare = ',comb_mat[1][1],' percent = ', (comb_mat[1][1]/(comb_mat[1][0]+comb_mat[1][1]+comb_mat[1][2]+comb_mat[1][3])))\n",
    "print('VShare as VConf = ',comb_mat[1][2],' percent = ', (comb_mat[1][2]/(comb_mat[1][0]+comb_mat[1][1]+comb_mat[1][2]+comb_mat[1][3])))\n",
    "print('VShare as Other = ',comb_mat[1][3],' percent = ', (comb_mat[1][3]/(comb_mat[1][0]+comb_mat[1][1]+comb_mat[1][2]+comb_mat[1][3])))\n",
    "print('\\n')\n",
    "\n",
    "print('VConf as IPCam = ',comb_mat[2][0],' percent = ', (comb_mat[2][0]/(comb_mat[2][0]+comb_mat[2][1]+comb_mat[2][2]+comb_mat[2][3])))\n",
    "print('VConf as VShare = ',comb_mat[2][1],' percent = ', (comb_mat[2][1]/(comb_mat[2][0]+comb_mat[2][1]+comb_mat[2][2]+comb_mat[2][3])))\n",
    "print('VConf as VConf = ',comb_mat[2][2],' percent = ', (comb_mat[2][2]/(comb_mat[2][0]+comb_mat[2][1]+comb_mat[2][2]+comb_mat[2][3])))\n",
    "print('VConf as Other = ',comb_mat[2][3],' percent = ', (comb_mat[2][3]/(comb_mat[2][0]+comb_mat[2][1]+comb_mat[2][2]+comb_mat[2][3])))\n",
    "print('\\n')\n",
    "\n",
    "print('Other as IPCam = ',comb_mat[3][0],' percent = ', (comb_mat[3][0]/(comb_mat[3][0]+comb_mat[3][1]+comb_mat[3][2]+comb_mat[3][3])))\n",
    "print('Other as VShare = ',comb_mat[3][1],' percent = ', (comb_mat[3][1]/(comb_mat[3][0]+comb_mat[3][1]+comb_mat[3][2]+comb_mat[3][3])))\n",
    "print('Other as VConf = ',comb_mat[3][2],' percent = ', (comb_mat[3][2]/(comb_mat[3][0]+comb_mat[3][1]+comb_mat[3][2]+comb_mat[3][3])))\n",
    "print('Other as Other = ',comb_mat[3][3],' percent = ', (comb_mat[3][3]/(comb_mat[3][0]+comb_mat[3][1]+comb_mat[3][2]+comb_mat[3][3])))\n",
    "print('\\n')"
   ]
  },
  {
   "cell_type": "code",
   "execution_count": 65,
   "id": "6006c037",
   "metadata": {},
   "outputs": [
    {
     "name": "stdout",
     "output_type": "stream",
     "text": [
      "62\n",
      "{'Flow Duration': 0.026, 'Tot Fwd Pkts': 0.0025, 'Tot Bwd Pkts': 0.0013, 'TotLen Fwd Pkts': 0.004, 'TotLen Bwd Pkts': 0.0044, 'Fwd Pkt Len Max': 0.0063, 'Fwd Pkt Len Min': 0.0024, 'Fwd Pkt Len Mean': 0.0088, 'Fwd Pkt Len Std': 0.0189, 'Bwd Pkt Len Max': 0.0078, 'Bwd Pkt Len Min': 0.0244, 'Bwd Pkt Len Mean': 0.0096, 'Bwd Pkt Len Std': 0.0032, 'Flow Byts/s': 0.0111, 'Flow Pkts/s': 0.009, 'Flow IAT Mean': 0.017, 'Flow IAT Std': 0.0059, 'Flow IAT Max': 0.0122, 'Flow IAT Min': 0.0844, 'Fwd IAT Tot': 0.0022, 'Fwd IAT Mean': 0.0019, 'Fwd IAT Std': 0.0037, 'Fwd IAT Max': 0.0138, 'Fwd IAT Min': 0.0231, 'Bwd IAT Tot': 0.0476, 'Bwd IAT Mean': 0.0075, 'Bwd IAT Std': 0.0026, 'Bwd IAT Max': 0.0119, 'Bwd IAT Min': 0.1186, 'Bwd PSH Flags': 0.001, 'Fwd Header Len': 0.0056, 'Bwd Header Len': 0.0395, 'Fwd Pkts/s': 0.0314, 'Bwd Pkts/s': 0.0336, 'Pkt Len Min': 0.0023, 'Pkt Len Max': 0.0095, 'Pkt Len Mean': 0.0052, 'Pkt Len Std': 0.0176, 'Pkt Len Var': 0.0027, 'FIN Flag Cnt': 0.0094, 'SYN Flag Cnt': 0.0002, 'RST Flag Cnt': 0.0057, 'PSH Flag Cnt': 0.0055, 'ACK Flag Cnt': 0.0111, 'Down/Up Ratio': 0.0034, 'Pkt Size Avg': 0.0131, 'Fwd Seg Size Avg': 0.0176, 'Bwd Seg Size Avg': 0.0024, 'Subflow Fwd Pkts': 0.0011, 'Subflow Fwd Byts': 0.0063, 'Subflow Bwd Pkts': 0.0013, 'Subflow Bwd Byts': 0.0037, 'Init Bwd Win Byts': 0.2469, 'Fwd Act Data Pkts': 0.0021, 'Active Mean': 0.0047, 'Active Std': 0.0014, 'Active Max': 0.003, 'Active Min': 0.0066, 'Idle Mean': 0.0024, 'Idle Std': 0.0085, 'Idle Max': 0.0014, 'Idle Min': 0.0016}\n"
     ]
    },
    {
     "data": {
      "text/html": [
       "<div>\n",
       "<style scoped>\n",
       "    .dataframe tbody tr th:only-of-type {\n",
       "        vertical-align: middle;\n",
       "    }\n",
       "\n",
       "    .dataframe tbody tr th {\n",
       "        vertical-align: top;\n",
       "    }\n",
       "\n",
       "    .dataframe thead th {\n",
       "        text-align: right;\n",
       "    }\n",
       "</style>\n",
       "<table border=\"1\" class=\"dataframe\">\n",
       "  <thead>\n",
       "    <tr style=\"text-align: right;\">\n",
       "      <th></th>\n",
       "      <th>0</th>\n",
       "    </tr>\n",
       "  </thead>\n",
       "  <tbody>\n",
       "    <tr>\n",
       "      <th>Init Bwd Win Byts</th>\n",
       "      <td>0.2469</td>\n",
       "    </tr>\n",
       "    <tr>\n",
       "      <th>Bwd IAT Min</th>\n",
       "      <td>0.1186</td>\n",
       "    </tr>\n",
       "    <tr>\n",
       "      <th>Flow IAT Min</th>\n",
       "      <td>0.0844</td>\n",
       "    </tr>\n",
       "    <tr>\n",
       "      <th>Bwd IAT Tot</th>\n",
       "      <td>0.0476</td>\n",
       "    </tr>\n",
       "    <tr>\n",
       "      <th>Bwd Header Len</th>\n",
       "      <td>0.0395</td>\n",
       "    </tr>\n",
       "    <tr>\n",
       "      <th>Bwd Pkts/s</th>\n",
       "      <td>0.0336</td>\n",
       "    </tr>\n",
       "    <tr>\n",
       "      <th>Fwd Pkts/s</th>\n",
       "      <td>0.0314</td>\n",
       "    </tr>\n",
       "    <tr>\n",
       "      <th>Flow Duration</th>\n",
       "      <td>0.0260</td>\n",
       "    </tr>\n",
       "    <tr>\n",
       "      <th>Bwd Pkt Len Min</th>\n",
       "      <td>0.0244</td>\n",
       "    </tr>\n",
       "    <tr>\n",
       "      <th>Fwd IAT Min</th>\n",
       "      <td>0.0231</td>\n",
       "    </tr>\n",
       "  </tbody>\n",
       "</table>\n",
       "</div>"
      ],
      "text/plain": [
       "                        0\n",
       "Init Bwd Win Byts  0.2469\n",
       "Bwd IAT Min        0.1186\n",
       "Flow IAT Min       0.0844\n",
       "Bwd IAT Tot        0.0476\n",
       "Bwd Header Len     0.0395\n",
       "Bwd Pkts/s         0.0336\n",
       "Fwd Pkts/s         0.0314\n",
       "Flow Duration      0.0260\n",
       "Bwd Pkt Len Min    0.0244\n",
       "Fwd IAT Min        0.0231"
      ]
     },
     "execution_count": 65,
     "metadata": {},
     "output_type": "execute_result"
    }
   ],
   "source": [
    "feats = masterSelected.columns.tolist()\n",
    "feats.pop(62)\n",
    "#print(feats)#X_train.shape\n",
    "importance_ft = model.feature_importances_\n",
    "print(len(importance_ft))\n",
    "feats_imps_df = {}\n",
    "for i, ft in enumerate(feats):\n",
    "    feats_imps_df[ft] = round(importance_ft[i],4)\n",
    "print(feats_imps_df)\n",
    "ft_imp_df = pd.DataFrame.from_dict(feats_imps_df, orient='index')\n",
    "ft_imp_df.head()\n",
    "ft_imp_df = ft_imp_df.sort_values(by=0,ascending=False)\n",
    "ft_imp_df.head(10)"
   ]
  },
  {
   "cell_type": "code",
   "execution_count": 66,
   "id": "7cc8611f",
   "metadata": {},
   "outputs": [
    {
     "name": "stdout",
     "output_type": "stream",
     "text": [
      "       Flow Duration  Tot Fwd Pkts  Tot Bwd Pkts  TotLen Fwd Pkts  \\\n",
      "0           90370137             6             7            288.0   \n",
      "1           90359840             3             5            144.0   \n",
      "2             213701             3             3              0.0   \n",
      "3           90358459             3             5            144.0   \n",
      "4             416039             3             3              0.0   \n",
      "...              ...           ...           ...              ...   \n",
      "76971         464576             4             5             56.0   \n",
      "76972         659456             4             5             56.0   \n",
      "76973       60012663            18             1           7774.0   \n",
      "76974       90876805             2             4              2.0   \n",
      "76975        1337051             5            12           1449.0   \n",
      "\n",
      "       TotLen Bwd Pkts  Fwd Pkt Len Max  Fwd Pkt Len Min  Fwd Pkt Len Mean  \\\n",
      "0                 84.0             48.0             48.0         48.000000   \n",
      "1                 96.0             48.0             48.0         48.000000   \n",
      "2                  0.0              0.0              0.0          0.000000   \n",
      "3                 96.0             48.0             48.0         48.000000   \n",
      "4                  0.0              0.0              0.0          0.000000   \n",
      "...                ...              ...              ...               ...   \n",
      "76971            167.0             54.0              0.0         14.000000   \n",
      "76972            149.0             54.0              0.0         14.000000   \n",
      "76973            380.0            460.0            380.0        431.888889   \n",
      "76974              1.0              1.0              1.0          1.000000   \n",
      "76975           4195.0            806.0              0.0        289.800000   \n",
      "\n",
      "       Fwd Pkt Len Std  Bwd Pkt Len Max  ...  Init Bwd Win Byts  \\\n",
      "0             0.000000             20.0  ...                 -1   \n",
      "1             0.000000             48.0  ...                 -1   \n",
      "2             0.000000              0.0  ...                237   \n",
      "3             0.000000             48.0  ...                 -1   \n",
      "4             0.000000              0.0  ...                237   \n",
      "...                ...              ...  ...                ...   \n",
      "76971        26.683328            167.0  ...                 83   \n",
      "76972        26.683328            149.0  ...                 83   \n",
      "76973        27.433103            380.0  ...                 -1   \n",
      "76974         0.000000              1.0  ...                 42   \n",
      "76975       358.078483           1460.0  ...               5829   \n",
      "\n",
      "       Fwd Act Data Pkts   Active Mean    Active Std  Active Max  Active Min  \\\n",
      "0                      6  1.207795e+06  1.736051e+06   3212414.0    205301.0   \n",
      "1                      3  1.465883e+05  5.550907e+03    152967.0    142854.0   \n",
      "2                      0  0.000000e+00  0.000000e+00         0.0         0.0   \n",
      "3                      3  2.068323e+05  2.146824e+03    209300.0    205394.0   \n",
      "4                      0  0.000000e+00  0.000000e+00         0.0         0.0   \n",
      "...                  ...           ...           ...         ...         ...   \n",
      "76971                  2  0.000000e+00  0.000000e+00         0.0         0.0   \n",
      "76972                  2  0.000000e+00  0.000000e+00         0.0         0.0   \n",
      "76973                 18  5.554000e+03  0.000000e+00      5554.0      5554.0   \n",
      "76974                  2  3.574355e+05  3.259762e+02    357666.0    357205.0   \n",
      "76975                  3  0.000000e+00  0.000000e+00         0.0         0.0   \n",
      "\n",
      "        Idle Mean      Idle Std    Idle Max    Idle Min  \n",
      "0      28800000.0  1.745117e+06  29900000.0  26800000.0  \n",
      "1      29900000.0  6.915685e+03  29900000.0  29900000.0  \n",
      "2             0.0  0.000000e+00         0.0         0.0  \n",
      "3      29800000.0  7.209427e+03  29800000.0  29800000.0  \n",
      "4             0.0  0.000000e+00         0.0         0.0  \n",
      "...           ...           ...         ...         ...  \n",
      "76971         0.0  0.000000e+00         0.0         0.0  \n",
      "76972         0.0  0.000000e+00         0.0         0.0  \n",
      "76973  30000000.0  5.297644e+03  30000000.0  30000000.0  \n",
      "76974  45000000.0  1.293298e+03  45000000.0  45000000.0  \n",
      "76975         0.0  0.000000e+00         0.0         0.0  \n",
      "\n",
      "[76976 rows x 62 columns]\n",
      " shape of X unknown:  (76976, 62)\n"
     ]
    },
    {
     "name": "stderr",
     "output_type": "stream",
     "text": [
      "C:\\Users\\Priyanka\\AppData\\Local\\Temp\\ipykernel_11000\\3982824902.py:5: FutureWarning: Passing a dict as an indexer is deprecated and will raise in a future version. Use a list instead.\n",
      "  X_unknown = df_unknown.loc[:,feats_imps_df]\n"
     ]
    }
   ],
   "source": [
    "#for finding predicted probability\n",
    "fn_unknown = 'D:/New pcaps_IoTSpyCamera/TDSC_WorkAfterReview/filteredPcapCSV/ProcessedNPrunnedAllCombination_Others.csv'#name of csv from port mirroring'\n",
    "\n",
    "df_unknown = pd.read_csv(fn_unknown, index_col=None, header=0)\n",
    "X_unknown = df_unknown.loc[:,feats_imps_df]\n",
    "print(X_unknown)\n",
    "Y_unknown =df_unknown.Label#df_unknown.Label\n",
    "print(' shape of X unknown: ', X_unknown.shape)"
   ]
  },
  {
   "cell_type": "code",
   "execution_count": 77,
   "id": "5d27756e",
   "metadata": {},
   "outputs": [
    {
     "ename": "NameError",
     "evalue": "name 'col_names_onlyX' is not defined",
     "output_type": "error",
     "traceback": [
      "\u001b[1;31m---------------------------------------------------------------------------\u001b[0m",
      "\u001b[1;31mNameError\u001b[0m                                 Traceback (most recent call last)",
      "Input \u001b[1;32mIn [77]\u001b[0m, in \u001b[0;36m<cell line: 3>\u001b[1;34m()\u001b[0m\n\u001b[0;32m      1\u001b[0m \u001b[38;5;66;03m#check for columns with NaN\u001b[39;00m\n\u001b[0;32m      2\u001b[0m inf_null_col_names \u001b[38;5;241m=\u001b[39m \u001b[38;5;28mlist\u001b[39m()\n\u001b[1;32m----> 3\u001b[0m \u001b[38;5;28;01mfor\u001b[39;00m cni \u001b[38;5;129;01min\u001b[39;00m \u001b[43mcol_names_onlyX\u001b[49m:\n\u001b[0;32m      4\u001b[0m     \u001b[38;5;28;01mif\u001b[39;00m df_unknown[cni]\u001b[38;5;241m.\u001b[39misnull()\u001b[38;5;241m.\u001b[39mvalues\u001b[38;5;241m.\u001b[39many():\n\u001b[0;32m      5\u001b[0m         \u001b[38;5;28mprint\u001b[39m(cni,\u001b[38;5;124m'\u001b[39m\u001b[38;5;124m :  isNull: \u001b[39m\u001b[38;5;124m'\u001b[39m, df_unknown[cni]\u001b[38;5;241m.\u001b[39misnull()\u001b[38;5;241m.\u001b[39mvalues\u001b[38;5;241m.\u001b[39many(), \u001b[38;5;124m'\u001b[39m\u001b[38;5;124m isNullCount: \u001b[39m\u001b[38;5;124m'\u001b[39m,df_unknown[cni]\u001b[38;5;241m.\u001b[39misnull()\u001b[38;5;241m.\u001b[39mvalues\u001b[38;5;241m.\u001b[39msum())\n",
      "\u001b[1;31mNameError\u001b[0m: name 'col_names_onlyX' is not defined"
     ]
    }
   ],
   "source": [
    "#check for columns with NaN\n",
    "inf_null_col_names = list()\n",
    "for cni in col_names_onlyX:\n",
    "    if df_unknown[cni].isnull().values.any():\n",
    "        print(cni,' :  isNull: ', df_unknown[cni].isnull().values.any(), ' isNullCount: ',df_unknown[cni].isnull().values.sum())\n",
    "        if cni not in inf_null_col_names:\n",
    "            inf_null_col_names.append(cni)\n",
    "    c = np.isinf(df_unknown[cni]).values.sum()\n",
    "    if c > 0:\n",
    "        print(cni, ' : infCount: ', c)\n",
    "        if cni not in inf_null_col_names:\n",
    "            inf_null_col_names.append(cni)\n",
    "print('num cols with null or inf: ', len(inf_null_col_names)) "
   ]
  },
  {
   "cell_type": "code",
   "execution_count": 78,
   "id": "f6817743",
   "metadata": {},
   "outputs": [
    {
     "name": "stdout",
     "output_type": "stream",
     "text": [
      "       Flow Duration  Tot Fwd Pkts  Tot Bwd Pkts  TotLen Fwd Pkts  \\\n",
      "0           90370137             6             7            288.0   \n",
      "1           90359840             3             5            144.0   \n",
      "2             213701             3             3              0.0   \n",
      "3           90358459             3             5            144.0   \n",
      "4             416039             3             3              0.0   \n",
      "...              ...           ...           ...              ...   \n",
      "76971         464576             4             5             56.0   \n",
      "76972         659456             4             5             56.0   \n",
      "76973       60012663            18             1           7774.0   \n",
      "76974       90876805             2             4              2.0   \n",
      "76975        1337051             5            12           1449.0   \n",
      "\n",
      "       TotLen Bwd Pkts  Fwd Pkt Len Max  Fwd Pkt Len Min  Fwd Pkt Len Mean  \\\n",
      "0                 84.0             48.0             48.0         48.000000   \n",
      "1                 96.0             48.0             48.0         48.000000   \n",
      "2                  0.0              0.0              0.0          0.000000   \n",
      "3                 96.0             48.0             48.0         48.000000   \n",
      "4                  0.0              0.0              0.0          0.000000   \n",
      "...                ...              ...              ...               ...   \n",
      "76971            167.0             54.0              0.0         14.000000   \n",
      "76972            149.0             54.0              0.0         14.000000   \n",
      "76973            380.0            460.0            380.0        431.888889   \n",
      "76974              1.0              1.0              1.0          1.000000   \n",
      "76975           4195.0            806.0              0.0        289.800000   \n",
      "\n",
      "       Fwd Pkt Len Std  Bwd Pkt Len Max  ...  Init Bwd Win Byts  \\\n",
      "0             0.000000             20.0  ...                 -1   \n",
      "1             0.000000             48.0  ...                 -1   \n",
      "2             0.000000              0.0  ...                237   \n",
      "3             0.000000             48.0  ...                 -1   \n",
      "4             0.000000              0.0  ...                237   \n",
      "...                ...              ...  ...                ...   \n",
      "76971        26.683328            167.0  ...                 83   \n",
      "76972        26.683328            149.0  ...                 83   \n",
      "76973        27.433103            380.0  ...                 -1   \n",
      "76974         0.000000              1.0  ...                 42   \n",
      "76975       358.078483           1460.0  ...               5829   \n",
      "\n",
      "       Fwd Act Data Pkts   Active Mean    Active Std  Active Max  Active Min  \\\n",
      "0                      6  1.207795e+06  1.736051e+06   3212414.0    205301.0   \n",
      "1                      3  1.465883e+05  5.550907e+03    152967.0    142854.0   \n",
      "2                      0  0.000000e+00  0.000000e+00         0.0         0.0   \n",
      "3                      3  2.068323e+05  2.146824e+03    209300.0    205394.0   \n",
      "4                      0  0.000000e+00  0.000000e+00         0.0         0.0   \n",
      "...                  ...           ...           ...         ...         ...   \n",
      "76971                  2  0.000000e+00  0.000000e+00         0.0         0.0   \n",
      "76972                  2  0.000000e+00  0.000000e+00         0.0         0.0   \n",
      "76973                 18  5.554000e+03  0.000000e+00      5554.0      5554.0   \n",
      "76974                  2  3.574355e+05  3.259762e+02    357666.0    357205.0   \n",
      "76975                  3  0.000000e+00  0.000000e+00         0.0         0.0   \n",
      "\n",
      "        Idle Mean      Idle Std    Idle Max    Idle Min  \n",
      "0      28800000.0  1.745117e+06  29900000.0  26800000.0  \n",
      "1      29900000.0  6.915685e+03  29900000.0  29900000.0  \n",
      "2             0.0  0.000000e+00         0.0         0.0  \n",
      "3      29800000.0  7.209427e+03  29800000.0  29800000.0  \n",
      "4             0.0  0.000000e+00         0.0         0.0  \n",
      "...           ...           ...         ...         ...  \n",
      "76971         0.0  0.000000e+00         0.0         0.0  \n",
      "76972         0.0  0.000000e+00         0.0         0.0  \n",
      "76973  30000000.0  5.297644e+03  30000000.0  30000000.0  \n",
      "76974  45000000.0  1.293298e+03  45000000.0  45000000.0  \n",
      "76975         0.0  0.000000e+00         0.0         0.0  \n",
      "\n",
      "[76976 rows x 62 columns]\n",
      " shape of X unknown:  (76976, 62)\n"
     ]
    },
    {
     "name": "stderr",
     "output_type": "stream",
     "text": [
      "C:\\Users\\Priyanka\\AppData\\Local\\Temp\\ipykernel_11000\\4029365868.py:1: FutureWarning: Passing a dict as an indexer is deprecated and will raise in a future version. Use a list instead.\n",
      "  X_unknown = df_unknown.loc[:, feats_imps_df]\n"
     ]
    }
   ],
   "source": [
    "X_unknown = df_unknown.loc[:, feats_imps_df]\n",
    "print(X_unknown)\n",
    "Y_unknown =df_unknown.Label#df_unknown.Label\n",
    "print(' shape of X unknown: ', X_unknown.shape)"
   ]
  },
  {
   "cell_type": "code",
   "execution_count": 81,
   "id": "1ffd7314",
   "metadata": {},
   "outputs": [
    {
     "ename": "NameError",
     "evalue": "name 'loaded_clf' is not defined",
     "output_type": "error",
     "traceback": [
      "\u001b[1;31m---------------------------------------------------------------------------\u001b[0m",
      "\u001b[1;31mNameError\u001b[0m                                 Traceback (most recent call last)",
      "Input \u001b[1;32mIn [81]\u001b[0m, in \u001b[0;36m<cell line: 1>\u001b[1;34m()\u001b[0m\n\u001b[1;32m----> 1\u001b[0m predicted_unknown_cases \u001b[38;5;241m=\u001b[39m \u001b[43mloaded_clf\u001b[49m\u001b[38;5;241m.\u001b[39mpredict(X_unknown)\n\u001b[0;32m      2\u001b[0m \u001b[38;5;28mprint\u001b[39m(predicted_unknown_cases)\n",
      "\u001b[1;31mNameError\u001b[0m: name 'loaded_clf' is not defined"
     ]
    }
   ],
   "source": [
    "predicted_unknown_cases = loaded_clf.predict(X_unknown)\n",
    "print(predicted_unknown_cases)"
   ]
  },
  {
   "cell_type": "code",
   "execution_count": 82,
   "id": "ad5eefba",
   "metadata": {},
   "outputs": [
    {
     "ename": "NameError",
     "evalue": "name 'predicted_unknown_cases' is not defined",
     "output_type": "error",
     "traceback": [
      "\u001b[1;31m---------------------------------------------------------------------------\u001b[0m",
      "\u001b[1;31mNameError\u001b[0m                                 Traceback (most recent call last)",
      "Input \u001b[1;32mIn [82]\u001b[0m, in \u001b[0;36m<cell line: 2>\u001b[1;34m()\u001b[0m\n\u001b[0;32m      1\u001b[0m \u001b[38;5;28;01mfrom\u001b[39;00m \u001b[38;5;21;01mcollections\u001b[39;00m \u001b[38;5;28;01mimport\u001b[39;00m Counter\n\u001b[1;32m----> 2\u001b[0m counted_dict \u001b[38;5;241m=\u001b[39m Counter(\u001b[43mpredicted_unknown_cases\u001b[49m)\n\u001b[0;32m      3\u001b[0m \u001b[38;5;28;01mfor\u001b[39;00m key \u001b[38;5;129;01min\u001b[39;00m counted_dict:\n\u001b[0;32m      4\u001b[0m     \u001b[38;5;28mprint\u001b[39m(\u001b[38;5;124m'\u001b[39m\u001b[38;5;124mkey = \u001b[39m\u001b[38;5;124m'\u001b[39m, key, \u001b[38;5;124m'\u001b[39m\u001b[38;5;124m val = \u001b[39m\u001b[38;5;124m'\u001b[39m, counted_dict[key])\n",
      "\u001b[1;31mNameError\u001b[0m: name 'predicted_unknown_cases' is not defined"
     ]
    }
   ],
   "source": [
    "from collections import Counter\n",
    "counted_dict = Counter(predicted_unknown_cases)\n",
    "for key in counted_dict:\n",
    "    print('key = ', key, ' val = ', counted_dict[key])"
   ]
  },
  {
   "cell_type": "code",
   "execution_count": 83,
   "id": "fe1b6b5c",
   "metadata": {},
   "outputs": [],
   "source": [
    "from array import *\n",
    "from collections import Counter\n",
    "from itertools import chain"
   ]
  },
  {
   "cell_type": "code",
   "execution_count": 84,
   "id": "7046a30c",
   "metadata": {},
   "outputs": [
    {
     "name": "stdout",
     "output_type": "stream",
     "text": [
      "[1. 0. 0. 0.]\n",
      "[1. 0. 0. 0.]\n",
      "[1. 0. 0. 0.]\n",
      "[1. 0. 0. 0.]\n",
      "[1. 0. 0. 0.]\n",
      "[1. 0. 0. 0.]\n",
      "[1. 0. 0. 0.]\n",
      "[1. 0. 0. 0.]\n",
      "[1. 0. 0. 0.]\n",
      "[1. 0. 0. 0.]\n"
     ]
    },
    {
     "name": "stderr",
     "output_type": "stream",
     "text": [
      "C:\\Users\\Priyanka\\AppData\\Local\\Programs\\Python\\Python310\\lib\\site-packages\\sklearn\\base.py:443: UserWarning: X has feature names, but DecisionTreeClassifier was fitted without feature names\n",
      "  warnings.warn(\n"
     ]
    }
   ],
   "source": [
    "pred_prob=clf.predict_proba(X_unknown)#[:,1]\n",
    "#print(pred_prob)\n",
    "for ri in range(10):\n",
    "    print(pred_prob[i])"
   ]
  },
  {
   "cell_type": "code",
   "execution_count": 98,
   "id": "72e4aa76",
   "metadata": {},
   "outputs": [
    {
     "name": "stdout",
     "output_type": "stream",
     "text": [
      "0.00037674080232799834\n"
     ]
    }
   ],
   "source": [
    "pred_prob.shape\n",
    "max_list = [max(lst) for lst in pred_prob]\n",
    "count = 0\n",
    "min_interval = 0.5\n",
    "max_interval = 0.55\n",
    "for i in range(76976):\n",
    "    if max_list[i] <= max_interval and max_list[i] > min_interval:\n",
    "        #print(max_list[i])\n",
    "        count += 1\n",
    "print(count/76976)"
   ]
  },
  {
   "cell_type": "code",
   "execution_count": 99,
   "id": "2a9897f8",
   "metadata": {},
   "outputs": [
    {
     "name": "stdout",
     "output_type": "stream",
     "text": [
      "0.00520941592184577\n"
     ]
    }
   ],
   "source": [
    "pred_prob.shape\n",
    "max_list = [max(lst) for lst in pred_prob]\n",
    "count = 0\n",
    "min_interval = 0.55\n",
    "max_interval = 0.6\n",
    "for i in range(76976):\n",
    "    if max_list[i] <= max_interval and max_list[i] > min_interval:\n",
    "        #print(max_list[i])\n",
    "        count += 1\n",
    "print(count/76976)"
   ]
  },
  {
   "cell_type": "code",
   "execution_count": 100,
   "id": "b3acf804",
   "metadata": {},
   "outputs": [
    {
     "name": "stdout",
     "output_type": "stream",
     "text": [
      "0.0015589274579089587\n"
     ]
    }
   ],
   "source": [
    "pred_prob.shape\n",
    "max_list = [max(lst) for lst in pred_prob]\n",
    "count = 0\n",
    "min_interval = 0.6\n",
    "max_interval = 0.65\n",
    "for i in range(76976):\n",
    "    if max_list[i] <= max_interval and max_list[i] > min_interval:\n",
    "        #print(max_list[i])\n",
    "        count += 1\n",
    "print(count/76976)"
   ]
  },
  {
   "cell_type": "code",
   "execution_count": 101,
   "id": "9fe319f0",
   "metadata": {},
   "outputs": [
    {
     "name": "stdout",
     "output_type": "stream",
     "text": [
      "0.012744231968405738\n"
     ]
    }
   ],
   "source": [
    "pred_prob.shape\n",
    "max_list = [max(lst) for lst in pred_prob]\n",
    "count = 0\n",
    "min_interval = 0.65\n",
    "max_interval = 0.7\n",
    "for i in range(76976):\n",
    "    if max_list[i] <= max_interval and max_list[i] > min_interval:\n",
    "        #print(max_list[i])\n",
    "        count += 1\n",
    "print(count/76976)"
   ]
  },
  {
   "cell_type": "code",
   "execution_count": 102,
   "id": "97af5a67",
   "metadata": {},
   "outputs": [
    {
     "name": "stdout",
     "output_type": "stream",
     "text": [
      "0.01061369777593016\n"
     ]
    }
   ],
   "source": [
    "pred_prob.shape\n",
    "max_list = [max(lst) for lst in pred_prob]\n",
    "count = 0\n",
    "min_interval = 0.7\n",
    "max_interval = 0.75\n",
    "for i in range(76976):\n",
    "    if max_list[i] <= max_interval and max_list[i] > min_interval:\n",
    "        #print(max_list[i])\n",
    "        count += 1\n",
    "print(count/76976)"
   ]
  },
  {
   "cell_type": "code",
   "execution_count": 103,
   "id": "0caf3a15",
   "metadata": {},
   "outputs": [
    {
     "name": "stdout",
     "output_type": "stream",
     "text": [
      "0.008340261899812929\n"
     ]
    }
   ],
   "source": [
    "pred_prob.shape\n",
    "max_list = [max(lst) for lst in pred_prob]\n",
    "count = 0\n",
    "min_interval = 0.75\n",
    "max_interval = 0.8\n",
    "for i in range(76976):\n",
    "    if max_list[i] <= max_interval and max_list[i] > min_interval:\n",
    "        #print(max_list[i])\n",
    "        count += 1\n",
    "print(count/76976)"
   ]
  },
  {
   "cell_type": "code",
   "execution_count": 104,
   "id": "f558e1d3",
   "metadata": {},
   "outputs": [
    {
     "name": "stdout",
     "output_type": "stream",
     "text": [
      "0.008989815007274995\n"
     ]
    }
   ],
   "source": [
    "pred_prob.shape\n",
    "max_list = [max(lst) for lst in pred_prob]\n",
    "count = 0\n",
    "min_interval = 0.8\n",
    "max_interval = 0.85\n",
    "for i in range(76976):\n",
    "    if max_list[i] <= max_interval and max_list[i] > min_interval:\n",
    "        #print(max_list[i])\n",
    "        count += 1\n",
    "print(count/76976)"
   ]
  },
  {
   "cell_type": "code",
   "execution_count": 105,
   "id": "4b75e5a6",
   "metadata": {},
   "outputs": [
    {
     "name": "stdout",
     "output_type": "stream",
     "text": [
      "0.010159010600706713\n"
     ]
    }
   ],
   "source": [
    "pred_prob.shape\n",
    "max_list = [max(lst) for lst in pred_prob]\n",
    "count = 0\n",
    "min_interval = 0.85\n",
    "max_interval = 0.9\n",
    "for i in range(76976):\n",
    "    if max_list[i] <= max_interval and max_list[i] > min_interval:\n",
    "        #print(max_list[i])\n",
    "        count += 1\n",
    "print(count/76976)"
   ]
  },
  {
   "cell_type": "code",
   "execution_count": 106,
   "id": "1d2e3de4",
   "metadata": {},
   "outputs": [
    {
     "name": "stdout",
     "output_type": "stream",
     "text": [
      "0.009054770318021202\n"
     ]
    }
   ],
   "source": [
    "pred_prob.shape\n",
    "max_list = [max(lst) for lst in pred_prob]\n",
    "count = 0\n",
    "min_interval = 0.9\n",
    "max_interval = 0.95\n",
    "for i in range(76976):\n",
    "    if max_list[i] <= max_interval and max_list[i] > min_interval:\n",
    "        #print(max_list[i])\n",
    "        count += 1\n",
    "print(count/76976)"
   ]
  },
  {
   "cell_type": "code",
   "execution_count": 107,
   "id": "52dd5564",
   "metadata": {},
   "outputs": [
    {
     "name": "stdout",
     "output_type": "stream",
     "text": [
      "0.9201309499064644\n"
     ]
    }
   ],
   "source": [
    "pred_prob.shape\n",
    "max_list = [max(lst) for lst in pred_prob]\n",
    "count = 0\n",
    "min_interval = 0.95\n",
    "max_interval = 1.0\n",
    "for i in range(76976):\n",
    "    if max_list[i] <= max_interval and max_list[i] > min_interval:\n",
    "        #print(max_list[i])\n",
    "        count += 1\n",
    "print(count/76976)"
   ]
  },
  {
   "cell_type": "code",
   "execution_count": 109,
   "id": "681d1913",
   "metadata": {},
   "outputs": [],
   "source": [
    "from sklearn import tree\n",
    "import pandas as pd\n",
    "import os\n",
    "import numpy as np\n",
    "from sklearn import metrics\n",
    "import matplotlib.pyplot as plt"
   ]
  },
  {
   "cell_type": "code",
   "execution_count": 144,
   "id": "5e1abd68",
   "metadata": {},
   "outputs": [
    {
     "data": {
      "image/png": "[encoded data removed]",
      "text/plain": [
       "<Figure size 216x180 with 1 Axes>"
      ]
     },
     "metadata": {
      "needs_background": "light"
     },
     "output_type": "display_data"
    }
   ],
   "source": [
    "plt.rcParams.update({'font.size':12})\n",
    "fig, ax = plt.subplots(figsize =(3, 2.5))\n",
    "plt.rcParams[\"figure.autolayout\"] = True\n",
    "\n",
    "#a = [0.005586156724173769,0.014303159426314695,0.01895395967574309,0.019148825607981708,0.9291857202244855] #previous\n",
    "#b = [0.5-0.6,0.6-0.7,0.7-0.8,0.8-0.9,0.9-1.0]\n",
    "#b = [0.6,0.7,0.8,0.9,1.0] #previous\n",
    "\n",
    "#a = [0.00037674080232799834,0.00520941592184577,0.0015589274579089587,0.012744231968405738,0.01061369777593016,0.008340261899812929,0.008989815007274995,0.010159010600706713,0.009054770318021202,0.9201309499064644]\n",
    "a = [0.00037674080232799834, 0.00520941592184577, 0.0015589274579089587,0.012744231968405738,0.01061369777593016,\n",
    "0.008340261899812929, 0.008989815007274995, 0.010159010600706713, 0.009054770318021202, 0.9201309499064644]\n",
    "b = [0.55,0.6,0.65,0.7,0.75,0.8,0.85,0.9,0.95,1.0]\n",
    "#bins = 10\n",
    "#sns.histplot(value_cnt, bins=10)\n",
    "#mylist = [key for key, val in histplot.items() for _ in range(val)]\n",
    "plt.plot(b,a,marker='*', color='black', ms=10 )#, color = 'k')#, facecolor='k')\n",
    "#plt.xticks(rotation=45)\n",
    "#plt.barh(b,a)\n",
    "plt.xlim(0.55,1.0)\n",
    "plt.ylim(0.0,1.0)\n",
    "plt.xticks(np.arange(0.55,1.05,0.05))\n",
    "plt.setp(ax.get_xticklabels(), rotation=90, fontsize='medium')\n",
    "#df['data'].plot(kind='bar', color='red')\n",
    "#df['data'].plot(kind='line', marker='*', color='black', ms=10)\n",
    "\n",
    "#plt.show()\n",
    "#ax.figure.autofmt_xdate()\n",
    "plt.xlabel(\"#Bins\")\n",
    "plt.ylabel(\"Probability\")\n",
    "#plt.title(\"Histogram with Probability Plot\")\n",
    "plt.savefig(\"D:/New pcaps_IoTSpyCamera/TDSC_WorkAfterReview/PredictedProbability_Others_14012023.pdf\", dpi = 1200)\n",
    "#plt.show()"
   ]
  },
  {
   "cell_type": "code",
   "execution_count": 1,
   "id": "434f4c34",
   "metadata": {},
   "outputs": [
    {
     "ename": "NameError",
     "evalue": "name 'comb_mat' is not defined",
     "output_type": "error",
     "traceback": [
      "\u001b[1;31m---------------------------------------------------------------------------\u001b[0m",
      "\u001b[1;31mNameError\u001b[0m                                 Traceback (most recent call last)",
      "Input \u001b[1;32mIn [1]\u001b[0m, in \u001b[0;36m<cell line: 19>\u001b[1;34m()\u001b[0m\n\u001b[0;32m     16\u001b[0m \u001b[38;5;66;03m#ax.matshow(confusion_matrix, cmap=plt.cm.Blues, alpha=0.3)\u001b[39;00m\n\u001b[0;32m     17\u001b[0m arr \u001b[38;5;241m=\u001b[39m np\u001b[38;5;241m.\u001b[39marray([[\u001b[38;5;124m'\u001b[39m\u001b[38;5;124m1384\u001b[39m\u001b[38;5;124m'\u001b[39m,\u001b[38;5;124m'\u001b[39m\u001b[38;5;124m17\u001b[39m\u001b[38;5;124m'\u001b[39m,\u001b[38;5;124m'\u001b[39m\u001b[38;5;124m44\u001b[39m\u001b[38;5;124m'\u001b[39m,\u001b[38;5;124m'\u001b[39m\u001b[38;5;124m39\u001b[39m\u001b[38;5;124m'\u001b[39m],[\u001b[38;5;124m'\u001b[39m\u001b[38;5;124m13\u001b[39m\u001b[38;5;124m'\u001b[39m,\u001b[38;5;124m'\u001b[39m\u001b[38;5;124m1004\u001b[39m\u001b[38;5;124m'\u001b[39m,\u001b[38;5;124m'\u001b[39m\u001b[38;5;124m175\u001b[39m\u001b[38;5;124m'\u001b[39m,\u001b[38;5;124m'\u001b[39m\u001b[38;5;124m261\u001b[39m\u001b[38;5;124m'\u001b[39m],[\u001b[38;5;124m'\u001b[39m\u001b[38;5;124m36\u001b[39m\u001b[38;5;124m'\u001b[39m,\u001b[38;5;124m'\u001b[39m\u001b[38;5;124m111\u001b[39m\u001b[38;5;124m'\u001b[39m,\u001b[38;5;124m'\u001b[39m\u001b[38;5;124m9858\u001b[39m\u001b[38;5;124m'\u001b[39m,\u001b[38;5;124m'\u001b[39m\u001b[38;5;124m827\u001b[39m\u001b[38;5;124m'\u001b[39m],[\u001b[38;5;124m'\u001b[39m\u001b[38;5;124m17\u001b[39m\u001b[38;5;124m'\u001b[39m,\u001b[38;5;124m'\u001b[39m\u001b[38;5;124m178\u001b[39m\u001b[38;5;124m'\u001b[39m,\u001b[38;5;124m'\u001b[39m\u001b[38;5;124m497\u001b[39m\u001b[38;5;124m'\u001b[39m,\u001b[38;5;124m'\u001b[39m\u001b[38;5;124m10942\u001b[39m\u001b[38;5;124m'\u001b[39m]])\n\u001b[1;32m---> 19\u001b[0m ax \u001b[38;5;241m=\u001b[39m sns\u001b[38;5;241m.\u001b[39mheatmap(\u001b[43mcomb_mat\u001b[49m, linewidths\u001b[38;5;241m=\u001b[39m\u001b[38;5;241m0.5\u001b[39m, annot\u001b[38;5;241m=\u001b[39marr, fmt\u001b[38;5;241m=\u001b[39m\u001b[38;5;124m\"\u001b[39m\u001b[38;5;124m\"\u001b[39m, square \u001b[38;5;241m=\u001b[39m \u001b[38;5;28;01mTrue\u001b[39;00m, cmap \u001b[38;5;241m=\u001b[39m \u001b[38;5;124m'\u001b[39m\u001b[38;5;124mBlues\u001b[39m\u001b[38;5;124m'\u001b[39m)\n\u001b[0;32m     20\u001b[0m \u001b[38;5;66;03m#for i in range(confusion_matrix.shape[0]):\u001b[39;00m\n\u001b[0;32m     21\u001b[0m     \u001b[38;5;66;03m#for j in range(confusion_matrix.shape[1]):\u001b[39;00m\n\u001b[0;32m     22\u001b[0m         \u001b[38;5;66;03m#ax.text(x=j, y=i, s=confusion_matrix[i, j], va='center_baseline', ha='left', size='large')\u001b[39;00m\n\u001b[0;32m     23\u001b[0m \u001b[38;5;66;03m#sns.heatmap(confusion_matrix, linewidths=0.5, annot=True, square = True, cmap = 'Blues')\u001b[39;00m\n\u001b[0;32m     26\u001b[0m plt\u001b[38;5;241m.\u001b[39mylabel(\u001b[38;5;124m'\u001b[39m\u001b[38;5;124mActual\u001b[39m\u001b[38;5;124m'\u001b[39m)\n",
      "\u001b[1;31mNameError\u001b[0m: name 'comb_mat' is not defined"
     ]
    },
    {
     "data": {
      "text/plain": [
       "<Figure size 432x288 with 0 Axes>"
      ]
     },
     "metadata": {},
     "output_type": "display_data"
    },
    {
     "data": {
      "image/png": "[encoded data removed]",
      "text/plain": [
       "<Figure size 288x216 with 1 Axes>"
      ]
     },
     "metadata": {
      "needs_background": "light"
     },
     "output_type": "display_data"
    }
   ],
   "source": [
    "import seaborn as sns\n",
    "import matplotlib.pyplot as plt\n",
    "import numpy as np\n",
    "import pandas as pd\n",
    "from scipy.stats import zscore\n",
    "from scipy import stats\n",
    "\n",
    "\n",
    "\n",
    "plt.rcParams.update({'font.size':12})\n",
    "plt.rcParams[\"figure.figsize\"] = [4, 3]\n",
    "plt.rcParams[\"figure.autolayout\"] = True\n",
    "\n",
    "plt.clf()\n",
    "fig, ax = plt.subplots(figsize=(4, 3))\n",
    "#ax.matshow(confusion_matrix, cmap=plt.cm.Blues, alpha=0.3)\n",
    "arr = np.array([['1384','17','44','39'],['13','1004','175','261'],['36','111','9858','827'],['17','178','497','10942']])\n",
    "\n",
    "ax = sns.heatmap(comb_mat, linewidths=0.5, annot=arr, fmt=\"\", square = True, cmap = 'Blues')\n",
    "#for i in range(confusion_matrix.shape[0]):\n",
    "    #for j in range(confusion_matrix.shape[1]):\n",
    "        #ax.text(x=j, y=i, s=confusion_matrix[i, j], va='center_baseline', ha='left', size='large')\n",
    "#sns.heatmap(confusion_matrix, linewidths=0.5, annot=True, square = True, cmap = 'Blues')\n",
    "\n",
    "        \n",
    "plt.ylabel('Actual')\n",
    "plt.xlabel('Predicted')\n",
    "all_sample_title = 'Accuracy Score: {0:.2f}'.format(clf.score(X_test, Y_test))\n",
    "plt.title(all_sample_title, size = 10)\n",
    "\n",
    "#labels = ['IoTCam', 'VShare', 'VConf']\n",
    "ax.set_xticklabels(['IoTCam', 'Share', 'Conf', 'Other']); \n",
    "ax.set_yticklabels(['IoTCam', 'Share', 'Conf', 'Other']);\n",
    "\n",
    "#plt.savefig(\"D:/New pcaps_IoTSpyCamera/TDSC_WorkAfterReview/PredictedAcc_confmatrix.pdf\", dpi = 1200)"
   ]
  },
  {
   "cell_type": "code",
   "execution_count": null,
   "id": "5d81b9b8",
   "metadata": {},
   "outputs": [],
   "source": []
  }
 ],
 "metadata": {
  "kernelspec": {
   "display_name": "Python 3 (ipykernel)",
   "language": "python",
   "name": "python3"
  },
  "language_info": {
   "codemirror_mode": {
    "name": "ipython",
    "version": 3
   },
   "file_extension": ".py",
   "mimetype": "text/x-python",
   "name": "python",
   "nbconvert_exporter": "python",
   "pygments_lexer": "ipython3",
   "version": "3.10.5"
  }
 },
 "nbformat": 4,
 "nbformat_minor": 5
}
