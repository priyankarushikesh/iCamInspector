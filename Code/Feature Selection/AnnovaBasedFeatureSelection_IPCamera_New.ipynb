{
 "cells": [
  {
   "cell_type": "code",
   "execution_count": 1,
   "metadata": {},
   "outputs": [],
   "source": [
    "import pandas as pd\n",
    "import numpy as np\n",
    "from sklearn.model_selection import train_test_split\n",
    "from sklearn.feature_selection import SelectKBest\n",
    "from sklearn.feature_selection import f_classif\n",
    "from sklearn.model_selection import cross_val_score\n",
    "from sklearn.tree import DecisionTreeClassifier\n",
    "from sklearn import metrics\n",
    "from matplotlib import pyplot"
   ]
  },
  {
   "cell_type": "code",
   "execution_count": 2,
   "metadata": {},
   "outputs": [],
   "source": [
    "fnames = [\"D:/New pcaps_IoTSpyCamera/TDSC_WorkAfterReview/filteredPcapCSV/IPCamera_filteredpcapcsv/alarmClockCam_1_Flow.csv\",\n",
    "          \"D:/New pcaps_IoTSpyCamera/TDSC_WorkAfterReview/filteredPcapCSV/IPCamera_filteredpcapcsv/alarmClockCam_2_Flow.csv\",\n",
    "          \"D:/New pcaps_IoTSpyCamera/TDSC_WorkAfterReview/filteredPcapCSV/IPCamera_filteredpcapcsv/alarmClockCam_3_Flow.csv\",\n",
    "          \"D:/New pcaps_IoTSpyCamera/TDSC_WorkAfterReview/filteredPcapCSV/IPCamera_filteredpcapcsv/alarmClockCam_4_Flow.csv\",\n",
    "          \"D:/New pcaps_IoTSpyCamera/TDSC_WorkAfterReview/filteredPcapCSV/IPCamera_filteredpcapcsv/canarycam_1_Flow.csv\",\n",
    "          \"D:/New pcaps_IoTSpyCamera/TDSC_WorkAfterReview/filteredPcapCSV/IPCamera_filteredpcapcsv/canarycam_2_Flow.csv\",\n",
    "          \"D:/New pcaps_IoTSpyCamera/TDSC_WorkAfterReview/filteredPcapCSV/IPCamera_filteredpcapcsv/canarycam_3_Flow.csv\",\n",
    "          \"D:/New pcaps_IoTSpyCamera/TDSC_WorkAfterReview/filteredPcapCSV/IPCamera_filteredpcapcsv/canarycam_4_Flow.csv\",\n",
    "          \"D:/New pcaps_IoTSpyCamera/TDSC_WorkAfterReview/filteredPcapCSV/IPCamera_filteredpcapcsv/d3dtraffic_1_Flow.csv\",\n",
    "          \"D:/New pcaps_IoTSpyCamera/TDSC_WorkAfterReview/filteredPcapCSV/IPCamera_filteredpcapcsv/d3dtraffic_2_Flow.csv\",\n",
    "          \"D:/New pcaps_IoTSpyCamera/TDSC_WorkAfterReview/filteredPcapCSV/IPCamera_filteredpcapcsv/d3dtraffic_3_Flow.csv\",\n",
    "          \"D:/New pcaps_IoTSpyCamera/TDSC_WorkAfterReview/filteredPcapCSV/IPCamera_filteredpcapcsv/ezviz_1_Flow.csv\",\n",
    "          \"D:/New pcaps_IoTSpyCamera/TDSC_WorkAfterReview/filteredPcapCSV/IPCamera_filteredpcapcsv/ezviz_2_Flow.csv\",\n",
    "          \"D:/New pcaps_IoTSpyCamera/TDSC_WorkAfterReview/filteredPcapCSV/IPCamera_filteredpcapcsv/ezviz_3_Flow.csv\",\n",
    "          \"D:/New pcaps_IoTSpyCamera/TDSC_WorkAfterReview/filteredPcapCSV/IPCamera_filteredpcapcsv/ezviz_4_Flow.csv\",\n",
    "          \"D:/New pcaps_IoTSpyCamera/TDSC_WorkAfterReview/filteredPcapCSV/IPCamera_filteredpcapcsv/ezviz_5_Flow.csv\",\n",
    "          \"D:/New pcaps_IoTSpyCamera/TDSC_WorkAfterReview/filteredPcapCSV/IPCamera_filteredpcapcsv/ezviz_6_Flow.csv\",\n",
    "          \"D:/New pcaps_IoTSpyCamera/TDSC_WorkAfterReview/filteredPcapCSV/IPCamera_filteredpcapcsv/ezviz_7_Flow.csv\",\n",
    "          \"D:/New pcaps_IoTSpyCamera/TDSC_WorkAfterReview/filteredPcapCSV/IPCamera_filteredpcapcsv/netatmocam1_Flow.csv\",\n",
    "          \"D:/New pcaps_IoTSpyCamera/TDSC_WorkAfterReview/filteredPcapCSV/IPCamera_filteredpcapcsv/netatmocam2_Flow.csv\",\n",
    "          \"D:/New pcaps_IoTSpyCamera/TDSC_WorkAfterReview/filteredPcapCSV/IPCamera_filteredpcapcsv/netatmocam3_Flow.csv\",\n",
    "          \"D:/New pcaps_IoTSpyCamera/TDSC_WorkAfterReview/filteredPcapCSV/IPCamera_filteredpcapcsv/v380Cam1_1_Flow.csv\",\n",
    "          \"D:/New pcaps_IoTSpyCamera/TDSC_WorkAfterReview/filteredPcapCSV/IPCamera_filteredpcapcsv/v380Cam1_2_Flow.csv\",\n",
    "          \"D:/New pcaps_IoTSpyCamera/TDSC_WorkAfterReview/filteredPcapCSV/IPCamera_filteredpcapcsv/v380Cam1_3_Flow.csv\",\n",
    "          \"D:/New pcaps_IoTSpyCamera/TDSC_WorkAfterReview/filteredPcapCSV/IPCamera_filteredpcapcsv/v380Cam1_4_Flow.csv\",\n",
    "          \"D:/New pcaps_IoTSpyCamera/TDSC_WorkAfterReview/filteredPcapCSV/IPCamera_filteredpcapcsv/v380Cam1_5_Flow.csv\",\n",
    "          \"D:/New pcaps_IoTSpyCamera/TDSC_WorkAfterReview/filteredPcapCSV/IPCamera_filteredpcapcsv/v380Cam1_6_Flow.csv\",\n",
    "          \"D:/New pcaps_IoTSpyCamera/TDSC_WorkAfterReview/filteredPcapCSV/IPCamera_filteredpcapcsv/v380Cam1_7_Flow.csv\",\n",
    "          \"D:/New pcaps_IoTSpyCamera/TDSC_WorkAfterReview/filteredPcapCSV/IPCamera_filteredpcapcsv/v380Cam1_8_Flow.csv\",\n",
    "          \n",
    "         ]"
   ]
  },
  {
   "cell_type": "code",
   "execution_count": 4,
   "metadata": {},
   "outputs": [
    {
     "name": "stdout",
     "output_type": "stream",
     "text": [
      "file: D:/New pcaps_IoTSpyCamera/TDSC_WorkAfterReview/filteredPcapCSV/IPCamera_filteredpcapcsv/alarmClockCam_1_Flow.csv  data size:  (125, 84)\n",
      "file: D:/New pcaps_IoTSpyCamera/TDSC_WorkAfterReview/filteredPcapCSV/IPCamera_filteredpcapcsv/alarmClockCam_2_Flow.csv  data size:  (157, 84)\n",
      "file: D:/New pcaps_IoTSpyCamera/TDSC_WorkAfterReview/filteredPcapCSV/IPCamera_filteredpcapcsv/alarmClockCam_3_Flow.csv  data size:  (95, 84)\n",
      "file: D:/New pcaps_IoTSpyCamera/TDSC_WorkAfterReview/filteredPcapCSV/IPCamera_filteredpcapcsv/alarmClockCam_4_Flow.csv  data size:  (18, 84)\n",
      "file: D:/New pcaps_IoTSpyCamera/TDSC_WorkAfterReview/filteredPcapCSV/IPCamera_filteredpcapcsv/canarycam_1_Flow.csv  data size:  (45, 84)\n",
      "file: D:/New pcaps_IoTSpyCamera/TDSC_WorkAfterReview/filteredPcapCSV/IPCamera_filteredpcapcsv/canarycam_2_Flow.csv  data size:  (45, 84)\n",
      "file: D:/New pcaps_IoTSpyCamera/TDSC_WorkAfterReview/filteredPcapCSV/IPCamera_filteredpcapcsv/canarycam_3_Flow.csv  data size:  (143, 84)\n",
      "file: D:/New pcaps_IoTSpyCamera/TDSC_WorkAfterReview/filteredPcapCSV/IPCamera_filteredpcapcsv/canarycam_4_Flow.csv  data size:  (188, 84)\n",
      "file: D:/New pcaps_IoTSpyCamera/TDSC_WorkAfterReview/filteredPcapCSV/IPCamera_filteredpcapcsv/d3dtraffic_1_Flow.csv  data size:  (503, 84)\n",
      "file: D:/New pcaps_IoTSpyCamera/TDSC_WorkAfterReview/filteredPcapCSV/IPCamera_filteredpcapcsv/d3dtraffic_2_Flow.csv  data size:  (665, 84)\n",
      "file: D:/New pcaps_IoTSpyCamera/TDSC_WorkAfterReview/filteredPcapCSV/IPCamera_filteredpcapcsv/d3dtraffic_3_Flow.csv  data size:  (565, 84)\n",
      "file: D:/New pcaps_IoTSpyCamera/TDSC_WorkAfterReview/filteredPcapCSV/IPCamera_filteredpcapcsv/ezviz_1_Flow.csv  data size:  (234, 84)\n",
      "file: D:/New pcaps_IoTSpyCamera/TDSC_WorkAfterReview/filteredPcapCSV/IPCamera_filteredpcapcsv/ezviz_2_Flow.csv  data size:  (336, 84)\n",
      "file: D:/New pcaps_IoTSpyCamera/TDSC_WorkAfterReview/filteredPcapCSV/IPCamera_filteredpcapcsv/ezviz_3_Flow.csv  data size:  (479, 84)\n",
      "file: D:/New pcaps_IoTSpyCamera/TDSC_WorkAfterReview/filteredPcapCSV/IPCamera_filteredpcapcsv/ezviz_4_Flow.csv  data size:  (605, 84)\n",
      "file: D:/New pcaps_IoTSpyCamera/TDSC_WorkAfterReview/filteredPcapCSV/IPCamera_filteredpcapcsv/ezviz_5_Flow.csv  data size:  (563, 84)\n",
      "file: D:/New pcaps_IoTSpyCamera/TDSC_WorkAfterReview/filteredPcapCSV/IPCamera_filteredpcapcsv/ezviz_6_Flow.csv  data size:  (339, 84)\n",
      "file: D:/New pcaps_IoTSpyCamera/TDSC_WorkAfterReview/filteredPcapCSV/IPCamera_filteredpcapcsv/ezviz_7_Flow.csv  data size:  (30, 84)\n",
      "file: D:/New pcaps_IoTSpyCamera/TDSC_WorkAfterReview/filteredPcapCSV/IPCamera_filteredpcapcsv/netatmocam1_Flow.csv  data size:  (432, 84)\n",
      "file: D:/New pcaps_IoTSpyCamera/TDSC_WorkAfterReview/filteredPcapCSV/IPCamera_filteredpcapcsv/netatmocam2_Flow.csv  data size:  (158, 84)\n",
      "file: D:/New pcaps_IoTSpyCamera/TDSC_WorkAfterReview/filteredPcapCSV/IPCamera_filteredpcapcsv/netatmocam3_Flow.csv  data size:  (353, 84)\n",
      "file: D:/New pcaps_IoTSpyCamera/TDSC_WorkAfterReview/filteredPcapCSV/IPCamera_filteredpcapcsv/v380Cam1_1_Flow.csv  data size:  (249, 84)\n",
      "file: D:/New pcaps_IoTSpyCamera/TDSC_WorkAfterReview/filteredPcapCSV/IPCamera_filteredpcapcsv/v380Cam1_2_Flow.csv  data size:  (1678, 84)\n",
      "file: D:/New pcaps_IoTSpyCamera/TDSC_WorkAfterReview/filteredPcapCSV/IPCamera_filteredpcapcsv/v380Cam1_3_Flow.csv  data size:  (347, 84)\n",
      "file: D:/New pcaps_IoTSpyCamera/TDSC_WorkAfterReview/filteredPcapCSV/IPCamera_filteredpcapcsv/v380Cam1_4_Flow.csv  data size:  (425, 84)\n",
      "file: D:/New pcaps_IoTSpyCamera/TDSC_WorkAfterReview/filteredPcapCSV/IPCamera_filteredpcapcsv/v380Cam1_5_Flow.csv  data size:  (264, 84)\n",
      "file: D:/New pcaps_IoTSpyCamera/TDSC_WorkAfterReview/filteredPcapCSV/IPCamera_filteredpcapcsv/v380Cam1_6_Flow.csv  data size:  (288, 84)\n",
      "file: D:/New pcaps_IoTSpyCamera/TDSC_WorkAfterReview/filteredPcapCSV/IPCamera_filteredpcapcsv/v380Cam1_7_Flow.csv  data size:  (280, 84)\n",
      "file: D:/New pcaps_IoTSpyCamera/TDSC_WorkAfterReview/filteredPcapCSV/IPCamera_filteredpcapcsv/v380Cam1_8_Flow.csv  data size:  (391, 84)\n",
      "(10000, 84)\n"
     ]
    }
   ],
   "source": [
    "dfList = list()\n",
    "for fname in fnames: \n",
    "    data = pd.read_csv(fname)\n",
    "    print('file:', fname, ' data size: ',data.shape)\n",
    "    dfList.append(data)\n",
    "############## combine the data frames\n",
    "masterDF = pd.concat(dfList)\n",
    "print(masterDF.shape)"
   ]
  },
  {
   "cell_type": "code",
   "execution_count": 5,
   "metadata": {},
   "outputs": [
    {
     "name": "stdout",
     "output_type": "stream",
     "text": [
      "['IPCam_AlarmClock', 'IPCam_Canary', 'IPCam_D3D', 'IPCam_Ezviz', 'IPCam_Netatmo', 'IPCam_V380']\n"
     ]
    }
   ],
   "source": [
    "#see unique labels\n",
    "masterDF['Label'].unique()\n",
    "masterDF['Label'].replace('VConf_Gmeet','VConf_GMeet',inplace=True)\n",
    "uniqueLabels = list(masterDF['Label'].unique())\n",
    "print(uniqueLabels)"
   ]
  },
  {
   "cell_type": "code",
   "execution_count": 6,
   "metadata": {},
   "outputs": [
    {
     "name": "stdout",
     "output_type": "stream",
     "text": [
      "pruneddata size:  (10000, 77)\n",
      "['Flow Duration', 'Tot Fwd Pkts', 'Tot Bwd Pkts', 'TotLen Fwd Pkts', 'TotLen Bwd Pkts', 'Fwd Pkt Len Max', 'Fwd Pkt Len Min', 'Fwd Pkt Len Mean', 'Fwd Pkt Len Std', 'Bwd Pkt Len Max', 'Bwd Pkt Len Min', 'Bwd Pkt Len Mean', 'Bwd Pkt Len Std', 'Flow Byts/s', 'Flow Pkts/s', 'Flow IAT Mean', 'Flow IAT Std', 'Flow IAT Max', 'Flow IAT Min', 'Fwd IAT Tot', 'Fwd IAT Mean', 'Fwd IAT Std', 'Fwd IAT Max', 'Fwd IAT Min', 'Bwd IAT Tot', 'Bwd IAT Mean', 'Bwd IAT Std', 'Bwd IAT Max', 'Bwd IAT Min', 'Fwd PSH Flags', 'Bwd PSH Flags', 'Fwd URG Flags', 'Bwd URG Flags', 'Fwd Header Len', 'Bwd Header Len', 'Fwd Pkts/s', 'Bwd Pkts/s', 'Pkt Len Min', 'Pkt Len Max', 'Pkt Len Mean', 'Pkt Len Std', 'Pkt Len Var', 'FIN Flag Cnt', 'SYN Flag Cnt', 'RST Flag Cnt', 'PSH Flag Cnt', 'ACK Flag Cnt', 'URG Flag Cnt', 'CWE Flag Count', 'ECE Flag Cnt', 'Down/Up Ratio', 'Pkt Size Avg', 'Fwd Seg Size Avg', 'Bwd Seg Size Avg', 'Fwd Byts/b Avg', 'Fwd Pkts/b Avg', 'Fwd Blk Rate Avg', 'Bwd Byts/b Avg', 'Bwd Pkts/b Avg', 'Bwd Blk Rate Avg', 'Subflow Fwd Pkts', 'Subflow Fwd Byts', 'Subflow Bwd Pkts', 'Subflow Bwd Byts', 'Init Fwd Win Byts', 'Init Bwd Win Byts', 'Fwd Act Data Pkts', 'Fwd Seg Size Min', 'Active Mean', 'Active Std', 'Active Max', 'Active Min', 'Idle Mean', 'Idle Std', 'Idle Max', 'Idle Min', 'Label']\n"
     ]
    }
   ],
   "source": [
    "#discard all those columns that helps in uniquely identifying a flow\n",
    "masterPruned = masterDF.iloc[:,np.arange(7,84)]\n",
    "print('pruneddata size: ', masterPruned.shape)\n",
    "ftList = list(masterPruned.columns)\n",
    "print(ftList)"
   ]
  },
  {
   "cell_type": "code",
   "execution_count": 7,
   "metadata": {},
   "outputs": [
    {
     "data": {
      "text/plain": [
       "(10000, 77)"
      ]
     },
     "execution_count": 7,
     "metadata": {},
     "output_type": "execute_result"
    }
   ],
   "source": [
    "#discard those flows that has 0 flow duration\n",
    "masterSelected = masterPruned.drop(masterPruned[masterPruned['Flow Duration']==0].index)\n",
    "masterSelected.shape"
   ]
  },
  {
   "cell_type": "code",
   "execution_count": 8,
   "metadata": {},
   "outputs": [
    {
     "name": "stdout",
     "output_type": "stream",
     "text": [
      "[]\n"
     ]
    }
   ],
   "source": [
    "#identify those columns that has non-numeric values\n",
    "typesList = masterSelected.dtypes\n",
    "ftCount = len(ftList)\n",
    "nonNumericFtList = list()\n",
    "for fi in range(ftCount):\n",
    "    if ftList[fi] != 'Label' and typesList[fi] != 'int64' and typesList[fi] != 'float64':\n",
    "        print(ftList[fi], '  ', typesList[fi])\n",
    "        nonNumericFtList.append(ftList[fi])\n",
    "print(nonNumericFtList)"
   ]
  },
  {
   "cell_type": "code",
   "execution_count": 9,
   "metadata": {},
   "outputs": [],
   "source": [
    "#pyplot.boxplot(results, labels=names, showmeans=True)\n",
    "#pyplot.scatter(fpackets,fbytes)\n",
    "#pyplot.show()\n"
   ]
  },
  {
   "cell_type": "code",
   "execution_count": 10,
   "metadata": {},
   "outputs": [],
   "source": [
    "for ft in nonNumericFtList:\n",
    "    masterSelected[ft] = pd.to_numeric(masterSelected[ft], errors='coerce')"
   ]
  },
  {
   "cell_type": "code",
   "execution_count": 11,
   "metadata": {},
   "outputs": [
    {
     "name": "stdout",
     "output_type": "stream",
     "text": [
      "[]\n"
     ]
    }
   ],
   "source": [
    "print(nonNumericFtList)\n",
    "for ft in nonNumericFtList:\n",
    "    countNaN = masterSelected[ft].isna().sum()\n",
    "    print('converted to numeric ft: ', ft, '  countNaN: ', countNaN)"
   ]
  },
  {
   "cell_type": "code",
   "execution_count": 12,
   "metadata": {},
   "outputs": [
    {
     "name": "stdout",
     "output_type": "stream",
     "text": [
      "count inf:  0\n"
     ]
    }
   ],
   "source": [
    "number_inf = masterSelected[masterSelected == np.inf].count().sum()\n",
    "print('count inf: ',number_inf)"
   ]
  },
  {
   "cell_type": "code",
   "execution_count": 13,
   "metadata": {},
   "outputs": [
    {
     "name": "stdout",
     "output_type": "stream",
     "text": [
      "[]\n"
     ]
    }
   ],
   "source": [
    "typesList = masterSelected.dtypes\n",
    "ftCount = len(ftList)\n",
    "nonNumericFtList = list()\n",
    "for fi in range(ftCount):\n",
    "    if ftList[fi] != 'Label' and typesList[fi] != 'int64' and typesList[fi] != 'float64':\n",
    "        print(ftList[fi], '  ', typesList[fi])\n",
    "        nonNumericFtList.append(ftList[fi])\n",
    "print(nonNumericFtList)"
   ]
  },
  {
   "cell_type": "code",
   "execution_count": 14,
   "metadata": {},
   "outputs": [
    {
     "name": "stdout",
     "output_type": "stream",
     "text": [
      "count:  1  ft:  Fwd PSH Flags  ftmin:  0  ftMax:  0\n",
      "count:  2  ft:  Fwd URG Flags  ftmin:  0  ftMax:  0\n",
      "count:  3  ft:  Bwd URG Flags  ftmin:  0  ftMax:  0\n",
      "count:  4  ft:  URG Flag Cnt  ftmin:  0  ftMax:  0\n",
      "count:  5  ft:  CWE Flag Count  ftmin:  0  ftMax:  0\n",
      "count:  6  ft:  ECE Flag Cnt  ftmin:  0  ftMax:  0\n",
      "count:  7  ft:  Fwd Byts/b Avg  ftmin:  0  ftMax:  0\n",
      "count:  8  ft:  Fwd Pkts/b Avg  ftmin:  0  ftMax:  0\n",
      "count:  9  ft:  Fwd Blk Rate Avg  ftmin:  0  ftMax:  0\n",
      "count:  10  ft:  Bwd Byts/b Avg  ftmin:  0  ftMax:  0\n",
      "count:  11  ft:  Bwd Pkts/b Avg  ftmin:  0  ftMax:  0\n",
      "count:  12  ft:  Bwd Blk Rate Avg  ftmin:  0  ftMax:  0\n",
      "count:  13  ft:  Init Fwd Win Byts  ftmin:  -1  ftMax:  -1\n",
      "count:  14  ft:  Fwd Seg Size Min  ftmin:  0  ftMax:  0\n",
      "['Fwd PSH Flags', 'Fwd URG Flags', 'Bwd URG Flags', 'URG Flag Cnt', 'CWE Flag Count', 'ECE Flag Cnt', 'Fwd Byts/b Avg', 'Fwd Pkts/b Avg', 'Fwd Blk Rate Avg', 'Bwd Byts/b Avg', 'Bwd Pkts/b Avg', 'Bwd Blk Rate Avg', 'Init Fwd Win Byts', 'Fwd Seg Size Min']\n"
     ]
    }
   ],
   "source": [
    "#identify those columns that has 0 std\n",
    "count = 0\n",
    "staticFtList = list()\n",
    "for ft in ftList:\n",
    "    if ft == 'Label':\n",
    "        continue\n",
    "    #print('ft : ', ft)\n",
    "    ftMin = masterSelected[ft].min()\n",
    "    ftMax = masterSelected[ft].max()\n",
    "    #std = masterPruned[ft].std()\n",
    "    \n",
    "    if ftMin == ftMax:\n",
    "        count += 1\n",
    "        print('count: ', count, ' ft: ', ft, ' ftmin: ', ftMin, ' ftMax: ', ftMax)\n",
    "        staticFtList.append(ft)\n",
    "print(staticFtList)"
   ]
  },
  {
   "cell_type": "code",
   "execution_count": 15,
   "metadata": {},
   "outputs": [
    {
     "name": "stdout",
     "output_type": "stream",
     "text": [
      "before droping column:  (10000, 77)\n",
      "after droping column:  (10000, 63)\n"
     ]
    }
   ],
   "source": [
    "#remove those columns that have 0 std\n",
    "print('before droping column: ', masterSelected.shape)\n",
    "for ft in staticFtList:\n",
    "    masterSelected.drop([ft], axis=1,inplace=True)\n",
    "print('after droping column: ', masterSelected.shape)    \n"
   ]
  },
  {
   "cell_type": "code",
   "execution_count": 16,
   "metadata": {},
   "outputs": [
    {
     "name": "stdout",
     "output_type": "stream",
     "text": [
      "63\n",
      "['Flow Duration', 'Tot Fwd Pkts', 'Tot Bwd Pkts', 'TotLen Fwd Pkts', 'TotLen Bwd Pkts', 'Fwd Pkt Len Max', 'Fwd Pkt Len Min', 'Fwd Pkt Len Mean', 'Fwd Pkt Len Std', 'Bwd Pkt Len Max', 'Bwd Pkt Len Min', 'Bwd Pkt Len Mean', 'Bwd Pkt Len Std', 'Flow Byts/s', 'Flow Pkts/s', 'Flow IAT Mean', 'Flow IAT Std', 'Flow IAT Max', 'Flow IAT Min', 'Fwd IAT Tot', 'Fwd IAT Mean', 'Fwd IAT Std', 'Fwd IAT Max', 'Fwd IAT Min', 'Bwd IAT Tot', 'Bwd IAT Mean', 'Bwd IAT Std', 'Bwd IAT Max', 'Bwd IAT Min', 'Bwd PSH Flags', 'Fwd Header Len', 'Bwd Header Len', 'Fwd Pkts/s', 'Bwd Pkts/s', 'Pkt Len Min', 'Pkt Len Max', 'Pkt Len Mean', 'Pkt Len Std', 'Pkt Len Var', 'FIN Flag Cnt', 'SYN Flag Cnt', 'RST Flag Cnt', 'PSH Flag Cnt', 'ACK Flag Cnt', 'Down/Up Ratio', 'Pkt Size Avg', 'Fwd Seg Size Avg', 'Bwd Seg Size Avg', 'Subflow Fwd Pkts', 'Subflow Fwd Byts', 'Subflow Bwd Pkts', 'Subflow Bwd Byts', 'Init Bwd Win Byts', 'Fwd Act Data Pkts', 'Active Mean', 'Active Std', 'Active Max', 'Active Min', 'Idle Mean', 'Idle Std', 'Idle Max', 'Idle Min', 'Label']\n"
     ]
    }
   ],
   "source": [
    "xCount = masterSelected.shape[1]\n",
    "print(xCount)\n",
    "finalFtList = list(masterSelected.columns)\n",
    "print(finalFtList)"
   ]
  },
  {
   "cell_type": "code",
   "execution_count": 17,
   "metadata": {},
   "outputs": [],
   "source": [
    "#report intermediate data frame to a csv\n",
    "masterSelected.to_csv(\n",
    "    'D:/New pcaps_IoTSpyCamera/TDSC_WorkAfterReview/lineplotCSV_IPCam/ProcessedNPrunned_ipcam_23022022.csv', index = False)"
   ]
  },
  {
   "cell_type": "code",
   "execution_count": 18,
   "metadata": {},
   "outputs": [
    {
     "name": "stdout",
     "output_type": "stream",
     "text": [
      "Xshape:  (10000, 62)\n",
      "Yshape:  (10000,)\n"
     ]
    }
   ],
   "source": [
    "#classification with all the features\n",
    "masterDS = masterSelected.values\n",
    "X = masterDS[:,:-1]\n",
    "Y = masterDS[:,-1]\n",
    "print(\"Xshape: \", X.shape)\n",
    "print(\"Yshape: \", Y.shape)"
   ]
  },
  {
   "cell_type": "code",
   "execution_count": 19,
   "metadata": {},
   "outputs": [
    {
     "name": "stdout",
     "output_type": "stream",
     "text": [
      "[0.972 0.978 0.964 0.99  0.988 0.988 0.974 0.979 0.96  0.972]\n",
      "mean score:  0.9764999999999999 min score:  0.96 max score:  0.99  std score:  0.009646242791885355\n"
     ]
    }
   ],
   "source": [
    "import time\n",
    "clf = DecisionTreeClassifier(random_state=10)\n",
    "#print('classification with all features:')\n",
    "#start_time = time.time()\n",
    "#print(f'{start_time:.2f}s start time')\n",
    "scores = cross_val_score(clf, X, Y, cv=10)\n",
    "#clf.fit(X_train, Y_train)\n",
    "#elapsed_time = time.time() - start_time\n",
    "#print(f'{elapsed_time:.2f}s elapsed during training')\n",
    "print(scores)\n",
    "print('mean score: ', scores.mean(),  'min score: ', scores.min(), 'max score: ', scores.max(), ' std score: ', scores.std())"
   ]
  },
  {
   "cell_type": "code",
   "execution_count": 48,
   "metadata": {},
   "outputs": [
    {
     "name": "stdout",
     "output_type": "stream",
     "text": [
      "1673870974.61s start time\n"
     ]
    }
   ],
   "source": [
    "import time\n",
    "\n",
    "start_time = time.time()\n",
    "print(f'{start_time:.2f}s start time')"
   ]
  },
  {
   "cell_type": "code",
   "execution_count": 20,
   "metadata": {},
   "outputs": [
    {
     "name": "stdout",
     "output_type": "stream",
     "text": [
      "(3300,)\n",
      "(6700, 62)\n"
     ]
    }
   ],
   "source": [
    "#performance with all features using decision tree\n",
    "X_train, X_test, Y_train, Y_test = train_test_split(X, Y, test_size=0.33, random_state=1)\n",
    "model = DecisionTreeClassifier(random_state=0)\n",
    "clf = model.fit(X_train,Y_train)\n",
    "yhat = model.predict(X_test)\n",
    "print(yhat.shape)\n",
    "print(X_train.shape)"
   ]
  },
  {
   "cell_type": "code",
   "execution_count": 21,
   "metadata": {},
   "outputs": [],
   "source": [
    "import pickle\n",
    "# save the model to disk\n",
    "filename = 'D:/New pcaps_IoTSpyCamera/TDSC_WorkAfterReview/camdetector_model.sav'\n",
    "pickle.dump(model, open(filename, 'wb'))"
   ]
  },
  {
   "cell_type": "code",
   "execution_count": 22,
   "metadata": {},
   "outputs": [
    {
     "name": "stdout",
     "output_type": "stream",
     "text": [
      "0.9851515151515151\n"
     ]
    }
   ],
   "source": [
    "# load the model from disk\n",
    "loaded_model = pickle.load(open(filename, 'rb'))\n",
    "result = loaded_model.score(X_test, Y_test)\n",
    "print(result)"
   ]
  },
  {
   "cell_type": "code",
   "execution_count": 23,
   "metadata": {},
   "outputs": [
    {
     "name": "stdout",
     "output_type": "stream",
     "text": [
      "pruneddata size:  (10000, 77)\n",
      "['Flow Duration', 'Tot Fwd Pkts', 'Tot Bwd Pkts', 'TotLen Fwd Pkts', 'TotLen Bwd Pkts', 'Fwd Pkt Len Max', 'Fwd Pkt Len Min', 'Fwd Pkt Len Mean', 'Fwd Pkt Len Std', 'Bwd Pkt Len Max', 'Bwd Pkt Len Min', 'Bwd Pkt Len Mean', 'Bwd Pkt Len Std', 'Flow Byts/s', 'Flow Pkts/s', 'Flow IAT Mean', 'Flow IAT Std', 'Flow IAT Max', 'Flow IAT Min', 'Fwd IAT Tot', 'Fwd IAT Mean', 'Fwd IAT Std', 'Fwd IAT Max', 'Fwd IAT Min', 'Bwd IAT Tot', 'Bwd IAT Mean', 'Bwd IAT Std', 'Bwd IAT Max', 'Bwd IAT Min', 'Fwd PSH Flags', 'Bwd PSH Flags', 'Fwd URG Flags', 'Bwd URG Flags', 'Fwd Header Len', 'Bwd Header Len', 'Fwd Pkts/s', 'Bwd Pkts/s', 'Pkt Len Min', 'Pkt Len Max', 'Pkt Len Mean', 'Pkt Len Std', 'Pkt Len Var', 'FIN Flag Cnt', 'SYN Flag Cnt', 'RST Flag Cnt', 'PSH Flag Cnt', 'ACK Flag Cnt', 'URG Flag Cnt', 'CWE Flag Count', 'ECE Flag Cnt', 'Down/Up Ratio', 'Pkt Size Avg', 'Fwd Seg Size Avg', 'Bwd Seg Size Avg', 'Fwd Byts/b Avg', 'Fwd Pkts/b Avg', 'Fwd Blk Rate Avg', 'Bwd Byts/b Avg', 'Bwd Pkts/b Avg', 'Bwd Blk Rate Avg', 'Subflow Fwd Pkts', 'Subflow Fwd Byts', 'Subflow Bwd Pkts', 'Subflow Bwd Byts', 'Init Fwd Win Byts', 'Init Bwd Win Byts', 'Fwd Act Data Pkts', 'Fwd Seg Size Min', 'Active Mean', 'Active Std', 'Active Max', 'Active Min', 'Idle Mean', 'Idle Std', 'Idle Max', 'Idle Min', 'Label']\n"
     ]
    },
    {
     "data": {
      "text/plain": [
       "(10000, 77)"
      ]
     },
     "execution_count": 23,
     "metadata": {},
     "output_type": "execute_result"
    }
   ],
   "source": [
    "#load data \n",
    "data = pd.read_csv(fname) #unseen data : 47000 records\n",
    "#remove initial 7 columns\n",
    "\n",
    "#discard all those columns that helps in uniquely identifying a flow\n",
    "masterPruned = masterDF.iloc[:,np.arange(7,84)]\n",
    "print('pruneddata size: ', masterPruned.shape)\n",
    "ftList = list(masterPruned.columns)\n",
    "print(ftList)\n",
    "\n",
    "#remove those flows that have 0 duration\n",
    "masterSelected = masterPruned.drop(masterPruned[masterPruned['Flow Duration']==0].index)\n",
    "masterSelected.shape\n",
    "\n",
    "#prune other features to bring the number of features to 63\n",
    "\n",
    "#check if the data frame has any NaN values.. \n",
    "\n",
    "#if so, then discard those rows\n",
    "\n",
    "#now test data is ready with unseen environment , i.e., we dont have true labels\n",
    "#find the predicted labels for this test data\n",
    "\n",
    "# count the number of labels for IoTCam, VShare, vConf, Others using a simple counter\n",
    "\n",
    "#display the counts "
   ]
  },
  {
   "cell_type": "code",
   "execution_count": 24,
   "metadata": {},
   "outputs": [
    {
     "name": "stdout",
     "output_type": "stream",
     "text": [
      "1677140794.43s start time\n",
      "0.01s elapsed during training\n"
     ]
    }
   ],
   "source": [
    "#performance with all features using decision tree\n",
    "X_train, X_test, Y_train, Y_test = train_test_split(X, Y, test_size=0.33, random_state=1)\n",
    "model = DecisionTreeClassifier(random_state=10)\n",
    "clf = model.fit(X_train,Y_train)\n",
    "start_time = time.time()\n",
    "print(f'{start_time:.2f}s start time')\n",
    "yhat = model.predict(X_test)\n",
    "elapsed_time = time.time() - start_time\n",
    "print(f'{elapsed_time:.2f}s elapsed during training')"
   ]
  },
  {
   "cell_type": "code",
   "execution_count": 25,
   "metadata": {
    "scrolled": true
   },
   "outputs": [
    {
     "name": "stdout",
     "output_type": "stream",
     "text": [
      "0.61s elapsed during training\n"
     ]
    }
   ],
   "source": [
    "import time\n",
    "\n",
    "clf.fit(X_train, Y_train)\n",
    "elapsed_time = time.time() - start_time\n",
    "print(f'{elapsed_time:.2f}s elapsed during training')"
   ]
  },
  {
   "cell_type": "code",
   "execution_count": 26,
   "metadata": {},
   "outputs": [
    {
     "name": "stdout",
     "output_type": "stream",
     "text": [
      "|--- feature_28 <= 383595.00\n",
      "|   |--- feature_34 <= 1.00\n",
      "|   |   |--- feature_52 <= 15077.50\n",
      "|   |   |   |--- feature_52 <= 6529.50\n",
      "|   |   |   |   |--- feature_52 <= 185.00\n",
      "|   |   |   |   |   |--- feature_52 <= 68.00\n",
      "|   |   |   |   |   |   |--- feature_33 <= 2532.76\n",
      "|   |   |   |   |   |   |   |--- feature_31 <= 174.00\n",
      "|   |   |   |   |   |   |   |   |--- feature_45 <= 605.50\n",
      "|   |   |   |   |   |   |   |   |   |--- feature_44 <= 0.50\n",
      "|   |   |   |   |   |   |   |   |   |   |--- feature_32 <= 1.09\n",
      "|   |   |   |   |   |   |   |   |   |   |   |--- truncated branch of depth 5\n",
      "|   |   |   |   |   |   |   |   |   |   |--- feature_32 >  1.09\n",
      "|   |   |   |   |   |   |   |   |   |   |   |--- truncated branch of depth 2\n",
      "|   |   |   |   |   |   |   |   |   |--- feature_44 >  0.50\n",
      "|   |   |   |   |   |   |   |   |   |   |--- class: IPCam_V380\n",
      "|   |   |   |   |   |   |   |   |--- feature_45 >  605.50\n",
      "|   |   |   |   |   |   |   |   |   |--- feature_21 <= 1294.97\n",
      "|   |   |   |   |   |   |   |   |   |   |--- class: IPCam_Canary\n",
      "|   |   |   |   |   |   |   |   |   |--- feature_21 >  1294.97\n",
      "|   |   |   |   |   |   |   |   |   |   |--- class: IPCam_Ezviz\n",
      "|   |   |   |   |   |   |   |--- feature_31 >  174.00\n",
      "|   |   |   |   |   |   |   |   |--- feature_19 <= 339738.00\n",
      "|   |   |   |   |   |   |   |   |   |--- feature_52 <= 16.00\n",
      "|   |   |   |   |   |   |   |   |   |   |--- feature_9 <= 776.50\n",
      "|   |   |   |   |   |   |   |   |   |   |   |--- class: IPCam_D3D\n",
      "|   |   |   |   |   |   |   |   |   |   |--- feature_9 >  776.50\n",
      "|   |   |   |   |   |   |   |   |   |   |   |--- class: IPCam_Canary\n",
      "|   |   |   |   |   |   |   |   |   |--- feature_52 >  16.00\n",
      "|   |   |   |   |   |   |   |   |   |   |--- class: IPCam_Ezviz\n",
      "|   |   |   |   |   |   |   |   |--- feature_19 >  339738.00\n",
      "|   |   |   |   |   |   |   |   |   |--- class: IPCam_V380\n",
      "|   |   |   |   |   |   |--- feature_33 >  2532.76\n",
      "|   |   |   |   |   |   |   |--- feature_14 <= 4657.68\n",
      "|   |   |   |   |   |   |   |   |--- class: IPCam_Ezviz\n",
      "|   |   |   |   |   |   |   |--- feature_14 >  4657.68\n",
      "|   |   |   |   |   |   |   |   |--- feature_27 <= 29.00\n",
      "|   |   |   |   |   |   |   |   |   |--- class: IPCam_V380\n",
      "|   |   |   |   |   |   |   |   |--- feature_27 >  29.00\n",
      "|   |   |   |   |   |   |   |   |   |--- class: IPCam_Netatmo\n",
      "|   |   |   |   |   |--- feature_52 >  68.00\n",
      "|   |   |   |   |   |   |--- feature_12 <= 406.66\n",
      "|   |   |   |   |   |   |   |--- class: IPCam_Ezviz\n",
      "|   |   |   |   |   |   |--- feature_12 >  406.66\n",
      "|   |   |   |   |   |   |   |--- class: IPCam_V380\n",
      "|   |   |   |   |--- feature_52 >  185.00\n",
      "|   |   |   |   |   |--- feature_24 <= 16750000.00\n",
      "|   |   |   |   |   |   |--- feature_9 <= 1452.00\n",
      "|   |   |   |   |   |   |   |--- feature_33 <= 956.25\n",
      "|   |   |   |   |   |   |   |   |--- feature_52 <= 260.50\n",
      "|   |   |   |   |   |   |   |   |   |--- feature_52 <= 236.00\n",
      "|   |   |   |   |   |   |   |   |   |   |--- feature_52 <= 232.00\n",
      "|   |   |   |   |   |   |   |   |   |   |   |--- truncated branch of depth 3\n",
      "|   |   |   |   |   |   |   |   |   |   |--- feature_52 >  232.00\n",
      "|   |   |   |   |   |   |   |   |   |   |   |--- class: IPCam_V380\n",
      "|   |   |   |   |   |   |   |   |   |--- feature_52 >  236.00\n",
      "|   |   |   |   |   |   |   |   |   |   |--- feature_32 <= 2.10\n",
      "|   |   |   |   |   |   |   |   |   |   |   |--- truncated branch of depth 2\n",
      "|   |   |   |   |   |   |   |   |   |   |--- feature_32 >  2.10\n",
      "|   |   |   |   |   |   |   |   |   |   |   |--- truncated branch of depth 3\n",
      "|   |   |   |   |   |   |   |   |--- feature_52 >  260.50\n",
      "|   |   |   |   |   |   |   |   |   |--- feature_52 <= 409.50\n",
      "|   |   |   |   |   |   |   |   |   |   |--- feature_31 <= 26.00\n",
      "|   |   |   |   |   |   |   |   |   |   |   |--- truncated branch of depth 2\n",
      "|   |   |   |   |   |   |   |   |   |   |--- feature_31 >  26.00\n",
      "|   |   |   |   |   |   |   |   |   |   |   |--- class: IPCam_V380\n",
      "|   |   |   |   |   |   |   |   |   |--- feature_52 >  409.50\n",
      "|   |   |   |   |   |   |   |   |   |   |--- feature_52 <= 456.00\n",
      "|   |   |   |   |   |   |   |   |   |   |   |--- truncated branch of depth 2\n",
      "|   |   |   |   |   |   |   |   |   |   |--- feature_52 >  456.00\n",
      "|   |   |   |   |   |   |   |   |   |   |   |--- truncated branch of depth 6\n",
      "|   |   |   |   |   |   |   |--- feature_33 >  956.25\n",
      "|   |   |   |   |   |   |   |   |--- feature_52 <= 1808.50\n",
      "|   |   |   |   |   |   |   |   |   |--- feature_31 <= 52.00\n",
      "|   |   |   |   |   |   |   |   |   |   |--- feature_37 <= 6.93\n",
      "|   |   |   |   |   |   |   |   |   |   |   |--- truncated branch of depth 10\n",
      "|   |   |   |   |   |   |   |   |   |   |--- feature_37 >  6.93\n",
      "|   |   |   |   |   |   |   |   |   |   |   |--- truncated branch of depth 3\n",
      "|   |   |   |   |   |   |   |   |   |--- feature_31 >  52.00\n",
      "|   |   |   |   |   |   |   |   |   |   |--- feature_52 <= 255.00\n",
      "|   |   |   |   |   |   |   |   |   |   |   |--- class: IPCam_Netatmo\n",
      "|   |   |   |   |   |   |   |   |   |   |--- feature_52 >  255.00\n",
      "|   |   |   |   |   |   |   |   |   |   |   |--- truncated branch of depth 2\n",
      "|   |   |   |   |   |   |   |   |--- feature_52 >  1808.50\n",
      "|   |   |   |   |   |   |   |   |   |--- feature_52 <= 1892.00\n",
      "|   |   |   |   |   |   |   |   |   |   |--- feature_39 <= 0.50\n",
      "|   |   |   |   |   |   |   |   |   |   |   |--- class: IPCam_V380\n",
      "|   |   |   |   |   |   |   |   |   |   |--- feature_39 >  0.50\n",
      "|   |   |   |   |   |   |   |   |   |   |   |--- class: IPCam_D3D\n",
      "|   |   |   |   |   |   |   |   |   |--- feature_52 >  1892.00\n",
      "|   |   |   |   |   |   |   |   |   |   |--- feature_28 <= 711.00\n",
      "|   |   |   |   |   |   |   |   |   |   |   |--- class: IPCam_Canary\n",
      "|   |   |   |   |   |   |   |   |   |   |--- feature_28 >  711.00\n",
      "|   |   |   |   |   |   |   |   |   |   |   |--- class: IPCam_AlarmClock\n",
      "|   |   |   |   |   |   |--- feature_9 >  1452.00\n",
      "|   |   |   |   |   |   |   |--- feature_35 <= 1458.00\n",
      "|   |   |   |   |   |   |   |   |--- class: IPCam_Netatmo\n",
      "|   |   |   |   |   |   |   |--- feature_35 >  1458.00\n",
      "|   |   |   |   |   |   |   |   |--- feature_25 <= 91112.86\n",
      "|   |   |   |   |   |   |   |   |   |--- class: IPCam_V380\n",
      "|   |   |   |   |   |   |   |   |--- feature_25 >  91112.86\n",
      "|   |   |   |   |   |   |   |   |   |--- class: IPCam_Canary\n",
      "|   |   |   |   |   |--- feature_24 >  16750000.00\n",
      "|   |   |   |   |   |   |--- feature_27 <= 41000000.00\n",
      "|   |   |   |   |   |   |   |--- feature_4 <= 10786.00\n",
      "|   |   |   |   |   |   |   |   |--- feature_7 <= 63.43\n",
      "|   |   |   |   |   |   |   |   |   |--- feature_37 <= 208.23\n",
      "|   |   |   |   |   |   |   |   |   |   |--- class: IPCam_Canary\n",
      "|   |   |   |   |   |   |   |   |   |--- feature_37 >  208.23\n",
      "|   |   |   |   |   |   |   |   |   |   |--- class: IPCam_V380\n",
      "|   |   |   |   |   |   |   |   |--- feature_7 >  63.43\n",
      "|   |   |   |   |   |   |   |   |   |--- class: IPCam_Canary\n",
      "|   |   |   |   |   |   |   |--- feature_4 >  10786.00\n",
      "|   |   |   |   |   |   |   |   |--- class: IPCam_V380\n",
      "|   |   |   |   |   |   |--- feature_27 >  41000000.00\n",
      "|   |   |   |   |   |   |   |--- feature_27 <= 60350000.00\n",
      "|   |   |   |   |   |   |   |   |--- class: IPCam_V380\n",
      "|   |   |   |   |   |   |   |--- feature_27 >  60350000.00\n",
      "|   |   |   |   |   |   |   |   |--- feature_20 <= 2520204.06\n",
      "|   |   |   |   |   |   |   |   |   |--- class: IPCam_Netatmo\n",
      "|   |   |   |   |   |   |   |   |--- feature_20 >  2520204.06\n",
      "|   |   |   |   |   |   |   |   |   |--- class: IPCam_V380\n",
      "|   |   |   |--- feature_52 >  6529.50\n",
      "|   |   |   |   |--- feature_33 <= 0.08\n",
      "|   |   |   |   |   |--- feature_15 <= 5547188.62\n",
      "|   |   |   |   |   |   |--- class: IPCam_D3D\n",
      "|   |   |   |   |   |--- feature_15 >  5547188.62\n",
      "|   |   |   |   |   |   |--- class: IPCam_V380\n",
      "|   |   |   |   |--- feature_33 >  0.08\n",
      "|   |   |   |   |   |--- feature_52 <= 7864.00\n",
      "|   |   |   |   |   |   |--- class: IPCam_Ezviz\n",
      "|   |   |   |   |   |--- feature_52 >  7864.00\n",
      "|   |   |   |   |   |   |--- feature_52 <= 10512.50\n",
      "|   |   |   |   |   |   |   |--- feature_14 <= 178.81\n",
      "|   |   |   |   |   |   |   |   |--- class: IPCam_V380\n",
      "|   |   |   |   |   |   |   |--- feature_14 >  178.81\n",
      "|   |   |   |   |   |   |   |   |--- class: IPCam_Canary\n",
      "|   |   |   |   |   |   |--- feature_52 >  10512.50\n",
      "|   |   |   |   |   |   |   |--- feature_17 <= 2497507.50\n",
      "|   |   |   |   |   |   |   |   |--- feature_22 <= 1000100.00\n",
      "|   |   |   |   |   |   |   |   |   |--- feature_17 <= 109941.50\n",
      "|   |   |   |   |   |   |   |   |   |   |--- class: IPCam_Ezviz\n",
      "|   |   |   |   |   |   |   |   |   |--- feature_17 >  109941.50\n",
      "|   |   |   |   |   |   |   |   |   |   |--- class: IPCam_V380\n",
      "|   |   |   |   |   |   |   |   |--- feature_22 >  1000100.00\n",
      "|   |   |   |   |   |   |   |   |   |--- class: IPCam_AlarmClock\n",
      "|   |   |   |   |   |   |   |--- feature_17 >  2497507.50\n",
      "|   |   |   |   |   |   |   |   |--- class: IPCam_Ezviz\n",
      "|   |   |--- feature_52 >  15077.50\n",
      "|   |   |   |--- feature_24 <= 1800.00\n",
      "|   |   |   |   |--- feature_25 <= 409.00\n",
      "|   |   |   |   |   |--- class: IPCam_V380\n",
      "|   |   |   |   |--- feature_25 >  409.00\n",
      "|   |   |   |   |   |--- class: IPCam_D3D\n",
      "|   |   |   |--- feature_24 >  1800.00\n",
      "|   |   |   |   |--- feature_14 <= 0.54\n",
      "|   |   |   |   |   |--- feature_19 <= 55750000.00\n",
      "|   |   |   |   |   |   |--- class: IPCam_Netatmo\n",
      "|   |   |   |   |   |--- feature_19 >  55750000.00\n",
      "|   |   |   |   |   |   |--- class: IPCam_Ezviz\n",
      "|   |   |   |   |--- feature_14 >  0.54\n",
      "|   |   |   |   |   |--- class: IPCam_V380\n",
      "|   |--- feature_34 >  1.00\n",
      "|   |   |--- feature_34 <= 8.50\n",
      "|   |   |   |--- feature_23 <= 275394.00\n",
      "|   |   |   |   |--- feature_4 <= 79740.00\n",
      "|   |   |   |   |   |--- feature_11 <= 49.00\n",
      "|   |   |   |   |   |   |--- feature_43 <= 0.50\n",
      "|   |   |   |   |   |   |   |--- class: IPCam_D3D\n",
      "|   |   |   |   |   |   |--- feature_43 >  0.50\n",
      "|   |   |   |   |   |   |   |--- class: IPCam_Ezviz\n",
      "|   |   |   |   |   |--- feature_11 >  49.00\n",
      "|   |   |   |   |   |   |--- class: IPCam_V380\n",
      "|   |   |   |   |--- feature_4 >  79740.00\n",
      "|   |   |   |   |   |--- class: IPCam_AlarmClock\n",
      "|   |   |   |--- feature_23 >  275394.00\n",
      "|   |   |   |   |--- feature_12 <= 1.51\n",
      "|   |   |   |   |   |--- class: IPCam_Ezviz\n",
      "|   |   |   |   |--- feature_12 >  1.51\n",
      "|   |   |   |   |   |--- class: IPCam_AlarmClock\n",
      "|   |   |--- feature_34 >  8.50\n",
      "|   |   |   |--- feature_8 <= 20.47\n",
      "|   |   |   |   |--- feature_5 <= 48.50\n",
      "|   |   |   |   |   |--- feature_5 <= 39.50\n",
      "|   |   |   |   |   |   |--- feature_46 <= 21.50\n",
      "|   |   |   |   |   |   |   |--- feature_33 <= 25.30\n",
      "|   |   |   |   |   |   |   |   |--- class: IPCam_V380\n",
      "|   |   |   |   |   |   |   |--- feature_33 >  25.30\n",
      "|   |   |   |   |   |   |   |   |--- feature_18 <= 32445.50\n",
      "|   |   |   |   |   |   |   |   |   |--- feature_12 <= 24.93\n",
      "|   |   |   |   |   |   |   |   |   |   |--- class: IPCam_V380\n",
      "|   |   |   |   |   |   |   |   |   |--- feature_12 >  24.93\n",
      "|   |   |   |   |   |   |   |   |   |   |--- class: IPCam_AlarmClock\n",
      "|   |   |   |   |   |   |   |   |--- feature_18 >  32445.50\n",
      "|   |   |   |   |   |   |   |   |   |--- class: IPCam_Ezviz\n",
      "|   |   |   |   |   |   |--- feature_46 >  21.50\n",
      "|   |   |   |   |   |   |   |--- feature_46 <= 27.50\n",
      "|   |   |   |   |   |   |   |   |--- class: IPCam_D3D\n",
      "|   |   |   |   |   |   |   |--- feature_46 >  27.50\n",
      "|   |   |   |   |   |   |   |   |--- feature_17 <= 901294.00\n",
      "|   |   |   |   |   |   |   |   |   |--- class: IPCam_V380\n",
      "|   |   |   |   |   |   |   |   |--- feature_17 >  901294.00\n",
      "|   |   |   |   |   |   |   |   |   |--- class: IPCam_Canary\n",
      "|   |   |   |   |   |--- feature_5 >  39.50\n",
      "|   |   |   |   |   |   |--- class: IPCam_AlarmClock\n",
      "|   |   |   |   |--- feature_5 >  48.50\n",
      "|   |   |   |   |   |--- feature_23 <= 4.00\n",
      "|   |   |   |   |   |   |--- feature_45 <= 765.75\n",
      "|   |   |   |   |   |   |   |--- feature_6 <= 56.50\n",
      "|   |   |   |   |   |   |   |   |--- class: IPCam_Ezviz\n",
      "|   |   |   |   |   |   |   |--- feature_6 >  56.50\n",
      "|   |   |   |   |   |   |   |   |--- class: IPCam_V380\n",
      "|   |   |   |   |   |   |--- feature_45 >  765.75\n",
      "|   |   |   |   |   |   |   |--- class: IPCam_Ezviz\n",
      "|   |   |   |   |   |--- feature_23 >  4.00\n",
      "|   |   |   |   |   |   |--- feature_14 <= 291.39\n",
      "|   |   |   |   |   |   |   |--- class: IPCam_Ezviz\n",
      "|   |   |   |   |   |   |--- feature_14 >  291.39\n",
      "|   |   |   |   |   |   |   |--- class: IPCam_AlarmClock\n",
      "|   |   |   |--- feature_8 >  20.47\n",
      "|   |   |   |   |--- feature_48 <= 264.50\n",
      "|   |   |   |   |   |--- feature_10 <= 14.00\n",
      "|   |   |   |   |   |   |--- class: IPCam_AlarmClock\n",
      "|   |   |   |   |   |--- feature_10 >  14.00\n",
      "|   |   |   |   |   |   |--- class: IPCam_V380\n",
      "|   |   |   |   |--- feature_48 >  264.50\n",
      "|   |   |   |   |   |--- feature_46 <= 722.58\n",
      "|   |   |   |   |   |   |--- class: IPCam_Ezviz\n",
      "|   |   |   |   |   |--- feature_46 >  722.58\n",
      "|   |   |   |   |   |   |--- class: IPCam_AlarmClock\n",
      "|--- feature_28 >  383595.00\n",
      "|   |--- feature_18 <= 1205.50\n",
      "|   |   |--- feature_35 <= 40.50\n",
      "|   |   |   |--- feature_61 <= 2964643.00\n",
      "|   |   |   |   |--- class: IPCam_V380\n",
      "|   |   |   |--- feature_61 >  2964643.00\n",
      "|   |   |   |   |--- class: IPCam_Canary\n",
      "|   |   |--- feature_35 >  40.50\n",
      "|   |   |   |--- feature_4 <= 262.00\n",
      "|   |   |   |   |--- feature_35 <= 88.50\n",
      "|   |   |   |   |   |--- class: IPCam_D3D\n",
      "|   |   |   |   |--- feature_35 >  88.50\n",
      "|   |   |   |   |   |--- class: IPCam_V380\n",
      "|   |   |   |--- feature_4 >  262.00\n",
      "|   |   |   |   |--- class: IPCam_Ezviz\n",
      "|   |--- feature_18 >  1205.50\n",
      "|   |   |--- feature_20 <= 18600000.00\n",
      "|   |   |   |--- feature_34 <= 88.00\n",
      "|   |   |   |   |--- feature_31 <= 28.00\n",
      "|   |   |   |   |   |--- feature_28 <= 1794268.50\n",
      "|   |   |   |   |   |   |--- class: IPCam_D3D\n",
      "|   |   |   |   |   |--- feature_28 >  1794268.50\n",
      "|   |   |   |   |   |   |--- class: IPCam_V380\n",
      "|   |   |   |   |--- feature_31 >  28.00\n",
      "|   |   |   |   |   |--- class: IPCam_V380\n",
      "|   |   |   |--- feature_34 >  88.00\n",
      "|   |   |   |   |--- class: IPCam_Ezviz\n",
      "|   |   |--- feature_20 >  18600000.00\n",
      "|   |   |   |--- feature_61 <= 31150000.00\n",
      "|   |   |   |   |--- feature_35 <= 54.00\n",
      "|   |   |   |   |   |--- class: IPCam_AlarmClock\n",
      "|   |   |   |   |--- feature_35 >  54.00\n",
      "|   |   |   |   |   |--- class: IPCam_Ezviz\n",
      "|   |   |   |--- feature_61 >  31150000.00\n",
      "|   |   |   |   |--- feature_5 <= 98.00\n",
      "|   |   |   |   |   |--- class: IPCam_D3D\n",
      "|   |   |   |   |--- feature_5 >  98.00\n",
      "|   |   |   |   |   |--- class: IPCam_V380\n",
      "\n"
     ]
    }
   ],
   "source": [
    "from sklearn.tree import export_text\n",
    "from sklearn import tree\n",
    "#r = export_text(decision_tree, feature_names=finalFtList)\n",
    "#print(r)\n",
    "text_representation = tree.export_text(clf)\n",
    "print(text_representation)"
   ]
  },
  {
   "cell_type": "code",
   "execution_count": 27,
   "metadata": {},
   "outputs": [
    {
     "name": "stdout",
     "output_type": "stream",
     "text": [
      "20\n"
     ]
    }
   ],
   "source": [
    "print(clf.tree_.max_depth)"
   ]
  },
  {
   "cell_type": "code",
   "execution_count": 28,
   "metadata": {},
   "outputs": [
    {
     "name": "stdout",
     "output_type": "stream",
     "text": [
      "[[ 129    0    4    0    0    2]\n",
      " [   0  129    0    0    4    4]\n",
      " [   0    0  573    0    0    3]\n",
      " [   0    0    0  847    0    4]\n",
      " [   1    2    0    1  292    3]\n",
      " [   0    2    2    3    6 1289]]\n",
      "\n",
      "\n",
      "Clock as Clock =  129  percent =  0.9555555555555556\n",
      "Clock as Ezviz =  0  percent =  0.0\n",
      "Clock as D3D =  4  percent =  0.02962962962962963\n",
      "Clock as Netatmo =  0  percent =  0.0\n",
      "Clock as Canary =  0  percent =  0.0\n",
      "Clock as Bulb =  2  percent =  0.014814814814814815\n",
      "\n",
      "\n",
      "Ezviz as Clock =  0  percent =  0.0\n",
      "Ezviz as Ezviz =  129  percent =  0.9416058394160584\n",
      "Ezviz as D3D = 0  percent =  0.0\n",
      "Ezviz as Netatmo =  0  percent =  0.0\n",
      "Ezviz as Canary =  4  percent =  0.029197080291970802\n",
      "Ezviz as Bulb =  4  percent =  0.029197080291970802\n",
      "\n",
      "\n",
      "D3D as Clock =  0  percent =  0.0\n",
      "D3D as Ezviz =  0  percent =  0.0\n",
      "D3D as D3D =  573  percent =  0.9947916666666666\n",
      "D3D as Netatmo =  0  percent =  0.0\n",
      "D3D as Canary =  0  percent =  0.0\n",
      "D3D as Bulb =  3  percent =  0.005208333333333333\n",
      "\n",
      "\n",
      "Netatmo as Clock =  0  percent =  0.0\n",
      "Netatmo as Ezviz =  0  percent =  0.0\n",
      "Netatmo as D3D =  0  percent =  0.0\n",
      "Netatmo as Netatmo =  847  percent =  0.9952996474735605\n",
      "Netatmo as Canary =  0  percent =  0.0\n",
      "Netatmo as Bulb =  4  percent =  0.004700352526439483\n",
      "\n",
      "\n",
      "Canary as Clock =  1  percent =  0.0033444816053511705\n",
      "Canary as Ezviz =  2  percent =  0.006688963210702341\n",
      "Canary as D3D =  0  percent =  0.0\n",
      "Canary as Netatmo =  1  percent =  0.0033444816053511705\n",
      "Canary as Canary =  292  percent =  0.9765886287625418\n",
      "Canary as Bulb =  3  percent =  0.010033444816053512\n",
      "\n",
      "\n",
      "Bulb as Clock =  0  percent =  0.0\n",
      "Bulb as Ezviz =  2  percent =  0.0015360983102918587\n",
      "Bulb as D3D =  2  percent =  0.0015360983102918587\n",
      "Bulb as Netatmo =  3  percent =  0.002304147465437788\n",
      "Bulb as Canary =  6  percent =  0.004608294930875576\n",
      "Bulb as Bulb =  1289  percent =  0.9900153609831029\n"
     ]
    }
   ],
   "source": [
    "conf_mat = metrics.confusion_matrix(Y_test, yhat,labels=uniqueLabels)\n",
    "#[i][j] ==> knwon to be in group i and predicted as group j\n",
    "print(conf_mat)\n",
    "print('\\n')\n",
    "print('Clock as Clock = ',conf_mat[0][0],' percent = ', (conf_mat[0][0]/(conf_mat[0][0]+conf_mat[0][1]+conf_mat[0][2]+conf_mat[0][3]+conf_mat[0][4]+conf_mat[0][5])))\n",
    "print('Clock as Ezviz = ',conf_mat[0][1],' percent = ', (conf_mat[0][1]/(conf_mat[0][0]+conf_mat[0][1]+conf_mat[0][2]+conf_mat[0][3]+conf_mat[0][4]+conf_mat[0][5])))\n",
    "print('Clock as D3D = ',conf_mat[0][2],' percent = ', (conf_mat[0][2]/(conf_mat[0][0]+conf_mat[0][1]+conf_mat[0][2]+conf_mat[0][3]+conf_mat[0][4]+conf_mat[0][5])))\n",
    "print('Clock as Netatmo = ',conf_mat[0][3],' percent = ', (conf_mat[0][3]/(conf_mat[0][0]+conf_mat[0][1]+conf_mat[0][2]+conf_mat[0][3]+conf_mat[0][4]+conf_mat[0][5])))\n",
    "print('Clock as Canary = ',conf_mat[0][4],' percent = ', (conf_mat[0][4]/(conf_mat[0][0]+conf_mat[0][1]+conf_mat[0][2]+conf_mat[0][3]+conf_mat[0][4]+conf_mat[0][5])))\n",
    "print('Clock as Bulb = ',conf_mat[0][5],' percent = ', (conf_mat[0][5]/(conf_mat[0][0]+conf_mat[0][1]+conf_mat[0][2]+conf_mat[0][3]+conf_mat[0][4]+conf_mat[0][5])))\n",
    "print('\\n')\n",
    "\n",
    "print('Ezviz as Clock = ',conf_mat[1][0],' percent = ', (conf_mat[1][0]/(conf_mat[1][0]+conf_mat[1][1]+conf_mat[1][2]+conf_mat[1][3]+conf_mat[1][4]+conf_mat[1][5])))\n",
    "print('Ezviz as Ezviz = ',conf_mat[1][1],' percent = ', (conf_mat[1][1]/(conf_mat[1][0]+conf_mat[1][1]+conf_mat[1][2]+conf_mat[1][3]+conf_mat[1][4]+conf_mat[1][5])))\n",
    "print('Ezviz as D3D =',conf_mat[1][2],' percent = ', (conf_mat[1][2]/(conf_mat[1][0]+conf_mat[1][1]+conf_mat[1][2]+conf_mat[1][3]+conf_mat[1][4]+conf_mat[1][5])))\n",
    "print('Ezviz as Netatmo = ',conf_mat[1][3],' percent = ', (conf_mat[1][3]/(conf_mat[1][0]+conf_mat[1][1]+conf_mat[1][2]+conf_mat[1][3]+conf_mat[1][4]+conf_mat[1][5])))\n",
    "print('Ezviz as Canary = ',conf_mat[1][4],' percent = ', (conf_mat[1][4]/(conf_mat[1][0]+conf_mat[1][1]+conf_mat[1][2]+conf_mat[1][3]+conf_mat[1][4]+conf_mat[1][5])))\n",
    "print('Ezviz as Bulb = ',conf_mat[1][5],' percent = ', (conf_mat[1][5]/(conf_mat[1][0]+conf_mat[1][1]+conf_mat[1][2]+conf_mat[1][3]+conf_mat[1][4]+conf_mat[1][5])))\n",
    "print('\\n')\n",
    "\n",
    "print('D3D as Clock = ',conf_mat[2][0],' percent = ', (conf_mat[2][0]/(conf_mat[2][0]+conf_mat[2][1]+conf_mat[2][2]+conf_mat[2][3]+conf_mat[2][4]+conf_mat[2][5])))\n",
    "print('D3D as Ezviz = ',conf_mat[2][1],' percent = ', (conf_mat[2][1]/(conf_mat[2][0]+conf_mat[2][1]+conf_mat[2][2]+conf_mat[2][3]+conf_mat[2][4]+conf_mat[2][5])))\n",
    "print('D3D as D3D = ',conf_mat[2][2],' percent = ', (conf_mat[2][2]/(conf_mat[2][0]+conf_mat[2][1]+conf_mat[2][2]+conf_mat[2][3]+conf_mat[2][4]+conf_mat[2][5])))\n",
    "print('D3D as Netatmo = ',conf_mat[2][3],' percent = ', (conf_mat[2][3]/(conf_mat[2][0]+conf_mat[2][1]+conf_mat[2][2]+conf_mat[2][3]+conf_mat[2][4]+conf_mat[2][5])))\n",
    "print('D3D as Canary = ',conf_mat[2][4],' percent = ', (conf_mat[2][4]/(conf_mat[2][0]+conf_mat[2][1]+conf_mat[2][2]+conf_mat[2][3]+conf_mat[2][4]+conf_mat[2][5])))\n",
    "print('D3D as Bulb = ',conf_mat[2][5],' percent = ', (conf_mat[2][5]/(conf_mat[2][0]+conf_mat[2][1]+conf_mat[2][2]+conf_mat[2][3]+conf_mat[2][4]+conf_mat[2][5])))\n",
    "print('\\n')\n",
    "\n",
    "print('Netatmo as Clock = ',conf_mat[3][0],' percent = ', (conf_mat[3][0]/(conf_mat[3][0]+conf_mat[3][1]+conf_mat[3][2]+conf_mat[3][3]+conf_mat[3][4]+conf_mat[3][5])))\n",
    "print('Netatmo as Ezviz = ',conf_mat[3][1],' percent = ', (conf_mat[3][1]/(conf_mat[3][0]+conf_mat[3][1]+conf_mat[3][2]+conf_mat[3][3]+conf_mat[3][4]+conf_mat[3][5])))\n",
    "print('Netatmo as D3D = ',conf_mat[3][2],' percent = ', (conf_mat[3][2]/(conf_mat[3][0]+conf_mat[3][1]+conf_mat[3][2]+conf_mat[3][3]+conf_mat[3][4]+conf_mat[3][5])))\n",
    "print('Netatmo as Netatmo = ',conf_mat[3][3],' percent = ', (conf_mat[3][3]/(conf_mat[3][0]+conf_mat[3][1]+conf_mat[3][2]+conf_mat[3][3]+conf_mat[3][4]+conf_mat[3][5])))\n",
    "print('Netatmo as Canary = ',conf_mat[3][4],' percent = ', (conf_mat[3][4]/(conf_mat[3][0]+conf_mat[3][1]+conf_mat[3][2]+conf_mat[3][3]+conf_mat[3][4]+conf_mat[3][5])))\n",
    "print('Netatmo as Bulb = ',conf_mat[3][5],' percent = ', (conf_mat[3][5]/(conf_mat[3][0]+conf_mat[3][1]+conf_mat[3][2]+conf_mat[3][3]+conf_mat[3][4]+conf_mat[3][5])))\n",
    "print('\\n')\n",
    "\n",
    "print('Canary as Clock = ',conf_mat[4][0],' percent = ', (conf_mat[4][0]/(conf_mat[4][0]+conf_mat[4][1]+conf_mat[4][2]+conf_mat[4][3]+conf_mat[4][4]+conf_mat[4][5])))\n",
    "print('Canary as Ezviz = ',conf_mat[4][1],' percent = ', (conf_mat[4][1]/(conf_mat[4][0]+conf_mat[4][1]+conf_mat[4][2]+conf_mat[4][3]+conf_mat[4][4]+conf_mat[4][5])))\n",
    "print('Canary as D3D = ',conf_mat[4][2],' percent = ', (conf_mat[4][2]/(conf_mat[4][0]+conf_mat[4][1]+conf_mat[4][2]+conf_mat[4][3]+conf_mat[4][4]+conf_mat[4][5])))\n",
    "print('Canary as Netatmo = ',conf_mat[4][3],' percent = ', (conf_mat[4][3]/(conf_mat[4][0]+conf_mat[4][1]+conf_mat[4][2]+conf_mat[4][3]+conf_mat[4][4]+conf_mat[4][5])))\n",
    "print('Canary as Canary = ',conf_mat[4][4],' percent = ', (conf_mat[4][4]/(conf_mat[4][0]+conf_mat[4][1]+conf_mat[4][2]+conf_mat[4][3]+conf_mat[4][4]+conf_mat[4][5])))\n",
    "print('Canary as Bulb = ',conf_mat[4][5],' percent = ', (conf_mat[4][5]/(conf_mat[4][0]+conf_mat[4][1]+conf_mat[4][2]+conf_mat[4][3]+conf_mat[4][4]+conf_mat[4][5])))\n",
    "print('\\n')\n",
    "\n",
    "print('Bulb as Clock = ',conf_mat[5][0],' percent = ', (conf_mat[5][0]/(conf_mat[5][0]+conf_mat[5][1]+conf_mat[5][2]+conf_mat[5][3]+conf_mat[5][4]+conf_mat[5][5])))\n",
    "print('Bulb as Ezviz = ',conf_mat[5][1],' percent = ', (conf_mat[5][1]/(conf_mat[5][0]+conf_mat[5][1]+conf_mat[5][2]+conf_mat[5][3]+conf_mat[5][4]+conf_mat[5][5])))\n",
    "print('Bulb as D3D = ',conf_mat[5][2],' percent = ', (conf_mat[5][2]/(conf_mat[5][0]+conf_mat[5][1]+conf_mat[5][2]+conf_mat[5][3]+conf_mat[5][4]+conf_mat[5][5])))\n",
    "print('Bulb as Netatmo = ',conf_mat[5][3],' percent = ', (conf_mat[5][3]/(conf_mat[5][0]+conf_mat[5][1]+conf_mat[5][2]+conf_mat[5][3]+conf_mat[5][4]+conf_mat[5][5])))\n",
    "print('Bulb as Canary = ',conf_mat[5][4],' percent = ', (conf_mat[5][4]/(conf_mat[5][0]+conf_mat[5][1]+conf_mat[5][2]+conf_mat[5][3]+conf_mat[5][4]+conf_mat[5][5])))\n",
    "print('Bulb as Bulb = ',conf_mat[5][5],' percent = ', (conf_mat[5][5]/(conf_mat[5][0]+conf_mat[5][1]+conf_mat[5][2]+conf_mat[5][3]+conf_mat[5][4]+conf_mat[5][5])))"
   ]
  },
  {
   "cell_type": "code",
   "execution_count": 29,
   "metadata": {},
   "outputs": [
    {
     "name": "stdout",
     "output_type": "stream",
     "text": [
      "XNew.shape (10000, 10)\n"
     ]
    }
   ],
   "source": [
    "# feature selection using ANNOVA F-score\n",
    "topKval = 10\n",
    "FS = SelectKBest(score_func=f_classif, k=topKval)\n",
    "#print(type(FS))\n",
    "# learn relationship from training data\n",
    "FS.fit(X, Y)\n",
    "# transform train input data\n",
    "XNew = FS.transform(X)\n",
    "# transform test input data\n",
    "print('XNew.shape', XNew.shape)\n",
    "#print('XNew', XNew)"
   ]
  },
  {
   "cell_type": "code",
   "execution_count": 30,
   "metadata": {},
   "outputs": [
    {
     "name": "stdout",
     "output_type": "stream",
     "text": [
      "features df shape:  (10, 2)   \n",
      "features df top 10 rows: \n",
      "         Feat_names    F_Scores\n",
      "3      Fwd IAT Std  590.823683\n",
      "6      Bwd IAT Min  386.068942\n",
      "4      Fwd IAT Max  314.423702\n",
      "1  Bwd Pkt Len Max  293.823047\n",
      "5      Bwd IAT Tot  285.756278\n",
      "0    Flow Duration  269.311562\n",
      "7      Pkt Len Var  257.121608\n",
      "2     Flow IAT Std  254.182461\n",
      "8     ACK Flag Cnt  251.799263\n",
      "9         Idle Min  250.050055\n"
     ]
    }
   ],
   "source": [
    "#find selected features\n",
    "namesFilter = FS.get_support()\n",
    "features =  np.array(finalFtList)\n",
    "names = list()#features[0:-1]\n",
    "scores = list()\n",
    "for fi in range(xCount-1):\n",
    "    if (fi < xCount-1) and (FS.get_support()[fi]) and (not np.isnan(FS.scores_[fi])):\n",
    "        #print('i = ', fi, ' ftName: ', ftList[fi], ' FS.support_: ', FS.get_support()[fi], ' FS.scores: = ', FS.scores_[fi])\n",
    "        scores.append(FS.scores_[fi])\n",
    "        names.append(features[fi])\n",
    "names_scores = list(zip(names, scores))\n",
    "ns_df = pd.DataFrame(data = names_scores, columns=['Feat_names', 'F_Scores'])\n",
    "#print(ns_df)\n",
    "#Sort the dataframe for better visualization\n",
    "ns_df_sorted = ns_df.sort_values(['F_Scores', 'Feat_names'], ascending = [False, True])\n",
    "print('features df shape: ', ns_df_sorted.shape, '  \\nfeatures df top 10 rows: \\n', ns_df_sorted.head(topKval))\n",
    "#restFtList = list()\n",
    "#for ft in finalFtList:\n",
    "#    if ft not in names:\n",
    "#        restFtList.append(ft)\n",
    "#    else:\n",
    "#        print(ft)"
   ]
  },
  {
   "cell_type": "code",
   "execution_count": 31,
   "metadata": {},
   "outputs": [
    {
     "name": "stdout",
     "output_type": "stream",
     "text": [
      "classification with top 10 selected features:\n",
      "[0.928 0.94  0.863 0.918 0.964 0.92  0.906 0.93  0.87  0.914]\n",
      "mean score:  0.9152999999999999 min score:  0.863 max score:  0.964  std score:  0.028747347703744774\n"
     ]
    }
   ],
   "source": [
    "print('classification with top 10 selected features:')\n",
    "scores = cross_val_score(clf, XNew, Y, cv=10)\n",
    "print(scores)\n",
    "print('mean score: ', scores.mean(), 'min score: ', scores.min(), 'max score: ', scores.max(), ' std score: ', scores.std())"
   ]
  },
  {
   "cell_type": "code",
   "execution_count": 32,
   "metadata": {},
   "outputs": [],
   "source": [
    "#performance with to k  features using decision tree\n",
    "X_train, X_test, Y_train, Y_test = train_test_split(XNew, Y, test_size=0.33, random_state=1)\n",
    "model = DecisionTreeClassifier(random_state=0)\n",
    "clf1 = model.fit(X_train,Y_train)\n",
    "ypred = model.predict(X_test)"
   ]
  },
  {
   "cell_type": "code",
   "execution_count": 33,
   "metadata": {},
   "outputs": [
    {
     "name": "stdout",
     "output_type": "stream",
     "text": [
      "|--- feature_6 <= 383595.00\n",
      "|   |--- feature_3 <= 33350000.00\n",
      "|   |   |--- feature_4 <= 24600000.00\n",
      "|   |   |   |--- feature_1 <= 1452.00\n",
      "|   |   |   |   |--- feature_2 <= 17606.23\n",
      "|   |   |   |   |   |--- feature_6 <= 764.00\n",
      "|   |   |   |   |   |   |--- feature_0 <= 1069.00\n",
      "|   |   |   |   |   |   |   |--- feature_1 <= 2.00\n",
      "|   |   |   |   |   |   |   |   |--- feature_0 <= 266.50\n",
      "|   |   |   |   |   |   |   |   |   |--- feature_2 <= 1.06\n",
      "|   |   |   |   |   |   |   |   |   |   |--- feature_6 <= 29.00\n",
      "|   |   |   |   |   |   |   |   |   |   |   |--- truncated branch of depth 19\n",
      "|   |   |   |   |   |   |   |   |   |   |--- feature_6 >  29.00\n",
      "|   |   |   |   |   |   |   |   |   |   |   |--- truncated branch of depth 4\n",
      "|   |   |   |   |   |   |   |   |   |--- feature_2 >  1.06\n",
      "|   |   |   |   |   |   |   |   |   |   |--- feature_4 <= 22.00\n",
      "|   |   |   |   |   |   |   |   |   |   |   |--- truncated branch of depth 2\n",
      "|   |   |   |   |   |   |   |   |   |   |--- feature_4 >  22.00\n",
      "|   |   |   |   |   |   |   |   |   |   |   |--- class: IPCam_Netatmo\n",
      "|   |   |   |   |   |   |   |   |--- feature_0 >  266.50\n",
      "|   |   |   |   |   |   |   |   |   |--- feature_8 <= 0.50\n",
      "|   |   |   |   |   |   |   |   |   |   |--- feature_6 <= 274.00\n",
      "|   |   |   |   |   |   |   |   |   |   |   |--- class: IPCam_V380\n",
      "|   |   |   |   |   |   |   |   |   |   |--- feature_6 >  274.00\n",
      "|   |   |   |   |   |   |   |   |   |   |   |--- class: IPCam_Ezviz\n",
      "|   |   |   |   |   |   |   |   |   |--- feature_8 >  0.50\n",
      "|   |   |   |   |   |   |   |   |   |   |--- feature_6 <= 145.50\n",
      "|   |   |   |   |   |   |   |   |   |   |   |--- truncated branch of depth 19\n",
      "|   |   |   |   |   |   |   |   |   |   |--- feature_6 >  145.50\n",
      "|   |   |   |   |   |   |   |   |   |   |   |--- truncated branch of depth 2\n",
      "|   |   |   |   |   |   |   |--- feature_1 >  2.00\n",
      "|   |   |   |   |   |   |   |   |--- feature_1 <= 25.50\n",
      "|   |   |   |   |   |   |   |   |   |--- class: IPCam_D3D\n",
      "|   |   |   |   |   |   |   |   |--- feature_1 >  25.50\n",
      "|   |   |   |   |   |   |   |   |   |--- feature_1 <= 510.50\n",
      "|   |   |   |   |   |   |   |   |   |   |--- feature_7 <= 388.33\n",
      "|   |   |   |   |   |   |   |   |   |   |   |--- truncated branch of depth 3\n",
      "|   |   |   |   |   |   |   |   |   |   |--- feature_7 >  388.33\n",
      "|   |   |   |   |   |   |   |   |   |   |   |--- class: IPCam_Netatmo\n",
      "|   |   |   |   |   |   |   |   |   |--- feature_1 >  510.50\n",
      "|   |   |   |   |   |   |   |   |   |   |--- class: IPCam_Ezviz\n",
      "|   |   |   |   |   |   |--- feature_0 >  1069.00\n",
      "|   |   |   |   |   |   |   |--- feature_7 <= 448521.58\n",
      "|   |   |   |   |   |   |   |   |--- feature_1 <= 1424.00\n",
      "|   |   |   |   |   |   |   |   |   |--- feature_0 <= 12104.00\n",
      "|   |   |   |   |   |   |   |   |   |   |--- feature_8 <= 0.50\n",
      "|   |   |   |   |   |   |   |   |   |   |   |--- truncated branch of depth 3\n",
      "|   |   |   |   |   |   |   |   |   |   |--- feature_8 >  0.50\n",
      "|   |   |   |   |   |   |   |   |   |   |   |--- truncated branch of depth 15\n",
      "|   |   |   |   |   |   |   |   |   |--- feature_0 >  12104.00\n",
      "|   |   |   |   |   |   |   |   |   |   |--- feature_5 <= 438006.00\n",
      "|   |   |   |   |   |   |   |   |   |   |   |--- truncated branch of depth 16\n",
      "|   |   |   |   |   |   |   |   |   |   |--- feature_5 >  438006.00\n",
      "|   |   |   |   |   |   |   |   |   |   |   |--- truncated branch of depth 6\n",
      "|   |   |   |   |   |   |   |   |--- feature_1 >  1424.00\n",
      "|   |   |   |   |   |   |   |   |   |--- feature_1 <= 1439.00\n",
      "|   |   |   |   |   |   |   |   |   |   |--- class: IPCam_Ezviz\n",
      "|   |   |   |   |   |   |   |   |   |--- feature_1 >  1439.00\n",
      "|   |   |   |   |   |   |   |   |   |   |--- class: IPCam_V380\n",
      "|   |   |   |   |   |   |   |--- feature_7 >  448521.58\n",
      "|   |   |   |   |   |   |   |   |--- feature_0 <= 64984.00\n",
      "|   |   |   |   |   |   |   |   |   |--- class: IPCam_V380\n",
      "|   |   |   |   |   |   |   |   |--- feature_0 >  64984.00\n",
      "|   |   |   |   |   |   |   |   |   |--- class: IPCam_Ezviz\n",
      "|   |   |   |   |   |--- feature_6 >  764.00\n",
      "|   |   |   |   |   |   |--- feature_8 <= 0.50\n",
      "|   |   |   |   |   |   |   |--- feature_1 <= 40.00\n",
      "|   |   |   |   |   |   |   |   |--- feature_1 <= 18.00\n",
      "|   |   |   |   |   |   |   |   |   |--- feature_5 <= 8504.50\n",
      "|   |   |   |   |   |   |   |   |   |   |--- feature_2 <= 207.18\n",
      "|   |   |   |   |   |   |   |   |   |   |   |--- truncated branch of depth 3\n",
      "|   |   |   |   |   |   |   |   |   |   |--- feature_2 >  207.18\n",
      "|   |   |   |   |   |   |   |   |   |   |   |--- class: IPCam_D3D\n",
      "|   |   |   |   |   |   |   |   |   |--- feature_5 >  8504.50\n",
      "|   |   |   |   |   |   |   |   |   |   |--- class: IPCam_V380\n",
      "|   |   |   |   |   |   |   |   |--- feature_1 >  18.00\n",
      "|   |   |   |   |   |   |   |   |   |--- class: IPCam_D3D\n",
      "|   |   |   |   |   |   |   |--- feature_1 >  40.00\n",
      "|   |   |   |   |   |   |   |   |--- feature_5 <= 70625.00\n",
      "|   |   |   |   |   |   |   |   |   |--- feature_7 <= 182884.00\n",
      "|   |   |   |   |   |   |   |   |   |   |--- class: IPCam_Ezviz\n",
      "|   |   |   |   |   |   |   |   |   |--- feature_7 >  182884.00\n",
      "|   |   |   |   |   |   |   |   |   |   |--- class: IPCam_V380\n",
      "|   |   |   |   |   |   |   |   |--- feature_5 >  70625.00\n",
      "|   |   |   |   |   |   |   |   |   |--- class: IPCam_V380\n",
      "|   |   |   |   |   |   |--- feature_8 >  0.50\n",
      "|   |   |   |   |   |   |   |--- feature_5 <= 1063.50\n",
      "|   |   |   |   |   |   |   |   |--- feature_5 <= 1009.50\n",
      "|   |   |   |   |   |   |   |   |   |--- class: IPCam_AlarmClock\n",
      "|   |   |   |   |   |   |   |   |--- feature_5 >  1009.50\n",
      "|   |   |   |   |   |   |   |   |   |--- feature_0 <= 1012.00\n",
      "|   |   |   |   |   |   |   |   |   |   |--- class: IPCam_Netatmo\n",
      "|   |   |   |   |   |   |   |   |   |--- feature_0 >  1012.00\n",
      "|   |   |   |   |   |   |   |   |   |   |--- class: IPCam_AlarmClock\n",
      "|   |   |   |   |   |   |   |--- feature_5 >  1063.50\n",
      "|   |   |   |   |   |   |   |   |--- feature_0 <= 2085.00\n",
      "|   |   |   |   |   |   |   |   |   |--- feature_6 <= 1245.50\n",
      "|   |   |   |   |   |   |   |   |   |   |--- feature_0 <= 1105.50\n",
      "|   |   |   |   |   |   |   |   |   |   |   |--- truncated branch of depth 3\n",
      "|   |   |   |   |   |   |   |   |   |   |--- feature_0 >  1105.50\n",
      "|   |   |   |   |   |   |   |   |   |   |   |--- truncated branch of depth 10\n",
      "|   |   |   |   |   |   |   |   |   |--- feature_6 >  1245.50\n",
      "|   |   |   |   |   |   |   |   |   |   |--- feature_6 <= 1296.00\n",
      "|   |   |   |   |   |   |   |   |   |   |   |--- truncated branch of depth 5\n",
      "|   |   |   |   |   |   |   |   |   |   |--- feature_6 >  1296.00\n",
      "|   |   |   |   |   |   |   |   |   |   |   |--- truncated branch of depth 24\n",
      "|   |   |   |   |   |   |   |   |--- feature_0 >  2085.00\n",
      "|   |   |   |   |   |   |   |   |   |--- feature_6 <= 48509.50\n",
      "|   |   |   |   |   |   |   |   |   |   |--- feature_6 <= 3879.50\n",
      "|   |   |   |   |   |   |   |   |   |   |   |--- truncated branch of depth 10\n",
      "|   |   |   |   |   |   |   |   |   |   |--- feature_6 >  3879.50\n",
      "|   |   |   |   |   |   |   |   |   |   |   |--- truncated branch of depth 15\n",
      "|   |   |   |   |   |   |   |   |   |--- feature_6 >  48509.50\n",
      "|   |   |   |   |   |   |   |   |   |   |--- feature_0 <= 297493.00\n",
      "|   |   |   |   |   |   |   |   |   |   |   |--- class: IPCam_V380\n",
      "|   |   |   |   |   |   |   |   |   |   |--- feature_0 >  297493.00\n",
      "|   |   |   |   |   |   |   |   |   |   |   |--- truncated branch of depth 2\n",
      "|   |   |   |   |--- feature_2 >  17606.23\n",
      "|   |   |   |   |   |--- feature_8 <= 0.50\n",
      "|   |   |   |   |   |   |--- feature_3 <= 27791.78\n",
      "|   |   |   |   |   |   |   |--- feature_7 <= 388673.55\n",
      "|   |   |   |   |   |   |   |   |--- feature_1 <= 4.00\n",
      "|   |   |   |   |   |   |   |   |   |--- feature_6 <= 2369.00\n",
      "|   |   |   |   |   |   |   |   |   |   |--- feature_6 <= 413.00\n",
      "|   |   |   |   |   |   |   |   |   |   |   |--- truncated branch of depth 2\n",
      "|   |   |   |   |   |   |   |   |   |   |--- feature_6 >  413.00\n",
      "|   |   |   |   |   |   |   |   |   |   |   |--- truncated branch of depth 4\n",
      "|   |   |   |   |   |   |   |   |   |--- feature_6 >  2369.00\n",
      "|   |   |   |   |   |   |   |   |   |   |--- class: IPCam_V380\n",
      "|   |   |   |   |   |   |   |   |--- feature_1 >  4.00\n",
      "|   |   |   |   |   |   |   |   |   |--- feature_1 <= 62.00\n",
      "|   |   |   |   |   |   |   |   |   |   |--- feature_6 <= 106305.00\n",
      "|   |   |   |   |   |   |   |   |   |   |   |--- class: IPCam_D3D\n",
      "|   |   |   |   |   |   |   |   |   |   |--- feature_6 >  106305.00\n",
      "|   |   |   |   |   |   |   |   |   |   |   |--- truncated branch of depth 2\n",
      "|   |   |   |   |   |   |   |   |   |--- feature_1 >  62.00\n",
      "|   |   |   |   |   |   |   |   |   |   |--- feature_5 <= 64200000.00\n",
      "|   |   |   |   |   |   |   |   |   |   |   |--- truncated branch of depth 3\n",
      "|   |   |   |   |   |   |   |   |   |   |--- feature_5 >  64200000.00\n",
      "|   |   |   |   |   |   |   |   |   |   |   |--- truncated branch of depth 5\n",
      "|   |   |   |   |   |   |   |--- feature_7 >  388673.55\n",
      "|   |   |   |   |   |   |   |   |--- feature_3 <= 23422.68\n",
      "|   |   |   |   |   |   |   |   |   |--- class: IPCam_Ezviz\n",
      "|   |   |   |   |   |   |   |   |--- feature_3 >  23422.68\n",
      "|   |   |   |   |   |   |   |   |   |--- class: IPCam_V380\n",
      "|   |   |   |   |   |   |--- feature_3 >  27791.78\n",
      "|   |   |   |   |   |   |   |--- feature_7 <= 451.93\n",
      "|   |   |   |   |   |   |   |   |--- feature_1 <= 66.50\n",
      "|   |   |   |   |   |   |   |   |   |--- feature_0 <= 1817822.00\n",
      "|   |   |   |   |   |   |   |   |   |   |--- feature_2 <= 73565.98\n",
      "|   |   |   |   |   |   |   |   |   |   |   |--- truncated branch of depth 5\n",
      "|   |   |   |   |   |   |   |   |   |   |--- feature_2 >  73565.98\n",
      "|   |   |   |   |   |   |   |   |   |   |   |--- truncated branch of depth 5\n",
      "|   |   |   |   |   |   |   |   |   |--- feature_0 >  1817822.00\n",
      "|   |   |   |   |   |   |   |   |   |   |--- feature_1 <= 21.50\n",
      "|   |   |   |   |   |   |   |   |   |   |   |--- truncated branch of depth 5\n",
      "|   |   |   |   |   |   |   |   |   |   |--- feature_1 >  21.50\n",
      "|   |   |   |   |   |   |   |   |   |   |   |--- class: IPCam_D3D\n",
      "|   |   |   |   |   |   |   |   |--- feature_1 >  66.50\n",
      "|   |   |   |   |   |   |   |   |   |--- class: IPCam_Ezviz\n",
      "|   |   |   |   |   |   |   |--- feature_7 >  451.93\n",
      "|   |   |   |   |   |   |   |   |--- feature_0 <= 119734660.00\n",
      "|   |   |   |   |   |   |   |   |   |--- feature_2 <= 5549009.75\n",
      "|   |   |   |   |   |   |   |   |   |   |--- feature_2 <= 28811.41\n",
      "|   |   |   |   |   |   |   |   |   |   |   |--- truncated branch of depth 3\n",
      "|   |   |   |   |   |   |   |   |   |   |--- feature_2 >  28811.41\n",
      "|   |   |   |   |   |   |   |   |   |   |   |--- truncated branch of depth 5\n",
      "|   |   |   |   |   |   |   |   |   |--- feature_2 >  5549009.75\n",
      "|   |   |   |   |   |   |   |   |   |   |--- feature_5 <= 23350000.00\n",
      "|   |   |   |   |   |   |   |   |   |   |   |--- class: IPCam_D3D\n",
      "|   |   |   |   |   |   |   |   |   |   |--- feature_5 >  23350000.00\n",
      "|   |   |   |   |   |   |   |   |   |   |   |--- truncated branch of depth 2\n",
      "|   |   |   |   |   |   |   |   |--- feature_0 >  119734660.00\n",
      "|   |   |   |   |   |   |   |   |   |--- feature_6 <= 29.50\n",
      "|   |   |   |   |   |   |   |   |   |   |--- feature_3 <= 36769.12\n",
      "|   |   |   |   |   |   |   |   |   |   |   |--- truncated branch of depth 2\n",
      "|   |   |   |   |   |   |   |   |   |   |--- feature_3 >  36769.12\n",
      "|   |   |   |   |   |   |   |   |   |   |   |--- class: IPCam_V380\n",
      "|   |   |   |   |   |   |   |   |   |--- feature_6 >  29.50\n",
      "|   |   |   |   |   |   |   |   |   |   |--- class: IPCam_D3D\n",
      "|   |   |   |   |   |--- feature_8 >  0.50\n",
      "|   |   |   |   |   |   |--- feature_4 <= 14100000.00\n",
      "|   |   |   |   |   |   |   |--- feature_6 <= 6.00\n",
      "|   |   |   |   |   |   |   |   |--- feature_4 <= 4308.50\n",
      "|   |   |   |   |   |   |   |   |   |--- feature_0 <= 44299676.00\n",
      "|   |   |   |   |   |   |   |   |   |   |--- feature_2 <= 7686297.56\n",
      "|   |   |   |   |   |   |   |   |   |   |   |--- truncated branch of depth 2\n",
      "|   |   |   |   |   |   |   |   |   |   |--- feature_2 >  7686297.56\n",
      "|   |   |   |   |   |   |   |   |   |   |   |--- class: IPCam_Canary\n",
      "|   |   |   |   |   |   |   |   |   |--- feature_0 >  44299676.00\n",
      "|   |   |   |   |   |   |   |   |   |   |--- class: IPCam_V380\n",
      "|   |   |   |   |   |   |   |   |--- feature_4 >  4308.50\n",
      "|   |   |   |   |   |   |   |   |   |--- class: IPCam_V380\n",
      "|   |   |   |   |   |   |   |--- feature_6 >  6.00\n",
      "|   |   |   |   |   |   |   |   |--- feature_0 <= 29181.50\n",
      "|   |   |   |   |   |   |   |   |   |--- class: IPCam_Netatmo\n",
      "|   |   |   |   |   |   |   |   |--- feature_0 >  29181.50\n",
      "|   |   |   |   |   |   |   |   |   |--- feature_4 <= 1764.00\n",
      "|   |   |   |   |   |   |   |   |   |   |--- feature_9 <= 10800000.00\n",
      "|   |   |   |   |   |   |   |   |   |   |   |--- truncated branch of depth 4\n",
      "|   |   |   |   |   |   |   |   |   |   |--- feature_9 >  10800000.00\n",
      "|   |   |   |   |   |   |   |   |   |   |   |--- class: IPCam_Canary\n",
      "|   |   |   |   |   |   |   |   |   |--- feature_4 >  1764.00\n",
      "|   |   |   |   |   |   |   |   |   |   |--- feature_1 <= 570.50\n",
      "|   |   |   |   |   |   |   |   |   |   |   |--- truncated branch of depth 3\n",
      "|   |   |   |   |   |   |   |   |   |   |--- feature_1 >  570.50\n",
      "|   |   |   |   |   |   |   |   |   |   |   |--- truncated branch of depth 4\n",
      "|   |   |   |   |   |   |--- feature_4 >  14100000.00\n",
      "|   |   |   |   |   |   |   |--- feature_9 <= 15200000.00\n",
      "|   |   |   |   |   |   |   |   |--- feature_2 <= 5256547.50\n",
      "|   |   |   |   |   |   |   |   |   |--- class: IPCam_Ezviz\n",
      "|   |   |   |   |   |   |   |   |--- feature_2 >  5256547.50\n",
      "|   |   |   |   |   |   |   |   |   |--- feature_4 <= 14850000.00\n",
      "|   |   |   |   |   |   |   |   |   |   |--- class: IPCam_Netatmo\n",
      "|   |   |   |   |   |   |   |   |   |--- feature_4 >  14850000.00\n",
      "|   |   |   |   |   |   |   |   |   |   |--- class: IPCam_Canary\n",
      "|   |   |   |   |   |   |   |--- feature_9 >  15200000.00\n",
      "|   |   |   |   |   |   |   |   |--- class: IPCam_V380\n",
      "|   |   |   |--- feature_1 >  1452.00\n",
      "|   |   |   |   |--- feature_1 <= 1458.00\n",
      "|   |   |   |   |   |--- class: IPCam_Netatmo\n",
      "|   |   |   |   |--- feature_1 >  1458.00\n",
      "|   |   |   |   |   |--- feature_7 <= 300538.39\n",
      "|   |   |   |   |   |   |--- feature_5 <= 71300000.00\n",
      "|   |   |   |   |   |   |   |--- class: IPCam_V380\n",
      "|   |   |   |   |   |   |--- feature_5 >  71300000.00\n",
      "|   |   |   |   |   |   |   |--- class: IPCam_Canary\n",
      "|   |   |   |   |   |--- feature_7 >  300538.39\n",
      "|   |   |   |   |   |   |--- feature_6 <= 154.00\n",
      "|   |   |   |   |   |   |   |--- feature_7 <= 472956.08\n",
      "|   |   |   |   |   |   |   |   |--- class: IPCam_Canary\n",
      "|   |   |   |   |   |   |   |--- feature_7 >  472956.08\n",
      "|   |   |   |   |   |   |   |   |--- feature_4 <= 282467.00\n",
      "|   |   |   |   |   |   |   |   |   |--- class: IPCam_Canary\n",
      "|   |   |   |   |   |   |   |   |--- feature_4 >  282467.00\n",
      "|   |   |   |   |   |   |   |   |   |--- class: IPCam_V380\n",
      "|   |   |   |   |   |   |--- feature_6 >  154.00\n",
      "|   |   |   |   |   |   |   |--- class: IPCam_V380\n",
      "|   |   |--- feature_4 >  24600000.00\n",
      "|   |   |   |--- feature_4 <= 30050000.00\n",
      "|   |   |   |   |--- feature_0 <= 119406444.00\n",
      "|   |   |   |   |   |--- feature_2 <= 14800000.00\n",
      "|   |   |   |   |   |   |--- feature_7 <= 54553.60\n",
      "|   |   |   |   |   |   |   |--- feature_0 <= 39406624.00\n",
      "|   |   |   |   |   |   |   |   |--- class: IPCam_V380\n",
      "|   |   |   |   |   |   |   |--- feature_0 >  39406624.00\n",
      "|   |   |   |   |   |   |   |   |--- feature_6 <= 1810.50\n",
      "|   |   |   |   |   |   |   |   |   |--- feature_2 <= 11550000.00\n",
      "|   |   |   |   |   |   |   |   |   |   |--- class: IPCam_Ezviz\n",
      "|   |   |   |   |   |   |   |   |   |--- feature_2 >  11550000.00\n",
      "|   |   |   |   |   |   |   |   |   |   |--- feature_1 <= 25.00\n",
      "|   |   |   |   |   |   |   |   |   |   |   |--- class: IPCam_Ezviz\n",
      "|   |   |   |   |   |   |   |   |   |   |--- feature_1 >  25.00\n",
      "|   |   |   |   |   |   |   |   |   |   |   |--- truncated branch of depth 2\n",
      "|   |   |   |   |   |   |   |   |--- feature_6 >  1810.50\n",
      "|   |   |   |   |   |   |   |   |   |--- class: IPCam_Ezviz\n",
      "|   |   |   |   |   |   |--- feature_7 >  54553.60\n",
      "|   |   |   |   |   |   |   |--- feature_9 <= 25600000.00\n",
      "|   |   |   |   |   |   |   |   |--- class: IPCam_Canary\n",
      "|   |   |   |   |   |   |   |--- feature_9 >  25600000.00\n",
      "|   |   |   |   |   |   |   |   |--- class: IPCam_V380\n",
      "|   |   |   |   |   |--- feature_2 >  14800000.00\n",
      "|   |   |   |   |   |   |--- class: IPCam_AlarmClock\n",
      "|   |   |   |   |--- feature_0 >  119406444.00\n",
      "|   |   |   |   |   |--- feature_9 <= 5489097.00\n",
      "|   |   |   |   |   |   |--- class: IPCam_Ezviz\n",
      "|   |   |   |   |   |--- feature_9 >  5489097.00\n",
      "|   |   |   |   |   |   |--- feature_9 <= 29750000.00\n",
      "|   |   |   |   |   |   |   |--- class: IPCam_Canary\n",
      "|   |   |   |   |   |   |--- feature_9 >  29750000.00\n",
      "|   |   |   |   |   |   |   |--- class: IPCam_V380\n",
      "|   |   |   |--- feature_4 >  30050000.00\n",
      "|   |   |   |   |--- feature_4 <= 30300000.00\n",
      "|   |   |   |   |   |--- feature_8 <= 0.50\n",
      "|   |   |   |   |   |   |--- class: IPCam_AlarmClock\n",
      "|   |   |   |   |   |--- feature_8 >  0.50\n",
      "|   |   |   |   |   |   |--- class: IPCam_V380\n",
      "|   |   |   |   |--- feature_4 >  30300000.00\n",
      "|   |   |   |   |   |--- feature_4 <= 30750000.00\n",
      "|   |   |   |   |   |   |--- class: IPCam_Ezviz\n",
      "|   |   |   |   |   |--- feature_4 >  30750000.00\n",
      "|   |   |   |   |   |   |--- feature_5 <= 90050000.00\n",
      "|   |   |   |   |   |   |   |--- class: IPCam_V380\n",
      "|   |   |   |   |   |   |--- feature_5 >  90050000.00\n",
      "|   |   |   |   |   |   |   |--- feature_5 <= 93200000.00\n",
      "|   |   |   |   |   |   |   |   |--- class: IPCam_Ezviz\n",
      "|   |   |   |   |   |   |   |--- feature_5 >  93200000.00\n",
      "|   |   |   |   |   |   |   |   |--- class: IPCam_V380\n",
      "|   |--- feature_3 >  33350000.00\n",
      "|   |   |--- feature_8 <= 0.50\n",
      "|   |   |   |--- feature_1 <= 2.00\n",
      "|   |   |   |   |--- class: IPCam_Netatmo\n",
      "|   |   |   |--- feature_1 >  2.00\n",
      "|   |   |   |   |--- class: IPCam_D3D\n",
      "|   |   |--- feature_8 >  0.50\n",
      "|   |   |   |--- class: IPCam_V380\n",
      "|--- feature_6 >  383595.00\n",
      "|   |--- feature_2 <= 5275233.25\n",
      "|   |   |--- feature_1 <= 182.00\n",
      "|   |   |   |--- feature_0 <= 389359.50\n",
      "|   |   |   |   |--- feature_6 <= 386039.50\n",
      "|   |   |   |   |   |--- class: IPCam_V380\n",
      "|   |   |   |   |--- feature_6 >  386039.50\n",
      "|   |   |   |   |   |--- class: IPCam_D3D\n",
      "|   |   |   |--- feature_0 >  389359.50\n",
      "|   |   |   |   |--- feature_0 <= 397106.00\n",
      "|   |   |   |   |   |--- feature_0 <= 396434.50\n",
      "|   |   |   |   |   |   |--- class: IPCam_V380\n",
      "|   |   |   |   |   |--- feature_0 >  396434.50\n",
      "|   |   |   |   |   |   |--- class: IPCam_D3D\n",
      "|   |   |   |   |--- feature_0 >  397106.00\n",
      "|   |   |   |   |   |--- feature_3 <= 1600087.62\n",
      "|   |   |   |   |   |   |--- class: IPCam_V380\n",
      "|   |   |   |   |   |--- feature_3 >  1600087.62\n",
      "|   |   |   |   |   |   |--- feature_3 <= 1862019.00\n",
      "|   |   |   |   |   |   |   |--- class: IPCam_Canary\n",
      "|   |   |   |   |   |   |--- feature_3 >  1862019.00\n",
      "|   |   |   |   |   |   |   |--- class: IPCam_V380\n",
      "|   |   |--- feature_1 >  182.00\n",
      "|   |   |   |--- feature_4 <= 920850.00\n",
      "|   |   |   |   |--- class: IPCam_V380\n",
      "|   |   |   |--- feature_4 >  920850.00\n",
      "|   |   |   |   |--- class: IPCam_Ezviz\n",
      "|   |--- feature_2 >  5275233.25\n",
      "|   |   |--- feature_1 <= 40.50\n",
      "|   |   |   |--- feature_8 <= 0.50\n",
      "|   |   |   |   |--- feature_7 <= 102.40\n",
      "|   |   |   |   |   |--- class: IPCam_V380\n",
      "|   |   |   |   |--- feature_7 >  102.40\n",
      "|   |   |   |   |   |--- class: IPCam_D3D\n",
      "|   |   |   |--- feature_8 >  0.50\n",
      "|   |   |   |   |--- class: IPCam_Canary\n",
      "|   |   |--- feature_1 >  40.50\n",
      "|   |   |   |--- feature_1 <= 106.00\n",
      "|   |   |   |   |--- feature_4 <= 27500000.00\n",
      "|   |   |   |   |   |--- feature_7 <= 242.72\n",
      "|   |   |   |   |   |   |--- class: IPCam_Ezviz\n",
      "|   |   |   |   |   |--- feature_7 >  242.72\n",
      "|   |   |   |   |   |   |--- class: IPCam_D3D\n",
      "|   |   |   |   |--- feature_4 >  27500000.00\n",
      "|   |   |   |   |   |--- class: IPCam_AlarmClock\n",
      "|   |   |   |--- feature_1 >  106.00\n",
      "|   |   |   |   |--- class: IPCam_V380\n",
      "\n"
     ]
    }
   ],
   "source": [
    "from sklearn.tree import export_text\n",
    "from sklearn import tree\n",
    "#r = export_text(decision_tree, feature_names=finalFtList)\n",
    "#print(r)\n",
    "text_representation = tree.export_text(clf1)\n",
    "print(text_representation)"
   ]
  },
  {
   "cell_type": "code",
   "execution_count": 34,
   "metadata": {},
   "outputs": [
    {
     "name": "stdout",
     "output_type": "stream",
     "text": [
      "34\n"
     ]
    }
   ],
   "source": [
    "print(clf1.tree_.max_depth)"
   ]
  },
  {
   "cell_type": "code",
   "execution_count": 35,
   "metadata": {},
   "outputs": [
    {
     "name": "stdout",
     "output_type": "stream",
     "text": [
      "[[ 110    0    7    5    7    6]\n",
      " [   1  123    2    6    2    3]\n",
      " [   6    1  544    3   11   11]\n",
      " [   0    6    4  794   27   20]\n",
      " [   2    3   10   15  244   25]\n",
      " [   7    7   17   28   16 1227]]\n",
      "\n",
      "\n",
      "Clock as Clock =  110  percent =  0.8148148148148148\n",
      "Clock as Ezviz =  0  percent =  0.0\n",
      "Clock as D3D =  7  percent =  0.05185185185185185\n",
      "Clock as Netatmo =  5  percent =  0.037037037037037035\n",
      "Clock as Canary =  7  percent =  0.05185185185185185\n",
      "Clock as Bulb =  6  percent =  0.044444444444444446\n",
      "\n",
      "\n",
      "Ezviz as Clock =  1  percent =  0.0072992700729927005\n",
      "Ezviz as Ezviz =  123  percent =  0.8978102189781022\n",
      "Ezviz as D3D = 2  percent =  0.014598540145985401\n",
      "Ezviz as Netatmo =  6  percent =  0.043795620437956206\n",
      "Ezviz as Canary =  2  percent =  0.014598540145985401\n",
      "Ezviz as Bulb =  3  percent =  0.021897810218978103\n",
      "\n",
      "\n",
      "D3D as Clock =  6  percent =  0.010416666666666666\n",
      "D3D as Ezviz =  1  percent =  0.001736111111111111\n",
      "D3D as D3D =  544  percent =  0.9444444444444444\n",
      "D3D as Netatmo =  3  percent =  0.005208333333333333\n",
      "D3D as Canary =  11  percent =  0.019097222222222224\n",
      "D3D as Bulb =  11  percent =  0.019097222222222224\n",
      "\n",
      "\n",
      "Netatmo as Clock =  0  percent =  0.0\n",
      "Netatmo as Ezviz =  6  percent =  0.007050528789659225\n",
      "Netatmo as D3D =  4  percent =  0.004700352526439483\n",
      "Netatmo as Netatmo =  794  percent =  0.9330199764982373\n",
      "Netatmo as Canary =  27  percent =  0.03172737955346651\n",
      "Netatmo as Bulb =  20  percent =  0.023501762632197415\n",
      "\n",
      "\n",
      "Canary as Clock =  2  percent =  0.006688963210702341\n",
      "Canary as Ezviz =  3  percent =  0.010033444816053512\n",
      "Canary as D3D =  10  percent =  0.033444816053511704\n",
      "Canary as Netatmo =  15  percent =  0.05016722408026756\n",
      "Canary as Canary =  244  percent =  0.8160535117056856\n",
      "Canary as Bulb =  25  percent =  0.08361204013377926\n",
      "\n",
      "\n",
      "Bulb as Clock =  7  percent =  0.005376344086021506\n",
      "Bulb as Ezviz =  7  percent =  0.005376344086021506\n",
      "Bulb as D3D =  17  percent =  0.013056835637480798\n",
      "Bulb as Netatmo =  28  percent =  0.021505376344086023\n",
      "Bulb as Canary =  16  percent =  0.01228878648233487\n",
      "Bulb as Bulb =  1227  percent =  0.9423963133640553\n"
     ]
    }
   ],
   "source": [
    "conf_mat = metrics.confusion_matrix(Y_test, ypred,labels=uniqueLabels)\n",
    "#[i][j] ==> knwon to be in group i and predicted as group j\n",
    "print(conf_mat)\n",
    "print('\\n')\n",
    "print('Clock as Clock = ',conf_mat[0][0],' percent = ', (conf_mat[0][0]/(conf_mat[0][0]+conf_mat[0][1]+conf_mat[0][2]+conf_mat[0][3]+conf_mat[0][4]+conf_mat[0][5])))\n",
    "print('Clock as Ezviz = ',conf_mat[0][1],' percent = ', (conf_mat[0][1]/(conf_mat[0][0]+conf_mat[0][1]+conf_mat[0][2]+conf_mat[0][3]+conf_mat[0][4]+conf_mat[0][5])))\n",
    "print('Clock as D3D = ',conf_mat[0][2],' percent = ', (conf_mat[0][2]/(conf_mat[0][0]+conf_mat[0][1]+conf_mat[0][2]+conf_mat[0][3]+conf_mat[0][4]+conf_mat[0][5])))\n",
    "print('Clock as Netatmo = ',conf_mat[0][3],' percent = ', (conf_mat[0][3]/(conf_mat[0][0]+conf_mat[0][1]+conf_mat[0][2]+conf_mat[0][3]+conf_mat[0][4]+conf_mat[0][5])))\n",
    "print('Clock as Canary = ',conf_mat[0][4],' percent = ', (conf_mat[0][4]/(conf_mat[0][0]+conf_mat[0][1]+conf_mat[0][2]+conf_mat[0][3]+conf_mat[0][4]+conf_mat[0][5])))\n",
    "print('Clock as Bulb = ',conf_mat[0][5],' percent = ', (conf_mat[0][5]/(conf_mat[0][0]+conf_mat[0][1]+conf_mat[0][2]+conf_mat[0][3]+conf_mat[0][4]+conf_mat[0][5])))\n",
    "print('\\n')\n",
    "\n",
    "print('Ezviz as Clock = ',conf_mat[1][0],' percent = ', (conf_mat[1][0]/(conf_mat[1][0]+conf_mat[1][1]+conf_mat[1][2]+conf_mat[1][3]+conf_mat[1][4]+conf_mat[1][5])))\n",
    "print('Ezviz as Ezviz = ',conf_mat[1][1],' percent = ', (conf_mat[1][1]/(conf_mat[1][0]+conf_mat[1][1]+conf_mat[1][2]+conf_mat[1][3]+conf_mat[1][4]+conf_mat[1][5])))\n",
    "print('Ezviz as D3D =',conf_mat[1][2],' percent = ', (conf_mat[1][2]/(conf_mat[1][0]+conf_mat[1][1]+conf_mat[1][2]+conf_mat[1][3]+conf_mat[1][4]+conf_mat[1][5])))\n",
    "print('Ezviz as Netatmo = ',conf_mat[1][3],' percent = ', (conf_mat[1][3]/(conf_mat[1][0]+conf_mat[1][1]+conf_mat[1][2]+conf_mat[1][3]+conf_mat[1][4]+conf_mat[1][5])))\n",
    "print('Ezviz as Canary = ',conf_mat[1][4],' percent = ', (conf_mat[1][4]/(conf_mat[1][0]+conf_mat[1][1]+conf_mat[1][2]+conf_mat[1][3]+conf_mat[1][4]+conf_mat[1][5])))\n",
    "print('Ezviz as Bulb = ',conf_mat[1][5],' percent = ', (conf_mat[1][5]/(conf_mat[1][0]+conf_mat[1][1]+conf_mat[1][2]+conf_mat[1][3]+conf_mat[1][4]+conf_mat[1][5])))\n",
    "print('\\n')\n",
    "\n",
    "print('D3D as Clock = ',conf_mat[2][0],' percent = ', (conf_mat[2][0]/(conf_mat[2][0]+conf_mat[2][1]+conf_mat[2][2]+conf_mat[2][3]+conf_mat[2][4]+conf_mat[2][5])))\n",
    "print('D3D as Ezviz = ',conf_mat[2][1],' percent = ', (conf_mat[2][1]/(conf_mat[2][0]+conf_mat[2][1]+conf_mat[2][2]+conf_mat[2][3]+conf_mat[2][4]+conf_mat[2][5])))\n",
    "print('D3D as D3D = ',conf_mat[2][2],' percent = ', (conf_mat[2][2]/(conf_mat[2][0]+conf_mat[2][1]+conf_mat[2][2]+conf_mat[2][3]+conf_mat[2][4]+conf_mat[2][5])))\n",
    "print('D3D as Netatmo = ',conf_mat[2][3],' percent = ', (conf_mat[2][3]/(conf_mat[2][0]+conf_mat[2][1]+conf_mat[2][2]+conf_mat[2][3]+conf_mat[2][4]+conf_mat[2][5])))\n",
    "print('D3D as Canary = ',conf_mat[2][4],' percent = ', (conf_mat[2][4]/(conf_mat[2][0]+conf_mat[2][1]+conf_mat[2][2]+conf_mat[2][3]+conf_mat[2][4]+conf_mat[2][5])))\n",
    "print('D3D as Bulb = ',conf_mat[2][5],' percent = ', (conf_mat[2][5]/(conf_mat[2][0]+conf_mat[2][1]+conf_mat[2][2]+conf_mat[2][3]+conf_mat[2][4]+conf_mat[2][5])))\n",
    "print('\\n')\n",
    "\n",
    "print('Netatmo as Clock = ',conf_mat[3][0],' percent = ', (conf_mat[3][0]/(conf_mat[3][0]+conf_mat[3][1]+conf_mat[3][2]+conf_mat[3][3]+conf_mat[3][4]+conf_mat[3][5])))\n",
    "print('Netatmo as Ezviz = ',conf_mat[3][1],' percent = ', (conf_mat[3][1]/(conf_mat[3][0]+conf_mat[3][1]+conf_mat[3][2]+conf_mat[3][3]+conf_mat[3][4]+conf_mat[3][5])))\n",
    "print('Netatmo as D3D = ',conf_mat[3][2],' percent = ', (conf_mat[3][2]/(conf_mat[3][0]+conf_mat[3][1]+conf_mat[3][2]+conf_mat[3][3]+conf_mat[3][4]+conf_mat[3][5])))\n",
    "print('Netatmo as Netatmo = ',conf_mat[3][3],' percent = ', (conf_mat[3][3]/(conf_mat[3][0]+conf_mat[3][1]+conf_mat[3][2]+conf_mat[3][3]+conf_mat[3][4]+conf_mat[3][5])))\n",
    "print('Netatmo as Canary = ',conf_mat[3][4],' percent = ', (conf_mat[3][4]/(conf_mat[3][0]+conf_mat[3][1]+conf_mat[3][2]+conf_mat[3][3]+conf_mat[3][4]+conf_mat[3][5])))\n",
    "print('Netatmo as Bulb = ',conf_mat[3][5],' percent = ', (conf_mat[3][5]/(conf_mat[3][0]+conf_mat[3][1]+conf_mat[3][2]+conf_mat[3][3]+conf_mat[3][4]+conf_mat[3][5])))\n",
    "print('\\n')\n",
    "\n",
    "print('Canary as Clock = ',conf_mat[4][0],' percent = ', (conf_mat[4][0]/(conf_mat[4][0]+conf_mat[4][1]+conf_mat[4][2]+conf_mat[4][3]+conf_mat[4][4]+conf_mat[4][5])))\n",
    "print('Canary as Ezviz = ',conf_mat[4][1],' percent = ', (conf_mat[4][1]/(conf_mat[4][0]+conf_mat[4][1]+conf_mat[4][2]+conf_mat[4][3]+conf_mat[4][4]+conf_mat[4][5])))\n",
    "print('Canary as D3D = ',conf_mat[4][2],' percent = ', (conf_mat[4][2]/(conf_mat[4][0]+conf_mat[4][1]+conf_mat[4][2]+conf_mat[4][3]+conf_mat[4][4]+conf_mat[4][5])))\n",
    "print('Canary as Netatmo = ',conf_mat[4][3],' percent = ', (conf_mat[4][3]/(conf_mat[4][0]+conf_mat[4][1]+conf_mat[4][2]+conf_mat[4][3]+conf_mat[4][4]+conf_mat[4][5])))\n",
    "print('Canary as Canary = ',conf_mat[4][4],' percent = ', (conf_mat[4][4]/(conf_mat[4][0]+conf_mat[4][1]+conf_mat[4][2]+conf_mat[4][3]+conf_mat[4][4]+conf_mat[4][5])))\n",
    "print('Canary as Bulb = ',conf_mat[4][5],' percent = ', (conf_mat[4][5]/(conf_mat[4][0]+conf_mat[4][1]+conf_mat[4][2]+conf_mat[4][3]+conf_mat[4][4]+conf_mat[4][5])))\n",
    "print('\\n')\n",
    "\n",
    "print('Bulb as Clock = ',conf_mat[5][0],' percent = ', (conf_mat[5][0]/(conf_mat[5][0]+conf_mat[5][1]+conf_mat[5][2]+conf_mat[5][3]+conf_mat[5][4]+conf_mat[5][5])))\n",
    "print('Bulb as Ezviz = ',conf_mat[5][1],' percent = ', (conf_mat[5][1]/(conf_mat[5][0]+conf_mat[5][1]+conf_mat[5][2]+conf_mat[5][3]+conf_mat[5][4]+conf_mat[5][5])))\n",
    "print('Bulb as D3D = ',conf_mat[5][2],' percent = ', (conf_mat[5][2]/(conf_mat[5][0]+conf_mat[5][1]+conf_mat[5][2]+conf_mat[5][3]+conf_mat[5][4]+conf_mat[5][5])))\n",
    "print('Bulb as Netatmo = ',conf_mat[5][3],' percent = ', (conf_mat[5][3]/(conf_mat[5][0]+conf_mat[5][1]+conf_mat[5][2]+conf_mat[5][3]+conf_mat[5][4]+conf_mat[5][5])))\n",
    "print('Bulb as Canary = ',conf_mat[5][4],' percent = ', (conf_mat[5][4]/(conf_mat[5][0]+conf_mat[5][1]+conf_mat[5][2]+conf_mat[5][3]+conf_mat[5][4]+conf_mat[5][5])))\n",
    "print('Bulb as Bulb = ',conf_mat[5][5],' percent = ', (conf_mat[5][5]/(conf_mat[5][0]+conf_mat[5][1]+conf_mat[5][2]+conf_mat[5][3]+conf_mat[5][4]+conf_mat[5][5])))"
   ]
  },
  {
   "cell_type": "code",
   "execution_count": 36,
   "metadata": {},
   "outputs": [
    {
     "name": "stderr",
     "output_type": "stream",
     "text": [
      "C:\\Users\\Priyanka\\AppData\\Local\\Temp\\ipykernel_6920\\1672543405.py:2: FutureWarning: The default value of numeric_only in DataFrame.corr is deprecated. In a future version, it will default to False. Select only valid columns or specify the value of numeric_only to silence this warning.\n",
      "  corr = masterSelected.corr()\n"
     ]
    },
    {
     "data": {
      "text/plain": [
       "(76, 76)"
      ]
     },
     "execution_count": 36,
     "metadata": {},
     "output_type": "execute_result"
    }
   ],
   "source": [
    "#classification with unselected and uncorrelated features\n",
    "corr = masterSelected.corr()\n",
    "corr.shape"
   ]
  },
  {
   "cell_type": "code",
   "execution_count": 37,
   "metadata": {},
   "outputs": [
    {
     "name": "stdout",
     "output_type": "stream",
     "text": [
      "ft1:  Flow Duration ft2:  Bwd IAT Tot   corr:  0.9428542901980759\n",
      "ft1:  Fwd Pkt Len Max ft2:  Pkt Len Var   corr:  0.8713878129078421\n",
      "ft1:  Fwd Pkt Len Mean ft2:  Pkt Len Var   corr:  0.87099638703026\n",
      "ft1:  Fwd Pkt Len Std ft2:  Pkt Len Var   corr:  0.8109202879204873\n",
      "ft1:  Bwd Pkt Len Max ft2:  Pkt Len Var   corr:  0.687647886646085\n",
      "ft1:  Bwd Pkt Len Mean ft2:  Bwd Pkt Len Max   corr:  0.7420938807797367\n",
      "ft1:  Bwd Pkt Len Std ft2:  Bwd Pkt Len Max   corr:  0.901911592791261\n",
      "ft1:  Flow IAT Mean ft2:  Idle Min   corr:  0.760702319282665\n",
      "ft1:  Flow IAT Std ft2:  Fwd IAT Std   corr:  0.7209325287936467\n",
      "ft1:  Flow IAT Max ft2:  Flow IAT Std   corr:  0.9132720217493898\n",
      "ft1:  Fwd IAT Tot ft2:  Flow Duration   corr:  0.95692789922059\n",
      "ft1:  Fwd IAT Mean ft2:  Flow IAT Std   corr:  0.7608643548550147\n",
      "ft1:  Fwd IAT Std ft2:  Flow IAT Std   corr:  0.7209325287936467\n",
      "ft1:  Fwd IAT Max ft2:  Flow IAT Std   corr:  0.814036761182052\n",
      "ft1:  Bwd IAT Tot ft2:  Flow Duration   corr:  0.9428542901980759\n",
      "ft1:  Bwd IAT Mean ft2:  Bwd IAT Min   corr:  0.6857454241006491\n",
      "ft1:  Bwd IAT Std ft2:  Flow IAT Std   corr:  0.720925566835452\n",
      "ft1:  Bwd IAT Max ft2:  Flow IAT Std   corr:  0.6747592120244115\n",
      "ft1:  Pkt Len Max ft2:  Bwd Pkt Len Max   corr:  0.8174958683662381\n",
      "ft1:  Pkt Len Mean ft2:  Bwd Pkt Len Max   corr:  0.6846859645278245\n",
      "ft1:  Pkt Len Std ft2:  Bwd Pkt Len Max   corr:  0.7506105591890151\n",
      "ft1:  Pkt Len Var ft2:  Bwd Pkt Len Max   corr:  0.687647886646085\n",
      "ft1:  Pkt Size Avg ft2:  Bwd Pkt Len Max   corr:  0.6820344612949956\n",
      "ft1:  Fwd Seg Size Avg ft2:  Pkt Len Var   corr:  0.8709963870302563\n",
      "ft1:  Bwd Seg Size Avg ft2:  Bwd Pkt Len Max   corr:  0.7420938807797367\n",
      "ft1:  Idle Mean ft2:  Flow IAT Std   corr:  0.8975229676834838\n",
      "ft1:  Idle Max ft2:  Flow IAT Std   corr:  0.894982527589558\n",
      "ft1:  Idle Min ft2:  Flow IAT Std   corr:  0.8867682123592332\n",
      "35\n",
      "['Tot Fwd Pkts', 'Tot Bwd Pkts', 'TotLen Fwd Pkts', 'TotLen Bwd Pkts', 'Fwd Pkt Len Min', 'Bwd Pkt Len Min', 'Flow Byts/s', 'Flow Pkts/s', 'Flow IAT Min', 'Fwd IAT Min', 'Bwd IAT Min', 'Bwd PSH Flags', 'Fwd Header Len', 'Bwd Header Len', 'Fwd Pkts/s', 'Bwd Pkts/s', 'Pkt Len Min', 'FIN Flag Cnt', 'SYN Flag Cnt', 'RST Flag Cnt', 'PSH Flag Cnt', 'ACK Flag Cnt', 'Down/Up Ratio', 'Subflow Fwd Pkts', 'Subflow Fwd Byts', 'Subflow Bwd Pkts', 'Subflow Bwd Byts', 'Init Bwd Win Byts', 'Fwd Act Data Pkts', 'Active Mean', 'Active Std', 'Active Max', 'Active Min', 'Idle Std', 'Label']\n",
      "10\n",
      "['Flow Duration', 'Bwd Pkt Len Max', 'Flow IAT Std', 'Fwd IAT Std', 'Fwd IAT Max', 'Bwd IAT Tot', 'Bwd IAT Min', 'Pkt Len Var', 'ACK Flag Cnt', 'Idle Min']\n"
     ]
    }
   ],
   "source": [
    "corrThreshold = 0.65\n",
    "unCorrUnSelFtList = list()\n",
    "for ft1 in finalFtList:#baseft = 'Idle Max' for each of the selected features\n",
    "    #print('ft1: ', ft1)\n",
    "    isCorr = False\n",
    "    for ft2 in names:# for each of the top 10 features\n",
    "        if ft1 == 'Label' or ft2 == 'Label' or (ft1 == ft2):\n",
    "            continue\n",
    "        elif abs(corr[ft1][ft2]) > corrThreshold:\n",
    "                isCorr = True\n",
    "                print('ft1: ', ft1, 'ft2: ', ft2, '  corr: ', corr[ft1][ft2])\n",
    "                break\n",
    "    if not isCorr and ft1 not in unCorrUnSelFtList:\n",
    "        #print('corr[{0}][{1}] = {2}: isPresentInRestFtlist: {3}'.format(baseft,ft,corr[baseft][ft], ft in restFtList))\n",
    "        unCorrUnSelFtList.append(ft1)\n",
    "        \n",
    "    #elif abs(corr[ft1][ft] >= 0.6 and ft in unCorrUnSelFtList):\n",
    "    #            unCorrUnSelFtList.remove(ft)\n",
    "print(len(unCorrUnSelFtList))\n",
    "print(unCorrUnSelFtList)\n",
    "\n",
    "print(len(names))\n",
    "print(names)"
   ]
  },
  {
   "cell_type": "code",
   "execution_count": 38,
   "metadata": {},
   "outputs": [],
   "source": [
    "for ft1 in names:\n",
    "    for ft2 in unCorrUnSelFtList:\n",
    "        if ft1 != 'Label' or ft2 == 'Label':\n",
    "            continue\n",
    "        if abs(corr[ft][ft2]) >= corrThreshold:\n",
    "            print('ft: ',ft, ' ft2: ',ft2, corr[ft][ft2])"
   ]
  },
  {
   "cell_type": "code",
   "execution_count": 39,
   "metadata": {},
   "outputs": [
    {
     "name": "stdout",
     "output_type": "stream",
     "text": [
      "(10000, 35)\n"
     ]
    }
   ],
   "source": [
    "#slice master data frame to only uncorrelated and unselected features\n",
    "masterUnSelected = masterSelected[unCorrUnSelFtList]\n",
    "print(masterUnSelected.shape)"
   ]
  },
  {
   "cell_type": "code",
   "execution_count": 40,
   "metadata": {},
   "outputs": [
    {
     "name": "stdout",
     "output_type": "stream",
     "text": [
      "Xshape:  (10000, 34)\n",
      "Yshape:  (10000,)\n"
     ]
    }
   ],
   "source": [
    "#### classification with unselected columns\n",
    "masterUnSelDS = masterUnSelected.values\n",
    "Xnotsel = masterUnSelDS[:,:-1]\n",
    "Y = masterUnSelDS[:,-1]\n",
    "print(\"Xshape: \", Xnotsel.shape)\n",
    "print(\"Yshape: \", Y.shape)"
   ]
  },
  {
   "cell_type": "code",
   "execution_count": 41,
   "metadata": {},
   "outputs": [
    {
     "name": "stdout",
     "output_type": "stream",
     "text": [
      "classification with rest (not top 10) features:\n",
      "[0.98  0.978 0.963 0.992 0.99  0.985 0.976 0.983 0.959 0.974]\n",
      "mean score:  0.9780000000000001  std score:  0.010119288512538823\n"
     ]
    }
   ],
   "source": [
    "#find cross validation score with uncorrelated and unselecte feature data frame\n",
    "clf = DecisionTreeClassifier(random_state=0)\n",
    "print('classification with rest (not top 10) features:')\n",
    "scores = cross_val_score(clf, X, Y, cv=10)\n",
    "print(scores)\n",
    "print('mean score: ', scores.mean(), ' std score: ', scores.std())"
   ]
  },
  {
   "cell_type": "code",
   "execution_count": 42,
   "metadata": {},
   "outputs": [],
   "source": [
    "#classification with with uncorrelated and unselecte feature data frame\n",
    "X_train, X_test, Y_train, Y_test = train_test_split(Xnotsel, Y, test_size=0.33, random_state=1)\n",
    "model = DecisionTreeClassifier(random_state=0)\n",
    "model.fit(X_train,Y_train)\n",
    "yhat = model.predict(X_test)"
   ]
  },
  {
   "cell_type": "code",
   "execution_count": 43,
   "metadata": {},
   "outputs": [
    {
     "name": "stdout",
     "output_type": "stream",
     "text": [
      "[[ 127    0    5    1    0    2]\n",
      " [   0  129    1    0    0    7]\n",
      " [   0    0  575    0    0    1]\n",
      " [   1    0    0  846    0    4]\n",
      " [   0    0    0    1  292    6]\n",
      " [   1    4    4    7    3 1283]]\n",
      "\n",
      "\n",
      "Clock as Clock =  127  percent =  0.9407407407407408\n",
      "Clock as Ezviz =  0  percent =  0.0\n",
      "Clock as D3D =  5  percent =  0.037037037037037035\n",
      "Clock as Netatmo =  1  percent =  0.007407407407407408\n",
      "Clock as Canary =  0  percent =  0.0\n",
      "Clock as Bulb =  2  percent =  0.014814814814814815\n",
      "\n",
      "\n",
      "Ezviz as Clock =  0  percent =  0.0\n",
      "Ezviz as Ezviz =  129  percent =  0.9416058394160584\n",
      "Ezviz as D3D = 1  percent =  0.0072992700729927005\n",
      "Ezviz as Netatmo =  0  percent =  0.0\n",
      "Ezviz as Canary =  0  percent =  0.0\n",
      "Ezviz as Bulb =  7  percent =  0.051094890510948905\n",
      "\n",
      "\n",
      "D3D as Clock =  0  percent =  0.0\n",
      "D3D as Ezviz =  0  percent =  0.0\n",
      "D3D as D3D =  575  percent =  0.9982638888888888\n",
      "D3D as Netatmo =  0  percent =  0.0\n",
      "D3D as Canary =  0  percent =  0.0\n",
      "D3D as Bulb =  1  percent =  0.001736111111111111\n",
      "\n",
      "\n",
      "Netatmo as Clock =  1  percent =  0.0011750881316098707\n",
      "Netatmo as Ezviz =  0  percent =  0.0\n",
      "Netatmo as D3D =  0  percent =  0.0\n",
      "Netatmo as Netatmo =  846  percent =  0.9941245593419507\n",
      "Netatmo as Canary =  0  percent =  0.0\n",
      "Netatmo as Bulb =  4  percent =  0.004700352526439483\n",
      "\n",
      "\n",
      "Canary as Clock =  0  percent =  0.0\n",
      "Canary as Ezviz =  0  percent =  0.0\n",
      "Canary as D3D =  0  percent =  0.0\n",
      "Canary as Netatmo =  1  percent =  0.0033444816053511705\n",
      "Canary as Canary =  292  percent =  0.9765886287625418\n",
      "Canary as Bulb =  6  percent =  0.020066889632107024\n",
      "\n",
      "\n",
      "Bulb as Clock =  1  percent =  0.0007680491551459293\n",
      "Bulb as Ezviz =  4  percent =  0.0030721966205837174\n",
      "Bulb as D3D =  4  percent =  0.0030721966205837174\n",
      "Bulb as Netatmo =  7  percent =  0.005376344086021506\n",
      "Bulb as Canary =  3  percent =  0.002304147465437788\n",
      "Bulb as Bulb =  1283  percent =  0.9854070660522274\n"
     ]
    }
   ],
   "source": [
    "conf_mat = metrics.confusion_matrix(Y_test, yhat,labels=uniqueLabels)\n",
    "#[i][j] ==> knwon to be in group i and predicted as group j\n",
    "print(conf_mat)\n",
    "print('\\n')\n",
    "print('Clock as Clock = ',conf_mat[0][0],' percent = ', (conf_mat[0][0]/(conf_mat[0][0]+conf_mat[0][1]+conf_mat[0][2]+conf_mat[0][3]+conf_mat[0][4]+conf_mat[0][5])))\n",
    "print('Clock as Ezviz = ',conf_mat[0][1],' percent = ', (conf_mat[0][1]/(conf_mat[0][0]+conf_mat[0][1]+conf_mat[0][2]+conf_mat[0][3]+conf_mat[0][4]+conf_mat[0][5])))\n",
    "print('Clock as D3D = ',conf_mat[0][2],' percent = ', (conf_mat[0][2]/(conf_mat[0][0]+conf_mat[0][1]+conf_mat[0][2]+conf_mat[0][3]+conf_mat[0][4]+conf_mat[0][5])))\n",
    "print('Clock as Netatmo = ',conf_mat[0][3],' percent = ', (conf_mat[0][3]/(conf_mat[0][0]+conf_mat[0][1]+conf_mat[0][2]+conf_mat[0][3]+conf_mat[0][4]+conf_mat[0][5])))\n",
    "print('Clock as Canary = ',conf_mat[0][4],' percent = ', (conf_mat[0][4]/(conf_mat[0][0]+conf_mat[0][1]+conf_mat[0][2]+conf_mat[0][3]+conf_mat[0][4]+conf_mat[0][5])))\n",
    "print('Clock as Bulb = ',conf_mat[0][5],' percent = ', (conf_mat[0][5]/(conf_mat[0][0]+conf_mat[0][1]+conf_mat[0][2]+conf_mat[0][3]+conf_mat[0][4]+conf_mat[0][5])))\n",
    "print('\\n')\n",
    "\n",
    "print('Ezviz as Clock = ',conf_mat[1][0],' percent = ', (conf_mat[1][0]/(conf_mat[1][0]+conf_mat[1][1]+conf_mat[1][2]+conf_mat[1][3]+conf_mat[1][4]+conf_mat[1][5])))\n",
    "print('Ezviz as Ezviz = ',conf_mat[1][1],' percent = ', (conf_mat[1][1]/(conf_mat[1][0]+conf_mat[1][1]+conf_mat[1][2]+conf_mat[1][3]+conf_mat[1][4]+conf_mat[1][5])))\n",
    "print('Ezviz as D3D =',conf_mat[1][2],' percent = ', (conf_mat[1][2]/(conf_mat[1][0]+conf_mat[1][1]+conf_mat[1][2]+conf_mat[1][3]+conf_mat[1][4]+conf_mat[1][5])))\n",
    "print('Ezviz as Netatmo = ',conf_mat[1][3],' percent = ', (conf_mat[1][3]/(conf_mat[1][0]+conf_mat[1][1]+conf_mat[1][2]+conf_mat[1][3]+conf_mat[1][4]+conf_mat[1][5])))\n",
    "print('Ezviz as Canary = ',conf_mat[1][4],' percent = ', (conf_mat[1][4]/(conf_mat[1][0]+conf_mat[1][1]+conf_mat[1][2]+conf_mat[1][3]+conf_mat[1][4]+conf_mat[1][5])))\n",
    "print('Ezviz as Bulb = ',conf_mat[1][5],' percent = ', (conf_mat[1][5]/(conf_mat[1][0]+conf_mat[1][1]+conf_mat[1][2]+conf_mat[1][3]+conf_mat[1][4]+conf_mat[1][5])))\n",
    "print('\\n')\n",
    "\n",
    "print('D3D as Clock = ',conf_mat[2][0],' percent = ', (conf_mat[2][0]/(conf_mat[2][0]+conf_mat[2][1]+conf_mat[2][2]+conf_mat[2][3]+conf_mat[2][4]+conf_mat[2][5])))\n",
    "print('D3D as Ezviz = ',conf_mat[2][1],' percent = ', (conf_mat[2][1]/(conf_mat[2][0]+conf_mat[2][1]+conf_mat[2][2]+conf_mat[2][3]+conf_mat[2][4]+conf_mat[2][5])))\n",
    "print('D3D as D3D = ',conf_mat[2][2],' percent = ', (conf_mat[2][2]/(conf_mat[2][0]+conf_mat[2][1]+conf_mat[2][2]+conf_mat[2][3]+conf_mat[2][4]+conf_mat[2][5])))\n",
    "print('D3D as Netatmo = ',conf_mat[2][3],' percent = ', (conf_mat[2][3]/(conf_mat[2][0]+conf_mat[2][1]+conf_mat[2][2]+conf_mat[2][3]+conf_mat[2][4]+conf_mat[2][5])))\n",
    "print('D3D as Canary = ',conf_mat[2][4],' percent = ', (conf_mat[2][4]/(conf_mat[2][0]+conf_mat[2][1]+conf_mat[2][2]+conf_mat[2][3]+conf_mat[2][4]+conf_mat[2][5])))\n",
    "print('D3D as Bulb = ',conf_mat[2][5],' percent = ', (conf_mat[2][5]/(conf_mat[2][0]+conf_mat[2][1]+conf_mat[2][2]+conf_mat[2][3]+conf_mat[2][4]+conf_mat[2][5])))\n",
    "print('\\n')\n",
    "\n",
    "print('Netatmo as Clock = ',conf_mat[3][0],' percent = ', (conf_mat[3][0]/(conf_mat[3][0]+conf_mat[3][1]+conf_mat[3][2]+conf_mat[3][3]+conf_mat[3][4]+conf_mat[3][5])))\n",
    "print('Netatmo as Ezviz = ',conf_mat[3][1],' percent = ', (conf_mat[3][1]/(conf_mat[3][0]+conf_mat[3][1]+conf_mat[3][2]+conf_mat[3][3]+conf_mat[3][4]+conf_mat[3][5])))\n",
    "print('Netatmo as D3D = ',conf_mat[3][2],' percent = ', (conf_mat[3][2]/(conf_mat[3][0]+conf_mat[3][1]+conf_mat[3][2]+conf_mat[3][3]+conf_mat[3][4]+conf_mat[3][5])))\n",
    "print('Netatmo as Netatmo = ',conf_mat[3][3],' percent = ', (conf_mat[3][3]/(conf_mat[3][0]+conf_mat[3][1]+conf_mat[3][2]+conf_mat[3][3]+conf_mat[3][4]+conf_mat[3][5])))\n",
    "print('Netatmo as Canary = ',conf_mat[3][4],' percent = ', (conf_mat[3][4]/(conf_mat[3][0]+conf_mat[3][1]+conf_mat[3][2]+conf_mat[3][3]+conf_mat[3][4]+conf_mat[3][5])))\n",
    "print('Netatmo as Bulb = ',conf_mat[3][5],' percent = ', (conf_mat[3][5]/(conf_mat[3][0]+conf_mat[3][1]+conf_mat[3][2]+conf_mat[3][3]+conf_mat[3][4]+conf_mat[3][5])))\n",
    "print('\\n')\n",
    "\n",
    "print('Canary as Clock = ',conf_mat[4][0],' percent = ', (conf_mat[4][0]/(conf_mat[4][0]+conf_mat[4][1]+conf_mat[4][2]+conf_mat[4][3]+conf_mat[4][4]+conf_mat[4][5])))\n",
    "print('Canary as Ezviz = ',conf_mat[4][1],' percent = ', (conf_mat[4][1]/(conf_mat[4][0]+conf_mat[4][1]+conf_mat[4][2]+conf_mat[4][3]+conf_mat[4][4]+conf_mat[4][5])))\n",
    "print('Canary as D3D = ',conf_mat[4][2],' percent = ', (conf_mat[4][2]/(conf_mat[4][0]+conf_mat[4][1]+conf_mat[4][2]+conf_mat[4][3]+conf_mat[4][4]+conf_mat[4][5])))\n",
    "print('Canary as Netatmo = ',conf_mat[4][3],' percent = ', (conf_mat[4][3]/(conf_mat[4][0]+conf_mat[4][1]+conf_mat[4][2]+conf_mat[4][3]+conf_mat[4][4]+conf_mat[4][5])))\n",
    "print('Canary as Canary = ',conf_mat[4][4],' percent = ', (conf_mat[4][4]/(conf_mat[4][0]+conf_mat[4][1]+conf_mat[4][2]+conf_mat[4][3]+conf_mat[4][4]+conf_mat[4][5])))\n",
    "print('Canary as Bulb = ',conf_mat[4][5],' percent = ', (conf_mat[4][5]/(conf_mat[4][0]+conf_mat[4][1]+conf_mat[4][2]+conf_mat[4][3]+conf_mat[4][4]+conf_mat[4][5])))\n",
    "print('\\n')\n",
    "\n",
    "print('Bulb as Clock = ',conf_mat[5][0],' percent = ', (conf_mat[5][0]/(conf_mat[5][0]+conf_mat[5][1]+conf_mat[5][2]+conf_mat[5][3]+conf_mat[5][4]+conf_mat[5][5])))\n",
    "print('Bulb as Ezviz = ',conf_mat[5][1],' percent = ', (conf_mat[5][1]/(conf_mat[5][0]+conf_mat[5][1]+conf_mat[5][2]+conf_mat[5][3]+conf_mat[5][4]+conf_mat[5][5])))\n",
    "print('Bulb as D3D = ',conf_mat[5][2],' percent = ', (conf_mat[5][2]/(conf_mat[5][0]+conf_mat[5][1]+conf_mat[5][2]+conf_mat[5][3]+conf_mat[5][4]+conf_mat[5][5])))\n",
    "print('Bulb as Netatmo = ',conf_mat[5][3],' percent = ', (conf_mat[5][3]/(conf_mat[5][0]+conf_mat[5][1]+conf_mat[5][2]+conf_mat[5][3]+conf_mat[5][4]+conf_mat[5][5])))\n",
    "print('Bulb as Canary = ',conf_mat[5][4],' percent = ', (conf_mat[5][4]/(conf_mat[5][0]+conf_mat[5][1]+conf_mat[5][2]+conf_mat[5][3]+conf_mat[5][4]+conf_mat[5][5])))\n",
    "print('Bulb as Bulb = ',conf_mat[5][5],' percent = ', (conf_mat[5][5]/(conf_mat[5][0]+conf_mat[5][1]+conf_mat[5][2]+conf_mat[5][3]+conf_mat[5][4]+conf_mat[5][5])))"
   ]
  },
  {
   "cell_type": "code",
   "execution_count": null,
   "metadata": {},
   "outputs": [],
   "source": []
  },
  {
   "cell_type": "code",
   "execution_count": null,
   "metadata": {},
   "outputs": [],
   "source": []
  }
 ],
 "metadata": {
  "kernelspec": {
   "display_name": "Python 3 (ipykernel)",
   "language": "python",
   "name": "python3"
  },
  "language_info": {
   "codemirror_mode": {
    "name": "ipython",
    "version": 3
   },
   "file_extension": ".py",
   "mimetype": "text/x-python",
   "name": "python",
   "nbconvert_exporter": "python",
   "pygments_lexer": "ipython3",
   "version": "3.10.5"
  }
 },
 "nbformat": 4,
 "nbformat_minor": 2
}
