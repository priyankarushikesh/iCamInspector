{
 "cells": [
  {
   "cell_type": "code",
   "execution_count": 27,
   "metadata": {},
   "outputs": [],
   "source": [
    "import pandas as pd\n",
    "import numpy as np\n",
    "from sklearn.model_selection import train_test_split\n",
    "from sklearn.feature_selection import SelectKBest\n",
    "from sklearn.feature_selection import f_classif\n",
    "from sklearn.feature_selection import RFE\n",
    "from sklearn.model_selection import cross_val_score\n",
    "from sklearn.tree import DecisionTreeClassifier\n",
    "from sklearn import metrics\n",
    "from matplotlib import pyplot"
   ]
  },
  {
   "cell_type": "code",
   "execution_count": 28,
   "metadata": {},
   "outputs": [],
   "source": [
    "fnames = [\"D:/New pcaps_IoTSpyCamera/TDSC_WorkAfterReview/filteredPcapCSV/IPCamera_filteredpcapcsv/alarmClockCam_1_Flow.csv\",\n",
    "          \"D:/New pcaps_IoTSpyCamera/TDSC_WorkAfterReview/filteredPcapCSV/IPCamera_filteredpcapcsv/alarmClockCam_2_Flow.csv\",\n",
    "          \"D:/New pcaps_IoTSpyCamera/TDSC_WorkAfterReview/filteredPcapCSV/IPCamera_filteredpcapcsv/alarmClockCam_3_Flow.csv\",\n",
    "          \"D:/New pcaps_IoTSpyCamera/TDSC_WorkAfterReview/filteredPcapCSV/IPCamera_filteredpcapcsv/alarmClockCam_4_Flow.csv\",\n",
    "          \"D:/New pcaps_IoTSpyCamera/TDSC_WorkAfterReview/filteredPcapCSV/IPCamera_filteredpcapcsv/canarycam_1_Flow.csv\",\n",
    "          \"D:/New pcaps_IoTSpyCamera/TDSC_WorkAfterReview/filteredPcapCSV/IPCamera_filteredpcapcsv/canarycam_2_Flow.csv\",\n",
    "          \"D:/New pcaps_IoTSpyCamera/TDSC_WorkAfterReview/filteredPcapCSV/IPCamera_filteredpcapcsv/canarycam_3_Flow.csv\",\n",
    "          \"D:/New pcaps_IoTSpyCamera/TDSC_WorkAfterReview/filteredPcapCSV/IPCamera_filteredpcapcsv/canarycam_4_Flow.csv\",\n",
    "          \"D:/New pcaps_IoTSpyCamera/TDSC_WorkAfterReview/filteredPcapCSV/IPCamera_filteredpcapcsv/d3dtraffic_1_Flow.csv\",\n",
    "          \"D:/New pcaps_IoTSpyCamera/TDSC_WorkAfterReview/filteredPcapCSV/IPCamera_filteredpcapcsv/d3dtraffic_2_Flow.csv\",\n",
    "          \"D:/New pcaps_IoTSpyCamera/TDSC_WorkAfterReview/filteredPcapCSV/IPCamera_filteredpcapcsv/d3dtraffic_3_Flow.csv\",\n",
    "          \"D:/New pcaps_IoTSpyCamera/TDSC_WorkAfterReview/filteredPcapCSV/IPCamera_filteredpcapcsv/ezviz_1_Flow.csv\",\n",
    "          \"D:/New pcaps_IoTSpyCamera/TDSC_WorkAfterReview/filteredPcapCSV/IPCamera_filteredpcapcsv/ezviz_2_Flow.csv\",\n",
    "          \"D:/New pcaps_IoTSpyCamera/TDSC_WorkAfterReview/filteredPcapCSV/IPCamera_filteredpcapcsv/ezviz_3_Flow.csv\",\n",
    "          \"D:/New pcaps_IoTSpyCamera/TDSC_WorkAfterReview/filteredPcapCSV/IPCamera_filteredpcapcsv/ezviz_4_Flow.csv\",\n",
    "          \"D:/New pcaps_IoTSpyCamera/TDSC_WorkAfterReview/filteredPcapCSV/IPCamera_filteredpcapcsv/ezviz_5_Flow.csv\",\n",
    "          \"D:/New pcaps_IoTSpyCamera/TDSC_WorkAfterReview/filteredPcapCSV/IPCamera_filteredpcapcsv/ezviz_6_Flow.csv\",\n",
    "          \"D:/New pcaps_IoTSpyCamera/TDSC_WorkAfterReview/filteredPcapCSV/IPCamera_filteredpcapcsv/ezviz_7_Flow.csv\",\n",
    "          \"D:/New pcaps_IoTSpyCamera/TDSC_WorkAfterReview/filteredPcapCSV/IPCamera_filteredpcapcsv/netatmocam1_Flow.csv\",\n",
    "          \"D:/New pcaps_IoTSpyCamera/TDSC_WorkAfterReview/filteredPcapCSV/IPCamera_filteredpcapcsv/netatmocam2_Flow.csv\",\n",
    "          \"D:/New pcaps_IoTSpyCamera/TDSC_WorkAfterReview/filteredPcapCSV/IPCamera_filteredpcapcsv/netatmocam3_Flow.csv\",\n",
    "          \"D:/New pcaps_IoTSpyCamera/TDSC_WorkAfterReview/filteredPcapCSV/IPCamera_filteredpcapcsv/v380Cam1_1_Flow.csv\",\n",
    "          \"D:/New pcaps_IoTSpyCamera/TDSC_WorkAfterReview/filteredPcapCSV/IPCamera_filteredpcapcsv/v380Cam1_2_Flow.csv\",\n",
    "          \"D:/New pcaps_IoTSpyCamera/TDSC_WorkAfterReview/filteredPcapCSV/IPCamera_filteredpcapcsv/v380Cam1_3_Flow.csv\",\n",
    "          \"D:/New pcaps_IoTSpyCamera/TDSC_WorkAfterReview/filteredPcapCSV/IPCamera_filteredpcapcsv/v380Cam1_4_Flow.csv\",\n",
    "          \"D:/New pcaps_IoTSpyCamera/TDSC_WorkAfterReview/filteredPcapCSV/IPCamera_filteredpcapcsv/v380Cam1_5_Flow.csv\",\n",
    "          \"D:/New pcaps_IoTSpyCamera/TDSC_WorkAfterReview/filteredPcapCSV/IPCamera_filteredpcapcsv/v380Cam1_6_Flow.csv\",\n",
    "          \"D:/New pcaps_IoTSpyCamera/TDSC_WorkAfterReview/filteredPcapCSV/IPCamera_filteredpcapcsv/v380Cam1_7_Flow.csv\",\n",
    "          \"D:/New pcaps_IoTSpyCamera/TDSC_WorkAfterReview/filteredPcapCSV/IPCamera_filteredpcapcsv/v380Cam1_8_Flow.csv\",\n",
    "         ]"
   ]
  },
  {
   "cell_type": "code",
   "execution_count": 29,
   "metadata": {},
   "outputs": [
    {
     "name": "stdout",
     "output_type": "stream",
     "text": [
      "file: D:/New pcaps_IoTSpyCamera/TDSC_WorkAfterReview/filteredPcapCSV/IPCamera_filteredpcapcsv/alarmClockCam_1_Flow.csv  data size:  (125, 84)\n",
      "file: D:/New pcaps_IoTSpyCamera/TDSC_WorkAfterReview/filteredPcapCSV/IPCamera_filteredpcapcsv/alarmClockCam_2_Flow.csv  data size:  (157, 84)\n",
      "file: D:/New pcaps_IoTSpyCamera/TDSC_WorkAfterReview/filteredPcapCSV/IPCamera_filteredpcapcsv/alarmClockCam_3_Flow.csv  data size:  (95, 84)\n",
      "file: D:/New pcaps_IoTSpyCamera/TDSC_WorkAfterReview/filteredPcapCSV/IPCamera_filteredpcapcsv/alarmClockCam_4_Flow.csv  data size:  (18, 84)\n",
      "file: D:/New pcaps_IoTSpyCamera/TDSC_WorkAfterReview/filteredPcapCSV/IPCamera_filteredpcapcsv/canarycam_1_Flow.csv  data size:  (45, 84)\n",
      "file: D:/New pcaps_IoTSpyCamera/TDSC_WorkAfterReview/filteredPcapCSV/IPCamera_filteredpcapcsv/canarycam_2_Flow.csv  data size:  (45, 84)\n",
      "file: D:/New pcaps_IoTSpyCamera/TDSC_WorkAfterReview/filteredPcapCSV/IPCamera_filteredpcapcsv/canarycam_3_Flow.csv  data size:  (143, 84)\n",
      "file: D:/New pcaps_IoTSpyCamera/TDSC_WorkAfterReview/filteredPcapCSV/IPCamera_filteredpcapcsv/canarycam_4_Flow.csv  data size:  (188, 84)\n",
      "file: D:/New pcaps_IoTSpyCamera/TDSC_WorkAfterReview/filteredPcapCSV/IPCamera_filteredpcapcsv/d3dtraffic_1_Flow.csv  data size:  (503, 84)\n",
      "file: D:/New pcaps_IoTSpyCamera/TDSC_WorkAfterReview/filteredPcapCSV/IPCamera_filteredpcapcsv/d3dtraffic_2_Flow.csv  data size:  (665, 84)\n",
      "file: D:/New pcaps_IoTSpyCamera/TDSC_WorkAfterReview/filteredPcapCSV/IPCamera_filteredpcapcsv/d3dtraffic_3_Flow.csv  data size:  (565, 84)\n",
      "file: D:/New pcaps_IoTSpyCamera/TDSC_WorkAfterReview/filteredPcapCSV/IPCamera_filteredpcapcsv/ezviz_1_Flow.csv  data size:  (234, 84)\n",
      "file: D:/New pcaps_IoTSpyCamera/TDSC_WorkAfterReview/filteredPcapCSV/IPCamera_filteredpcapcsv/ezviz_2_Flow.csv  data size:  (336, 84)\n",
      "file: D:/New pcaps_IoTSpyCamera/TDSC_WorkAfterReview/filteredPcapCSV/IPCamera_filteredpcapcsv/ezviz_3_Flow.csv  data size:  (479, 84)\n",
      "file: D:/New pcaps_IoTSpyCamera/TDSC_WorkAfterReview/filteredPcapCSV/IPCamera_filteredpcapcsv/ezviz_4_Flow.csv  data size:  (605, 84)\n",
      "file: D:/New pcaps_IoTSpyCamera/TDSC_WorkAfterReview/filteredPcapCSV/IPCamera_filteredpcapcsv/ezviz_5_Flow.csv  data size:  (563, 84)\n",
      "file: D:/New pcaps_IoTSpyCamera/TDSC_WorkAfterReview/filteredPcapCSV/IPCamera_filteredpcapcsv/ezviz_6_Flow.csv  data size:  (339, 84)\n",
      "file: D:/New pcaps_IoTSpyCamera/TDSC_WorkAfterReview/filteredPcapCSV/IPCamera_filteredpcapcsv/ezviz_7_Flow.csv  data size:  (30, 84)\n",
      "file: D:/New pcaps_IoTSpyCamera/TDSC_WorkAfterReview/filteredPcapCSV/IPCamera_filteredpcapcsv/netatmocam1_Flow.csv  data size:  (432, 84)\n",
      "file: D:/New pcaps_IoTSpyCamera/TDSC_WorkAfterReview/filteredPcapCSV/IPCamera_filteredpcapcsv/netatmocam2_Flow.csv  data size:  (158, 84)\n",
      "file: D:/New pcaps_IoTSpyCamera/TDSC_WorkAfterReview/filteredPcapCSV/IPCamera_filteredpcapcsv/netatmocam3_Flow.csv  data size:  (353, 84)\n",
      "file: D:/New pcaps_IoTSpyCamera/TDSC_WorkAfterReview/filteredPcapCSV/IPCamera_filteredpcapcsv/v380Cam1_1_Flow.csv  data size:  (249, 84)\n",
      "file: D:/New pcaps_IoTSpyCamera/TDSC_WorkAfterReview/filteredPcapCSV/IPCamera_filteredpcapcsv/v380Cam1_2_Flow.csv  data size:  (1678, 84)\n",
      "file: D:/New pcaps_IoTSpyCamera/TDSC_WorkAfterReview/filteredPcapCSV/IPCamera_filteredpcapcsv/v380Cam1_3_Flow.csv  data size:  (347, 84)\n",
      "file: D:/New pcaps_IoTSpyCamera/TDSC_WorkAfterReview/filteredPcapCSV/IPCamera_filteredpcapcsv/v380Cam1_4_Flow.csv  data size:  (425, 84)\n",
      "file: D:/New pcaps_IoTSpyCamera/TDSC_WorkAfterReview/filteredPcapCSV/IPCamera_filteredpcapcsv/v380Cam1_5_Flow.csv  data size:  (264, 84)\n",
      "file: D:/New pcaps_IoTSpyCamera/TDSC_WorkAfterReview/filteredPcapCSV/IPCamera_filteredpcapcsv/v380Cam1_6_Flow.csv  data size:  (288, 84)\n",
      "file: D:/New pcaps_IoTSpyCamera/TDSC_WorkAfterReview/filteredPcapCSV/IPCamera_filteredpcapcsv/v380Cam1_7_Flow.csv  data size:  (280, 84)\n",
      "file: D:/New pcaps_IoTSpyCamera/TDSC_WorkAfterReview/filteredPcapCSV/IPCamera_filteredpcapcsv/v380Cam1_8_Flow.csv  data size:  (391, 84)\n",
      "(10000, 84)\n"
     ]
    }
   ],
   "source": [
    "dfList = list()\n",
    "for fname in fnames: \n",
    "    data = pd.read_csv(fname)\n",
    "    print('file:', fname, ' data size: ',data.shape)\n",
    "    dfList.append(data)\n",
    "############## combine the data frames\n",
    "masterDF = pd.concat(dfList)\n",
    "print(masterDF.shape)"
   ]
  },
  {
   "cell_type": "code",
   "execution_count": 30,
   "metadata": {},
   "outputs": [
    {
     "name": "stdout",
     "output_type": "stream",
     "text": [
      "['IPCam_AlarmClock', 'IPCam_Canary', 'IPCam_D3D', 'IPCam_Ezviz', 'IPCam_Netatmo', 'IPCam_V380']\n"
     ]
    }
   ],
   "source": [
    "#see unique labels\n",
    "masterDF['Label'].unique()\n",
    "masterDF['Label'].replace('VConf_Gmeet','VConf_GMeet',inplace=True)\n",
    "uniqueLabels = list(masterDF['Label'].unique())\n",
    "print(uniqueLabels)"
   ]
  },
  {
   "cell_type": "code",
   "execution_count": 31,
   "metadata": {},
   "outputs": [
    {
     "name": "stdout",
     "output_type": "stream",
     "text": [
      "pruneddata size:  (10000, 77)\n",
      "['Flow Duration', 'Tot Fwd Pkts', 'Tot Bwd Pkts', 'TotLen Fwd Pkts', 'TotLen Bwd Pkts', 'Fwd Pkt Len Max', 'Fwd Pkt Len Min', 'Fwd Pkt Len Mean', 'Fwd Pkt Len Std', 'Bwd Pkt Len Max', 'Bwd Pkt Len Min', 'Bwd Pkt Len Mean', 'Bwd Pkt Len Std', 'Flow Byts/s', 'Flow Pkts/s', 'Flow IAT Mean', 'Flow IAT Std', 'Flow IAT Max', 'Flow IAT Min', 'Fwd IAT Tot', 'Fwd IAT Mean', 'Fwd IAT Std', 'Fwd IAT Max', 'Fwd IAT Min', 'Bwd IAT Tot', 'Bwd IAT Mean', 'Bwd IAT Std', 'Bwd IAT Max', 'Bwd IAT Min', 'Fwd PSH Flags', 'Bwd PSH Flags', 'Fwd URG Flags', 'Bwd URG Flags', 'Fwd Header Len', 'Bwd Header Len', 'Fwd Pkts/s', 'Bwd Pkts/s', 'Pkt Len Min', 'Pkt Len Max', 'Pkt Len Mean', 'Pkt Len Std', 'Pkt Len Var', 'FIN Flag Cnt', 'SYN Flag Cnt', 'RST Flag Cnt', 'PSH Flag Cnt', 'ACK Flag Cnt', 'URG Flag Cnt', 'CWE Flag Count', 'ECE Flag Cnt', 'Down/Up Ratio', 'Pkt Size Avg', 'Fwd Seg Size Avg', 'Bwd Seg Size Avg', 'Fwd Byts/b Avg', 'Fwd Pkts/b Avg', 'Fwd Blk Rate Avg', 'Bwd Byts/b Avg', 'Bwd Pkts/b Avg', 'Bwd Blk Rate Avg', 'Subflow Fwd Pkts', 'Subflow Fwd Byts', 'Subflow Bwd Pkts', 'Subflow Bwd Byts', 'Init Fwd Win Byts', 'Init Bwd Win Byts', 'Fwd Act Data Pkts', 'Fwd Seg Size Min', 'Active Mean', 'Active Std', 'Active Max', 'Active Min', 'Idle Mean', 'Idle Std', 'Idle Max', 'Idle Min', 'Label']\n"
     ]
    }
   ],
   "source": [
    "#discard all those columns that helps in uniquely identifying a flow\n",
    "masterPruned = masterDF.iloc[:,np.arange(7,84)]\n",
    "print('pruneddata size: ', masterPruned.shape)\n",
    "ftList = list(masterPruned.columns)\n",
    "print(ftList)"
   ]
  },
  {
   "cell_type": "code",
   "execution_count": 32,
   "metadata": {},
   "outputs": [
    {
     "data": {
      "text/plain": [
       "(10000, 77)"
      ]
     },
     "execution_count": 32,
     "metadata": {},
     "output_type": "execute_result"
    }
   ],
   "source": [
    "#discard those flows that has 0 flow duration\n",
    "masterSelected = masterPruned.drop(masterPruned[masterPruned['Flow Duration']==0].index)\n",
    "masterSelected.shape"
   ]
  },
  {
   "cell_type": "code",
   "execution_count": 33,
   "metadata": {},
   "outputs": [
    {
     "name": "stdout",
     "output_type": "stream",
     "text": [
      "[]\n"
     ]
    }
   ],
   "source": [
    "#identify those columns that has non-numeric values\n",
    "typesList = masterSelected.dtypes\n",
    "ftCount = len(ftList)\n",
    "nonNumericFtList = list()\n",
    "for fi in range(ftCount):\n",
    "    if ftList[fi] != 'Label' and typesList[fi] != 'int64' and typesList[fi] != 'float64':\n",
    "        print(ftList[fi], '  ', typesList[fi])\n",
    "        nonNumericFtList.append(ftList[fi])\n",
    "print(nonNumericFtList)"
   ]
  },
  {
   "cell_type": "code",
   "execution_count": 34,
   "metadata": {},
   "outputs": [],
   "source": [
    "#pyplot.boxplot(results, labels=names, showmeans=True)\n",
    "#pyplot.scatter(fpackets,fbytes)\n",
    "#pyplot.show()\n"
   ]
  },
  {
   "cell_type": "code",
   "execution_count": 35,
   "metadata": {},
   "outputs": [],
   "source": [
    "for ft in nonNumericFtList:\n",
    "    masterSelected[ft] = pd.to_numeric(masterSelected[ft], errors='coerce')"
   ]
  },
  {
   "cell_type": "code",
   "execution_count": 36,
   "metadata": {},
   "outputs": [
    {
     "name": "stdout",
     "output_type": "stream",
     "text": [
      "[]\n"
     ]
    }
   ],
   "source": [
    "print(nonNumericFtList)\n",
    "for ft in nonNumericFtList:\n",
    "    countNaN = masterSelected[ft].isna().sum()\n",
    "    print('converted to numeric ft: ', ft, '  countNaN: ', countNaN)"
   ]
  },
  {
   "cell_type": "code",
   "execution_count": 37,
   "metadata": {},
   "outputs": [
    {
     "name": "stdout",
     "output_type": "stream",
     "text": [
      "count inf:  0\n"
     ]
    }
   ],
   "source": [
    "number_inf = masterSelected[masterSelected == np.inf].count().sum()\n",
    "print('count inf: ',number_inf)"
   ]
  },
  {
   "cell_type": "code",
   "execution_count": 38,
   "metadata": {},
   "outputs": [
    {
     "name": "stdout",
     "output_type": "stream",
     "text": [
      "[]\n"
     ]
    }
   ],
   "source": [
    "typesList = masterSelected.dtypes\n",
    "ftCount = len(ftList)\n",
    "nonNumericFtList = list()\n",
    "for fi in range(ftCount):\n",
    "    if ftList[fi] != 'Label' and typesList[fi] != 'int64' and typesList[fi] != 'float64':\n",
    "        print(ftList[fi], '  ', typesList[fi])\n",
    "        nonNumericFtList.append(ftList[fi])\n",
    "print(nonNumericFtList)"
   ]
  },
  {
   "cell_type": "code",
   "execution_count": 39,
   "metadata": {},
   "outputs": [
    {
     "name": "stdout",
     "output_type": "stream",
     "text": [
      "count:  1  ft:  Fwd PSH Flags  ftmin:  0  ftMax:  0\n",
      "count:  2  ft:  Fwd URG Flags  ftmin:  0  ftMax:  0\n",
      "count:  3  ft:  Bwd URG Flags  ftmin:  0  ftMax:  0\n",
      "count:  4  ft:  URG Flag Cnt  ftmin:  0  ftMax:  0\n",
      "count:  5  ft:  CWE Flag Count  ftmin:  0  ftMax:  0\n",
      "count:  6  ft:  ECE Flag Cnt  ftmin:  0  ftMax:  0\n",
      "count:  7  ft:  Fwd Byts/b Avg  ftmin:  0  ftMax:  0\n",
      "count:  8  ft:  Fwd Pkts/b Avg  ftmin:  0  ftMax:  0\n",
      "count:  9  ft:  Fwd Blk Rate Avg  ftmin:  0  ftMax:  0\n",
      "count:  10  ft:  Bwd Byts/b Avg  ftmin:  0  ftMax:  0\n",
      "count:  11  ft:  Bwd Pkts/b Avg  ftmin:  0  ftMax:  0\n",
      "count:  12  ft:  Bwd Blk Rate Avg  ftmin:  0  ftMax:  0\n",
      "count:  13  ft:  Init Fwd Win Byts  ftmin:  -1  ftMax:  -1\n",
      "count:  14  ft:  Fwd Seg Size Min  ftmin:  0  ftMax:  0\n",
      "['Fwd PSH Flags', 'Fwd URG Flags', 'Bwd URG Flags', 'URG Flag Cnt', 'CWE Flag Count', 'ECE Flag Cnt', 'Fwd Byts/b Avg', 'Fwd Pkts/b Avg', 'Fwd Blk Rate Avg', 'Bwd Byts/b Avg', 'Bwd Pkts/b Avg', 'Bwd Blk Rate Avg', 'Init Fwd Win Byts', 'Fwd Seg Size Min']\n"
     ]
    }
   ],
   "source": [
    "#identify those columns that has 0 std\n",
    "count = 0\n",
    "staticFtList = list()\n",
    "for ft in ftList:\n",
    "    if ft == 'Label':\n",
    "        continue\n",
    "    #print('ft : ', ft)\n",
    "    ftMin = masterSelected[ft].min()\n",
    "    ftMax = masterSelected[ft].max()\n",
    "    #std = masterPruned[ft].std()\n",
    "    \n",
    "    if ftMin == ftMax:\n",
    "        count += 1\n",
    "        print('count: ', count, ' ft: ', ft, ' ftmin: ', ftMin, ' ftMax: ', ftMax)\n",
    "        staticFtList.append(ft)\n",
    "print(staticFtList)"
   ]
  },
  {
   "cell_type": "code",
   "execution_count": 40,
   "metadata": {},
   "outputs": [
    {
     "name": "stdout",
     "output_type": "stream",
     "text": [
      "before droping column:  (10000, 77)\n",
      "after droping column:  (10000, 63)\n"
     ]
    }
   ],
   "source": [
    "#remove those columns that have 0 std\n",
    "print('before droping column: ', masterSelected.shape)\n",
    "for ft in staticFtList:\n",
    "    masterSelected.drop([ft], axis=1,inplace=True)\n",
    "print('after droping column: ', masterSelected.shape)    \n"
   ]
  },
  {
   "cell_type": "code",
   "execution_count": 41,
   "metadata": {},
   "outputs": [
    {
     "name": "stdout",
     "output_type": "stream",
     "text": [
      "63\n",
      "['Flow Duration', 'Tot Fwd Pkts', 'Tot Bwd Pkts', 'TotLen Fwd Pkts', 'TotLen Bwd Pkts', 'Fwd Pkt Len Max', 'Fwd Pkt Len Min', 'Fwd Pkt Len Mean', 'Fwd Pkt Len Std', 'Bwd Pkt Len Max', 'Bwd Pkt Len Min', 'Bwd Pkt Len Mean', 'Bwd Pkt Len Std', 'Flow Byts/s', 'Flow Pkts/s', 'Flow IAT Mean', 'Flow IAT Std', 'Flow IAT Max', 'Flow IAT Min', 'Fwd IAT Tot', 'Fwd IAT Mean', 'Fwd IAT Std', 'Fwd IAT Max', 'Fwd IAT Min', 'Bwd IAT Tot', 'Bwd IAT Mean', 'Bwd IAT Std', 'Bwd IAT Max', 'Bwd IAT Min', 'Bwd PSH Flags', 'Fwd Header Len', 'Bwd Header Len', 'Fwd Pkts/s', 'Bwd Pkts/s', 'Pkt Len Min', 'Pkt Len Max', 'Pkt Len Mean', 'Pkt Len Std', 'Pkt Len Var', 'FIN Flag Cnt', 'SYN Flag Cnt', 'RST Flag Cnt', 'PSH Flag Cnt', 'ACK Flag Cnt', 'Down/Up Ratio', 'Pkt Size Avg', 'Fwd Seg Size Avg', 'Bwd Seg Size Avg', 'Subflow Fwd Pkts', 'Subflow Fwd Byts', 'Subflow Bwd Pkts', 'Subflow Bwd Byts', 'Init Bwd Win Byts', 'Fwd Act Data Pkts', 'Active Mean', 'Active Std', 'Active Max', 'Active Min', 'Idle Mean', 'Idle Std', 'Idle Max', 'Idle Min', 'Label']\n"
     ]
    }
   ],
   "source": [
    "xCount = masterSelected.shape[1]\n",
    "print(xCount)\n",
    "finalFtList = list(masterSelected.columns)\n",
    "print(finalFtList)"
   ]
  },
  {
   "cell_type": "code",
   "execution_count": 42,
   "metadata": {},
   "outputs": [],
   "source": [
    "#report intermediate data frame to a csv\n",
    "#masterSelected.to_csv('../reports_db/CICFlowMeter_VideoConferencingOutput/ProcessedNPrunnedAllConf.csv', index = False)"
   ]
  },
  {
   "cell_type": "code",
   "execution_count": 43,
   "metadata": {},
   "outputs": [
    {
     "name": "stdout",
     "output_type": "stream",
     "text": [
      "Xshape:  (10000, 62)\n",
      "Yshape:  (10000,)\n"
     ]
    }
   ],
   "source": [
    "#classification with all the features\n",
    "masterDS = masterSelected.values\n",
    "X = masterDS[:,:-1]\n",
    "Y = masterDS[:,-1]\n",
    "print(\"Xshape: \", X.shape)\n",
    "print(\"Yshape: \", Y.shape)"
   ]
  },
  {
   "cell_type": "code",
   "execution_count": 44,
   "metadata": {},
   "outputs": [
    {
     "name": "stdout",
     "output_type": "stream",
     "text": [
      "XNew.shape (10000, 10)\n"
     ]
    }
   ],
   "source": [
    "# feature selection using ANNOVA F-score\n",
    "topKval = 10\n",
    "rfe = RFE(estimator=DecisionTreeClassifier(), n_features_to_select=topKval)\n",
    "# fit RFE\n",
    "rfe.fit(X, Y)\n",
    "# summarize all features\n",
    "\n",
    "# transform train input data\n",
    "XNew = rfe.transform(X)\n",
    "# transform test input data\n",
    "print('XNew.shape', XNew.shape)\n",
    "#print('XNew', XNew)"
   ]
  },
  {
   "cell_type": "code",
   "execution_count": 45,
   "metadata": {},
   "outputs": [
    {
     "name": "stdout",
     "output_type": "stream",
     "text": [
      "Column: 6, ColName: Fwd Pkt Len Min, Selected True, Rank: 1.000\n",
      "Column: 18, ColName: Flow IAT Min, Selected True, Rank: 1.000\n",
      "Column: 20, ColName: Fwd IAT Mean, Selected True, Rank: 1.000\n",
      "Column: 24, ColName: Bwd IAT Tot, Selected True, Rank: 1.000\n",
      "Column: 28, ColName: Bwd IAT Min, Selected True, Rank: 1.000\n",
      "Column: 31, ColName: Bwd Header Len, Selected True, Rank: 1.000\n",
      "Column: 33, ColName: Bwd Pkts/s, Selected True, Rank: 1.000\n",
      "Column: 34, ColName: Pkt Len Min, Selected True, Rank: 1.000\n",
      "Column: 35, ColName: Pkt Len Max, Selected True, Rank: 1.000\n",
      "Column: 52, ColName: Init Bwd Win Byts, Selected True, Rank: 1.000\n",
      "['Fwd Pkt Len Min', 'Flow IAT Min', 'Fwd IAT Mean', 'Bwd IAT Tot', 'Bwd IAT Min', 'Bwd Header Len', 'Bwd Pkts/s', 'Pkt Len Min', 'Pkt Len Max', 'Init Bwd Win Byts']\n"
     ]
    }
   ],
   "source": [
    "ftSelected = list()#features[0:-1]\n",
    "for fi in range(xCount-1):\n",
    "    ft  = finalFtList[fi]\n",
    "    \n",
    "    if ft != 'Label' and rfe.support_[fi]:\n",
    "        #print('i = ', fi, ' ftName: ', ftList[fi], ' FS.support_: ', FS.get_support()[fi], ' FS.scores: = ', FS.scores_[fi])\n",
    "        #scores.append(ref.scores_[fi])\n",
    "        ftSelected.append(ft)\n",
    "        print('Column: %d, ColName: %s, Selected %s, Rank: %.3f' % (fi, finalFtList[fi], rfe.support_[fi], rfe.ranking_[fi]))\n",
    "print(ftSelected)"
   ]
  },
  {
   "cell_type": "code",
   "execution_count": 46,
   "metadata": {},
   "outputs": [
    {
     "name": "stdout",
     "output_type": "stream",
     "text": [
      "classification with top 10 selected features:\n",
      "[0.973 0.985 0.967 0.993 0.994 0.987 0.975 0.986 0.958 0.969]\n",
      "mean score:  0.9786999999999999 min score:  0.958 max score:  0.994  std score:  0.011428473213863706\n"
     ]
    }
   ],
   "source": [
    "clf = DecisionTreeClassifier(random_state=0)\n",
    "print('classification with top 10 selected features:')\n",
    "scores = cross_val_score(clf, XNew, Y, cv=10)\n",
    "print(scores)\n",
    "print('mean score: ', scores.mean(), 'min score: ', scores.min(), 'max score: ', scores.max(), ' std score: ', scores.std())"
   ]
  },
  {
   "cell_type": "code",
   "execution_count": 47,
   "metadata": {},
   "outputs": [],
   "source": [
    "#performance with to k  features using decision tree\n",
    "X_train, X_test, Y_train, Y_test = train_test_split(XNew, Y, test_size=0.33, random_state=1)\n",
    "model = DecisionTreeClassifier(random_state=0)\n",
    "clf = model.fit(X_train,Y_train)\n",
    "ypred = model.predict(X_test)"
   ]
  },
  {
   "cell_type": "code",
   "execution_count": 48,
   "metadata": {},
   "outputs": [
    {
     "name": "stdout",
     "output_type": "stream",
     "text": [
      "|--- feature_4 <= 383595.00\n",
      "|   |--- feature_7 <= 1.00\n",
      "|   |   |--- feature_9 <= 15077.50\n",
      "|   |   |   |--- feature_9 <= 6529.50\n",
      "|   |   |   |   |--- feature_9 <= 185.00\n",
      "|   |   |   |   |   |--- feature_9 <= 68.00\n",
      "|   |   |   |   |   |   |--- feature_6 <= 2532.76\n",
      "|   |   |   |   |   |   |   |--- feature_5 <= 174.00\n",
      "|   |   |   |   |   |   |   |   |--- feature_9 <= 2.00\n",
      "|   |   |   |   |   |   |   |   |   |--- feature_8 <= 72.50\n",
      "|   |   |   |   |   |   |   |   |   |   |--- feature_6 <= 21.24\n",
      "|   |   |   |   |   |   |   |   |   |   |   |--- class: IPCam_AlarmClock\n",
      "|   |   |   |   |   |   |   |   |   |   |--- feature_6 >  21.24\n",
      "|   |   |   |   |   |   |   |   |   |   |   |--- truncated branch of depth 4\n",
      "|   |   |   |   |   |   |   |   |   |--- feature_8 >  72.50\n",
      "|   |   |   |   |   |   |   |   |   |   |--- feature_1 <= 216.00\n",
      "|   |   |   |   |   |   |   |   |   |   |   |--- class: IPCam_V380\n",
      "|   |   |   |   |   |   |   |   |   |   |--- feature_1 >  216.00\n",
      "|   |   |   |   |   |   |   |   |   |   |   |--- truncated branch of depth 2\n",
      "|   |   |   |   |   |   |   |   |--- feature_9 >  2.00\n",
      "|   |   |   |   |   |   |   |   |   |--- feature_5 <= 166.00\n",
      "|   |   |   |   |   |   |   |   |   |   |--- class: IPCam_V380\n",
      "|   |   |   |   |   |   |   |   |   |--- feature_5 >  166.00\n",
      "|   |   |   |   |   |   |   |   |   |   |--- feature_9 <= 44.50\n",
      "|   |   |   |   |   |   |   |   |   |   |   |--- class: IPCam_Ezviz\n",
      "|   |   |   |   |   |   |   |   |   |   |--- feature_9 >  44.50\n",
      "|   |   |   |   |   |   |   |   |   |   |   |--- class: IPCam_V380\n",
      "|   |   |   |   |   |   |   |--- feature_5 >  174.00\n",
      "|   |   |   |   |   |   |   |   |--- feature_3 <= 415233.00\n",
      "|   |   |   |   |   |   |   |   |   |--- feature_9 <= 14.50\n",
      "|   |   |   |   |   |   |   |   |   |   |--- class: IPCam_Canary\n",
      "|   |   |   |   |   |   |   |   |   |--- feature_9 >  14.50\n",
      "|   |   |   |   |   |   |   |   |   |   |--- class: IPCam_Ezviz\n",
      "|   |   |   |   |   |   |   |   |--- feature_3 >  415233.00\n",
      "|   |   |   |   |   |   |   |   |   |--- feature_8 <= 140.00\n",
      "|   |   |   |   |   |   |   |   |   |   |--- class: IPCam_D3D\n",
      "|   |   |   |   |   |   |   |   |   |--- feature_8 >  140.00\n",
      "|   |   |   |   |   |   |   |   |   |   |--- class: IPCam_V380\n",
      "|   |   |   |   |   |   |--- feature_6 >  2532.76\n",
      "|   |   |   |   |   |   |   |--- feature_1 <= 450.50\n",
      "|   |   |   |   |   |   |   |   |--- feature_1 <= 64.00\n",
      "|   |   |   |   |   |   |   |   |   |--- class: IPCam_Netatmo\n",
      "|   |   |   |   |   |   |   |   |--- feature_1 >  64.00\n",
      "|   |   |   |   |   |   |   |   |   |--- class: IPCam_V380\n",
      "|   |   |   |   |   |   |   |--- feature_1 >  450.50\n",
      "|   |   |   |   |   |   |   |   |--- class: IPCam_Ezviz\n",
      "|   |   |   |   |   |--- feature_9 >  68.00\n",
      "|   |   |   |   |   |   |--- feature_8 <= 1430.00\n",
      "|   |   |   |   |   |   |   |--- class: IPCam_Ezviz\n",
      "|   |   |   |   |   |   |--- feature_8 >  1430.00\n",
      "|   |   |   |   |   |   |   |--- class: IPCam_V380\n",
      "|   |   |   |   |--- feature_9 >  185.00\n",
      "|   |   |   |   |   |--- feature_3 <= 16750000.00\n",
      "|   |   |   |   |   |   |--- feature_8 <= 1452.00\n",
      "|   |   |   |   |   |   |   |--- feature_6 <= 956.25\n",
      "|   |   |   |   |   |   |   |   |--- feature_9 <= 260.50\n",
      "|   |   |   |   |   |   |   |   |   |--- feature_9 <= 236.00\n",
      "|   |   |   |   |   |   |   |   |   |   |--- feature_9 <= 232.00\n",
      "|   |   |   |   |   |   |   |   |   |   |   |--- truncated branch of depth 3\n",
      "|   |   |   |   |   |   |   |   |   |   |--- feature_9 >  232.00\n",
      "|   |   |   |   |   |   |   |   |   |   |   |--- class: IPCam_V380\n",
      "|   |   |   |   |   |   |   |   |   |--- feature_9 >  236.00\n",
      "|   |   |   |   |   |   |   |   |   |   |--- feature_5 <= 102.00\n",
      "|   |   |   |   |   |   |   |   |   |   |   |--- truncated branch of depth 3\n",
      "|   |   |   |   |   |   |   |   |   |   |--- feature_5 >  102.00\n",
      "|   |   |   |   |   |   |   |   |   |   |   |--- truncated branch of depth 4\n",
      "|   |   |   |   |   |   |   |   |--- feature_9 >  260.50\n",
      "|   |   |   |   |   |   |   |   |   |--- feature_9 <= 409.50\n",
      "|   |   |   |   |   |   |   |   |   |   |--- feature_5 <= 26.00\n",
      "|   |   |   |   |   |   |   |   |   |   |   |--- truncated branch of depth 2\n",
      "|   |   |   |   |   |   |   |   |   |   |--- feature_5 >  26.00\n",
      "|   |   |   |   |   |   |   |   |   |   |   |--- class: IPCam_V380\n",
      "|   |   |   |   |   |   |   |   |   |--- feature_9 >  409.50\n",
      "|   |   |   |   |   |   |   |   |   |   |--- feature_9 <= 456.00\n",
      "|   |   |   |   |   |   |   |   |   |   |   |--- truncated branch of depth 2\n",
      "|   |   |   |   |   |   |   |   |   |   |--- feature_9 >  456.00\n",
      "|   |   |   |   |   |   |   |   |   |   |   |--- truncated branch of depth 7\n",
      "|   |   |   |   |   |   |   |--- feature_6 >  956.25\n",
      "|   |   |   |   |   |   |   |   |--- feature_9 <= 1808.50\n",
      "|   |   |   |   |   |   |   |   |   |--- feature_5 <= 52.00\n",
      "|   |   |   |   |   |   |   |   |   |   |--- feature_8 <= 15.50\n",
      "|   |   |   |   |   |   |   |   |   |   |   |--- truncated branch of depth 8\n",
      "|   |   |   |   |   |   |   |   |   |   |--- feature_8 >  15.50\n",
      "|   |   |   |   |   |   |   |   |   |   |   |--- truncated branch of depth 3\n",
      "|   |   |   |   |   |   |   |   |   |--- feature_5 >  52.00\n",
      "|   |   |   |   |   |   |   |   |   |   |--- feature_9 <= 255.00\n",
      "|   |   |   |   |   |   |   |   |   |   |   |--- class: IPCam_Netatmo\n",
      "|   |   |   |   |   |   |   |   |   |   |--- feature_9 >  255.00\n",
      "|   |   |   |   |   |   |   |   |   |   |   |--- truncated branch of depth 2\n",
      "|   |   |   |   |   |   |   |   |--- feature_9 >  1808.50\n",
      "|   |   |   |   |   |   |   |   |   |--- feature_9 <= 1892.00\n",
      "|   |   |   |   |   |   |   |   |   |   |--- feature_5 <= 46.00\n",
      "|   |   |   |   |   |   |   |   |   |   |   |--- class: IPCam_D3D\n",
      "|   |   |   |   |   |   |   |   |   |   |--- feature_5 >  46.00\n",
      "|   |   |   |   |   |   |   |   |   |   |   |--- truncated branch of depth 2\n",
      "|   |   |   |   |   |   |   |   |   |--- feature_9 >  1892.00\n",
      "|   |   |   |   |   |   |   |   |   |   |--- feature_1 <= 711.00\n",
      "|   |   |   |   |   |   |   |   |   |   |   |--- class: IPCam_Canary\n",
      "|   |   |   |   |   |   |   |   |   |   |--- feature_1 >  711.00\n",
      "|   |   |   |   |   |   |   |   |   |   |   |--- class: IPCam_AlarmClock\n",
      "|   |   |   |   |   |   |--- feature_8 >  1452.00\n",
      "|   |   |   |   |   |   |   |--- feature_8 <= 1458.00\n",
      "|   |   |   |   |   |   |   |   |--- class: IPCam_Netatmo\n",
      "|   |   |   |   |   |   |   |--- feature_8 >  1458.00\n",
      "|   |   |   |   |   |   |   |   |--- feature_6 <= 12.11\n",
      "|   |   |   |   |   |   |   |   |   |--- class: IPCam_Canary\n",
      "|   |   |   |   |   |   |   |   |--- feature_6 >  12.11\n",
      "|   |   |   |   |   |   |   |   |   |--- class: IPCam_V380\n",
      "|   |   |   |   |   |--- feature_3 >  16750000.00\n",
      "|   |   |   |   |   |   |--- feature_9 <= 327.50\n",
      "|   |   |   |   |   |   |   |--- feature_2 <= 244294.50\n",
      "|   |   |   |   |   |   |   |   |--- feature_1 <= 692.00\n",
      "|   |   |   |   |   |   |   |   |   |--- class: IPCam_Canary\n",
      "|   |   |   |   |   |   |   |   |--- feature_1 >  692.00\n",
      "|   |   |   |   |   |   |   |   |   |--- class: IPCam_Netatmo\n",
      "|   |   |   |   |   |   |   |--- feature_2 >  244294.50\n",
      "|   |   |   |   |   |   |   |   |--- feature_8 <= 1437.00\n",
      "|   |   |   |   |   |   |   |   |   |--- class: IPCam_V380\n",
      "|   |   |   |   |   |   |   |   |--- feature_8 >  1437.00\n",
      "|   |   |   |   |   |   |   |   |   |--- class: IPCam_Netatmo\n",
      "|   |   |   |   |   |   |--- feature_9 >  327.50\n",
      "|   |   |   |   |   |   |   |--- feature_8 <= 15.50\n",
      "|   |   |   |   |   |   |   |   |--- class: IPCam_V380\n",
      "|   |   |   |   |   |   |   |--- feature_8 >  15.50\n",
      "|   |   |   |   |   |   |   |   |--- feature_5 <= 696.00\n",
      "|   |   |   |   |   |   |   |   |   |--- class: IPCam_Canary\n",
      "|   |   |   |   |   |   |   |   |--- feature_5 >  696.00\n",
      "|   |   |   |   |   |   |   |   |   |--- feature_5 <= 1016.00\n",
      "|   |   |   |   |   |   |   |   |   |   |--- class: IPCam_V380\n",
      "|   |   |   |   |   |   |   |   |   |--- feature_5 >  1016.00\n",
      "|   |   |   |   |   |   |   |   |   |   |--- class: IPCam_Canary\n",
      "|   |   |   |--- feature_9 >  6529.50\n",
      "|   |   |   |   |--- feature_6 <= 0.08\n",
      "|   |   |   |   |   |--- feature_9 <= 11396.00\n",
      "|   |   |   |   |   |   |--- class: IPCam_V380\n",
      "|   |   |   |   |   |--- feature_9 >  11396.00\n",
      "|   |   |   |   |   |   |--- feature_1 <= 7549336.00\n",
      "|   |   |   |   |   |   |   |--- class: IPCam_D3D\n",
      "|   |   |   |   |   |   |--- feature_1 >  7549336.00\n",
      "|   |   |   |   |   |   |   |--- class: IPCam_V380\n",
      "|   |   |   |   |--- feature_6 >  0.08\n",
      "|   |   |   |   |   |--- feature_9 <= 7864.00\n",
      "|   |   |   |   |   |   |--- class: IPCam_Ezviz\n",
      "|   |   |   |   |   |--- feature_9 >  7864.00\n",
      "|   |   |   |   |   |   |--- feature_9 <= 10512.50\n",
      "|   |   |   |   |   |   |   |--- feature_9 <= 9133.50\n",
      "|   |   |   |   |   |   |   |   |--- class: IPCam_V380\n",
      "|   |   |   |   |   |   |   |--- feature_9 >  9133.50\n",
      "|   |   |   |   |   |   |   |   |--- class: IPCam_Canary\n",
      "|   |   |   |   |   |   |--- feature_9 >  10512.50\n",
      "|   |   |   |   |   |   |   |--- feature_6 <= 0.33\n",
      "|   |   |   |   |   |   |   |   |--- class: IPCam_Ezviz\n",
      "|   |   |   |   |   |   |   |--- feature_6 >  0.33\n",
      "|   |   |   |   |   |   |   |   |--- feature_9 <= 14300.00\n",
      "|   |   |   |   |   |   |   |   |   |--- class: IPCam_Ezviz\n",
      "|   |   |   |   |   |   |   |   |--- feature_9 >  14300.00\n",
      "|   |   |   |   |   |   |   |   |   |--- feature_1 <= 935643.50\n",
      "|   |   |   |   |   |   |   |   |   |   |--- class: IPCam_V380\n",
      "|   |   |   |   |   |   |   |   |   |--- feature_1 >  935643.50\n",
      "|   |   |   |   |   |   |   |   |   |   |--- class: IPCam_AlarmClock\n",
      "|   |   |--- feature_9 >  15077.50\n",
      "|   |   |   |--- feature_3 <= 1800.00\n",
      "|   |   |   |   |--- feature_4 <= 409.00\n",
      "|   |   |   |   |   |--- class: IPCam_V380\n",
      "|   |   |   |   |--- feature_4 >  409.00\n",
      "|   |   |   |   |   |--- class: IPCam_D3D\n",
      "|   |   |   |--- feature_3 >  1800.00\n",
      "|   |   |   |   |--- feature_2 <= 4049397.12\n",
      "|   |   |   |   |   |--- class: IPCam_V380\n",
      "|   |   |   |   |--- feature_2 >  4049397.12\n",
      "|   |   |   |   |   |--- feature_5 <= 176.00\n",
      "|   |   |   |   |   |   |--- class: IPCam_Netatmo\n",
      "|   |   |   |   |   |--- feature_5 >  176.00\n",
      "|   |   |   |   |   |   |--- class: IPCam_Ezviz\n",
      "|   |--- feature_7 >  1.00\n",
      "|   |   |--- feature_7 <= 8.50\n",
      "|   |   |   |--- feature_0 <= 46.00\n",
      "|   |   |   |   |--- feature_5 <= 42872.00\n",
      "|   |   |   |   |   |--- feature_9 <= 5237.50\n",
      "|   |   |   |   |   |   |--- feature_7 <= 6.00\n",
      "|   |   |   |   |   |   |   |--- class: IPCam_D3D\n",
      "|   |   |   |   |   |   |--- feature_7 >  6.00\n",
      "|   |   |   |   |   |   |   |--- feature_8 <= 90.00\n",
      "|   |   |   |   |   |   |   |   |--- class: IPCam_D3D\n",
      "|   |   |   |   |   |   |   |--- feature_8 >  90.00\n",
      "|   |   |   |   |   |   |   |   |--- class: IPCam_V380\n",
      "|   |   |   |   |   |--- feature_9 >  5237.50\n",
      "|   |   |   |   |   |   |--- class: IPCam_Ezviz\n",
      "|   |   |   |   |--- feature_5 >  42872.00\n",
      "|   |   |   |   |   |--- class: IPCam_AlarmClock\n",
      "|   |   |   |--- feature_0 >  46.00\n",
      "|   |   |   |   |--- class: IPCam_AlarmClock\n",
      "|   |   |--- feature_7 >  8.50\n",
      "|   |   |   |--- feature_3 <= 94050000.00\n",
      "|   |   |   |   |--- feature_0 <= 40.50\n",
      "|   |   |   |   |   |--- feature_4 <= 13.00\n",
      "|   |   |   |   |   |   |--- feature_0 <= 22.00\n",
      "|   |   |   |   |   |   |   |--- feature_8 <= 525.50\n",
      "|   |   |   |   |   |   |   |   |--- class: IPCam_V380\n",
      "|   |   |   |   |   |   |   |--- feature_8 >  525.50\n",
      "|   |   |   |   |   |   |   |   |--- feature_8 <= 1231.00\n",
      "|   |   |   |   |   |   |   |   |   |--- class: IPCam_AlarmClock\n",
      "|   |   |   |   |   |   |   |   |--- feature_8 >  1231.00\n",
      "|   |   |   |   |   |   |   |   |   |--- class: IPCam_Ezviz\n",
      "|   |   |   |   |   |   |--- feature_0 >  22.00\n",
      "|   |   |   |   |   |   |   |--- feature_0 <= 27.50\n",
      "|   |   |   |   |   |   |   |   |--- class: IPCam_D3D\n",
      "|   |   |   |   |   |   |   |--- feature_0 >  27.50\n",
      "|   |   |   |   |   |   |   |   |--- class: IPCam_Canary\n",
      "|   |   |   |   |   |--- feature_4 >  13.00\n",
      "|   |   |   |   |   |   |--- feature_3 <= 87900.00\n",
      "|   |   |   |   |   |   |   |--- feature_4 <= 32445.50\n",
      "|   |   |   |   |   |   |   |   |--- feature_8 <= 67.00\n",
      "|   |   |   |   |   |   |   |   |   |--- class: IPCam_V380\n",
      "|   |   |   |   |   |   |   |   |--- feature_8 >  67.00\n",
      "|   |   |   |   |   |   |   |   |   |--- class: IPCam_AlarmClock\n",
      "|   |   |   |   |   |   |   |--- feature_4 >  32445.50\n",
      "|   |   |   |   |   |   |   |   |--- class: IPCam_Ezviz\n",
      "|   |   |   |   |   |   |--- feature_3 >  87900.00\n",
      "|   |   |   |   |   |   |   |--- feature_5 <= 1064.00\n",
      "|   |   |   |   |   |   |   |   |--- class: IPCam_V380\n",
      "|   |   |   |   |   |   |   |--- feature_5 >  1064.00\n",
      "|   |   |   |   |   |   |   |   |--- class: IPCam_Ezviz\n",
      "|   |   |   |   |--- feature_0 >  40.50\n",
      "|   |   |   |   |   |--- feature_0 <= 48.50\n",
      "|   |   |   |   |   |   |--- class: IPCam_AlarmClock\n",
      "|   |   |   |   |   |--- feature_0 >  48.50\n",
      "|   |   |   |   |   |   |--- feature_2 <= 2639.56\n",
      "|   |   |   |   |   |   |   |--- feature_0 <= 56.50\n",
      "|   |   |   |   |   |   |   |   |--- class: IPCam_Ezviz\n",
      "|   |   |   |   |   |   |   |--- feature_0 >  56.50\n",
      "|   |   |   |   |   |   |   |   |--- feature_0 <= 510.50\n",
      "|   |   |   |   |   |   |   |   |   |--- class: IPCam_V380\n",
      "|   |   |   |   |   |   |   |   |--- feature_0 >  510.50\n",
      "|   |   |   |   |   |   |   |   |   |--- class: IPCam_Ezviz\n",
      "|   |   |   |   |   |   |--- feature_2 >  2639.56\n",
      "|   |   |   |   |   |   |   |--- class: IPCam_Ezviz\n",
      "|   |   |   |--- feature_3 >  94050000.00\n",
      "|   |   |   |   |--- feature_0 <= 16.50\n",
      "|   |   |   |   |   |--- class: IPCam_AlarmClock\n",
      "|   |   |   |   |--- feature_0 >  16.50\n",
      "|   |   |   |   |   |--- class: IPCam_Ezviz\n",
      "|--- feature_4 >  383595.00\n",
      "|   |--- feature_1 <= 1205.50\n",
      "|   |   |--- feature_8 <= 40.50\n",
      "|   |   |   |--- feature_4 <= 820445.00\n",
      "|   |   |   |   |--- class: IPCam_V380\n",
      "|   |   |   |--- feature_4 >  820445.00\n",
      "|   |   |   |   |--- class: IPCam_Canary\n",
      "|   |   |--- feature_8 >  40.50\n",
      "|   |   |   |--- feature_8 <= 182.00\n",
      "|   |   |   |   |--- feature_4 <= 430164.00\n",
      "|   |   |   |   |   |--- class: IPCam_V380\n",
      "|   |   |   |   |--- feature_4 >  430164.00\n",
      "|   |   |   |   |   |--- class: IPCam_D3D\n",
      "|   |   |   |--- feature_8 >  182.00\n",
      "|   |   |   |   |--- class: IPCam_Ezviz\n",
      "|   |--- feature_1 >  1205.50\n",
      "|   |   |--- feature_2 <= 18600000.00\n",
      "|   |   |   |--- feature_7 <= 88.00\n",
      "|   |   |   |   |--- feature_5 <= 28.00\n",
      "|   |   |   |   |   |--- feature_4 <= 1794268.50\n",
      "|   |   |   |   |   |   |--- class: IPCam_D3D\n",
      "|   |   |   |   |   |--- feature_4 >  1794268.50\n",
      "|   |   |   |   |   |   |--- class: IPCam_V380\n",
      "|   |   |   |   |--- feature_5 >  28.00\n",
      "|   |   |   |   |   |--- class: IPCam_V380\n",
      "|   |   |   |--- feature_7 >  88.00\n",
      "|   |   |   |   |--- class: IPCam_Ezviz\n",
      "|   |   |--- feature_2 >  18600000.00\n",
      "|   |   |   |--- feature_7 <= 8.00\n",
      "|   |   |   |   |--- feature_7 <= 2.00\n",
      "|   |   |   |   |   |--- class: IPCam_V380\n",
      "|   |   |   |   |--- feature_7 >  2.00\n",
      "|   |   |   |   |   |--- class: IPCam_D3D\n",
      "|   |   |   |--- feature_7 >  8.00\n",
      "|   |   |   |   |--- feature_1 <= 212750.50\n",
      "|   |   |   |   |   |--- class: IPCam_Ezviz\n",
      "|   |   |   |   |--- feature_1 >  212750.50\n",
      "|   |   |   |   |   |--- class: IPCam_AlarmClock\n",
      "\n"
     ]
    }
   ],
   "source": [
    "from sklearn.tree import export_text\n",
    "from sklearn import tree\n",
    "#r = export_text(decision_tree, feature_names=finalFtList)\n",
    "#print(r)\n",
    "text_representation = tree.export_text(clf)\n",
    "print(text_representation)"
   ]
  },
  {
   "cell_type": "code",
   "execution_count": 49,
   "metadata": {},
   "outputs": [
    {
     "name": "stdout",
     "output_type": "stream",
     "text": [
      "18\n"
     ]
    }
   ],
   "source": [
    "print(clf.tree_.max_depth)"
   ]
  },
  {
   "cell_type": "code",
   "execution_count": 24,
   "metadata": {},
   "outputs": [
    {
     "name": "stdout",
     "output_type": "stream",
     "text": [
      "[[ 126    0    4    2    1    2]\n",
      " [   0  130    0    0    4    3]\n",
      " [   0    0  572    0    0    4]\n",
      " [   0    0    0  850    0    1]\n",
      " [   1    4    0    0  289    5]\n",
      " [   4    7    2    6    4 1279]]\n",
      "\n",
      "\n",
      "Clock as Clock =  126  percent =  0.9333333333333333\n",
      "Clock as Ezviz =  0  percent =  0.0\n",
      "Clock as D3D =  4  percent =  0.02962962962962963\n",
      "Clock as Netatmo =  2  percent =  0.014814814814814815\n",
      "Clock as Canary =  1  percent =  0.007407407407407408\n",
      "Clock as Bulb =  2  percent =  0.014814814814814815\n",
      "\n",
      "\n",
      "Ezviz as Clock =  0  percent =  0.0\n",
      "Ezviz as Ezviz =  130  percent =  0.948905109489051\n",
      "Ezviz as D3D = 0  percent =  0.0\n",
      "Ezviz as Netatmo =  0  percent =  0.0\n",
      "Ezviz as Canary =  4  percent =  0.029197080291970802\n",
      "Ezviz as Bulb =  3  percent =  0.021897810218978103\n",
      "\n",
      "\n",
      "D3D as Clock =  0  percent =  0.0\n",
      "D3D as Ezviz =  0  percent =  0.0\n",
      "D3D as D3D =  572  percent =  0.9930555555555556\n",
      "D3D as Netatmo =  0  percent =  0.0\n",
      "D3D as Canary =  0  percent =  0.0\n",
      "D3D as Bulb =  4  percent =  0.006944444444444444\n",
      "\n",
      "\n",
      "Netatmo as Clock =  0  percent =  0.0\n",
      "Netatmo as Ezviz =  0  percent =  0.0\n",
      "Netatmo as D3D =  0  percent =  0.0\n",
      "Netatmo as Netatmo =  850  percent =  0.9988249118683902\n",
      "Netatmo as Canary =  0  percent =  0.0\n",
      "Netatmo as Bulb =  1  percent =  0.0011750881316098707\n",
      "\n",
      "\n",
      "Canary as Clock =  1  percent =  0.0033444816053511705\n",
      "Canary as Ezviz =  4  percent =  0.013377926421404682\n",
      "Canary as D3D =  0  percent =  0.0\n",
      "Canary as Netatmo =  0  percent =  0.0\n",
      "Canary as Canary =  289  percent =  0.9665551839464883\n",
      "Canary as Bulb =  5  percent =  0.016722408026755852\n",
      "\n",
      "\n",
      "Bulb as Clock =  4  percent =  0.0030721966205837174\n",
      "Bulb as Ezviz =  7  percent =  0.005376344086021506\n",
      "Bulb as D3D =  2  percent =  0.0015360983102918587\n",
      "Bulb as Netatmo =  6  percent =  0.004608294930875576\n",
      "Bulb as Canary =  4  percent =  0.0030721966205837174\n",
      "Bulb as Bulb =  1279  percent =  0.9823348694316436\n"
     ]
    }
   ],
   "source": [
    "conf_mat = metrics.confusion_matrix(Y_test, ypred,labels=uniqueLabels)\n",
    "#[i][j] ==> knwon to be in group i and predicted as group j\n",
    "print(conf_mat)\n",
    "print('\\n')\n",
    "print('Clock as Clock = ',conf_mat[0][0],' percent = ', (conf_mat[0][0]/(conf_mat[0][0]+conf_mat[0][1]+conf_mat[0][2]+conf_mat[0][3]+conf_mat[0][4]+conf_mat[0][5])))\n",
    "print('Clock as Ezviz = ',conf_mat[0][1],' percent = ', (conf_mat[0][1]/(conf_mat[0][0]+conf_mat[0][1]+conf_mat[0][2]+conf_mat[0][3]+conf_mat[0][4]+conf_mat[0][5])))\n",
    "print('Clock as D3D = ',conf_mat[0][2],' percent = ', (conf_mat[0][2]/(conf_mat[0][0]+conf_mat[0][1]+conf_mat[0][2]+conf_mat[0][3]+conf_mat[0][4]+conf_mat[0][5])))\n",
    "print('Clock as Netatmo = ',conf_mat[0][3],' percent = ', (conf_mat[0][3]/(conf_mat[0][0]+conf_mat[0][1]+conf_mat[0][2]+conf_mat[0][3]+conf_mat[0][4]+conf_mat[0][5])))\n",
    "print('Clock as Canary = ',conf_mat[0][4],' percent = ', (conf_mat[0][4]/(conf_mat[0][0]+conf_mat[0][1]+conf_mat[0][2]+conf_mat[0][3]+conf_mat[0][4]+conf_mat[0][5])))\n",
    "print('Clock as Bulb = ',conf_mat[0][5],' percent = ', (conf_mat[0][5]/(conf_mat[0][0]+conf_mat[0][1]+conf_mat[0][2]+conf_mat[0][3]+conf_mat[0][4]+conf_mat[0][5])))\n",
    "print('\\n')\n",
    "\n",
    "print('Ezviz as Clock = ',conf_mat[1][0],' percent = ', (conf_mat[1][0]/(conf_mat[1][0]+conf_mat[1][1]+conf_mat[1][2]+conf_mat[1][3]+conf_mat[1][4]+conf_mat[1][5])))\n",
    "print('Ezviz as Ezviz = ',conf_mat[1][1],' percent = ', (conf_mat[1][1]/(conf_mat[1][0]+conf_mat[1][1]+conf_mat[1][2]+conf_mat[1][3]+conf_mat[1][4]+conf_mat[1][5])))\n",
    "print('Ezviz as D3D =',conf_mat[1][2],' percent = ', (conf_mat[1][2]/(conf_mat[1][0]+conf_mat[1][1]+conf_mat[1][2]+conf_mat[1][3]+conf_mat[1][4]+conf_mat[1][5])))\n",
    "print('Ezviz as Netatmo = ',conf_mat[1][3],' percent = ', (conf_mat[1][3]/(conf_mat[1][0]+conf_mat[1][1]+conf_mat[1][2]+conf_mat[1][3]+conf_mat[1][4]+conf_mat[1][5])))\n",
    "print('Ezviz as Canary = ',conf_mat[1][4],' percent = ', (conf_mat[1][4]/(conf_mat[1][0]+conf_mat[1][1]+conf_mat[1][2]+conf_mat[1][3]+conf_mat[1][4]+conf_mat[1][5])))\n",
    "print('Ezviz as Bulb = ',conf_mat[1][5],' percent = ', (conf_mat[1][5]/(conf_mat[1][0]+conf_mat[1][1]+conf_mat[1][2]+conf_mat[1][3]+conf_mat[1][4]+conf_mat[1][5])))\n",
    "print('\\n')\n",
    "\n",
    "print('D3D as Clock = ',conf_mat[2][0],' percent = ', (conf_mat[2][0]/(conf_mat[2][0]+conf_mat[2][1]+conf_mat[2][2]+conf_mat[2][3]+conf_mat[2][4]+conf_mat[2][5])))\n",
    "print('D3D as Ezviz = ',conf_mat[2][1],' percent = ', (conf_mat[2][1]/(conf_mat[2][0]+conf_mat[2][1]+conf_mat[2][2]+conf_mat[2][3]+conf_mat[2][4]+conf_mat[2][5])))\n",
    "print('D3D as D3D = ',conf_mat[2][2],' percent = ', (conf_mat[2][2]/(conf_mat[2][0]+conf_mat[2][1]+conf_mat[2][2]+conf_mat[2][3]+conf_mat[2][4]+conf_mat[2][5])))\n",
    "print('D3D as Netatmo = ',conf_mat[2][3],' percent = ', (conf_mat[2][3]/(conf_mat[2][0]+conf_mat[2][1]+conf_mat[2][2]+conf_mat[2][3]+conf_mat[2][4]+conf_mat[2][5])))\n",
    "print('D3D as Canary = ',conf_mat[2][4],' percent = ', (conf_mat[2][4]/(conf_mat[2][0]+conf_mat[2][1]+conf_mat[2][2]+conf_mat[2][3]+conf_mat[2][4]+conf_mat[2][5])))\n",
    "print('D3D as Bulb = ',conf_mat[2][5],' percent = ', (conf_mat[2][5]/(conf_mat[2][0]+conf_mat[2][1]+conf_mat[2][2]+conf_mat[2][3]+conf_mat[2][4]+conf_mat[2][5])))\n",
    "print('\\n')\n",
    "\n",
    "print('Netatmo as Clock = ',conf_mat[3][0],' percent = ', (conf_mat[3][0]/(conf_mat[3][0]+conf_mat[3][1]+conf_mat[3][2]+conf_mat[3][3]+conf_mat[3][4]+conf_mat[3][5])))\n",
    "print('Netatmo as Ezviz = ',conf_mat[3][1],' percent = ', (conf_mat[3][1]/(conf_mat[3][0]+conf_mat[3][1]+conf_mat[3][2]+conf_mat[3][3]+conf_mat[3][4]+conf_mat[3][5])))\n",
    "print('Netatmo as D3D = ',conf_mat[3][2],' percent = ', (conf_mat[3][2]/(conf_mat[3][0]+conf_mat[3][1]+conf_mat[3][2]+conf_mat[3][3]+conf_mat[3][4]+conf_mat[3][5])))\n",
    "print('Netatmo as Netatmo = ',conf_mat[3][3],' percent = ', (conf_mat[3][3]/(conf_mat[3][0]+conf_mat[3][1]+conf_mat[3][2]+conf_mat[3][3]+conf_mat[3][4]+conf_mat[3][5])))\n",
    "print('Netatmo as Canary = ',conf_mat[3][4],' percent = ', (conf_mat[3][4]/(conf_mat[3][0]+conf_mat[3][1]+conf_mat[3][2]+conf_mat[3][3]+conf_mat[3][4]+conf_mat[3][5])))\n",
    "print('Netatmo as Bulb = ',conf_mat[3][5],' percent = ', (conf_mat[3][5]/(conf_mat[3][0]+conf_mat[3][1]+conf_mat[3][2]+conf_mat[3][3]+conf_mat[3][4]+conf_mat[3][5])))\n",
    "print('\\n')\n",
    "\n",
    "print('Canary as Clock = ',conf_mat[4][0],' percent = ', (conf_mat[4][0]/(conf_mat[4][0]+conf_mat[4][1]+conf_mat[4][2]+conf_mat[4][3]+conf_mat[4][4]+conf_mat[4][5])))\n",
    "print('Canary as Ezviz = ',conf_mat[4][1],' percent = ', (conf_mat[4][1]/(conf_mat[4][0]+conf_mat[4][1]+conf_mat[4][2]+conf_mat[4][3]+conf_mat[4][4]+conf_mat[4][5])))\n",
    "print('Canary as D3D = ',conf_mat[4][2],' percent = ', (conf_mat[4][2]/(conf_mat[4][0]+conf_mat[4][1]+conf_mat[4][2]+conf_mat[4][3]+conf_mat[4][4]+conf_mat[4][5])))\n",
    "print('Canary as Netatmo = ',conf_mat[4][3],' percent = ', (conf_mat[4][3]/(conf_mat[4][0]+conf_mat[4][1]+conf_mat[4][2]+conf_mat[4][3]+conf_mat[4][4]+conf_mat[4][5])))\n",
    "print('Canary as Canary = ',conf_mat[4][4],' percent = ', (conf_mat[4][4]/(conf_mat[4][0]+conf_mat[4][1]+conf_mat[4][2]+conf_mat[4][3]+conf_mat[4][4]+conf_mat[4][5])))\n",
    "print('Canary as Bulb = ',conf_mat[4][5],' percent = ', (conf_mat[4][5]/(conf_mat[4][0]+conf_mat[4][1]+conf_mat[4][2]+conf_mat[4][3]+conf_mat[4][4]+conf_mat[4][5])))\n",
    "print('\\n')\n",
    "\n",
    "print('Bulb as Clock = ',conf_mat[5][0],' percent = ', (conf_mat[5][0]/(conf_mat[5][0]+conf_mat[5][1]+conf_mat[5][2]+conf_mat[5][3]+conf_mat[5][4]+conf_mat[5][5])))\n",
    "print('Bulb as Ezviz = ',conf_mat[5][1],' percent = ', (conf_mat[5][1]/(conf_mat[5][0]+conf_mat[5][1]+conf_mat[5][2]+conf_mat[5][3]+conf_mat[5][4]+conf_mat[5][5])))\n",
    "print('Bulb as D3D = ',conf_mat[5][2],' percent = ', (conf_mat[5][2]/(conf_mat[5][0]+conf_mat[5][1]+conf_mat[5][2]+conf_mat[5][3]+conf_mat[5][4]+conf_mat[5][5])))\n",
    "print('Bulb as Netatmo = ',conf_mat[5][3],' percent = ', (conf_mat[5][3]/(conf_mat[5][0]+conf_mat[5][1]+conf_mat[5][2]+conf_mat[5][3]+conf_mat[5][4]+conf_mat[5][5])))\n",
    "print('Bulb as Canary = ',conf_mat[5][4],' percent = ', (conf_mat[5][4]/(conf_mat[5][0]+conf_mat[5][1]+conf_mat[5][2]+conf_mat[5][3]+conf_mat[5][4]+conf_mat[5][5])))\n",
    "print('Bulb as Bulb = ',conf_mat[5][5],' percent = ', (conf_mat[5][5]/(conf_mat[5][0]+conf_mat[5][1]+conf_mat[5][2]+conf_mat[5][3]+conf_mat[5][4]+conf_mat[5][5])))\n"
   ]
  },
  {
   "cell_type": "code",
   "execution_count": 25,
   "metadata": {},
   "outputs": [
    {
     "data": {
      "text/plain": [
       "(62, 62)"
      ]
     },
     "execution_count": 25,
     "metadata": {},
     "output_type": "execute_result"
    }
   ],
   "source": [
    "#classification with unselected and uncorrelated features\n",
    "corr = masterSelected.corr()\n",
    "corr.shape"
   ]
  },
  {
   "cell_type": "code",
   "execution_count": 26,
   "metadata": {},
   "outputs": [
    {
     "name": "stdout",
     "output_type": "stream",
     "text": [
      "ft1:  Flow Duration ft2:  Bwd IAT Tot   corr:  0.9428542901980759\n",
      "ft1:  Tot Fwd Pkts ft2:  Bwd Header Len   corr:  0.6805001530279391\n",
      "ft1:  Tot Bwd Pkts ft2:  Bwd Header Len   corr:  0.7999509620699672\n",
      "ft1:  TotLen Bwd Pkts ft2:  Bwd Header Len   corr:  0.7657730058852629\n",
      "ft1:  Fwd Pkt Len Max ft2:  Pkt Len Max   corr:  0.822693844764583\n",
      "ft1:  Fwd Pkt Len Min ft2:  Pkt Len Min   corr:  0.7491793440613609\n",
      "ft1:  Fwd Pkt Len Mean ft2:  Pkt Len Max   corr:  0.7157608794802148\n",
      "ft1:  Fwd Pkt Len Std ft2:  Pkt Len Max   corr:  0.7862044407820764\n",
      "ft1:  Bwd Pkt Len Max ft2:  Pkt Len Max   corr:  0.8174958683662381\n",
      "ft1:  Bwd Pkt Len Min ft2:  Pkt Len Min   corr:  0.8609016567314569\n",
      "ft1:  Bwd Pkt Len Std ft2:  Pkt Len Max   corr:  0.7111519033730657\n",
      "ft1:  Flow Pkts/s ft2:  Bwd Pkts/s   corr:  0.9740423395152855\n",
      "ft1:  Flow IAT Mean ft2:  Flow IAT Min   corr:  0.7424561801884625\n",
      "ft1:  Flow IAT Std ft2:  Fwd IAT Mean   corr:  0.7608643548550147\n",
      "ft1:  Flow IAT Max ft2:  Fwd IAT Mean   corr:  0.7004620238289344\n",
      "ft1:  Fwd IAT Tot ft2:  Bwd IAT Tot   corr:  0.9165503022481689\n",
      "ft1:  Fwd IAT Max ft2:  Fwd IAT Mean   corr:  0.9031290539302915\n",
      "ft1:  Bwd IAT Mean ft2:  Bwd IAT Min   corr:  0.6857454241006491\n",
      "ft1:  Fwd Header Len ft2:  Bwd Header Len   corr:  0.9177724293711828\n",
      "ft1:  Fwd Pkts/s ft2:  Bwd Pkts/s   corr:  0.9017224252548849\n",
      "ft1:  Pkt Len Min ft2:  Fwd Pkt Len Min   corr:  0.7491793440613609\n",
      "ft1:  Pkt Len Mean ft2:  Pkt Len Max   corr:  0.8975421181938139\n",
      "ft1:  Pkt Len Std ft2:  Pkt Len Max   corr:  0.9733654675444373\n",
      "ft1:  Pkt Len Var ft2:  Pkt Len Max   corr:  0.9257001076281399\n",
      "ft1:  Pkt Size Avg ft2:  Pkt Len Max   corr:  0.8953971522330602\n",
      "ft1:  Fwd Seg Size Avg ft2:  Pkt Len Max   corr:  0.7157608794802243\n",
      "ft1:  Subflow Fwd Pkts ft2:  Bwd Header Len   corr:  0.6805001530279391\n",
      "ft1:  Subflow Bwd Pkts ft2:  Bwd Header Len   corr:  0.7999509620699672\n",
      "ft1:  Subflow Bwd Byts ft2:  Bwd Header Len   corr:  0.7658243590532465\n",
      "ft1:  Idle Mean ft2:  Fwd IAT Mean   corr:  0.7076879748408139\n",
      "ft1:  Idle Max ft2:  Fwd IAT Mean   corr:  0.7017367324211476\n",
      "ft1:  Idle Min ft2:  Fwd IAT Mean   corr:  0.7027021276603064\n",
      "31\n",
      "['TotLen Fwd Pkts', 'Bwd Pkt Len Mean', 'Flow Byts/s', 'Flow IAT Min', 'Fwd IAT Mean', 'Fwd IAT Std', 'Fwd IAT Min', 'Bwd IAT Tot', 'Bwd IAT Std', 'Bwd IAT Max', 'Bwd IAT Min', 'Bwd PSH Flags', 'Bwd Header Len', 'Bwd Pkts/s', 'Pkt Len Max', 'FIN Flag Cnt', 'SYN Flag Cnt', 'RST Flag Cnt', 'PSH Flag Cnt', 'ACK Flag Cnt', 'Down/Up Ratio', 'Bwd Seg Size Avg', 'Subflow Fwd Byts', 'Init Bwd Win Byts', 'Fwd Act Data Pkts', 'Active Mean', 'Active Std', 'Active Max', 'Active Min', 'Idle Std', 'Label']\n",
      "10\n",
      "['Fwd Pkt Len Min', 'Flow IAT Min', 'Fwd IAT Mean', 'Bwd IAT Tot', 'Bwd IAT Min', 'Bwd Header Len', 'Bwd Pkts/s', 'Pkt Len Min', 'Pkt Len Max', 'Init Bwd Win Byts']\n"
     ]
    }
   ],
   "source": [
    "corrThreshold = 0.65\n",
    "unCorrUnSelFtList = list()\n",
    "for ft1 in finalFtList:#baseft = 'Idle Max' for each of the selected features\n",
    "    #print('ft1: ', ft1)\n",
    "    isCorr = False\n",
    "    for ft2 in ftSelected:# for each of the top 10 features\n",
    "        if ft1 == 'Label' or ft2 == 'Label' or (ft1 == ft2):\n",
    "            continue\n",
    "        elif abs(corr[ft1][ft2]) > corrThreshold:\n",
    "                isCorr = True\n",
    "                print('ft1: ', ft1, 'ft2: ', ft2, '  corr: ', corr[ft1][ft2])\n",
    "                break\n",
    "    if not isCorr and ft1 not in unCorrUnSelFtList:\n",
    "        #print('corr[{0}][{1}] = {2}: isPresentInRestFtlist: {3}'.format(baseft,ft,corr[baseft][ft], ft in restFtList))\n",
    "        unCorrUnSelFtList.append(ft1)\n",
    "        \n",
    "    #elif abs(corr[ft1][ft] >= 0.6 and ft in unCorrUnSelFtList):\n",
    "    #            unCorrUnSelFtList.remove(ft)\n",
    "print(len(unCorrUnSelFtList))\n",
    "print(unCorrUnSelFtList)\n",
    "\n",
    "print(len(ftSelected))\n",
    "print(ftSelected)"
   ]
  },
  {
   "cell_type": "code",
   "execution_count": 27,
   "metadata": {},
   "outputs": [],
   "source": [
    "for ft1 in ftSelected:\n",
    "    for ft2 in unCorrUnSelFtList:\n",
    "        if ft1 != 'Label' or ft2 == 'Label':\n",
    "            continue\n",
    "        if abs(corr[ft][ft2]) >= corrThreshold:\n",
    "            print('ft: ',ft, ' ft2: ',ft2, corr[ft][ft2])"
   ]
  },
  {
   "cell_type": "code",
   "execution_count": 28,
   "metadata": {},
   "outputs": [
    {
     "name": "stdout",
     "output_type": "stream",
     "text": [
      "(10000, 31)\n"
     ]
    }
   ],
   "source": [
    "#slice master data frame to only uncorrelated and unselected features\n",
    "masterUnSelected = masterSelected[unCorrUnSelFtList]\n",
    "print(masterUnSelected.shape)"
   ]
  },
  {
   "cell_type": "code",
   "execution_count": 29,
   "metadata": {},
   "outputs": [
    {
     "name": "stdout",
     "output_type": "stream",
     "text": [
      "Xshape:  (10000, 30)\n",
      "Yshape:  (10000,)\n"
     ]
    }
   ],
   "source": [
    "#### classification with unselected columns\n",
    "masterUnSelDS = masterUnSelected.values\n",
    "Xnotsel = masterUnSelDS[:,:-1]\n",
    "Y = masterUnSelDS[:,-1]\n",
    "print(\"Xshape: \", Xnotsel.shape)\n",
    "print(\"Yshape: \", Y.shape)"
   ]
  },
  {
   "cell_type": "code",
   "execution_count": 30,
   "metadata": {},
   "outputs": [
    {
     "name": "stdout",
     "output_type": "stream",
     "text": [
      "classification with rest (not top 10) features:\n",
      "[0.98  0.985 0.959 0.939 0.99  0.984 0.976 0.99  0.96  0.968]\n",
      "mean score:  0.9730999999999999  std score:  0.015642570121306806\n"
     ]
    }
   ],
   "source": [
    "#find cross validation score with uncorrelated and unselecte feature data frame\n",
    "clf = DecisionTreeClassifier(random_state=0)\n",
    "print('classification with rest (not top 10) features:')\n",
    "scores = cross_val_score(clf, Xnotsel, Y, cv=10)\n",
    "print(scores)\n",
    "print('mean score: ', scores.mean(), ' std score: ', scores.std())"
   ]
  },
  {
   "cell_type": "code",
   "execution_count": 31,
   "metadata": {},
   "outputs": [],
   "source": [
    "#classification with with uncorrelated and unselecte feature data frame\n",
    "X_train, X_test, Y_train, Y_test = train_test_split(Xnotsel, Y, test_size=0.33, random_state=1)\n",
    "model = DecisionTreeClassifier(random_state=0)\n",
    "model.fit(X_train,Y_train)\n",
    "yhat = model.predict(X_test)"
   ]
  },
  {
   "cell_type": "code",
   "execution_count": 32,
   "metadata": {},
   "outputs": [
    {
     "name": "stdout",
     "output_type": "stream",
     "text": [
      "[[ 128    0    3    0    0    4]\n",
      " [   0  129    0    1    5    2]\n",
      " [   0    0  573    0    0    3]\n",
      " [   0    0    5  845    0    1]\n",
      " [   0    2    1    0  292    4]\n",
      " [   3    6    3    1    4 1285]]\n",
      "\n",
      "\n",
      "Clock as Clock =  128  percent =  0.9481481481481482\n",
      "Clock as Ezviz =  0  percent =  0.0\n",
      "Clock as D3D =  3  percent =  0.022222222222222223\n",
      "Clock as Netatmo =  0  percent =  0.0\n",
      "Clock as Canary =  0  percent =  0.0\n",
      "Clock as Bulb =  4  percent =  0.02962962962962963\n",
      "\n",
      "\n",
      "Ezviz as Clock =  0  percent =  0.0\n",
      "Ezviz as Ezviz =  129  percent =  0.9416058394160584\n",
      "Ezviz as D3D = 0  percent =  0.0\n",
      "Ezviz as Netatmo =  1  percent =  0.0072992700729927005\n",
      "Ezviz as Canary =  5  percent =  0.0364963503649635\n",
      "Ezviz as Bulb =  2  percent =  0.014598540145985401\n",
      "\n",
      "\n",
      "D3D as Clock =  0  percent =  0.0\n",
      "D3D as Ezviz =  0  percent =  0.0\n",
      "D3D as D3D =  573  percent =  0.9947916666666666\n",
      "D3D as Netatmo =  0  percent =  0.0\n",
      "D3D as Canary =  0  percent =  0.0\n",
      "D3D as Bulb =  3  percent =  0.005208333333333333\n",
      "\n",
      "\n",
      "Netatmo as Clock =  0  percent =  0.0\n",
      "Netatmo as Ezviz =  0  percent =  0.0\n",
      "Netatmo as D3D =  5  percent =  0.005875440658049354\n",
      "Netatmo as Netatmo =  845  percent =  0.9929494712103408\n",
      "Netatmo as Canary =  0  percent =  0.0\n",
      "Netatmo as Bulb =  1  percent =  0.0011750881316098707\n",
      "\n",
      "\n",
      "Canary as Clock =  0  percent =  0.0\n",
      "Canary as Ezviz =  2  percent =  0.006688963210702341\n",
      "Canary as D3D =  1  percent =  0.0033444816053511705\n",
      "Canary as Netatmo =  0  percent =  0.0\n",
      "Canary as Canary =  292  percent =  0.9765886287625418\n",
      "Canary as Bulb =  4  percent =  0.013377926421404682\n",
      "\n",
      "\n",
      "Bulb as Clock =  3  percent =  0.002304147465437788\n",
      "Bulb as Ezviz =  6  percent =  0.004608294930875576\n",
      "Bulb as D3D =  3  percent =  0.002304147465437788\n",
      "Bulb as Netatmo =  1  percent =  0.0007680491551459293\n",
      "Bulb as Canary =  4  percent =  0.0030721966205837174\n",
      "Bulb as Bulb =  1285  percent =  0.9869431643625192\n"
     ]
    }
   ],
   "source": [
    "conf_mat = metrics.confusion_matrix(Y_test, yhat,labels=uniqueLabels)\n",
    "#[i][j] ==> knwon to be in group i and predicted as group j\n",
    "print(conf_mat)\n",
    "print('\\n')\n",
    "print('Clock as Clock = ',conf_mat[0][0],' percent = ', (conf_mat[0][0]/(conf_mat[0][0]+conf_mat[0][1]+conf_mat[0][2]+conf_mat[0][3]+conf_mat[0][4]+conf_mat[0][5])))\n",
    "print('Clock as Ezviz = ',conf_mat[0][1],' percent = ', (conf_mat[0][1]/(conf_mat[0][0]+conf_mat[0][1]+conf_mat[0][2]+conf_mat[0][3]+conf_mat[0][4]+conf_mat[0][5])))\n",
    "print('Clock as D3D = ',conf_mat[0][2],' percent = ', (conf_mat[0][2]/(conf_mat[0][0]+conf_mat[0][1]+conf_mat[0][2]+conf_mat[0][3]+conf_mat[0][4]+conf_mat[0][5])))\n",
    "print('Clock as Netatmo = ',conf_mat[0][3],' percent = ', (conf_mat[0][3]/(conf_mat[0][0]+conf_mat[0][1]+conf_mat[0][2]+conf_mat[0][3]+conf_mat[0][4]+conf_mat[0][5])))\n",
    "print('Clock as Canary = ',conf_mat[0][4],' percent = ', (conf_mat[0][4]/(conf_mat[0][0]+conf_mat[0][1]+conf_mat[0][2]+conf_mat[0][3]+conf_mat[0][4]+conf_mat[0][5])))\n",
    "print('Clock as Bulb = ',conf_mat[0][5],' percent = ', (conf_mat[0][5]/(conf_mat[0][0]+conf_mat[0][1]+conf_mat[0][2]+conf_mat[0][3]+conf_mat[0][4]+conf_mat[0][5])))\n",
    "print('\\n')\n",
    "\n",
    "print('Ezviz as Clock = ',conf_mat[1][0],' percent = ', (conf_mat[1][0]/(conf_mat[1][0]+conf_mat[1][1]+conf_mat[1][2]+conf_mat[1][3]+conf_mat[1][4]+conf_mat[1][5])))\n",
    "print('Ezviz as Ezviz = ',conf_mat[1][1],' percent = ', (conf_mat[1][1]/(conf_mat[1][0]+conf_mat[1][1]+conf_mat[1][2]+conf_mat[1][3]+conf_mat[1][4]+conf_mat[1][5])))\n",
    "print('Ezviz as D3D =',conf_mat[1][2],' percent = ', (conf_mat[1][2]/(conf_mat[1][0]+conf_mat[1][1]+conf_mat[1][2]+conf_mat[1][3]+conf_mat[1][4]+conf_mat[1][5])))\n",
    "print('Ezviz as Netatmo = ',conf_mat[1][3],' percent = ', (conf_mat[1][3]/(conf_mat[1][0]+conf_mat[1][1]+conf_mat[1][2]+conf_mat[1][3]+conf_mat[1][4]+conf_mat[1][5])))\n",
    "print('Ezviz as Canary = ',conf_mat[1][4],' percent = ', (conf_mat[1][4]/(conf_mat[1][0]+conf_mat[1][1]+conf_mat[1][2]+conf_mat[1][3]+conf_mat[1][4]+conf_mat[1][5])))\n",
    "print('Ezviz as Bulb = ',conf_mat[1][5],' percent = ', (conf_mat[1][5]/(conf_mat[1][0]+conf_mat[1][1]+conf_mat[1][2]+conf_mat[1][3]+conf_mat[1][4]+conf_mat[1][5])))\n",
    "print('\\n')\n",
    "\n",
    "print('D3D as Clock = ',conf_mat[2][0],' percent = ', (conf_mat[2][0]/(conf_mat[2][0]+conf_mat[2][1]+conf_mat[2][2]+conf_mat[2][3]+conf_mat[2][4]+conf_mat[2][5])))\n",
    "print('D3D as Ezviz = ',conf_mat[2][1],' percent = ', (conf_mat[2][1]/(conf_mat[2][0]+conf_mat[2][1]+conf_mat[2][2]+conf_mat[2][3]+conf_mat[2][4]+conf_mat[2][5])))\n",
    "print('D3D as D3D = ',conf_mat[2][2],' percent = ', (conf_mat[2][2]/(conf_mat[2][0]+conf_mat[2][1]+conf_mat[2][2]+conf_mat[2][3]+conf_mat[2][4]+conf_mat[2][5])))\n",
    "print('D3D as Netatmo = ',conf_mat[2][3],' percent = ', (conf_mat[2][3]/(conf_mat[2][0]+conf_mat[2][1]+conf_mat[2][2]+conf_mat[2][3]+conf_mat[2][4]+conf_mat[2][5])))\n",
    "print('D3D as Canary = ',conf_mat[2][4],' percent = ', (conf_mat[2][4]/(conf_mat[2][0]+conf_mat[2][1]+conf_mat[2][2]+conf_mat[2][3]+conf_mat[2][4]+conf_mat[2][5])))\n",
    "print('D3D as Bulb = ',conf_mat[2][5],' percent = ', (conf_mat[2][5]/(conf_mat[2][0]+conf_mat[2][1]+conf_mat[2][2]+conf_mat[2][3]+conf_mat[2][4]+conf_mat[2][5])))\n",
    "print('\\n')\n",
    "\n",
    "print('Netatmo as Clock = ',conf_mat[3][0],' percent = ', (conf_mat[3][0]/(conf_mat[3][0]+conf_mat[3][1]+conf_mat[3][2]+conf_mat[3][3]+conf_mat[3][4]+conf_mat[3][5])))\n",
    "print('Netatmo as Ezviz = ',conf_mat[3][1],' percent = ', (conf_mat[3][1]/(conf_mat[3][0]+conf_mat[3][1]+conf_mat[3][2]+conf_mat[3][3]+conf_mat[3][4]+conf_mat[3][5])))\n",
    "print('Netatmo as D3D = ',conf_mat[3][2],' percent = ', (conf_mat[3][2]/(conf_mat[3][0]+conf_mat[3][1]+conf_mat[3][2]+conf_mat[3][3]+conf_mat[3][4]+conf_mat[3][5])))\n",
    "print('Netatmo as Netatmo = ',conf_mat[3][3],' percent = ', (conf_mat[3][3]/(conf_mat[3][0]+conf_mat[3][1]+conf_mat[3][2]+conf_mat[3][3]+conf_mat[3][4]+conf_mat[3][5])))\n",
    "print('Netatmo as Canary = ',conf_mat[3][4],' percent = ', (conf_mat[3][4]/(conf_mat[3][0]+conf_mat[3][1]+conf_mat[3][2]+conf_mat[3][3]+conf_mat[3][4]+conf_mat[3][5])))\n",
    "print('Netatmo as Bulb = ',conf_mat[3][5],' percent = ', (conf_mat[3][5]/(conf_mat[3][0]+conf_mat[3][1]+conf_mat[3][2]+conf_mat[3][3]+conf_mat[3][4]+conf_mat[3][5])))\n",
    "print('\\n')\n",
    "\n",
    "print('Canary as Clock = ',conf_mat[4][0],' percent = ', (conf_mat[4][0]/(conf_mat[4][0]+conf_mat[4][1]+conf_mat[4][2]+conf_mat[4][3]+conf_mat[4][4]+conf_mat[4][5])))\n",
    "print('Canary as Ezviz = ',conf_mat[4][1],' percent = ', (conf_mat[4][1]/(conf_mat[4][0]+conf_mat[4][1]+conf_mat[4][2]+conf_mat[4][3]+conf_mat[4][4]+conf_mat[4][5])))\n",
    "print('Canary as D3D = ',conf_mat[4][2],' percent = ', (conf_mat[4][2]/(conf_mat[4][0]+conf_mat[4][1]+conf_mat[4][2]+conf_mat[4][3]+conf_mat[4][4]+conf_mat[4][5])))\n",
    "print('Canary as Netatmo = ',conf_mat[4][3],' percent = ', (conf_mat[4][3]/(conf_mat[4][0]+conf_mat[4][1]+conf_mat[4][2]+conf_mat[4][3]+conf_mat[4][4]+conf_mat[4][5])))\n",
    "print('Canary as Canary = ',conf_mat[4][4],' percent = ', (conf_mat[4][4]/(conf_mat[4][0]+conf_mat[4][1]+conf_mat[4][2]+conf_mat[4][3]+conf_mat[4][4]+conf_mat[4][5])))\n",
    "print('Canary as Bulb = ',conf_mat[4][5],' percent = ', (conf_mat[4][5]/(conf_mat[4][0]+conf_mat[4][1]+conf_mat[4][2]+conf_mat[4][3]+conf_mat[4][4]+conf_mat[4][5])))\n",
    "print('\\n')\n",
    "\n",
    "print('Bulb as Clock = ',conf_mat[5][0],' percent = ', (conf_mat[5][0]/(conf_mat[5][0]+conf_mat[5][1]+conf_mat[5][2]+conf_mat[5][3]+conf_mat[5][4]+conf_mat[5][5])))\n",
    "print('Bulb as Ezviz = ',conf_mat[5][1],' percent = ', (conf_mat[5][1]/(conf_mat[5][0]+conf_mat[5][1]+conf_mat[5][2]+conf_mat[5][3]+conf_mat[5][4]+conf_mat[5][5])))\n",
    "print('Bulb as D3D = ',conf_mat[5][2],' percent = ', (conf_mat[5][2]/(conf_mat[5][0]+conf_mat[5][1]+conf_mat[5][2]+conf_mat[5][3]+conf_mat[5][4]+conf_mat[5][5])))\n",
    "print('Bulb as Netatmo = ',conf_mat[5][3],' percent = ', (conf_mat[5][3]/(conf_mat[5][0]+conf_mat[5][1]+conf_mat[5][2]+conf_mat[5][3]+conf_mat[5][4]+conf_mat[5][5])))\n",
    "print('Bulb as Canary = ',conf_mat[5][4],' percent = ', (conf_mat[5][4]/(conf_mat[5][0]+conf_mat[5][1]+conf_mat[5][2]+conf_mat[5][3]+conf_mat[5][4]+conf_mat[5][5])))\n",
    "print('Bulb as Bulb = ',conf_mat[5][5],' percent = ', (conf_mat[5][5]/(conf_mat[5][0]+conf_mat[5][1]+conf_mat[5][2]+conf_mat[5][3]+conf_mat[5][4]+conf_mat[5][5])))\n"
   ]
  },
  {
   "cell_type": "code",
   "execution_count": null,
   "metadata": {},
   "outputs": [],
   "source": []
  },
  {
   "cell_type": "code",
   "execution_count": null,
   "metadata": {},
   "outputs": [],
   "source": []
  }
 ],
 "metadata": {
  "kernelspec": {
   "display_name": "Python 3 (ipykernel)",
   "language": "python",
   "name": "python3"
  },
  "language_info": {
   "codemirror_mode": {
    "name": "ipython",
    "version": 3
   },
   "file_extension": ".py",
   "mimetype": "text/x-python",
   "name": "python",
   "nbconvert_exporter": "python",
   "pygments_lexer": "ipython3",
   "version": "3.10.5"
  }
 },
 "nbformat": 4,
 "nbformat_minor": 2
}
