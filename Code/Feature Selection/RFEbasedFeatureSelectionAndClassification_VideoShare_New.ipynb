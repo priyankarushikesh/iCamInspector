{
 "cells": [
  {
   "cell_type": "code",
   "execution_count": 1,
   "metadata": {},
   "outputs": [],
   "source": [
    "import pandas as pd\n",
    "import numpy as np\n",
    "from sklearn.model_selection import train_test_split\n",
    "from sklearn.feature_selection import SelectKBest\n",
    "from sklearn.feature_selection import f_classif\n",
    "from sklearn.feature_selection import RFE\n",
    "from sklearn.model_selection import cross_val_score\n",
    "from sklearn.tree import DecisionTreeClassifier\n",
    "from sklearn import metrics\n",
    "from matplotlib import pyplot"
   ]
  },
  {
   "cell_type": "code",
   "execution_count": 2,
   "metadata": {},
   "outputs": [],
   "source": [
    "fnames = [\"D:/New pcaps_IoTSpyCamera/TDSC_WorkAfterReview/filteredPcapCSV/VideoSharing_filteredpcapcsv/amazon1_Flow.csv\",\n",
    "          \"D:/New pcaps_IoTSpyCamera/TDSC_WorkAfterReview/filteredPcapCSV/VideoSharing_filteredpcapcsv/amazon2_Flow.csv\",\n",
    "          \"D:/New pcaps_IoTSpyCamera/TDSC_WorkAfterReview/filteredPcapCSV/VideoSharing_filteredpcapcsv/amazon3_Flow.csv\",\n",
    "          \"D:/New pcaps_IoTSpyCamera/TDSC_WorkAfterReview/filteredPcapCSV/VideoSharing_filteredpcapcsv/amazon4_Flow.csv\",\n",
    "          \"D:/New pcaps_IoTSpyCamera/TDSC_WorkAfterReview/filteredPcapCSV/VideoSharing_filteredpcapcsv/amazon5_Flow.csv\",\n",
    "          \"D:/New pcaps_IoTSpyCamera/TDSC_WorkAfterReview/filteredPcapCSV/VideoSharing_filteredpcapcsv/YouTube_1_Flow.csv\",\n",
    "          \"D:/New pcaps_IoTSpyCamera/TDSC_WorkAfterReview/filteredPcapCSV/VideoSharing_filteredpcapcsv/YouTube_2_Flow.csv\",\n",
    "          \"D:/New pcaps_IoTSpyCamera/TDSC_WorkAfterReview/filteredPcapCSV/VideoSharing_filteredpcapcsv/YouTube_3_Flow.csv\",\n",
    "          \"D:/New pcaps_IoTSpyCamera/TDSC_WorkAfterReview/filteredPcapCSV/VideoSharing_filteredpcapcsv/YouTube_4_Flow.csv\",\n",
    "          \"D:/New pcaps_IoTSpyCamera/TDSC_WorkAfterReview/filteredPcapCSV/VideoSharing_filteredpcapcsv/YouTube_5_Flow.csv\",\n",
    "          \"D:/New pcaps_IoTSpyCamera/TDSC_WorkAfterReview/filteredPcapCSV/VideoSharing_filteredpcapcsv/YouTube_6_Flow.csv\",\n",
    "          \"D:/New pcaps_IoTSpyCamera/TDSC_WorkAfterReview/filteredPcapCSV/VideoSharing_filteredpcapcsv/YouTube_7_Flow.csv\",\n",
    "          \"D:/New pcaps_IoTSpyCamera/TDSC_WorkAfterReview/filteredPcapCSV/VideoSharing_filteredpcapcsv/YouTube_8_Flow.csv\",\n",
    "          \"D:/New pcaps_IoTSpyCamera/TDSC_WorkAfterReview/filteredPcapCSV/VideoSharing_filteredpcapcsv/YouTube_9_Flow.csv\",\n",
    "          \n",
    "         ]"
   ]
  },
  {
   "cell_type": "code",
   "execution_count": 3,
   "metadata": {},
   "outputs": [
    {
     "name": "stdout",
     "output_type": "stream",
     "text": [
      "file: D:/New pcaps_IoTSpyCamera/TDSC_WorkAfterReview/filteredPcapCSV/VideoSharing_filteredpcapcsv/amazon1_Flow.csv  data size:  (870, 84)\n",
      "file: D:/New pcaps_IoTSpyCamera/TDSC_WorkAfterReview/filteredPcapCSV/VideoSharing_filteredpcapcsv/amazon2_Flow.csv  data size:  (516, 84)\n",
      "file: D:/New pcaps_IoTSpyCamera/TDSC_WorkAfterReview/filteredPcapCSV/VideoSharing_filteredpcapcsv/amazon3_Flow.csv  data size:  (921, 84)\n",
      "file: D:/New pcaps_IoTSpyCamera/TDSC_WorkAfterReview/filteredPcapCSV/VideoSharing_filteredpcapcsv/amazon4_Flow.csv  data size:  (467, 84)\n",
      "file: D:/New pcaps_IoTSpyCamera/TDSC_WorkAfterReview/filteredPcapCSV/VideoSharing_filteredpcapcsv/amazon5_Flow.csv  data size:  (800, 84)\n",
      "file: D:/New pcaps_IoTSpyCamera/TDSC_WorkAfterReview/filteredPcapCSV/VideoSharing_filteredpcapcsv/YouTube_1_Flow.csv  data size:  (1420, 84)\n",
      "file: D:/New pcaps_IoTSpyCamera/TDSC_WorkAfterReview/filteredPcapCSV/VideoSharing_filteredpcapcsv/YouTube_2_Flow.csv  data size:  (52, 84)\n",
      "file: D:/New pcaps_IoTSpyCamera/TDSC_WorkAfterReview/filteredPcapCSV/VideoSharing_filteredpcapcsv/YouTube_3_Flow.csv  data size:  (37, 84)\n",
      "file: D:/New pcaps_IoTSpyCamera/TDSC_WorkAfterReview/filteredPcapCSV/VideoSharing_filteredpcapcsv/YouTube_4_Flow.csv  data size:  (41, 84)\n",
      "file: D:/New pcaps_IoTSpyCamera/TDSC_WorkAfterReview/filteredPcapCSV/VideoSharing_filteredpcapcsv/YouTube_5_Flow.csv  data size:  (337, 84)\n",
      "file: D:/New pcaps_IoTSpyCamera/TDSC_WorkAfterReview/filteredPcapCSV/VideoSharing_filteredpcapcsv/YouTube_6_Flow.csv  data size:  (159, 84)\n",
      "file: D:/New pcaps_IoTSpyCamera/TDSC_WorkAfterReview/filteredPcapCSV/VideoSharing_filteredpcapcsv/YouTube_7_Flow.csv  data size:  (337, 84)\n",
      "file: D:/New pcaps_IoTSpyCamera/TDSC_WorkAfterReview/filteredPcapCSV/VideoSharing_filteredpcapcsv/YouTube_8_Flow.csv  data size:  (1729, 84)\n",
      "file: D:/New pcaps_IoTSpyCamera/TDSC_WorkAfterReview/filteredPcapCSV/VideoSharing_filteredpcapcsv/YouTube_9_Flow.csv  data size:  (194, 84)\n",
      "(7880, 84)\n"
     ]
    }
   ],
   "source": [
    "dfList = list()\n",
    "for fname in fnames: \n",
    "    data = pd.read_csv(fname)\n",
    "    print('file:', fname, ' data size: ',data.shape)\n",
    "    dfList.append(data)\n",
    "############## combine the data frames\n",
    "masterDF = pd.concat(dfList)\n",
    "print(masterDF.shape)"
   ]
  },
  {
   "cell_type": "code",
   "execution_count": 4,
   "metadata": {},
   "outputs": [
    {
     "name": "stdout",
     "output_type": "stream",
     "text": [
      "['VShare_Amazon', 'VShare_YouTube']\n"
     ]
    }
   ],
   "source": [
    "#see unique labels\n",
    "masterDF['Label'].unique()\n",
    "masterDF['Label'].replace('VConf_Gmeet','VConf_GMeet',inplace=True)\n",
    "uniqueLabels = list(masterDF['Label'].unique())\n",
    "print(uniqueLabels)"
   ]
  },
  {
   "cell_type": "code",
   "execution_count": 5,
   "metadata": {},
   "outputs": [
    {
     "name": "stdout",
     "output_type": "stream",
     "text": [
      "pruneddata size:  (7880, 77)\n",
      "['Flow Duration', 'Tot Fwd Pkts', 'Tot Bwd Pkts', 'TotLen Fwd Pkts', 'TotLen Bwd Pkts', 'Fwd Pkt Len Max', 'Fwd Pkt Len Min', 'Fwd Pkt Len Mean', 'Fwd Pkt Len Std', 'Bwd Pkt Len Max', 'Bwd Pkt Len Min', 'Bwd Pkt Len Mean', 'Bwd Pkt Len Std', 'Flow Byts/s', 'Flow Pkts/s', 'Flow IAT Mean', 'Flow IAT Std', 'Flow IAT Max', 'Flow IAT Min', 'Fwd IAT Tot', 'Fwd IAT Mean', 'Fwd IAT Std', 'Fwd IAT Max', 'Fwd IAT Min', 'Bwd IAT Tot', 'Bwd IAT Mean', 'Bwd IAT Std', 'Bwd IAT Max', 'Bwd IAT Min', 'Fwd PSH Flags', 'Bwd PSH Flags', 'Fwd URG Flags', 'Bwd URG Flags', 'Fwd Header Len', 'Bwd Header Len', 'Fwd Pkts/s', 'Bwd Pkts/s', 'Pkt Len Min', 'Pkt Len Max', 'Pkt Len Mean', 'Pkt Len Std', 'Pkt Len Var', 'FIN Flag Cnt', 'SYN Flag Cnt', 'RST Flag Cnt', 'PSH Flag Cnt', 'ACK Flag Cnt', 'URG Flag Cnt', 'CWE Flag Count', 'ECE Flag Cnt', 'Down/Up Ratio', 'Pkt Size Avg', 'Fwd Seg Size Avg', 'Bwd Seg Size Avg', 'Fwd Byts/b Avg', 'Fwd Pkts/b Avg', 'Fwd Blk Rate Avg', 'Bwd Byts/b Avg', 'Bwd Pkts/b Avg', 'Bwd Blk Rate Avg', 'Subflow Fwd Pkts', 'Subflow Fwd Byts', 'Subflow Bwd Pkts', 'Subflow Bwd Byts', 'Init Fwd Win Byts', 'Init Bwd Win Byts', 'Fwd Act Data Pkts', 'Fwd Seg Size Min', 'Active Mean', 'Active Std', 'Active Max', 'Active Min', 'Idle Mean', 'Idle Std', 'Idle Max', 'Idle Min', 'Label']\n"
     ]
    }
   ],
   "source": [
    "#discard all those columns that helps in uniquely identifying a flow\n",
    "masterPruned = masterDF.iloc[:,np.arange(7,84)]\n",
    "print('pruneddata size: ', masterPruned.shape)\n",
    "ftList = list(masterPruned.columns)\n",
    "print(ftList)"
   ]
  },
  {
   "cell_type": "code",
   "execution_count": 6,
   "metadata": {},
   "outputs": [
    {
     "data": {
      "text/plain": [
       "(5285, 77)"
      ]
     },
     "execution_count": 6,
     "metadata": {},
     "output_type": "execute_result"
    }
   ],
   "source": [
    "#discard those flows that has 0 flow duration\n",
    "masterSelected = masterPruned.drop(masterPruned[masterPruned['Flow Duration']==0].index)\n",
    "masterSelected.shape"
   ]
  },
  {
   "cell_type": "code",
   "execution_count": 7,
   "metadata": {},
   "outputs": [
    {
     "name": "stdout",
     "output_type": "stream",
     "text": [
      "[]\n"
     ]
    }
   ],
   "source": [
    "#identify those columns that has non-numeric values\n",
    "typesList = masterSelected.dtypes\n",
    "ftCount = len(ftList)\n",
    "nonNumericFtList = list()\n",
    "for fi in range(ftCount):\n",
    "    if ftList[fi] != 'Label' and typesList[fi] != 'int64' and typesList[fi] != 'float64':\n",
    "        print(ftList[fi], '  ', typesList[fi])\n",
    "        nonNumericFtList.append(ftList[fi])\n",
    "print(nonNumericFtList)"
   ]
  },
  {
   "cell_type": "code",
   "execution_count": 8,
   "metadata": {},
   "outputs": [],
   "source": [
    "#pyplot.boxplot(results, labels=names, showmeans=True)\n",
    "#pyplot.scatter(fpackets,fbytes)\n",
    "#pyplot.show()\n"
   ]
  },
  {
   "cell_type": "code",
   "execution_count": 9,
   "metadata": {},
   "outputs": [],
   "source": [
    "for ft in nonNumericFtList:\n",
    "    masterSelected[ft] = pd.to_numeric(masterSelected[ft], errors='coerce')"
   ]
  },
  {
   "cell_type": "code",
   "execution_count": 10,
   "metadata": {},
   "outputs": [
    {
     "name": "stdout",
     "output_type": "stream",
     "text": [
      "[]\n"
     ]
    }
   ],
   "source": [
    "print(nonNumericFtList)\n",
    "for ft in nonNumericFtList:\n",
    "    countNaN = masterSelected[ft].isna().sum()\n",
    "    print('converted to numeric ft: ', ft, '  countNaN: ', countNaN)"
   ]
  },
  {
   "cell_type": "code",
   "execution_count": 11,
   "metadata": {},
   "outputs": [
    {
     "name": "stdout",
     "output_type": "stream",
     "text": [
      "count inf:  0\n"
     ]
    }
   ],
   "source": [
    "number_inf = masterSelected[masterSelected == np.inf].count().sum()\n",
    "print('count inf: ',number_inf)"
   ]
  },
  {
   "cell_type": "code",
   "execution_count": 12,
   "metadata": {},
   "outputs": [
    {
     "name": "stdout",
     "output_type": "stream",
     "text": [
      "[]\n"
     ]
    }
   ],
   "source": [
    "typesList = masterSelected.dtypes\n",
    "ftCount = len(ftList)\n",
    "nonNumericFtList = list()\n",
    "for fi in range(ftCount):\n",
    "    if ftList[fi] != 'Label' and typesList[fi] != 'int64' and typesList[fi] != 'float64':\n",
    "        print(ftList[fi], '  ', typesList[fi])\n",
    "        nonNumericFtList.append(ftList[fi])\n",
    "print(nonNumericFtList)"
   ]
  },
  {
   "cell_type": "code",
   "execution_count": 13,
   "metadata": {},
   "outputs": [
    {
     "name": "stdout",
     "output_type": "stream",
     "text": [
      "count:  1  ft:  Fwd PSH Flags  ftmin:  0  ftMax:  0\n",
      "count:  2  ft:  Fwd URG Flags  ftmin:  0  ftMax:  0\n",
      "count:  3  ft:  Bwd URG Flags  ftmin:  0  ftMax:  0\n",
      "count:  4  ft:  URG Flag Cnt  ftmin:  0  ftMax:  0\n",
      "count:  5  ft:  CWE Flag Count  ftmin:  0  ftMax:  0\n",
      "count:  6  ft:  ECE Flag Cnt  ftmin:  0  ftMax:  0\n",
      "count:  7  ft:  Fwd Byts/b Avg  ftmin:  0  ftMax:  0\n",
      "count:  8  ft:  Fwd Pkts/b Avg  ftmin:  0  ftMax:  0\n",
      "count:  9  ft:  Fwd Blk Rate Avg  ftmin:  0  ftMax:  0\n",
      "count:  10  ft:  Bwd Byts/b Avg  ftmin:  0  ftMax:  0\n",
      "count:  11  ft:  Bwd Pkts/b Avg  ftmin:  0  ftMax:  0\n",
      "count:  12  ft:  Bwd Blk Rate Avg  ftmin:  0  ftMax:  0\n",
      "count:  13  ft:  Init Fwd Win Byts  ftmin:  -1  ftMax:  -1\n",
      "count:  14  ft:  Fwd Seg Size Min  ftmin:  0  ftMax:  0\n",
      "['Fwd PSH Flags', 'Fwd URG Flags', 'Bwd URG Flags', 'URG Flag Cnt', 'CWE Flag Count', 'ECE Flag Cnt', 'Fwd Byts/b Avg', 'Fwd Pkts/b Avg', 'Fwd Blk Rate Avg', 'Bwd Byts/b Avg', 'Bwd Pkts/b Avg', 'Bwd Blk Rate Avg', 'Init Fwd Win Byts', 'Fwd Seg Size Min']\n"
     ]
    }
   ],
   "source": [
    "#identify those columns that has 0 std\n",
    "count = 0\n",
    "staticFtList = list()\n",
    "for ft in ftList:\n",
    "    if ft == 'Label':\n",
    "        continue\n",
    "    #print('ft : ', ft)\n",
    "    ftMin = masterSelected[ft].min()\n",
    "    ftMax = masterSelected[ft].max()\n",
    "    #std = masterPruned[ft].std()\n",
    "    \n",
    "    if ftMin == ftMax:\n",
    "        count += 1\n",
    "        print('count: ', count, ' ft: ', ft, ' ftmin: ', ftMin, ' ftMax: ', ftMax)\n",
    "        staticFtList.append(ft)\n",
    "print(staticFtList)"
   ]
  },
  {
   "cell_type": "code",
   "execution_count": 14,
   "metadata": {},
   "outputs": [
    {
     "name": "stdout",
     "output_type": "stream",
     "text": [
      "before droping column:  (5285, 77)\n",
      "after droping column:  (5285, 63)\n"
     ]
    }
   ],
   "source": [
    "#remove those columns that have 0 std\n",
    "print('before droping column: ', masterSelected.shape)\n",
    "for ft in staticFtList:\n",
    "    masterSelected.drop([ft], axis=1,inplace=True)\n",
    "print('after droping column: ', masterSelected.shape)    \n"
   ]
  },
  {
   "cell_type": "code",
   "execution_count": 15,
   "metadata": {},
   "outputs": [
    {
     "name": "stdout",
     "output_type": "stream",
     "text": [
      "63\n",
      "['Flow Duration', 'Tot Fwd Pkts', 'Tot Bwd Pkts', 'TotLen Fwd Pkts', 'TotLen Bwd Pkts', 'Fwd Pkt Len Max', 'Fwd Pkt Len Min', 'Fwd Pkt Len Mean', 'Fwd Pkt Len Std', 'Bwd Pkt Len Max', 'Bwd Pkt Len Min', 'Bwd Pkt Len Mean', 'Bwd Pkt Len Std', 'Flow Byts/s', 'Flow Pkts/s', 'Flow IAT Mean', 'Flow IAT Std', 'Flow IAT Max', 'Flow IAT Min', 'Fwd IAT Tot', 'Fwd IAT Mean', 'Fwd IAT Std', 'Fwd IAT Max', 'Fwd IAT Min', 'Bwd IAT Tot', 'Bwd IAT Mean', 'Bwd IAT Std', 'Bwd IAT Max', 'Bwd IAT Min', 'Bwd PSH Flags', 'Fwd Header Len', 'Bwd Header Len', 'Fwd Pkts/s', 'Bwd Pkts/s', 'Pkt Len Min', 'Pkt Len Max', 'Pkt Len Mean', 'Pkt Len Std', 'Pkt Len Var', 'FIN Flag Cnt', 'SYN Flag Cnt', 'RST Flag Cnt', 'PSH Flag Cnt', 'ACK Flag Cnt', 'Down/Up Ratio', 'Pkt Size Avg', 'Fwd Seg Size Avg', 'Bwd Seg Size Avg', 'Subflow Fwd Pkts', 'Subflow Fwd Byts', 'Subflow Bwd Pkts', 'Subflow Bwd Byts', 'Init Bwd Win Byts', 'Fwd Act Data Pkts', 'Active Mean', 'Active Std', 'Active Max', 'Active Min', 'Idle Mean', 'Idle Std', 'Idle Max', 'Idle Min', 'Label']\n"
     ]
    }
   ],
   "source": [
    "xCount = masterSelected.shape[1]\n",
    "print(xCount)\n",
    "finalFtList = list(masterSelected.columns)\n",
    "print(finalFtList)"
   ]
  },
  {
   "cell_type": "code",
   "execution_count": 16,
   "metadata": {},
   "outputs": [],
   "source": [
    "#report intermediate data frame to a csv\n",
    "#masterSelected.to_csv('../reports_db/CICFlowMeter_VideoConferencingOutput/ProcessedNPrunnedAllConf.csv', index = False)"
   ]
  },
  {
   "cell_type": "code",
   "execution_count": 17,
   "metadata": {},
   "outputs": [
    {
     "name": "stdout",
     "output_type": "stream",
     "text": [
      "Xshape:  (5285, 62)\n",
      "Yshape:  (5285,)\n"
     ]
    }
   ],
   "source": [
    "#classification with all the features\n",
    "masterDS = masterSelected.values\n",
    "X = masterDS[:,:-1]\n",
    "Y = masterDS[:,-1]\n",
    "print(\"Xshape: \", X.shape)\n",
    "print(\"Yshape: \", Y.shape)"
   ]
  },
  {
   "cell_type": "code",
   "execution_count": 18,
   "metadata": {},
   "outputs": [
    {
     "name": "stdout",
     "output_type": "stream",
     "text": [
      "XNew.shape (5285, 10)\n"
     ]
    }
   ],
   "source": [
    "# feature selection using ANNOVA F-score\n",
    "topKval = 10\n",
    "rfe = RFE(estimator=DecisionTreeClassifier(), n_features_to_select=topKval)\n",
    "# fit RFE\n",
    "rfe.fit(X, Y)\n",
    "# summarize all features\n",
    "\n",
    "# transform train input data\n",
    "XNew = rfe.transform(X)\n",
    "# transform test input data\n",
    "print('XNew.shape', XNew.shape)\n",
    "#print('XNew', XNew)"
   ]
  },
  {
   "cell_type": "code",
   "execution_count": 19,
   "metadata": {},
   "outputs": [
    {
     "name": "stdout",
     "output_type": "stream",
     "text": [
      "Column: 0, ColName: Flow Duration, Selected True, Rank: 1.000\n",
      "Column: 5, ColName: Fwd Pkt Len Max, Selected True, Rank: 1.000\n",
      "Column: 15, ColName: Flow IAT Mean, Selected True, Rank: 1.000\n",
      "Column: 16, ColName: Flow IAT Std, Selected True, Rank: 1.000\n",
      "Column: 17, ColName: Flow IAT Max, Selected True, Rank: 1.000\n",
      "Column: 23, ColName: Fwd IAT Min, Selected True, Rank: 1.000\n",
      "Column: 25, ColName: Bwd IAT Mean, Selected True, Rank: 1.000\n",
      "Column: 27, ColName: Bwd IAT Max, Selected True, Rank: 1.000\n",
      "Column: 28, ColName: Bwd IAT Min, Selected True, Rank: 1.000\n",
      "Column: 52, ColName: Init Bwd Win Byts, Selected True, Rank: 1.000\n",
      "['Flow Duration', 'Fwd Pkt Len Max', 'Flow IAT Mean', 'Flow IAT Std', 'Flow IAT Max', 'Fwd IAT Min', 'Bwd IAT Mean', 'Bwd IAT Max', 'Bwd IAT Min', 'Init Bwd Win Byts']\n"
     ]
    }
   ],
   "source": [
    "ftSelected = list()#features[0:-1]\n",
    "for fi in range(xCount-1):\n",
    "    ft  = finalFtList[fi]\n",
    "    \n",
    "    if ft != 'Label' and rfe.support_[fi]:\n",
    "        #print('i = ', fi, ' ftName: ', ftList[fi], ' FS.support_: ', FS.get_support()[fi], ' FS.scores: = ', FS.scores_[fi])\n",
    "        #scores.append(ref.scores_[fi])\n",
    "        ftSelected.append(ft)\n",
    "        print('Column: %d, ColName: %s, Selected %s, Rank: %.3f' % (fi, finalFtList[fi], rfe.support_[fi], rfe.ranking_[fi]))\n",
    "print(ftSelected)"
   ]
  },
  {
   "cell_type": "code",
   "execution_count": 20,
   "metadata": {},
   "outputs": [
    {
     "name": "stdout",
     "output_type": "stream",
     "text": [
      "classification with top 10 selected features:\n",
      "[0.93005671 0.96597353 0.97164461 0.89603025 0.9168242  0.72916667\n",
      " 0.81628788 0.83333333 0.78598485 0.8219697 ]\n",
      "mean score:  0.8667271724809533 min score:  0.7291666666666666 max score:  0.9716446124763705  std score:  0.0770332656266717\n"
     ]
    }
   ],
   "source": [
    "clf = DecisionTreeClassifier(random_state=0)\n",
    "print('classification with top 10 selected features:')\n",
    "scores = cross_val_score(clf, XNew, Y, cv=10)\n",
    "print(scores)\n",
    "print('mean score: ', scores.mean(),'min score: ', scores.min(), 'max score: ', scores.max(), ' std score: ', scores.std())"
   ]
  },
  {
   "cell_type": "code",
   "execution_count": 21,
   "metadata": {},
   "outputs": [],
   "source": [
    "#performance with to k  features using decision tree\n",
    "X_train, X_test, Y_train, Y_test = train_test_split(XNew, Y, test_size=0.33, random_state=1)\n",
    "model = DecisionTreeClassifier(random_state=0)\n",
    "clf = model.fit(X_train,Y_train)\n",
    "ypred = model.predict(X_test)"
   ]
  },
  {
   "cell_type": "code",
   "execution_count": 22,
   "metadata": {},
   "outputs": [
    {
     "name": "stdout",
     "output_type": "stream",
     "text": [
      "|--- feature_7 <= 23.50\n",
      "|   |--- feature_9 <= 507.50\n",
      "|   |   |--- feature_5 <= 306825.00\n",
      "|   |   |   |--- feature_1 <= 1355.00\n",
      "|   |   |   |   |--- feature_5 <= 312.50\n",
      "|   |   |   |   |   |--- class: VShare_YouTube\n",
      "|   |   |   |   |--- feature_5 >  312.50\n",
      "|   |   |   |   |   |--- feature_4 <= 376.00\n",
      "|   |   |   |   |   |   |--- class: VShare_Amazon\n",
      "|   |   |   |   |   |--- feature_4 >  376.00\n",
      "|   |   |   |   |   |   |--- feature_9 <= 56.50\n",
      "|   |   |   |   |   |   |   |--- feature_5 <= 218322.00\n",
      "|   |   |   |   |   |   |   |   |--- class: VShare_Amazon\n",
      "|   |   |   |   |   |   |   |--- feature_5 >  218322.00\n",
      "|   |   |   |   |   |   |   |   |--- class: VShare_YouTube\n",
      "|   |   |   |   |   |   |--- feature_9 >  56.50\n",
      "|   |   |   |   |   |   |   |--- class: VShare_YouTube\n",
      "|   |   |   |--- feature_1 >  1355.00\n",
      "|   |   |   |   |--- class: VShare_Amazon\n",
      "|   |   |--- feature_5 >  306825.00\n",
      "|   |   |   |--- feature_4 <= 2011913.00\n",
      "|   |   |   |   |--- feature_3 <= 521870.78\n",
      "|   |   |   |   |   |--- feature_5 <= 714461.00\n",
      "|   |   |   |   |   |   |--- class: VShare_YouTube\n",
      "|   |   |   |   |   |--- feature_5 >  714461.00\n",
      "|   |   |   |   |   |   |--- feature_0 <= 3235340.50\n",
      "|   |   |   |   |   |   |   |--- class: VShare_Amazon\n",
      "|   |   |   |   |   |   |--- feature_0 >  3235340.50\n",
      "|   |   |   |   |   |   |   |--- feature_3 <= 117279.97\n",
      "|   |   |   |   |   |   |   |   |--- class: VShare_Amazon\n",
      "|   |   |   |   |   |   |   |--- feature_3 >  117279.97\n",
      "|   |   |   |   |   |   |   |   |--- class: VShare_YouTube\n",
      "|   |   |   |   |--- feature_3 >  521870.78\n",
      "|   |   |   |   |   |--- class: VShare_Amazon\n",
      "|   |   |   |--- feature_4 >  2011913.00\n",
      "|   |   |   |   |--- feature_5 <= 476648.00\n",
      "|   |   |   |   |   |--- feature_2 <= 1242750.06\n",
      "|   |   |   |   |   |   |--- class: VShare_YouTube\n",
      "|   |   |   |   |   |--- feature_2 >  1242750.06\n",
      "|   |   |   |   |   |   |--- class: VShare_Amazon\n",
      "|   |   |   |   |--- feature_5 >  476648.00\n",
      "|   |   |   |   |   |--- class: VShare_YouTube\n",
      "|   |--- feature_9 >  507.50\n",
      "|   |   |--- feature_2 <= 107.00\n",
      "|   |   |   |--- feature_9 <= 510.50\n",
      "|   |   |   |   |--- feature_0 <= 73.00\n",
      "|   |   |   |   |   |--- class: VShare_YouTube\n",
      "|   |   |   |   |--- feature_0 >  73.00\n",
      "|   |   |   |   |   |--- class: VShare_Amazon\n",
      "|   |   |   |--- feature_9 >  510.50\n",
      "|   |   |   |   |--- class: VShare_YouTube\n",
      "|   |   |--- feature_2 >  107.00\n",
      "|   |   |   |--- feature_4 <= 11856018.00\n",
      "|   |   |   |   |--- feature_0 <= 1191.00\n",
      "|   |   |   |   |   |--- feature_9 <= 512.50\n",
      "|   |   |   |   |   |   |--- feature_9 <= 510.50\n",
      "|   |   |   |   |   |   |   |--- feature_4 <= 252.00\n",
      "|   |   |   |   |   |   |   |   |--- feature_2 <= 133.00\n",
      "|   |   |   |   |   |   |   |   |   |--- class: VShare_YouTube\n",
      "|   |   |   |   |   |   |   |   |--- feature_2 >  133.00\n",
      "|   |   |   |   |   |   |   |   |   |--- feature_0 <= 161.00\n",
      "|   |   |   |   |   |   |   |   |   |   |--- class: VShare_Amazon\n",
      "|   |   |   |   |   |   |   |   |   |--- feature_0 >  161.00\n",
      "|   |   |   |   |   |   |   |   |   |   |--- feature_4 <= 188.50\n",
      "|   |   |   |   |   |   |   |   |   |   |   |--- truncated branch of depth 3\n",
      "|   |   |   |   |   |   |   |   |   |   |--- feature_4 >  188.50\n",
      "|   |   |   |   |   |   |   |   |   |   |   |--- class: VShare_Amazon\n",
      "|   |   |   |   |   |   |   |--- feature_4 >  252.00\n",
      "|   |   |   |   |   |   |   |   |--- class: VShare_YouTube\n",
      "|   |   |   |   |   |   |--- feature_9 >  510.50\n",
      "|   |   |   |   |   |   |   |--- class: VShare_Amazon\n",
      "|   |   |   |   |   |--- feature_9 >  512.50\n",
      "|   |   |   |   |   |   |--- feature_2 <= 122.25\n",
      "|   |   |   |   |   |   |   |--- feature_5 <= 34.00\n",
      "|   |   |   |   |   |   |   |   |--- class: VShare_YouTube\n",
      "|   |   |   |   |   |   |   |--- feature_5 >  34.00\n",
      "|   |   |   |   |   |   |   |   |--- class: VShare_Amazon\n",
      "|   |   |   |   |   |   |--- feature_2 >  122.25\n",
      "|   |   |   |   |   |   |   |--- feature_9 <= 514.00\n",
      "|   |   |   |   |   |   |   |   |--- feature_0 <= 170.00\n",
      "|   |   |   |   |   |   |   |   |   |--- feature_0 <= 153.50\n",
      "|   |   |   |   |   |   |   |   |   |   |--- feature_2 <= 146.00\n",
      "|   |   |   |   |   |   |   |   |   |   |   |--- class: VShare_YouTube\n",
      "|   |   |   |   |   |   |   |   |   |   |--- feature_2 >  146.00\n",
      "|   |   |   |   |   |   |   |   |   |   |   |--- class: VShare_Amazon\n",
      "|   |   |   |   |   |   |   |   |   |--- feature_0 >  153.50\n",
      "|   |   |   |   |   |   |   |   |   |   |--- class: VShare_YouTube\n",
      "|   |   |   |   |   |   |   |   |--- feature_0 >  170.00\n",
      "|   |   |   |   |   |   |   |   |   |--- feature_2 <= 242.50\n",
      "|   |   |   |   |   |   |   |   |   |   |--- class: VShare_Amazon\n",
      "|   |   |   |   |   |   |   |   |   |--- feature_2 >  242.50\n",
      "|   |   |   |   |   |   |   |   |   |   |--- class: VShare_YouTube\n",
      "|   |   |   |   |   |   |   |--- feature_9 >  514.00\n",
      "|   |   |   |   |   |   |   |   |--- feature_0 <= 157.50\n",
      "|   |   |   |   |   |   |   |   |   |--- feature_2 <= 156.50\n",
      "|   |   |   |   |   |   |   |   |   |   |--- class: VShare_YouTube\n",
      "|   |   |   |   |   |   |   |   |   |--- feature_2 >  156.50\n",
      "|   |   |   |   |   |   |   |   |   |   |--- class: VShare_Amazon\n",
      "|   |   |   |   |   |   |   |   |--- feature_0 >  157.50\n",
      "|   |   |   |   |   |   |   |   |   |--- class: VShare_YouTube\n",
      "|   |   |   |   |--- feature_0 >  1191.00\n",
      "|   |   |   |   |   |--- feature_9 <= 1152.00\n",
      "|   |   |   |   |   |   |--- feature_0 <= 817644.50\n",
      "|   |   |   |   |   |   |   |--- class: VShare_Amazon\n",
      "|   |   |   |   |   |   |--- feature_0 >  817644.50\n",
      "|   |   |   |   |   |   |   |--- feature_4 <= 845891.00\n",
      "|   |   |   |   |   |   |   |   |--- class: VShare_YouTube\n",
      "|   |   |   |   |   |   |   |--- feature_4 >  845891.00\n",
      "|   |   |   |   |   |   |   |   |--- feature_4 <= 1437822.00\n",
      "|   |   |   |   |   |   |   |   |   |--- feature_0 <= 1356849.50\n",
      "|   |   |   |   |   |   |   |   |   |   |--- feature_2 <= 1156325.00\n",
      "|   |   |   |   |   |   |   |   |   |   |   |--- class: VShare_Amazon\n",
      "|   |   |   |   |   |   |   |   |   |   |--- feature_2 >  1156325.00\n",
      "|   |   |   |   |   |   |   |   |   |   |   |--- truncated branch of depth 4\n",
      "|   |   |   |   |   |   |   |   |   |--- feature_0 >  1356849.50\n",
      "|   |   |   |   |   |   |   |   |   |   |--- class: VShare_YouTube\n",
      "|   |   |   |   |   |   |   |   |--- feature_4 >  1437822.00\n",
      "|   |   |   |   |   |   |   |   |   |--- class: VShare_Amazon\n",
      "|   |   |   |   |   |--- feature_9 >  1152.00\n",
      "|   |   |   |   |   |   |--- feature_0 <= 7306194.50\n",
      "|   |   |   |   |   |   |   |--- feature_4 <= 18758.00\n",
      "|   |   |   |   |   |   |   |   |--- class: VShare_Amazon\n",
      "|   |   |   |   |   |   |   |--- feature_4 >  18758.00\n",
      "|   |   |   |   |   |   |   |   |--- class: VShare_YouTube\n",
      "|   |   |   |   |   |   |--- feature_0 >  7306194.50\n",
      "|   |   |   |   |   |   |   |--- class: VShare_Amazon\n",
      "|   |   |   |--- feature_4 >  11856018.00\n",
      "|   |   |   |   |--- feature_4 <= 65050000.00\n",
      "|   |   |   |   |   |--- feature_2 <= 26250000.00\n",
      "|   |   |   |   |   |   |--- class: VShare_YouTube\n",
      "|   |   |   |   |   |--- feature_2 >  26250000.00\n",
      "|   |   |   |   |   |   |--- feature_9 <= 512.50\n",
      "|   |   |   |   |   |   |   |--- feature_0 <= 40018506.00\n",
      "|   |   |   |   |   |   |   |   |--- feature_0 <= 40018108.00\n",
      "|   |   |   |   |   |   |   |   |   |--- feature_0 <= 40007010.00\n",
      "|   |   |   |   |   |   |   |   |   |   |--- feature_9 <= 510.00\n",
      "|   |   |   |   |   |   |   |   |   |   |   |--- truncated branch of depth 5\n",
      "|   |   |   |   |   |   |   |   |   |   |--- feature_9 >  510.00\n",
      "|   |   |   |   |   |   |   |   |   |   |   |--- class: VShare_YouTube\n",
      "|   |   |   |   |   |   |   |   |   |--- feature_0 >  40007010.00\n",
      "|   |   |   |   |   |   |   |   |   |   |--- feature_0 <= 40011960.00\n",
      "|   |   |   |   |   |   |   |   |   |   |   |--- class: VShare_YouTube\n",
      "|   |   |   |   |   |   |   |   |   |   |--- feature_0 >  40011960.00\n",
      "|   |   |   |   |   |   |   |   |   |   |   |--- truncated branch of depth 2\n",
      "|   |   |   |   |   |   |   |   |--- feature_0 >  40018108.00\n",
      "|   |   |   |   |   |   |   |   |   |--- class: VShare_Amazon\n",
      "|   |   |   |   |   |   |   |--- feature_0 >  40018506.00\n",
      "|   |   |   |   |   |   |   |   |--- class: VShare_YouTube\n",
      "|   |   |   |   |   |   |--- feature_9 >  512.50\n",
      "|   |   |   |   |   |   |   |--- feature_0 <= 40003996.00\n",
      "|   |   |   |   |   |   |   |   |--- class: VShare_YouTube\n",
      "|   |   |   |   |   |   |   |--- feature_0 >  40003996.00\n",
      "|   |   |   |   |   |   |   |   |--- feature_0 <= 40019982.00\n",
      "|   |   |   |   |   |   |   |   |   |--- feature_0 <= 40014938.00\n",
      "|   |   |   |   |   |   |   |   |   |   |--- class: VShare_Amazon\n",
      "|   |   |   |   |   |   |   |   |   |--- feature_0 >  40014938.00\n",
      "|   |   |   |   |   |   |   |   |   |   |--- feature_0 <= 40017542.00\n",
      "|   |   |   |   |   |   |   |   |   |   |   |--- class: VShare_YouTube\n",
      "|   |   |   |   |   |   |   |   |   |   |--- feature_0 >  40017542.00\n",
      "|   |   |   |   |   |   |   |   |   |   |   |--- truncated branch of depth 2\n",
      "|   |   |   |   |   |   |   |   |--- feature_0 >  40019982.00\n",
      "|   |   |   |   |   |   |   |   |   |--- feature_0 <= 40028786.00\n",
      "|   |   |   |   |   |   |   |   |   |   |--- class: VShare_Amazon\n",
      "|   |   |   |   |   |   |   |   |   |--- feature_0 >  40028786.00\n",
      "|   |   |   |   |   |   |   |   |   |   |--- feature_0 <= 40033712.00\n",
      "|   |   |   |   |   |   |   |   |   |   |   |--- class: VShare_YouTube\n",
      "|   |   |   |   |   |   |   |   |   |   |--- feature_0 >  40033712.00\n",
      "|   |   |   |   |   |   |   |   |   |   |   |--- class: VShare_Amazon\n",
      "|   |   |   |   |--- feature_4 >  65050000.00\n",
      "|   |   |   |   |   |--- class: VShare_Amazon\n",
      "|--- feature_7 >  23.50\n",
      "|   |--- feature_6 <= 13276.50\n",
      "|   |   |--- feature_8 <= 152.50\n",
      "|   |   |   |--- feature_5 <= 129.00\n",
      "|   |   |   |   |--- feature_4 <= 874715.50\n",
      "|   |   |   |   |   |--- feature_2 <= 1093.73\n",
      "|   |   |   |   |   |   |--- feature_9 <= 516.50\n",
      "|   |   |   |   |   |   |   |--- feature_0 <= 58.50\n",
      "|   |   |   |   |   |   |   |   |--- feature_0 <= 54.50\n",
      "|   |   |   |   |   |   |   |   |   |--- feature_9 <= 381.50\n",
      "|   |   |   |   |   |   |   |   |   |   |--- feature_9 <= 127.00\n",
      "|   |   |   |   |   |   |   |   |   |   |   |--- class: VShare_Amazon\n",
      "|   |   |   |   |   |   |   |   |   |   |--- feature_9 >  127.00\n",
      "|   |   |   |   |   |   |   |   |   |   |   |--- class: VShare_YouTube\n",
      "|   |   |   |   |   |   |   |   |   |--- feature_9 >  381.50\n",
      "|   |   |   |   |   |   |   |   |   |   |--- feature_3 <= 13.08\n",
      "|   |   |   |   |   |   |   |   |   |   |   |--- truncated branch of depth 7\n",
      "|   |   |   |   |   |   |   |   |   |   |--- feature_3 >  13.08\n",
      "|   |   |   |   |   |   |   |   |   |   |   |--- class: VShare_YouTube\n",
      "|   |   |   |   |   |   |   |   |--- feature_0 >  54.50\n",
      "|   |   |   |   |   |   |   |   |   |--- feature_0 <= 56.50\n",
      "|   |   |   |   |   |   |   |   |   |   |--- feature_9 <= 511.50\n",
      "|   |   |   |   |   |   |   |   |   |   |   |--- truncated branch of depth 4\n",
      "|   |   |   |   |   |   |   |   |   |   |--- feature_9 >  511.50\n",
      "|   |   |   |   |   |   |   |   |   |   |   |--- class: VShare_YouTube\n",
      "|   |   |   |   |   |   |   |   |   |--- feature_0 >  56.50\n",
      "|   |   |   |   |   |   |   |   |   |   |--- feature_2 <= 57.50\n",
      "|   |   |   |   |   |   |   |   |   |   |   |--- truncated branch of depth 5\n",
      "|   |   |   |   |   |   |   |   |   |   |--- feature_2 >  57.50\n",
      "|   |   |   |   |   |   |   |   |   |   |   |--- truncated branch of depth 5\n",
      "|   |   |   |   |   |   |   |--- feature_0 >  58.50\n",
      "|   |   |   |   |   |   |   |   |--- feature_2 <= 29.67\n",
      "|   |   |   |   |   |   |   |   |   |--- class: VShare_YouTube\n",
      "|   |   |   |   |   |   |   |   |--- feature_2 >  29.67\n",
      "|   |   |   |   |   |   |   |   |   |--- feature_8 <= 64.50\n",
      "|   |   |   |   |   |   |   |   |   |   |--- feature_2 <= 670.75\n",
      "|   |   |   |   |   |   |   |   |   |   |   |--- class: VShare_Amazon\n",
      "|   |   |   |   |   |   |   |   |   |   |--- feature_2 >  670.75\n",
      "|   |   |   |   |   |   |   |   |   |   |   |--- truncated branch of depth 2\n",
      "|   |   |   |   |   |   |   |   |   |--- feature_8 >  64.50\n",
      "|   |   |   |   |   |   |   |   |   |   |--- feature_2 <= 87.50\n",
      "|   |   |   |   |   |   |   |   |   |   |   |--- truncated branch of depth 12\n",
      "|   |   |   |   |   |   |   |   |   |   |--- feature_2 >  87.50\n",
      "|   |   |   |   |   |   |   |   |   |   |   |--- truncated branch of depth 9\n",
      "|   |   |   |   |   |   |--- feature_9 >  516.50\n",
      "|   |   |   |   |   |   |   |--- feature_3 <= 12.02\n",
      "|   |   |   |   |   |   |   |   |--- feature_9 <= 40573.50\n",
      "|   |   |   |   |   |   |   |   |   |--- feature_8 <= 132.50\n",
      "|   |   |   |   |   |   |   |   |   |   |--- feature_9 <= 2747.00\n",
      "|   |   |   |   |   |   |   |   |   |   |   |--- truncated branch of depth 6\n",
      "|   |   |   |   |   |   |   |   |   |   |--- feature_9 >  2747.00\n",
      "|   |   |   |   |   |   |   |   |   |   |   |--- class: VShare_Amazon\n",
      "|   |   |   |   |   |   |   |   |   |--- feature_8 >  132.50\n",
      "|   |   |   |   |   |   |   |   |   |   |--- feature_9 <= 2873.00\n",
      "|   |   |   |   |   |   |   |   |   |   |   |--- truncated branch of depth 5\n",
      "|   |   |   |   |   |   |   |   |   |   |--- feature_9 >  2873.00\n",
      "|   |   |   |   |   |   |   |   |   |   |   |--- class: VShare_Amazon\n",
      "|   |   |   |   |   |   |   |   |--- feature_9 >  40573.50\n",
      "|   |   |   |   |   |   |   |   |   |--- class: VShare_YouTube\n",
      "|   |   |   |   |   |   |   |--- feature_3 >  12.02\n",
      "|   |   |   |   |   |   |   |   |--- class: VShare_YouTube\n",
      "|   |   |   |   |   |--- feature_2 >  1093.73\n",
      "|   |   |   |   |   |   |--- feature_5 <= 83.50\n",
      "|   |   |   |   |   |   |   |--- feature_8 <= 111.00\n",
      "|   |   |   |   |   |   |   |   |--- feature_6 <= 12405.85\n",
      "|   |   |   |   |   |   |   |   |   |--- feature_4 <= 17175.00\n",
      "|   |   |   |   |   |   |   |   |   |   |--- feature_9 <= 267.50\n",
      "|   |   |   |   |   |   |   |   |   |   |   |--- class: VShare_YouTube\n",
      "|   |   |   |   |   |   |   |   |   |   |--- feature_9 >  267.50\n",
      "|   |   |   |   |   |   |   |   |   |   |   |--- class: VShare_Amazon\n",
      "|   |   |   |   |   |   |   |   |   |--- feature_4 >  17175.00\n",
      "|   |   |   |   |   |   |   |   |   |   |--- feature_9 <= 514.50\n",
      "|   |   |   |   |   |   |   |   |   |   |   |--- class: VShare_YouTube\n",
      "|   |   |   |   |   |   |   |   |   |   |--- feature_9 >  514.50\n",
      "|   |   |   |   |   |   |   |   |   |   |   |--- truncated branch of depth 2\n",
      "|   |   |   |   |   |   |   |   |--- feature_6 >  12405.85\n",
      "|   |   |   |   |   |   |   |   |   |--- class: VShare_Amazon\n",
      "|   |   |   |   |   |   |   |--- feature_8 >  111.00\n",
      "|   |   |   |   |   |   |   |   |--- class: VShare_Amazon\n",
      "|   |   |   |   |   |   |--- feature_5 >  83.50\n",
      "|   |   |   |   |   |   |   |--- class: VShare_Amazon\n",
      "|   |   |   |   |--- feature_4 >  874715.50\n",
      "|   |   |   |   |   |--- feature_1 <= 1450.00\n",
      "|   |   |   |   |   |   |--- feature_1 <= 374.00\n",
      "|   |   |   |   |   |   |   |--- class: VShare_YouTube\n",
      "|   |   |   |   |   |   |--- feature_1 >  374.00\n",
      "|   |   |   |   |   |   |   |--- class: VShare_Amazon\n",
      "|   |   |   |   |   |--- feature_1 >  1450.00\n",
      "|   |   |   |   |   |   |--- class: VShare_YouTube\n",
      "|   |   |   |--- feature_5 >  129.00\n",
      "|   |   |   |   |--- feature_1 <= 417.00\n",
      "|   |   |   |   |   |--- feature_5 <= 524.50\n",
      "|   |   |   |   |   |   |--- feature_1 <= 92.50\n",
      "|   |   |   |   |   |   |   |--- class: VShare_Amazon\n",
      "|   |   |   |   |   |   |--- feature_1 >  92.50\n",
      "|   |   |   |   |   |   |   |--- class: VShare_YouTube\n",
      "|   |   |   |   |   |--- feature_5 >  524.50\n",
      "|   |   |   |   |   |   |--- feature_6 <= 7596.50\n",
      "|   |   |   |   |   |   |   |--- class: VShare_Amazon\n",
      "|   |   |   |   |   |   |--- feature_6 >  7596.50\n",
      "|   |   |   |   |   |   |   |--- class: VShare_YouTube\n",
      "|   |   |   |   |--- feature_1 >  417.00\n",
      "|   |   |   |   |   |--- class: VShare_Amazon\n",
      "|   |   |--- feature_8 >  152.50\n",
      "|   |   |   |--- feature_9 <= 509.50\n",
      "|   |   |   |   |--- feature_9 <= 217.50\n",
      "|   |   |   |   |   |--- feature_1 <= 12.00\n",
      "|   |   |   |   |   |   |--- feature_9 <= 101.50\n",
      "|   |   |   |   |   |   |   |--- feature_6 <= 384.50\n",
      "|   |   |   |   |   |   |   |   |--- class: VShare_Amazon\n",
      "|   |   |   |   |   |   |   |--- feature_6 >  384.50\n",
      "|   |   |   |   |   |   |   |   |--- class: VShare_YouTube\n",
      "|   |   |   |   |   |   |--- feature_9 >  101.50\n",
      "|   |   |   |   |   |   |   |--- class: VShare_Amazon\n",
      "|   |   |   |   |   |--- feature_1 >  12.00\n",
      "|   |   |   |   |   |   |--- class: VShare_Amazon\n",
      "|   |   |   |   |--- feature_9 >  217.50\n",
      "|   |   |   |   |   |--- feature_9 <= 499.00\n",
      "|   |   |   |   |   |   |--- feature_8 <= 1121.00\n",
      "|   |   |   |   |   |   |   |--- class: VShare_YouTube\n",
      "|   |   |   |   |   |   |--- feature_8 >  1121.00\n",
      "|   |   |   |   |   |   |   |--- feature_8 <= 1228.50\n",
      "|   |   |   |   |   |   |   |   |--- feature_9 <= 390.50\n",
      "|   |   |   |   |   |   |   |   |   |--- class: VShare_Amazon\n",
      "|   |   |   |   |   |   |   |   |--- feature_9 >  390.50\n",
      "|   |   |   |   |   |   |   |   |   |--- class: VShare_YouTube\n",
      "|   |   |   |   |   |   |   |--- feature_8 >  1228.50\n",
      "|   |   |   |   |   |   |   |   |--- class: VShare_YouTube\n",
      "|   |   |   |   |   |--- feature_9 >  499.00\n",
      "|   |   |   |   |   |   |--- feature_0 <= 602.50\n",
      "|   |   |   |   |   |   |   |--- class: VShare_Amazon\n",
      "|   |   |   |   |   |   |--- feature_0 >  602.50\n",
      "|   |   |   |   |   |   |   |--- class: VShare_YouTube\n",
      "|   |   |   |--- feature_9 >  509.50\n",
      "|   |   |   |   |--- feature_9 <= 18891.00\n",
      "|   |   |   |   |   |--- feature_9 <= 594.00\n",
      "|   |   |   |   |   |   |--- class: VShare_Amazon\n",
      "|   |   |   |   |   |--- feature_9 >  594.00\n",
      "|   |   |   |   |   |   |--- feature_9 <= 1204.00\n",
      "|   |   |   |   |   |   |   |--- class: VShare_YouTube\n",
      "|   |   |   |   |   |   |--- feature_9 >  1204.00\n",
      "|   |   |   |   |   |   |   |--- class: VShare_Amazon\n",
      "|   |   |   |   |--- feature_9 >  18891.00\n",
      "|   |   |   |   |   |--- class: VShare_YouTube\n",
      "|   |--- feature_6 >  13276.50\n",
      "|   |   |--- feature_8 <= 0.50\n",
      "|   |   |   |--- feature_3 <= 8095480.25\n",
      "|   |   |   |   |--- feature_4 <= 233300.00\n",
      "|   |   |   |   |   |--- feature_9 <= 12288.00\n",
      "|   |   |   |   |   |   |--- feature_6 <= 28251.56\n",
      "|   |   |   |   |   |   |   |--- feature_0 <= 506507.00\n",
      "|   |   |   |   |   |   |   |   |--- class: VShare_YouTube\n",
      "|   |   |   |   |   |   |   |--- feature_0 >  506507.00\n",
      "|   |   |   |   |   |   |   |   |--- feature_3 <= 36734.77\n",
      "|   |   |   |   |   |   |   |   |   |--- class: VShare_Amazon\n",
      "|   |   |   |   |   |   |   |   |--- feature_3 >  36734.77\n",
      "|   |   |   |   |   |   |   |   |   |--- class: VShare_YouTube\n",
      "|   |   |   |   |   |   |--- feature_6 >  28251.56\n",
      "|   |   |   |   |   |   |   |--- feature_6 <= 88377.33\n",
      "|   |   |   |   |   |   |   |   |--- feature_3 <= 70282.19\n",
      "|   |   |   |   |   |   |   |   |   |--- feature_2 <= 18891.92\n",
      "|   |   |   |   |   |   |   |   |   |   |--- class: VShare_Amazon\n",
      "|   |   |   |   |   |   |   |   |   |--- feature_2 >  18891.92\n",
      "|   |   |   |   |   |   |   |   |   |   |--- feature_9 <= 2051.00\n",
      "|   |   |   |   |   |   |   |   |   |   |   |--- class: VShare_YouTube\n",
      "|   |   |   |   |   |   |   |   |   |   |--- feature_9 >  2051.00\n",
      "|   |   |   |   |   |   |   |   |   |   |   |--- truncated branch of depth 2\n",
      "|   |   |   |   |   |   |   |   |--- feature_3 >  70282.19\n",
      "|   |   |   |   |   |   |   |   |   |--- class: VShare_Amazon\n",
      "|   |   |   |   |   |   |   |--- feature_6 >  88377.33\n",
      "|   |   |   |   |   |   |   |   |--- feature_0 <= 990162.00\n",
      "|   |   |   |   |   |   |   |   |   |--- class: VShare_YouTube\n",
      "|   |   |   |   |   |   |   |   |--- feature_0 >  990162.00\n",
      "|   |   |   |   |   |   |   |   |   |--- feature_4 <= 217363.50\n",
      "|   |   |   |   |   |   |   |   |   |   |--- class: VShare_YouTube\n",
      "|   |   |   |   |   |   |   |   |   |--- feature_4 >  217363.50\n",
      "|   |   |   |   |   |   |   |   |   |   |--- class: VShare_Amazon\n",
      "|   |   |   |   |   |--- feature_9 >  12288.00\n",
      "|   |   |   |   |   |   |--- class: VShare_Amazon\n",
      "|   |   |   |   |--- feature_4 >  233300.00\n",
      "|   |   |   |   |   |--- feature_6 <= 113795.74\n",
      "|   |   |   |   |   |   |--- feature_3 <= 4003964.25\n",
      "|   |   |   |   |   |   |   |--- feature_5 <= 757.50\n",
      "|   |   |   |   |   |   |   |   |--- feature_0 <= 1411743.00\n",
      "|   |   |   |   |   |   |   |   |   |--- feature_0 <= 1282666.50\n",
      "|   |   |   |   |   |   |   |   |   |   |--- class: VShare_Amazon\n",
      "|   |   |   |   |   |   |   |   |   |--- feature_0 >  1282666.50\n",
      "|   |   |   |   |   |   |   |   |   |   |--- class: VShare_YouTube\n",
      "|   |   |   |   |   |   |   |   |--- feature_0 >  1411743.00\n",
      "|   |   |   |   |   |   |   |   |   |--- class: VShare_Amazon\n",
      "|   |   |   |   |   |   |   |--- feature_5 >  757.50\n",
      "|   |   |   |   |   |   |   |   |--- class: VShare_YouTube\n",
      "|   |   |   |   |   |   |--- feature_3 >  4003964.25\n",
      "|   |   |   |   |   |   |   |--- feature_5 <= 208.00\n",
      "|   |   |   |   |   |   |   |   |--- class: VShare_YouTube\n",
      "|   |   |   |   |   |   |   |--- feature_5 >  208.00\n",
      "|   |   |   |   |   |   |   |   |--- class: VShare_Amazon\n",
      "|   |   |   |   |   |--- feature_6 >  113795.74\n",
      "|   |   |   |   |   |   |--- feature_4 <= 5016788.50\n",
      "|   |   |   |   |   |   |   |--- feature_9 <= 494.50\n",
      "|   |   |   |   |   |   |   |   |--- feature_0 <= 785267.00\n",
      "|   |   |   |   |   |   |   |   |   |--- class: VShare_YouTube\n",
      "|   |   |   |   |   |   |   |   |--- feature_0 >  785267.00\n",
      "|   |   |   |   |   |   |   |   |   |--- class: VShare_Amazon\n",
      "|   |   |   |   |   |   |   |--- feature_9 >  494.50\n",
      "|   |   |   |   |   |   |   |   |--- feature_4 <= 2942816.50\n",
      "|   |   |   |   |   |   |   |   |   |--- feature_2 <= 219229.21\n",
      "|   |   |   |   |   |   |   |   |   |   |--- feature_3 <= 539375.16\n",
      "|   |   |   |   |   |   |   |   |   |   |   |--- truncated branch of depth 5\n",
      "|   |   |   |   |   |   |   |   |   |   |--- feature_3 >  539375.16\n",
      "|   |   |   |   |   |   |   |   |   |   |   |--- class: VShare_YouTube\n",
      "|   |   |   |   |   |   |   |   |   |--- feature_2 >  219229.21\n",
      "|   |   |   |   |   |   |   |   |   |   |--- class: VShare_Amazon\n",
      "|   |   |   |   |   |   |   |   |--- feature_4 >  2942816.50\n",
      "|   |   |   |   |   |   |   |   |   |--- class: VShare_YouTube\n",
      "|   |   |   |   |   |   |--- feature_4 >  5016788.50\n",
      "|   |   |   |   |   |   |   |--- feature_7 <= 55400000.00\n",
      "|   |   |   |   |   |   |   |   |--- feature_9 <= 112.50\n",
      "|   |   |   |   |   |   |   |   |   |--- feature_7 <= 9998238.00\n",
      "|   |   |   |   |   |   |   |   |   |   |--- class: VShare_Amazon\n",
      "|   |   |   |   |   |   |   |   |   |--- feature_7 >  9998238.00\n",
      "|   |   |   |   |   |   |   |   |   |   |--- feature_5 <= 21.00\n",
      "|   |   |   |   |   |   |   |   |   |   |   |--- class: VShare_Amazon\n",
      "|   |   |   |   |   |   |   |   |   |   |--- feature_5 >  21.00\n",
      "|   |   |   |   |   |   |   |   |   |   |   |--- class: VShare_YouTube\n",
      "|   |   |   |   |   |   |   |   |--- feature_9 >  112.50\n",
      "|   |   |   |   |   |   |   |   |   |--- feature_6 <= 942330.03\n",
      "|   |   |   |   |   |   |   |   |   |   |--- feature_6 <= 911242.66\n",
      "|   |   |   |   |   |   |   |   |   |   |   |--- truncated branch of depth 3\n",
      "|   |   |   |   |   |   |   |   |   |   |--- feature_6 >  911242.66\n",
      "|   |   |   |   |   |   |   |   |   |   |   |--- class: VShare_YouTube\n",
      "|   |   |   |   |   |   |   |   |   |--- feature_6 >  942330.03\n",
      "|   |   |   |   |   |   |   |   |   |   |--- feature_3 <= 7857718.75\n",
      "|   |   |   |   |   |   |   |   |   |   |   |--- class: VShare_Amazon\n",
      "|   |   |   |   |   |   |   |   |   |   |--- feature_3 >  7857718.75\n",
      "|   |   |   |   |   |   |   |   |   |   |   |--- truncated branch of depth 2\n",
      "|   |   |   |   |   |   |   |--- feature_7 >  55400000.00\n",
      "|   |   |   |   |   |   |   |   |--- class: VShare_YouTube\n",
      "|   |   |   |--- feature_3 >  8095480.25\n",
      "|   |   |   |   |--- feature_9 <= 79.50\n",
      "|   |   |   |   |   |--- feature_7 <= 66650000.00\n",
      "|   |   |   |   |   |   |--- class: VShare_YouTube\n",
      "|   |   |   |   |   |--- feature_7 >  66650000.00\n",
      "|   |   |   |   |   |   |--- class: VShare_Amazon\n",
      "|   |   |   |   |--- feature_9 >  79.50\n",
      "|   |   |   |   |   |--- feature_7 <= 45250000.00\n",
      "|   |   |   |   |   |   |--- feature_9 <= 247.00\n",
      "|   |   |   |   |   |   |   |--- class: VShare_Amazon\n",
      "|   |   |   |   |   |   |--- feature_9 >  247.00\n",
      "|   |   |   |   |   |   |   |--- feature_7 <= 45150000.00\n",
      "|   |   |   |   |   |   |   |   |--- feature_1 <= 611.50\n",
      "|   |   |   |   |   |   |   |   |   |--- feature_5 <= 461.50\n",
      "|   |   |   |   |   |   |   |   |   |   |--- feature_3 <= 11300000.00\n",
      "|   |   |   |   |   |   |   |   |   |   |   |--- truncated branch of depth 2\n",
      "|   |   |   |   |   |   |   |   |   |   |--- feature_3 >  11300000.00\n",
      "|   |   |   |   |   |   |   |   |   |   |   |--- truncated branch of depth 6\n",
      "|   |   |   |   |   |   |   |   |   |--- feature_5 >  461.50\n",
      "|   |   |   |   |   |   |   |   |   |   |--- feature_2 <= 4295283.25\n",
      "|   |   |   |   |   |   |   |   |   |   |   |--- class: VShare_YouTube\n",
      "|   |   |   |   |   |   |   |   |   |   |--- feature_2 >  4295283.25\n",
      "|   |   |   |   |   |   |   |   |   |   |   |--- truncated branch of depth 2\n",
      "|   |   |   |   |   |   |   |   |--- feature_1 >  611.50\n",
      "|   |   |   |   |   |   |   |   |   |--- feature_5 <= 37.50\n",
      "|   |   |   |   |   |   |   |   |   |   |--- feature_9 <= 2052.50\n",
      "|   |   |   |   |   |   |   |   |   |   |   |--- truncated branch of depth 3\n",
      "|   |   |   |   |   |   |   |   |   |   |--- feature_9 >  2052.50\n",
      "|   |   |   |   |   |   |   |   |   |   |   |--- class: VShare_Amazon\n",
      "|   |   |   |   |   |   |   |   |   |--- feature_5 >  37.50\n",
      "|   |   |   |   |   |   |   |   |   |   |--- feature_2 <= 6671700.50\n",
      "|   |   |   |   |   |   |   |   |   |   |   |--- class: VShare_Amazon\n",
      "|   |   |   |   |   |   |   |   |   |   |--- feature_2 >  6671700.50\n",
      "|   |   |   |   |   |   |   |   |   |   |   |--- class: VShare_YouTube\n",
      "|   |   |   |   |   |   |   |--- feature_7 >  45150000.00\n",
      "|   |   |   |   |   |   |   |   |--- class: VShare_Amazon\n",
      "|   |   |   |   |   |--- feature_7 >  45250000.00\n",
      "|   |   |   |   |   |   |--- feature_0 <= 60893274.00\n",
      "|   |   |   |   |   |   |   |--- feature_9 <= 168.00\n",
      "|   |   |   |   |   |   |   |   |--- feature_2 <= 1926533.56\n",
      "|   |   |   |   |   |   |   |   |   |--- feature_4 <= 56650000.00\n",
      "|   |   |   |   |   |   |   |   |   |   |--- class: VShare_Amazon\n",
      "|   |   |   |   |   |   |   |   |   |--- feature_4 >  56650000.00\n",
      "|   |   |   |   |   |   |   |   |   |   |--- class: VShare_YouTube\n",
      "|   |   |   |   |   |   |   |   |--- feature_2 >  1926533.56\n",
      "|   |   |   |   |   |   |   |   |   |--- class: VShare_Amazon\n",
      "|   |   |   |   |   |   |   |--- feature_9 >  168.00\n",
      "|   |   |   |   |   |   |   |   |--- class: VShare_YouTube\n",
      "|   |   |   |   |   |   |--- feature_0 >  60893274.00\n",
      "|   |   |   |   |   |   |   |--- feature_7 <= 90550000.00\n",
      "|   |   |   |   |   |   |   |   |--- feature_2 <= 3690380.25\n",
      "|   |   |   |   |   |   |   |   |   |--- feature_4 <= 59750000.00\n",
      "|   |   |   |   |   |   |   |   |   |   |--- feature_1 <= 531.00\n",
      "|   |   |   |   |   |   |   |   |   |   |   |--- truncated branch of depth 4\n",
      "|   |   |   |   |   |   |   |   |   |   |--- feature_1 >  531.00\n",
      "|   |   |   |   |   |   |   |   |   |   |   |--- truncated branch of depth 5\n",
      "|   |   |   |   |   |   |   |   |   |--- feature_4 >  59750000.00\n",
      "|   |   |   |   |   |   |   |   |   |   |--- feature_6 <= 5587485.50\n",
      "|   |   |   |   |   |   |   |   |   |   |   |--- truncated branch of depth 5\n",
      "|   |   |   |   |   |   |   |   |   |   |--- feature_6 >  5587485.50\n",
      "|   |   |   |   |   |   |   |   |   |   |   |--- truncated branch of depth 7\n",
      "|   |   |   |   |   |   |   |   |--- feature_2 >  3690380.25\n",
      "|   |   |   |   |   |   |   |   |   |--- feature_3 <= 20350000.00\n",
      "|   |   |   |   |   |   |   |   |   |   |--- feature_6 <= 4835217.38\n",
      "|   |   |   |   |   |   |   |   |   |   |   |--- class: VShare_Amazon\n",
      "|   |   |   |   |   |   |   |   |   |   |--- feature_6 >  4835217.38\n",
      "|   |   |   |   |   |   |   |   |   |   |   |--- truncated branch of depth 6\n",
      "|   |   |   |   |   |   |   |   |   |--- feature_3 >  20350000.00\n",
      "|   |   |   |   |   |   |   |   |   |   |--- feature_3 <= 21850000.00\n",
      "|   |   |   |   |   |   |   |   |   |   |   |--- class: VShare_Amazon\n",
      "|   |   |   |   |   |   |   |   |   |   |--- feature_3 >  21850000.00\n",
      "|   |   |   |   |   |   |   |   |   |   |   |--- class: VShare_YouTube\n",
      "|   |   |   |   |   |   |   |--- feature_7 >  90550000.00\n",
      "|   |   |   |   |   |   |   |   |--- class: VShare_Amazon\n",
      "|   |   |--- feature_8 >  0.50\n",
      "|   |   |   |--- feature_8 <= 1290.50\n",
      "|   |   |   |   |--- feature_7 <= 63876.00\n",
      "|   |   |   |   |   |--- feature_1 <= 361.00\n",
      "|   |   |   |   |   |   |--- feature_9 <= 456.00\n",
      "|   |   |   |   |   |   |   |--- class: VShare_YouTube\n",
      "|   |   |   |   |   |   |--- feature_9 >  456.00\n",
      "|   |   |   |   |   |   |   |--- class: VShare_Amazon\n",
      "|   |   |   |   |   |--- feature_1 >  361.00\n",
      "|   |   |   |   |   |   |--- class: VShare_Amazon\n",
      "|   |   |   |   |--- feature_7 >  63876.00\n",
      "|   |   |   |   |   |--- feature_9 <= 24.50\n",
      "|   |   |   |   |   |   |--- class: VShare_Amazon\n",
      "|   |   |   |   |   |--- feature_9 >  24.50\n",
      "|   |   |   |   |   |   |--- feature_2 <= 5900588.00\n",
      "|   |   |   |   |   |   |   |--- feature_7 <= 79259.50\n",
      "|   |   |   |   |   |   |   |   |--- feature_6 <= 23158.12\n",
      "|   |   |   |   |   |   |   |   |   |--- class: VShare_YouTube\n",
      "|   |   |   |   |   |   |   |   |--- feature_6 >  23158.12\n",
      "|   |   |   |   |   |   |   |   |   |--- class: VShare_Amazon\n",
      "|   |   |   |   |   |   |   |--- feature_7 >  79259.50\n",
      "|   |   |   |   |   |   |   |   |--- class: VShare_YouTube\n",
      "|   |   |   |   |   |   |--- feature_2 >  5900588.00\n",
      "|   |   |   |   |   |   |   |--- feature_3 <= 14150000.00\n",
      "|   |   |   |   |   |   |   |   |--- class: VShare_Amazon\n",
      "|   |   |   |   |   |   |   |--- feature_3 >  14150000.00\n",
      "|   |   |   |   |   |   |   |   |--- class: VShare_YouTube\n",
      "|   |   |   |--- feature_8 >  1290.50\n",
      "|   |   |   |   |--- feature_9 <= 28041.50\n",
      "|   |   |   |   |   |--- feature_1 <= 52.00\n",
      "|   |   |   |   |   |   |--- feature_0 <= 322433.00\n",
      "|   |   |   |   |   |   |   |--- feature_4 <= 217127.50\n",
      "|   |   |   |   |   |   |   |   |--- feature_9 <= 2049.50\n",
      "|   |   |   |   |   |   |   |   |   |--- feature_9 <= 190.50\n",
      "|   |   |   |   |   |   |   |   |   |   |--- feature_4 <= 20297.00\n",
      "|   |   |   |   |   |   |   |   |   |   |   |--- class: VShare_YouTube\n",
      "|   |   |   |   |   |   |   |   |   |   |--- feature_4 >  20297.00\n",
      "|   |   |   |   |   |   |   |   |   |   |   |--- class: VShare_Amazon\n",
      "|   |   |   |   |   |   |   |   |   |--- feature_9 >  190.50\n",
      "|   |   |   |   |   |   |   |   |   |   |--- feature_9 <= 289.00\n",
      "|   |   |   |   |   |   |   |   |   |   |   |--- class: VShare_YouTube\n",
      "|   |   |   |   |   |   |   |   |   |   |--- feature_9 >  289.00\n",
      "|   |   |   |   |   |   |   |   |   |   |   |--- truncated branch of depth 2\n",
      "|   |   |   |   |   |   |   |   |--- feature_9 >  2049.50\n",
      "|   |   |   |   |   |   |   |   |   |--- feature_3 <= 4909.44\n",
      "|   |   |   |   |   |   |   |   |   |   |--- feature_4 <= 53123.50\n",
      "|   |   |   |   |   |   |   |   |   |   |   |--- class: VShare_YouTube\n",
      "|   |   |   |   |   |   |   |   |   |   |--- feature_4 >  53123.50\n",
      "|   |   |   |   |   |   |   |   |   |   |   |--- truncated branch of depth 2\n",
      "|   |   |   |   |   |   |   |   |   |--- feature_3 >  4909.44\n",
      "|   |   |   |   |   |   |   |   |   |   |--- class: VShare_Amazon\n",
      "|   |   |   |   |   |   |   |--- feature_4 >  217127.50\n",
      "|   |   |   |   |   |   |   |   |--- feature_9 <= 55.00\n",
      "|   |   |   |   |   |   |   |   |   |--- class: VShare_YouTube\n",
      "|   |   |   |   |   |   |   |   |--- feature_9 >  55.00\n",
      "|   |   |   |   |   |   |   |   |   |--- feature_4 <= 295983.00\n",
      "|   |   |   |   |   |   |   |   |   |   |--- feature_9 <= 255.00\n",
      "|   |   |   |   |   |   |   |   |   |   |   |--- class: VShare_Amazon\n",
      "|   |   |   |   |   |   |   |   |   |   |--- feature_9 >  255.00\n",
      "|   |   |   |   |   |   |   |   |   |   |   |--- truncated branch of depth 3\n",
      "|   |   |   |   |   |   |   |   |   |--- feature_4 >  295983.00\n",
      "|   |   |   |   |   |   |   |   |   |   |--- feature_6 <= 303284.00\n",
      "|   |   |   |   |   |   |   |   |   |   |   |--- class: VShare_YouTube\n",
      "|   |   |   |   |   |   |   |   |   |   |--- feature_6 >  303284.00\n",
      "|   |   |   |   |   |   |   |   |   |   |   |--- truncated branch of depth 4\n",
      "|   |   |   |   |   |   |--- feature_0 >  322433.00\n",
      "|   |   |   |   |   |   |   |--- feature_2 <= 2734467.12\n",
      "|   |   |   |   |   |   |   |   |--- feature_3 <= 107634.70\n",
      "|   |   |   |   |   |   |   |   |   |--- feature_3 <= 34342.41\n",
      "|   |   |   |   |   |   |   |   |   |   |--- class: VShare_YouTube\n",
      "|   |   |   |   |   |   |   |   |   |--- feature_3 >  34342.41\n",
      "|   |   |   |   |   |   |   |   |   |   |--- class: VShare_Amazon\n",
      "|   |   |   |   |   |   |   |   |--- feature_3 >  107634.70\n",
      "|   |   |   |   |   |   |   |   |   |--- class: VShare_YouTube\n",
      "|   |   |   |   |   |   |   |--- feature_2 >  2734467.12\n",
      "|   |   |   |   |   |   |   |   |--- feature_3 <= 4016552.12\n",
      "|   |   |   |   |   |   |   |   |   |--- class: VShare_Amazon\n",
      "|   |   |   |   |   |   |   |   |--- feature_3 >  4016552.12\n",
      "|   |   |   |   |   |   |   |   |   |--- feature_8 <= 2663.50\n",
      "|   |   |   |   |   |   |   |   |   |   |--- feature_0 <= 62739582.00\n",
      "|   |   |   |   |   |   |   |   |   |   |   |--- class: VShare_YouTube\n",
      "|   |   |   |   |   |   |   |   |   |   |--- feature_0 >  62739582.00\n",
      "|   |   |   |   |   |   |   |   |   |   |   |--- truncated branch of depth 3\n",
      "|   |   |   |   |   |   |   |   |   |--- feature_8 >  2663.50\n",
      "|   |   |   |   |   |   |   |   |   |   |--- feature_2 <= 20750000.00\n",
      "|   |   |   |   |   |   |   |   |   |   |   |--- truncated branch of depth 7\n",
      "|   |   |   |   |   |   |   |   |   |   |--- feature_2 >  20750000.00\n",
      "|   |   |   |   |   |   |   |   |   |   |   |--- truncated branch of depth 2\n",
      "|   |   |   |   |   |--- feature_1 >  52.00\n",
      "|   |   |   |   |   |   |--- feature_9 <= 386.50\n",
      "|   |   |   |   |   |   |   |--- class: VShare_YouTube\n",
      "|   |   |   |   |   |   |--- feature_9 >  386.50\n",
      "|   |   |   |   |   |   |   |--- feature_6 <= 155025.00\n",
      "|   |   |   |   |   |   |   |   |--- class: VShare_YouTube\n",
      "|   |   |   |   |   |   |   |--- feature_6 >  155025.00\n",
      "|   |   |   |   |   |   |   |   |--- feature_1 <= 1090.00\n",
      "|   |   |   |   |   |   |   |   |   |--- class: VShare_Amazon\n",
      "|   |   |   |   |   |   |   |   |--- feature_1 >  1090.00\n",
      "|   |   |   |   |   |   |   |   |   |--- feature_1 <= 1277.00\n",
      "|   |   |   |   |   |   |   |   |   |   |--- class: VShare_YouTube\n",
      "|   |   |   |   |   |   |   |   |   |--- feature_1 >  1277.00\n",
      "|   |   |   |   |   |   |   |   |   |   |--- class: VShare_Amazon\n",
      "|   |   |   |   |--- feature_9 >  28041.50\n",
      "|   |   |   |   |   |--- class: VShare_YouTube\n",
      "\n"
     ]
    }
   ],
   "source": [
    "from sklearn.tree import export_text\n",
    "from sklearn import tree\n",
    "\n",
    "text_representation = tree.export_text(clf)\n",
    "print(text_representation)"
   ]
  },
  {
   "cell_type": "code",
   "execution_count": 23,
   "metadata": {},
   "outputs": [
    {
     "name": "stdout",
     "output_type": "stream",
     "text": [
      "22\n"
     ]
    }
   ],
   "source": [
    "print(clf.tree_.max_depth)"
   ]
  },
  {
   "cell_type": "code",
   "execution_count": 90,
   "metadata": {},
   "outputs": [
    {
     "name": "stdout",
     "output_type": "stream",
     "text": [
      "[[652  91]\n",
      " [107 895]]\n",
      "Amazon as Amazon =  652  percent =  0.8775235531628532\n",
      "Amazon as Youtube =  91  percent =  0.1224764468371467\n",
      "\n",
      "\n",
      "Youtube as Amazon =  107  percent =  0.10678642714570859\n",
      "Youtube as Youtube =  895  percent =  0.8932135728542914\n"
     ]
    }
   ],
   "source": [
    "share_mat = metrics.confusion_matrix(Y_test, ypred,labels=uniqueLabels)\n",
    "#[i][j] ==> knwon to be in group i and predicted as group j\n",
    "print(share_mat)\n",
    "print('Amazon as Amazon = ',share_mat[0][0],' percent = ', (share_mat[0][0]/(share_mat[0][0]+share_mat[0][1])))\n",
    "print('Amazon as Youtube = ',share_mat[0][1],' percent = ', (share_mat[0][1]/(share_mat[0][0]+share_mat[0][1])))\n",
    "print('\\n')\n",
    "\n",
    "print('Youtube as Amazon = ',share_mat[1][0],' percent = ', (share_mat[1][0]/(share_mat[1][0]+share_mat[1][1])))\n",
    "print('Youtube as Youtube = ',share_mat[1][1],' percent = ', (share_mat[1][1]/(share_mat[1][0]+share_mat[1][1])))\n",
    "\n"
   ]
  },
  {
   "cell_type": "code",
   "execution_count": 91,
   "metadata": {},
   "outputs": [
    {
     "data": {
      "text/plain": [
       "(62, 62)"
      ]
     },
     "execution_count": 91,
     "metadata": {},
     "output_type": "execute_result"
    }
   ],
   "source": [
    "#classification with unselected and uncorrelated features\n",
    "corr = masterSelected.corr()\n",
    "corr.shape"
   ]
  },
  {
   "cell_type": "code",
   "execution_count": 92,
   "metadata": {},
   "outputs": [
    {
     "name": "stdout",
     "output_type": "stream",
     "text": [
      "ft1:  Flow Duration ft2:  Flow IAT Std   corr:  0.6785223885123135\n",
      "ft1:  Fwd Pkt Len Std ft2:  Fwd Pkt Len Max   corr:  0.848435839051745\n",
      "ft1:  Flow IAT Std ft2:  Flow Duration   corr:  0.6785223885123135\n",
      "ft1:  Flow IAT Max ft2:  Flow Duration   corr:  0.7895824858160128\n",
      "ft1:  Flow IAT Min ft2:  Flow IAT Mean   corr:  0.8259749428461993\n",
      "ft1:  Fwd IAT Tot ft2:  Flow Duration   corr:  0.9363974518404051\n",
      "ft1:  Fwd IAT Mean ft2:  Flow IAT Std   corr:  0.7968598350927399\n",
      "ft1:  Fwd IAT Std ft2:  Flow IAT Std   corr:  0.6747473090596495\n",
      "ft1:  Fwd IAT Max ft2:  Flow Duration   corr:  0.775965750693583\n",
      "ft1:  Bwd IAT Tot ft2:  Flow Duration   corr:  0.9282755995528241\n",
      "ft1:  Bwd IAT Mean ft2:  Flow IAT Std   corr:  0.8312587612581815\n",
      "ft1:  Bwd IAT Std ft2:  Flow Duration   corr:  0.6652218093626003\n",
      "ft1:  Bwd IAT Max ft2:  Flow Duration   corr:  0.7547757306955687\n",
      "ft1:  Idle Mean ft2:  Flow Duration   corr:  0.7462183863174373\n",
      "ft1:  Idle Max ft2:  Flow Duration   corr:  0.7814280112992654\n",
      "ft1:  Idle Min ft2:  Flow Duration   corr:  0.6729332646206296\n",
      "47\n",
      "['Tot Fwd Pkts', 'Tot Bwd Pkts', 'TotLen Fwd Pkts', 'TotLen Bwd Pkts', 'Fwd Pkt Len Max', 'Fwd Pkt Len Min', 'Fwd Pkt Len Mean', 'Bwd Pkt Len Max', 'Bwd Pkt Len Min', 'Bwd Pkt Len Mean', 'Bwd Pkt Len Std', 'Flow Byts/s', 'Flow Pkts/s', 'Flow IAT Mean', 'Fwd IAT Min', 'Bwd IAT Min', 'Bwd PSH Flags', 'Fwd Header Len', 'Bwd Header Len', 'Fwd Pkts/s', 'Bwd Pkts/s', 'Pkt Len Min', 'Pkt Len Max', 'Pkt Len Mean', 'Pkt Len Std', 'Pkt Len Var', 'FIN Flag Cnt', 'SYN Flag Cnt', 'RST Flag Cnt', 'PSH Flag Cnt', 'ACK Flag Cnt', 'Down/Up Ratio', 'Pkt Size Avg', 'Fwd Seg Size Avg', 'Bwd Seg Size Avg', 'Subflow Fwd Pkts', 'Subflow Fwd Byts', 'Subflow Bwd Pkts', 'Subflow Bwd Byts', 'Init Bwd Win Byts', 'Fwd Act Data Pkts', 'Active Mean', 'Active Std', 'Active Max', 'Active Min', 'Idle Std', 'Label']\n",
      "10\n",
      "['Flow Duration', 'Fwd Pkt Len Max', 'Flow IAT Mean', 'Flow IAT Std', 'Flow IAT Max', 'Fwd IAT Min', 'Bwd IAT Mean', 'Bwd IAT Max', 'Bwd IAT Min', 'Init Bwd Win Byts']\n"
     ]
    }
   ],
   "source": [
    "corrThreshold = 0.65\n",
    "unCorrUnSelFtList = list()\n",
    "for ft1 in finalFtList:#baseft = 'Idle Max' for each of the selected features\n",
    "    #print('ft1: ', ft1)\n",
    "    isCorr = False\n",
    "    for ft2 in ftSelected:# for each of the top 10 features\n",
    "        if ft1 == 'Label' or ft2 == 'Label' or (ft1 == ft2):\n",
    "            continue\n",
    "        elif abs(corr[ft1][ft2]) > corrThreshold:\n",
    "                isCorr = True\n",
    "                print('ft1: ', ft1, 'ft2: ', ft2, '  corr: ', corr[ft1][ft2])\n",
    "                break\n",
    "    if not isCorr and ft1 not in unCorrUnSelFtList:\n",
    "        #print('corr[{0}][{1}] = {2}: isPresentInRestFtlist: {3}'.format(baseft,ft,corr[baseft][ft], ft in restFtList))\n",
    "        unCorrUnSelFtList.append(ft1)\n",
    "        \n",
    "    #elif abs(corr[ft1][ft] >= 0.6 and ft in unCorrUnSelFtList):\n",
    "    #            unCorrUnSelFtList.remove(ft)\n",
    "print(len(unCorrUnSelFtList))\n",
    "print(unCorrUnSelFtList)\n",
    "\n",
    "print(len(ftSelected))\n",
    "print(ftSelected)"
   ]
  },
  {
   "cell_type": "code",
   "execution_count": 93,
   "metadata": {},
   "outputs": [],
   "source": [
    "for ft1 in ftSelected:\n",
    "    for ft2 in unCorrUnSelFtList:\n",
    "        if ft1 != 'Label' or ft2 == 'Label':\n",
    "            continue\n",
    "        if abs(corr[ft][ft2]) >= corrThreshold:\n",
    "            print('ft: ',ft, ' ft2: ',ft2, corr[ft][ft2])"
   ]
  },
  {
   "cell_type": "code",
   "execution_count": 94,
   "metadata": {},
   "outputs": [
    {
     "name": "stdout",
     "output_type": "stream",
     "text": [
      "(5285, 47)\n"
     ]
    }
   ],
   "source": [
    "#slice master data frame to only uncorrelated and unselected features\n",
    "masterUnSelected = masterSelected[unCorrUnSelFtList]\n",
    "print(masterUnSelected.shape)"
   ]
  },
  {
   "cell_type": "code",
   "execution_count": 95,
   "metadata": {},
   "outputs": [
    {
     "name": "stdout",
     "output_type": "stream",
     "text": [
      "Xshape:  (5285, 46)\n",
      "Yshape:  (5285,)\n"
     ]
    }
   ],
   "source": [
    "#### classification with unselected columns\n",
    "masterUnSelDS = masterUnSelected.values\n",
    "Xnotsel = masterUnSelDS[:,:-1]\n",
    "Y = masterUnSelDS[:,-1]\n",
    "print(\"Xshape: \", Xnotsel.shape)\n",
    "print(\"Yshape: \", Y.shape)"
   ]
  },
  {
   "cell_type": "code",
   "execution_count": 96,
   "metadata": {},
   "outputs": [
    {
     "name": "stdout",
     "output_type": "stream",
     "text": [
      "classification with rest (not top 10) features:\n",
      "[0.93383743 0.96030246 0.96786389 0.93761815 0.92438563 0.84469697\n",
      " 0.83901515 0.85984848 0.74810606 0.83522727]\n",
      "mean score:  0.8850901500830612  std score:  0.06695566450462052\n"
     ]
    }
   ],
   "source": [
    "#find cross validation score with uncorrelated and unselecte feature data frame\n",
    "clf = DecisionTreeClassifier(random_state=0)\n",
    "print('classification with rest (not top 10) features:')\n",
    "scores = cross_val_score(clf, Xnotsel, Y, cv=10)\n",
    "print(scores)\n",
    "print('mean score: ', scores.mean(), ' std score: ', scores.std())"
   ]
  },
  {
   "cell_type": "code",
   "execution_count": 97,
   "metadata": {},
   "outputs": [],
   "source": [
    "#classification with with uncorrelated and unselecte feature data frame\n",
    "X_train, X_test, Y_train, Y_test = train_test_split(Xnotsel, Y, test_size=0.33, random_state=1)\n",
    "model = DecisionTreeClassifier(random_state=0)\n",
    "model.fit(X_train,Y_train)\n",
    "yhat = model.predict(X_test)"
   ]
  },
  {
   "cell_type": "code",
   "execution_count": 98,
   "metadata": {},
   "outputs": [
    {
     "name": "stdout",
     "output_type": "stream",
     "text": [
      "[[654  89]\n",
      " [100 902]]\n",
      "Amazon as Amazon =  654  percent =  0.8802153432032301\n",
      "Amazon as Youtube =  89  percent =  0.11978465679676985\n",
      "\n",
      "\n",
      "Youtube as Amazon =  100  percent =  0.0998003992015968\n",
      "Youtube as Youtube =  902  percent =  0.9001996007984032\n"
     ]
    }
   ],
   "source": [
    "share_mat = metrics.confusion_matrix(Y_test, yhat,labels=uniqueLabels)\n",
    "#[i][j] ==> knwon to be in group i and predicted as group j\n",
    "print(share_mat)\n",
    "print('Amazon as Amazon = ',share_mat[0][0],' percent = ', (share_mat[0][0]/(share_mat[0][0]+share_mat[0][1])))\n",
    "print('Amazon as Youtube = ',share_mat[0][1],' percent = ', (share_mat[0][1]/(share_mat[0][0]+share_mat[0][1])))\n",
    "print('\\n')\n",
    "\n",
    "print('Youtube as Amazon = ',share_mat[1][0],' percent = ', (share_mat[1][0]/(share_mat[1][0]+share_mat[1][1])))\n",
    "print('Youtube as Youtube = ',share_mat[1][1],' percent = ', (share_mat[1][1]/(share_mat[1][0]+share_mat[1][1])))\n",
    "\n"
   ]
  },
  {
   "cell_type": "code",
   "execution_count": null,
   "metadata": {},
   "outputs": [],
   "source": []
  }
 ],
 "metadata": {
  "kernelspec": {
   "display_name": "Python 3 (ipykernel)",
   "language": "python",
   "name": "python3"
  },
  "language_info": {
   "codemirror_mode": {
    "name": "ipython",
    "version": 3
   },
   "file_extension": ".py",
   "mimetype": "text/x-python",
   "name": "python",
   "nbconvert_exporter": "python",
   "pygments_lexer": "ipython3",
   "version": "3.10.5"
  }
 },
 "nbformat": 4,
 "nbformat_minor": 2
}
