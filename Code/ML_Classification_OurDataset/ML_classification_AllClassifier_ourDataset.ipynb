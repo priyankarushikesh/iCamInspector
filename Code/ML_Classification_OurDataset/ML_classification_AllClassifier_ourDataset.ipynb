{
 "cells": [
  {
   "cell_type": "code",
   "execution_count": 1,
   "id": "8860678b",
   "metadata": {},
   "outputs": [],
   "source": [
    "import pandas as pd\n",
    "import numpy as np\n",
    "from sklearn.model_selection import train_test_split\n",
    "from sklearn.feature_selection import SelectKBest\n",
    "from sklearn.feature_selection import f_classif\n",
    "from sklearn.model_selection import cross_val_score\n",
    "from sklearn.tree import DecisionTreeClassifier\n",
    "from sklearn import metrics\n",
    "from matplotlib import pyplot\n",
    "from sklearn.ensemble import ExtraTreesClassifier\n",
    "from sklearn.datasets import make_classification\n",
    "from sklearn.model_selection import KFold, cross_val_score\n",
    "from numpy import mean"
   ]
  },
  {
   "cell_type": "code",
   "execution_count": 2,
   "id": "e02d1176",
   "metadata": {},
   "outputs": [],
   "source": [
    "fnamesIPcam = [\"D:/New pcaps_IoTSpyCamera/TDSC_WorkAfterReview/filteredPcapCSV/IPCamera_filteredpcapcsv/alarmClockCam_1_Flow.csv\",\n",
    "          \"D:/New pcaps_IoTSpyCamera/TDSC_WorkAfterReview/filteredPcapCSV/IPCamera_filteredpcapcsv/alarmClockCam_2_Flow.csv\",\n",
    "          \"D:/New pcaps_IoTSpyCamera/TDSC_WorkAfterReview/filteredPcapCSV/IPCamera_filteredpcapcsv/alarmClockCam_3_Flow.csv\",\n",
    "          \"D:/New pcaps_IoTSpyCamera/TDSC_WorkAfterReview/filteredPcapCSV/IPCamera_filteredpcapcsv/alarmClockCam_4_Flow.csv\",\n",
    "          \"D:/New pcaps_IoTSpyCamera/TDSC_WorkAfterReview/filteredPcapCSV/IPCamera_filteredpcapcsv/canarycam_1_Flow.csv\",\n",
    "          \"D:/New pcaps_IoTSpyCamera/TDSC_WorkAfterReview/filteredPcapCSV/IPCamera_filteredpcapcsv/canarycam_2_Flow.csv\",\n",
    "          \"D:/New pcaps_IoTSpyCamera/TDSC_WorkAfterReview/filteredPcapCSV/IPCamera_filteredpcapcsv/canarycam_3_Flow.csv\",\n",
    "          \"D:/New pcaps_IoTSpyCamera/TDSC_WorkAfterReview/filteredPcapCSV/IPCamera_filteredpcapcsv/canarycam_4_Flow.csv\",\n",
    "          \"D:/New pcaps_IoTSpyCamera/TDSC_WorkAfterReview/filteredPcapCSV/IPCamera_filteredpcapcsv/d3dtraffic_1_Flow.csv\",\n",
    "          \"D:/New pcaps_IoTSpyCamera/TDSC_WorkAfterReview/filteredPcapCSV/IPCamera_filteredpcapcsv/d3dtraffic_2_Flow.csv\",\n",
    "          \"D:/New pcaps_IoTSpyCamera/TDSC_WorkAfterReview/filteredPcapCSV/IPCamera_filteredpcapcsv/d3dtraffic_3_Flow.csv\",\n",
    "          \"D:/New pcaps_IoTSpyCamera/TDSC_WorkAfterReview/filteredPcapCSV/IPCamera_filteredpcapcsv/ezviz_1_Flow.csv\",\n",
    "          \"D:/New pcaps_IoTSpyCamera/TDSC_WorkAfterReview/filteredPcapCSV/IPCamera_filteredpcapcsv/ezviz_2_Flow.csv\",\n",
    "          \"D:/New pcaps_IoTSpyCamera/TDSC_WorkAfterReview/filteredPcapCSV/IPCamera_filteredpcapcsv/ezviz_3_Flow.csv\",\n",
    "          \"D:/New pcaps_IoTSpyCamera/TDSC_WorkAfterReview/filteredPcapCSV/IPCamera_filteredpcapcsv/ezviz_4_Flow.csv\",\n",
    "          \"D:/New pcaps_IoTSpyCamera/TDSC_WorkAfterReview/filteredPcapCSV/IPCamera_filteredpcapcsv/ezviz_5_Flow.csv\",\n",
    "          \"D:/New pcaps_IoTSpyCamera/TDSC_WorkAfterReview/filteredPcapCSV/IPCamera_filteredpcapcsv/ezviz_6_Flow.csv\",\n",
    "          \"D:/New pcaps_IoTSpyCamera/TDSC_WorkAfterReview/filteredPcapCSV/IPCamera_filteredpcapcsv/ezviz_7_Flow.csv\",\n",
    "          \"D:/New pcaps_IoTSpyCamera/TDSC_WorkAfterReview/filteredPcapCSV/IPCamera_filteredpcapcsv/netatmocam1_Flow.csv\",\n",
    "          \"D:/New pcaps_IoTSpyCamera/TDSC_WorkAfterReview/filteredPcapCSV/IPCamera_filteredpcapcsv/netatmocam2_Flow.csv\",\n",
    "          \"D:/New pcaps_IoTSpyCamera/TDSC_WorkAfterReview/filteredPcapCSV/IPCamera_filteredpcapcsv/netatmocam3_Flow.csv\",\n",
    "          \"D:/New pcaps_IoTSpyCamera/TDSC_WorkAfterReview/filteredPcapCSV/IPCamera_filteredpcapcsv/v380Cam1_1_Flow.csv\",\n",
    "          \"D:/New pcaps_IoTSpyCamera/TDSC_WorkAfterReview/filteredPcapCSV/IPCamera_filteredpcapcsv/v380Cam1_2_Flow.csv\",\n",
    "          \"D:/New pcaps_IoTSpyCamera/TDSC_WorkAfterReview/filteredPcapCSV/IPCamera_filteredpcapcsv/v380Cam1_3_Flow.csv\",\n",
    "          \"D:/New pcaps_IoTSpyCamera/TDSC_WorkAfterReview/filteredPcapCSV/IPCamera_filteredpcapcsv/v380Cam1_4_Flow.csv\",\n",
    "          \"D:/New pcaps_IoTSpyCamera/TDSC_WorkAfterReview/filteredPcapCSV/IPCamera_filteredpcapcsv/v380Cam1_5_Flow.csv\",\n",
    "          \"D:/New pcaps_IoTSpyCamera/TDSC_WorkAfterReview/filteredPcapCSV/IPCamera_filteredpcapcsv/v380Cam1_6_Flow.csv\",\n",
    "          \"D:/New pcaps_IoTSpyCamera/TDSC_WorkAfterReview/filteredPcapCSV/IPCamera_filteredpcapcsv/v380Cam1_7_Flow.csv\",\n",
    "          \"D:/New pcaps_IoTSpyCamera/TDSC_WorkAfterReview/filteredPcapCSV/IPCamera_filteredpcapcsv/v380Cam1_8_Flow.csv\"]\n",
    "fnamesConf = [\n",
    "          \"D:/New pcaps_IoTSpyCamera/TDSC_WorkAfterReview/filteredPcapCSV/VideoConferencing_filteredpcapcsv/gmeet1_Flow.csv\",\n",
    "          \"D:/New pcaps_IoTSpyCamera/TDSC_WorkAfterReview/filteredPcapCSV/VideoConferencing_filteredpcapcsv/gmeet2_Flow.csv\",\n",
    "          \"D:/New pcaps_IoTSpyCamera/TDSC_WorkAfterReview/filteredPcapCSV/VideoConferencing_filteredpcapcsv/gmeet3_Flow.csv\",\n",
    "          \"D:/New pcaps_IoTSpyCamera/TDSC_WorkAfterReview/filteredPcapCSV/VideoConferencing_filteredpcapcsv/gmeet4_Flow.csv\",\n",
    "          \"D:/New pcaps_IoTSpyCamera/TDSC_WorkAfterReview/filteredPcapCSV/VideoConferencing_filteredpcapcsv/gmeet5_Flow.csv\",\n",
    "          \"D:/New pcaps_IoTSpyCamera/TDSC_WorkAfterReview/filteredPcapCSV/VideoConferencing_filteredpcapcsv/gmeet6_Flow.csv\",\n",
    "          \"D:/New pcaps_IoTSpyCamera/TDSC_WorkAfterReview/filteredPcapCSV/VideoConferencing_filteredpcapcsv/gmeet7_Flow.csv\",\n",
    "          \"D:/New pcaps_IoTSpyCamera/TDSC_WorkAfterReview/filteredPcapCSV/VideoConferencing_filteredpcapcsv/gmeet8_Flow.csv\",\n",
    "          \"D:/New pcaps_IoTSpyCamera/TDSC_WorkAfterReview/filteredPcapCSV/VideoConferencing_filteredpcapcsv/gmeet9_Flow.csv\",\n",
    "          \"D:/New pcaps_IoTSpyCamera/TDSC_WorkAfterReview/filteredPcapCSV/VideoConferencing_filteredpcapcsv/gmeet10_Flow.csv\",\n",
    "          \"D:/New pcaps_IoTSpyCamera/TDSC_WorkAfterReview/filteredPcapCSV/VideoConferencing_filteredpcapcsv/gmeet11_Flow.csv\",\n",
    "          \"D:/New pcaps_IoTSpyCamera/TDSC_WorkAfterReview/filteredPcapCSV/VideoConferencing_filteredpcapcsv/gmeet12_Flow.csv\",\n",
    "          \"D:/New pcaps_IoTSpyCamera/TDSC_WorkAfterReview/filteredPcapCSV/VideoConferencing_filteredpcapcsv/MSTeams1_Flow.csv\",\n",
    "          \"D:/New pcaps_IoTSpyCamera/TDSC_WorkAfterReview/filteredPcapCSV/VideoConferencing_filteredpcapcsv/MSTeams2_Flow.csv\",\n",
    "          \"D:/New pcaps_IoTSpyCamera/TDSC_WorkAfterReview/filteredPcapCSV/VideoConferencing_filteredpcapcsv/MSTeams11_Flow.csv\",\n",
    "          \"D:/New pcaps_IoTSpyCamera/TDSC_WorkAfterReview/filteredPcapCSV/VideoConferencing_filteredpcapcsv/MSTeams12_Flow.csv\",\n",
    "          \"D:/New pcaps_IoTSpyCamera/TDSC_WorkAfterReview/filteredPcapCSV/VideoConferencing_filteredpcapcsv/MSTeams21_Flow.csv\",\n",
    "          \"D:/New pcaps_IoTSpyCamera/TDSC_WorkAfterReview/filteredPcapCSV/VideoConferencing_filteredpcapcsv/MSTeams22_Flow.csv\",\n",
    "          \"D:/New pcaps_IoTSpyCamera/TDSC_WorkAfterReview/filteredPcapCSV/VideoConferencing_filteredpcapcsv/Skype_1_Flow.csv\",\n",
    "          \"D:/New pcaps_IoTSpyCamera/TDSC_WorkAfterReview/filteredPcapCSV/VideoConferencing_filteredpcapcsv/Skype_2_Flow.csv\",\n",
    "          \"D:/New pcaps_IoTSpyCamera/TDSC_WorkAfterReview/filteredPcapCSV/VideoConferencing_filteredpcapcsv/Skype_3_Flow.csv\",\n",
    "          \"D:/New pcaps_IoTSpyCamera/TDSC_WorkAfterReview/filteredPcapCSV/VideoConferencing_filteredpcapcsv/Skype_4_Flow.csv\",\n",
    "          \"D:/New pcaps_IoTSpyCamera/TDSC_WorkAfterReview/filteredPcapCSV/VideoConferencing_filteredpcapcsv/Skype_5_Flow.csv\",\n",
    "          \"D:/New pcaps_IoTSpyCamera/TDSC_WorkAfterReview/filteredPcapCSV/VideoConferencing_filteredpcapcsv/Skype_6_Flow.csv\",\n",
    "          \"D:/New pcaps_IoTSpyCamera/TDSC_WorkAfterReview/filteredPcapCSV/VideoConferencing_filteredpcapcsv/Skype_7_Flow.csv\",\n",
    "          \"D:/New pcaps_IoTSpyCamera/TDSC_WorkAfterReview/filteredPcapCSV/VideoConferencing_filteredpcapcsv/Skype_8_Flow.csv\",\n",
    "          \"D:/New pcaps_IoTSpyCamera/TDSC_WorkAfterReview/filteredPcapCSV/VideoConferencing_filteredpcapcsv/Skype_9_Flow.csv\",\n",
    "          \"D:/New pcaps_IoTSpyCamera/TDSC_WorkAfterReview/filteredPcapCSV/VideoConferencing_filteredpcapcsv/Skype_10_Flow.csv\",\n",
    "          \"D:/New pcaps_IoTSpyCamera/TDSC_WorkAfterReview/filteredPcapCSV/VideoConferencing_filteredpcapcsv/Skype_11_Flow.csv\",\n",
    "          \"D:/New pcaps_IoTSpyCamera/TDSC_WorkAfterReview/filteredPcapCSV/VideoConferencing_filteredpcapcsv/Skype_12_Flow.csv\",\n",
    "          \"D:/New pcaps_IoTSpyCamera/TDSC_WorkAfterReview/filteredPcapCSV/VideoConferencing_filteredpcapcsv/Skype_13_Flow.csv\",\n",
    "          \"D:/New pcaps_IoTSpyCamera/TDSC_WorkAfterReview/filteredPcapCSV/VideoConferencing_filteredpcapcsv/Skype_14_Flow.csv\",\n",
    "          \"D:/New pcaps_IoTSpyCamera/TDSC_WorkAfterReview/filteredPcapCSV/VideoConferencing_filteredpcapcsv/Skype_15_Flow.csv\",\n",
    "          \"D:/New pcaps_IoTSpyCamera/TDSC_WorkAfterReview/filteredPcapCSV/VideoConferencing_filteredpcapcsv/zoom1_Flow.csv\",\n",
    "          \"D:/New pcaps_IoTSpyCamera/TDSC_WorkAfterReview/filteredPcapCSV/VideoConferencing_filteredpcapcsv/zoom2_Flow.csv\",\n",
    "          \"D:/New pcaps_IoTSpyCamera/TDSC_WorkAfterReview/filteredPcapCSV/VideoConferencing_filteredpcapcsv/zoom3_Flow.csv\",\n",
    "          \"D:/New pcaps_IoTSpyCamera/TDSC_WorkAfterReview/filteredPcapCSV/VideoConferencing_filteredpcapcsv/zoom4_Flow.csv\",\n",
    "          \"D:/New pcaps_IoTSpyCamera/TDSC_WorkAfterReview/filteredPcapCSV/VideoConferencing_filteredpcapcsv/zoom5_Flow.csv\",\n",
    "          \"D:/New pcaps_IoTSpyCamera/TDSC_WorkAfterReview/filteredPcapCSV/VideoConferencing_filteredpcapcsv/zoom_6_Flow.csv\",\n",
    "          \"D:/New pcaps_IoTSpyCamera/TDSC_WorkAfterReview/filteredPcapCSV/VideoConferencing_filteredpcapcsv/zoom_7_Flow.csv\",\n",
    "          \"D:/New pcaps_IoTSpyCamera/TDSC_WorkAfterReview/filteredPcapCSV/VideoConferencing_filteredpcapcsv/zoom_8_Flow.csv\",\n",
    "          ]\n",
    "fnamesShare = [\n",
    "          \"D:/New pcaps_IoTSpyCamera/TDSC_WorkAfterReview/filteredPcapCSV/VideoSharing_filteredpcapcsv/amazon1_Flow.csv\",\n",
    "          \"D:/New pcaps_IoTSpyCamera/TDSC_WorkAfterReview/filteredPcapCSV/VideoSharing_filteredpcapcsv/amazon2_Flow.csv\",\n",
    "          \"D:/New pcaps_IoTSpyCamera/TDSC_WorkAfterReview/filteredPcapCSV/VideoSharing_filteredpcapcsv/amazon3_Flow.csv\",\n",
    "          \"D:/New pcaps_IoTSpyCamera/TDSC_WorkAfterReview/filteredPcapCSV/VideoSharing_filteredpcapcsv/amazon4_Flow.csv\",\n",
    "          \"D:/New pcaps_IoTSpyCamera/TDSC_WorkAfterReview/filteredPcapCSV/VideoSharing_filteredpcapcsv/amazon5_Flow.csv\",\n",
    "          \"D:/New pcaps_IoTSpyCamera/TDSC_WorkAfterReview/filteredPcapCSV/VideoSharing_filteredpcapcsv/YouTube_1_Flow.csv\",\n",
    "          \"D:/New pcaps_IoTSpyCamera/TDSC_WorkAfterReview/filteredPcapCSV/VideoSharing_filteredpcapcsv/YouTube_2_Flow.csv\",\n",
    "          \"D:/New pcaps_IoTSpyCamera/TDSC_WorkAfterReview/filteredPcapCSV/VideoSharing_filteredpcapcsv/YouTube_3_Flow.csv\",\n",
    "          \"D:/New pcaps_IoTSpyCamera/TDSC_WorkAfterReview/filteredPcapCSV/VideoSharing_filteredpcapcsv/YouTube_4_Flow.csv\",\n",
    "          \"D:/New pcaps_IoTSpyCamera/TDSC_WorkAfterReview/filteredPcapCSV/VideoSharing_filteredpcapcsv/YouTube_5_Flow.csv\",\n",
    "          \"D:/New pcaps_IoTSpyCamera/TDSC_WorkAfterReview/filteredPcapCSV/VideoSharing_filteredpcapcsv/YouTube_6_Flow.csv\",\n",
    "          \"D:/New pcaps_IoTSpyCamera/TDSC_WorkAfterReview/filteredPcapCSV/VideoSharing_filteredpcapcsv/YouTube_7_Flow.csv\",\n",
    "          \"D:/New pcaps_IoTSpyCamera/TDSC_WorkAfterReview/filteredPcapCSV/VideoSharing_filteredpcapcsv/YouTube_8_Flow.csv\",\n",
    "          \"D:/New pcaps_IoTSpyCamera/TDSC_WorkAfterReview/filteredPcapCSV/VideoSharing_filteredpcapcsv/YouTube_9_Flow.csv\",\n",
    "         ]\n",
    "fnamesOther = [\n",
    "          \"D:/New pcaps_IoTSpyCamera/TDSC_WorkAfterReview/Skype/New collection/Other data/csv/other1_Flow.csv\",\n",
    "          \"D:/New pcaps_IoTSpyCamera/TDSC_WorkAfterReview/Skype/New collection/Other data/csv/other2_Flow.csv\",\n",
    "          \"D:/New pcaps_IoTSpyCamera/TDSC_WorkAfterReview/Skype/New collection/Other data/csv/other3_Flow.csv\",\n",
    "          \"D:/New pcaps_IoTSpyCamera/TDSC_WorkAfterReview/Skype/New collection/Other data/csv/other4_Flow.csv\",\n",
    "          \"D:/New pcaps_IoTSpyCamera/TDSC_WorkAfterReview/Skype/New collection/Other data/csv/other3_Flow.csv\",\n",
    "         ]"
   ]
  },
  {
   "cell_type": "code",
   "execution_count": 3,
   "id": "fa6a119a",
   "metadata": {},
   "outputs": [
    {
     "name": "stdout",
     "output_type": "stream",
     "text": [
      "file: D:/New pcaps_IoTSpyCamera/TDSC_WorkAfterReview/filteredPcapCSV/IPCamera_filteredpcapcsv/alarmClockCam_1_Flow.csv  data size:  (125, 84)\n",
      "file: D:/New pcaps_IoTSpyCamera/TDSC_WorkAfterReview/filteredPcapCSV/IPCamera_filteredpcapcsv/alarmClockCam_2_Flow.csv  data size:  (157, 84)\n",
      "file: D:/New pcaps_IoTSpyCamera/TDSC_WorkAfterReview/filteredPcapCSV/IPCamera_filteredpcapcsv/alarmClockCam_3_Flow.csv  data size:  (95, 84)\n",
      "file: D:/New pcaps_IoTSpyCamera/TDSC_WorkAfterReview/filteredPcapCSV/IPCamera_filteredpcapcsv/alarmClockCam_4_Flow.csv  data size:  (18, 84)\n",
      "file: D:/New pcaps_IoTSpyCamera/TDSC_WorkAfterReview/filteredPcapCSV/IPCamera_filteredpcapcsv/canarycam_1_Flow.csv  data size:  (45, 84)\n",
      "file: D:/New pcaps_IoTSpyCamera/TDSC_WorkAfterReview/filteredPcapCSV/IPCamera_filteredpcapcsv/canarycam_2_Flow.csv  data size:  (45, 84)\n",
      "file: D:/New pcaps_IoTSpyCamera/TDSC_WorkAfterReview/filteredPcapCSV/IPCamera_filteredpcapcsv/canarycam_3_Flow.csv  data size:  (143, 84)\n",
      "file: D:/New pcaps_IoTSpyCamera/TDSC_WorkAfterReview/filteredPcapCSV/IPCamera_filteredpcapcsv/canarycam_4_Flow.csv  data size:  (188, 84)\n",
      "file: D:/New pcaps_IoTSpyCamera/TDSC_WorkAfterReview/filteredPcapCSV/IPCamera_filteredpcapcsv/d3dtraffic_1_Flow.csv  data size:  (503, 84)\n",
      "file: D:/New pcaps_IoTSpyCamera/TDSC_WorkAfterReview/filteredPcapCSV/IPCamera_filteredpcapcsv/d3dtraffic_2_Flow.csv  data size:  (665, 84)\n",
      "file: D:/New pcaps_IoTSpyCamera/TDSC_WorkAfterReview/filteredPcapCSV/IPCamera_filteredpcapcsv/d3dtraffic_3_Flow.csv  data size:  (565, 84)\n",
      "file: D:/New pcaps_IoTSpyCamera/TDSC_WorkAfterReview/filteredPcapCSV/IPCamera_filteredpcapcsv/ezviz_1_Flow.csv  data size:  (234, 84)\n",
      "file: D:/New pcaps_IoTSpyCamera/TDSC_WorkAfterReview/filteredPcapCSV/IPCamera_filteredpcapcsv/ezviz_2_Flow.csv  data size:  (336, 84)\n",
      "file: D:/New pcaps_IoTSpyCamera/TDSC_WorkAfterReview/filteredPcapCSV/IPCamera_filteredpcapcsv/ezviz_3_Flow.csv  data size:  (479, 84)\n",
      "file: D:/New pcaps_IoTSpyCamera/TDSC_WorkAfterReview/filteredPcapCSV/IPCamera_filteredpcapcsv/ezviz_4_Flow.csv  data size:  (605, 84)\n",
      "file: D:/New pcaps_IoTSpyCamera/TDSC_WorkAfterReview/filteredPcapCSV/IPCamera_filteredpcapcsv/ezviz_5_Flow.csv  data size:  (563, 84)\n",
      "file: D:/New pcaps_IoTSpyCamera/TDSC_WorkAfterReview/filteredPcapCSV/IPCamera_filteredpcapcsv/ezviz_6_Flow.csv  data size:  (339, 84)\n",
      "file: D:/New pcaps_IoTSpyCamera/TDSC_WorkAfterReview/filteredPcapCSV/IPCamera_filteredpcapcsv/ezviz_7_Flow.csv  data size:  (30, 84)\n",
      "file: D:/New pcaps_IoTSpyCamera/TDSC_WorkAfterReview/filteredPcapCSV/IPCamera_filteredpcapcsv/netatmocam1_Flow.csv  data size:  (432, 84)\n",
      "file: D:/New pcaps_IoTSpyCamera/TDSC_WorkAfterReview/filteredPcapCSV/IPCamera_filteredpcapcsv/netatmocam2_Flow.csv  data size:  (158, 84)\n",
      "file: D:/New pcaps_IoTSpyCamera/TDSC_WorkAfterReview/filteredPcapCSV/IPCamera_filteredpcapcsv/netatmocam3_Flow.csv  data size:  (353, 84)\n",
      "file: D:/New pcaps_IoTSpyCamera/TDSC_WorkAfterReview/filteredPcapCSV/IPCamera_filteredpcapcsv/v380Cam1_1_Flow.csv  data size:  (249, 84)\n",
      "file: D:/New pcaps_IoTSpyCamera/TDSC_WorkAfterReview/filteredPcapCSV/IPCamera_filteredpcapcsv/v380Cam1_2_Flow.csv  data size:  (1678, 84)\n",
      "file: D:/New pcaps_IoTSpyCamera/TDSC_WorkAfterReview/filteredPcapCSV/IPCamera_filteredpcapcsv/v380Cam1_3_Flow.csv  data size:  (347, 84)\n",
      "file: D:/New pcaps_IoTSpyCamera/TDSC_WorkAfterReview/filteredPcapCSV/IPCamera_filteredpcapcsv/v380Cam1_4_Flow.csv  data size:  (425, 84)\n",
      "file: D:/New pcaps_IoTSpyCamera/TDSC_WorkAfterReview/filteredPcapCSV/IPCamera_filteredpcapcsv/v380Cam1_5_Flow.csv  data size:  (264, 84)\n",
      "file: D:/New pcaps_IoTSpyCamera/TDSC_WorkAfterReview/filteredPcapCSV/IPCamera_filteredpcapcsv/v380Cam1_6_Flow.csv  data size:  (288, 84)\n",
      "file: D:/New pcaps_IoTSpyCamera/TDSC_WorkAfterReview/filteredPcapCSV/IPCamera_filteredpcapcsv/v380Cam1_7_Flow.csv  data size:  (280, 84)\n",
      "file: D:/New pcaps_IoTSpyCamera/TDSC_WorkAfterReview/filteredPcapCSV/IPCamera_filteredpcapcsv/v380Cam1_8_Flow.csv  data size:  (391, 84)\n",
      "(10000, 84)\n"
     ]
    }
   ],
   "source": [
    "dfList = list()\n",
    "for fname in fnamesIPcam: \n",
    "    data = pd.read_csv(fname)\n",
    "    print('file:', fname, ' data size: ',data.shape)\n",
    "    dfList.append(data)\n",
    "############## combine the data frames\n",
    "ipcamDF = pd.concat(dfList)\n",
    "print(ipcamDF.shape)"
   ]
  },
  {
   "cell_type": "code",
   "execution_count": 4,
   "id": "6177a6b5",
   "metadata": {},
   "outputs": [
    {
     "name": "stdout",
     "output_type": "stream",
     "text": [
      "['IPCam_AlarmClock', 'IPCam_Canary', 'IPCam_D3D', 'IPCam_Ezviz', 'IPCam_Netatmo', 'IPCam_V380']\n"
     ]
    }
   ],
   "source": [
    "#see unique labels\n",
    "print(list(ipcamDF['Label'].unique()))"
   ]
  },
  {
   "cell_type": "code",
   "execution_count": 5,
   "id": "b2e1e052",
   "metadata": {},
   "outputs": [
    {
     "name": "stdout",
     "output_type": "stream",
     "text": [
      "['IPCam', 'IPCam_Canary', 'IPCam_D3D', 'IPCam_Ezviz', 'IPCam_Netatmo', 'IPCam_V380']\n"
     ]
    }
   ],
   "source": [
    "ipcamDF['Label'].replace('IPCam_AlarmClock','IPCam',inplace=True)\n",
    "#uniqueLabels = list(ipcamDF['Label'].unique())\n",
    "#print(uniqueLabels)\n",
    "print(list(ipcamDF['Label'].unique()))"
   ]
  },
  {
   "cell_type": "code",
   "execution_count": 6,
   "id": "a1249a93",
   "metadata": {},
   "outputs": [
    {
     "name": "stdout",
     "output_type": "stream",
     "text": [
      "['IPCam', 'IPCam_D3D', 'IPCam_Ezviz', 'IPCam_Netatmo', 'IPCam_V380']\n"
     ]
    }
   ],
   "source": [
    "ipcamDF['Label'].replace('IPCam_Canary','IPCam',inplace=True)\n",
    "#uniqueLabels = list(ipcamDF['Label'].unique())\n",
    "#print(uniqueLabels)\n",
    "print(list(ipcamDF['Label'].unique()))"
   ]
  },
  {
   "cell_type": "code",
   "execution_count": 7,
   "id": "91740d65",
   "metadata": {},
   "outputs": [
    {
     "name": "stdout",
     "output_type": "stream",
     "text": [
      "['IPCam', 'IPCam_Ezviz', 'IPCam_Netatmo', 'IPCam_V380']\n"
     ]
    }
   ],
   "source": [
    "ipcamDF['Label'].replace('IPCam_D3D','IPCam',inplace=True)\n",
    "#uniqueLabels = list(ipcamDF['Label'].unique())\n",
    "#print(uniqueLabels)\n",
    "print(list(ipcamDF['Label'].unique()))"
   ]
  },
  {
   "cell_type": "code",
   "execution_count": 8,
   "id": "1e1bd6f8",
   "metadata": {},
   "outputs": [
    {
     "name": "stdout",
     "output_type": "stream",
     "text": [
      "['IPCam', 'IPCam_Netatmo', 'IPCam_V380']\n"
     ]
    }
   ],
   "source": [
    "ipcamDF['Label'].replace('IPCam_Ezviz','IPCam',inplace=True)\n",
    "#uniqueLabels = list(ipcamDF['Label'].unique())\n",
    "#print(uniqueLabels)\n",
    "print(list(ipcamDF['Label'].unique()))"
   ]
  },
  {
   "cell_type": "code",
   "execution_count": 9,
   "id": "e1a99400",
   "metadata": {},
   "outputs": [
    {
     "name": "stdout",
     "output_type": "stream",
     "text": [
      "['IPCam', 'IPCam_V380']\n"
     ]
    }
   ],
   "source": [
    "ipcamDF['Label'].replace('IPCam_Netatmo','IPCam',inplace=True)\n",
    "#uniqueLabels = list(ipcamDF['Label'].unique())\n",
    "#print(uniqueLabels)\n",
    "print(list(ipcamDF['Label'].unique()))"
   ]
  },
  {
   "cell_type": "code",
   "execution_count": 10,
   "id": "2de58c40",
   "metadata": {},
   "outputs": [
    {
     "name": "stdout",
     "output_type": "stream",
     "text": [
      "['IPCam']\n"
     ]
    }
   ],
   "source": [
    "ipcamDF['Label'].replace('IPCam_V380','IPCam',inplace=True)\n",
    "uniqueLabels = list(ipcamDF['Label'].unique())\n",
    "print(uniqueLabels)\n",
    "#print(list(ipcamDF['Label'].unique()))"
   ]
  },
  {
   "cell_type": "code",
   "execution_count": 11,
   "id": "e095fa7f",
   "metadata": {},
   "outputs": [
    {
     "name": "stdout",
     "output_type": "stream",
     "text": [
      "file: D:/New pcaps_IoTSpyCamera/TDSC_WorkAfterReview/filteredPcapCSV/VideoSharing_filteredpcapcsv/amazon1_Flow.csv  data size:  (870, 84)\n",
      "file: D:/New pcaps_IoTSpyCamera/TDSC_WorkAfterReview/filteredPcapCSV/VideoSharing_filteredpcapcsv/amazon2_Flow.csv  data size:  (516, 84)\n",
      "file: D:/New pcaps_IoTSpyCamera/TDSC_WorkAfterReview/filteredPcapCSV/VideoSharing_filteredpcapcsv/amazon3_Flow.csv  data size:  (921, 84)\n",
      "file: D:/New pcaps_IoTSpyCamera/TDSC_WorkAfterReview/filteredPcapCSV/VideoSharing_filteredpcapcsv/amazon4_Flow.csv  data size:  (467, 84)\n",
      "file: D:/New pcaps_IoTSpyCamera/TDSC_WorkAfterReview/filteredPcapCSV/VideoSharing_filteredpcapcsv/amazon5_Flow.csv  data size:  (800, 84)\n",
      "file: D:/New pcaps_IoTSpyCamera/TDSC_WorkAfterReview/filteredPcapCSV/VideoSharing_filteredpcapcsv/YouTube_1_Flow.csv  data size:  (1420, 84)\n",
      "file: D:/New pcaps_IoTSpyCamera/TDSC_WorkAfterReview/filteredPcapCSV/VideoSharing_filteredpcapcsv/YouTube_2_Flow.csv  data size:  (52, 84)\n",
      "file: D:/New pcaps_IoTSpyCamera/TDSC_WorkAfterReview/filteredPcapCSV/VideoSharing_filteredpcapcsv/YouTube_3_Flow.csv  data size:  (37, 84)\n",
      "file: D:/New pcaps_IoTSpyCamera/TDSC_WorkAfterReview/filteredPcapCSV/VideoSharing_filteredpcapcsv/YouTube_4_Flow.csv  data size:  (41, 84)\n",
      "file: D:/New pcaps_IoTSpyCamera/TDSC_WorkAfterReview/filteredPcapCSV/VideoSharing_filteredpcapcsv/YouTube_5_Flow.csv  data size:  (337, 84)\n",
      "file: D:/New pcaps_IoTSpyCamera/TDSC_WorkAfterReview/filteredPcapCSV/VideoSharing_filteredpcapcsv/YouTube_6_Flow.csv  data size:  (159, 84)\n",
      "file: D:/New pcaps_IoTSpyCamera/TDSC_WorkAfterReview/filteredPcapCSV/VideoSharing_filteredpcapcsv/YouTube_7_Flow.csv  data size:  (337, 84)\n",
      "file: D:/New pcaps_IoTSpyCamera/TDSC_WorkAfterReview/filteredPcapCSV/VideoSharing_filteredpcapcsv/YouTube_8_Flow.csv  data size:  (1729, 84)\n",
      "file: D:/New pcaps_IoTSpyCamera/TDSC_WorkAfterReview/filteredPcapCSV/VideoSharing_filteredpcapcsv/YouTube_9_Flow.csv  data size:  (194, 84)\n",
      "(7880, 84)\n"
     ]
    }
   ],
   "source": [
    "###################################\\\n",
    "dfList = list()\n",
    "for fname in fnamesShare: \n",
    "    data = pd.read_csv(fname)\n",
    "    print('file:', fname, ' data size: ',data.shape)\n",
    "    dfList.append(data)\n",
    "############## combine the data frames\n",
    "shareDF = pd.concat(dfList)\n",
    "print(shareDF.shape)"
   ]
  },
  {
   "cell_type": "code",
   "execution_count": 12,
   "id": "14e50a85",
   "metadata": {},
   "outputs": [
    {
     "name": "stdout",
     "output_type": "stream",
     "text": [
      "['VShare_Amazon', 'VShare_YouTube']\n"
     ]
    }
   ],
   "source": [
    "print(list(shareDF['Label'].unique()))"
   ]
  },
  {
   "cell_type": "code",
   "execution_count": 13,
   "id": "590ebdbf",
   "metadata": {},
   "outputs": [
    {
     "name": "stdout",
     "output_type": "stream",
     "text": [
      "['VShare', 'VShare_YouTube']\n"
     ]
    }
   ],
   "source": [
    "shareDF['Label'].replace('VShare_Amazon','VShare',inplace=True)\n",
    "#uniqueLabels = list(ipcamDF['Label'].unique())\n",
    "#print(uniqueLabels)\n",
    "print(list(shareDF['Label'].unique()))"
   ]
  },
  {
   "cell_type": "code",
   "execution_count": 14,
   "id": "9929ab9c",
   "metadata": {},
   "outputs": [
    {
     "name": "stdout",
     "output_type": "stream",
     "text": [
      "['VShare']\n"
     ]
    }
   ],
   "source": [
    "shareDF['Label'].replace('VShare_YouTube','VShare',inplace=True)\n",
    "uniqueLabels = list(shareDF['Label'].unique())\n",
    "print(uniqueLabels)\n",
    "#print(list(shareDF['Label'].unique()))"
   ]
  },
  {
   "cell_type": "code",
   "execution_count": 15,
   "id": "4c8b15a6",
   "metadata": {},
   "outputs": [
    {
     "name": "stdout",
     "output_type": "stream",
     "text": [
      "file: D:/New pcaps_IoTSpyCamera/TDSC_WorkAfterReview/filteredPcapCSV/VideoConferencing_filteredpcapcsv/gmeet1_Flow.csv  data size:  (2620, 84)\n",
      "file: D:/New pcaps_IoTSpyCamera/TDSC_WorkAfterReview/filteredPcapCSV/VideoConferencing_filteredpcapcsv/gmeet2_Flow.csv  data size:  (3350, 84)\n",
      "file: D:/New pcaps_IoTSpyCamera/TDSC_WorkAfterReview/filteredPcapCSV/VideoConferencing_filteredpcapcsv/gmeet3_Flow.csv  data size:  (3207, 84)\n",
      "file: D:/New pcaps_IoTSpyCamera/TDSC_WorkAfterReview/filteredPcapCSV/VideoConferencing_filteredpcapcsv/gmeet4_Flow.csv  data size:  (6585, 84)\n",
      "file: D:/New pcaps_IoTSpyCamera/TDSC_WorkAfterReview/filteredPcapCSV/VideoConferencing_filteredpcapcsv/gmeet5_Flow.csv  data size:  (331, 84)\n",
      "file: D:/New pcaps_IoTSpyCamera/TDSC_WorkAfterReview/filteredPcapCSV/VideoConferencing_filteredpcapcsv/gmeet6_Flow.csv  data size:  (4937, 84)\n",
      "file: D:/New pcaps_IoTSpyCamera/TDSC_WorkAfterReview/filteredPcapCSV/VideoConferencing_filteredpcapcsv/gmeet7_Flow.csv  data size:  (1436, 84)\n",
      "file: D:/New pcaps_IoTSpyCamera/TDSC_WorkAfterReview/filteredPcapCSV/VideoConferencing_filteredpcapcsv/gmeet8_Flow.csv  data size:  (569, 84)\n",
      "file: D:/New pcaps_IoTSpyCamera/TDSC_WorkAfterReview/filteredPcapCSV/VideoConferencing_filteredpcapcsv/gmeet9_Flow.csv  data size:  (2833, 84)\n",
      "file: D:/New pcaps_IoTSpyCamera/TDSC_WorkAfterReview/filteredPcapCSV/VideoConferencing_filteredpcapcsv/gmeet10_Flow.csv  data size:  (2157, 84)\n",
      "file: D:/New pcaps_IoTSpyCamera/TDSC_WorkAfterReview/filteredPcapCSV/VideoConferencing_filteredpcapcsv/gmeet11_Flow.csv  data size:  (3129, 84)\n",
      "file: D:/New pcaps_IoTSpyCamera/TDSC_WorkAfterReview/filteredPcapCSV/VideoConferencing_filteredpcapcsv/gmeet12_Flow.csv  data size:  (806, 84)\n",
      "file: D:/New pcaps_IoTSpyCamera/TDSC_WorkAfterReview/filteredPcapCSV/VideoConferencing_filteredpcapcsv/MSTeams1_Flow.csv  data size:  (1898, 84)\n",
      "file: D:/New pcaps_IoTSpyCamera/TDSC_WorkAfterReview/filteredPcapCSV/VideoConferencing_filteredpcapcsv/MSTeams2_Flow.csv  data size:  (382, 84)\n",
      "file: D:/New pcaps_IoTSpyCamera/TDSC_WorkAfterReview/filteredPcapCSV/VideoConferencing_filteredpcapcsv/MSTeams11_Flow.csv  data size:  (1898, 84)\n",
      "file: D:/New pcaps_IoTSpyCamera/TDSC_WorkAfterReview/filteredPcapCSV/VideoConferencing_filteredpcapcsv/MSTeams12_Flow.csv  data size:  (1898, 84)\n",
      "file: D:/New pcaps_IoTSpyCamera/TDSC_WorkAfterReview/filteredPcapCSV/VideoConferencing_filteredpcapcsv/MSTeams21_Flow.csv  data size:  (382, 84)\n",
      "file: D:/New pcaps_IoTSpyCamera/TDSC_WorkAfterReview/filteredPcapCSV/VideoConferencing_filteredpcapcsv/MSTeams22_Flow.csv  data size:  (382, 84)\n",
      "file: D:/New pcaps_IoTSpyCamera/TDSC_WorkAfterReview/filteredPcapCSV/VideoConferencing_filteredpcapcsv/Skype_1_Flow.csv  data size:  (186, 84)\n",
      "file: D:/New pcaps_IoTSpyCamera/TDSC_WorkAfterReview/filteredPcapCSV/VideoConferencing_filteredpcapcsv/Skype_2_Flow.csv  data size:  (285, 84)\n",
      "file: D:/New pcaps_IoTSpyCamera/TDSC_WorkAfterReview/filteredPcapCSV/VideoConferencing_filteredpcapcsv/Skype_3_Flow.csv  data size:  (25, 84)\n",
      "file: D:/New pcaps_IoTSpyCamera/TDSC_WorkAfterReview/filteredPcapCSV/VideoConferencing_filteredpcapcsv/Skype_4_Flow.csv  data size:  (271, 84)\n",
      "file: D:/New pcaps_IoTSpyCamera/TDSC_WorkAfterReview/filteredPcapCSV/VideoConferencing_filteredpcapcsv/Skype_5_Flow.csv  data size:  (55, 84)\n",
      "file: D:/New pcaps_IoTSpyCamera/TDSC_WorkAfterReview/filteredPcapCSV/VideoConferencing_filteredpcapcsv/Skype_6_Flow.csv  data size:  (417, 84)\n",
      "file: D:/New pcaps_IoTSpyCamera/TDSC_WorkAfterReview/filteredPcapCSV/VideoConferencing_filteredpcapcsv/Skype_7_Flow.csv  data size:  (85, 84)\n",
      "file: D:/New pcaps_IoTSpyCamera/TDSC_WorkAfterReview/filteredPcapCSV/VideoConferencing_filteredpcapcsv/Skype_8_Flow.csv  data size:  (64, 84)\n",
      "file: D:/New pcaps_IoTSpyCamera/TDSC_WorkAfterReview/filteredPcapCSV/VideoConferencing_filteredpcapcsv/Skype_9_Flow.csv  data size:  (733, 84)\n",
      "file: D:/New pcaps_IoTSpyCamera/TDSC_WorkAfterReview/filteredPcapCSV/VideoConferencing_filteredpcapcsv/Skype_10_Flow.csv  data size:  (1098, 84)\n",
      "file: D:/New pcaps_IoTSpyCamera/TDSC_WorkAfterReview/filteredPcapCSV/VideoConferencing_filteredpcapcsv/Skype_11_Flow.csv  data size:  (1024, 84)\n",
      "file: D:/New pcaps_IoTSpyCamera/TDSC_WorkAfterReview/filteredPcapCSV/VideoConferencing_filteredpcapcsv/Skype_12_Flow.csv  data size:  (928, 84)\n",
      "file: D:/New pcaps_IoTSpyCamera/TDSC_WorkAfterReview/filteredPcapCSV/VideoConferencing_filteredpcapcsv/Skype_13_Flow.csv  data size:  (1277, 84)\n",
      "file: D:/New pcaps_IoTSpyCamera/TDSC_WorkAfterReview/filteredPcapCSV/VideoConferencing_filteredpcapcsv/Skype_14_Flow.csv  data size:  (1637, 84)\n",
      "file: D:/New pcaps_IoTSpyCamera/TDSC_WorkAfterReview/filteredPcapCSV/VideoConferencing_filteredpcapcsv/Skype_15_Flow.csv  data size:  (1028, 84)\n",
      "file: D:/New pcaps_IoTSpyCamera/TDSC_WorkAfterReview/filteredPcapCSV/VideoConferencing_filteredpcapcsv/zoom1_Flow.csv  data size:  (237, 84)\n",
      "file: D:/New pcaps_IoTSpyCamera/TDSC_WorkAfterReview/filteredPcapCSV/VideoConferencing_filteredpcapcsv/zoom2_Flow.csv  data size:  (251, 84)\n",
      "file: D:/New pcaps_IoTSpyCamera/TDSC_WorkAfterReview/filteredPcapCSV/VideoConferencing_filteredpcapcsv/zoom3_Flow.csv  data size:  (180, 84)\n",
      "file: D:/New pcaps_IoTSpyCamera/TDSC_WorkAfterReview/filteredPcapCSV/VideoConferencing_filteredpcapcsv/zoom4_Flow.csv  data size:  (312, 84)\n",
      "file: D:/New pcaps_IoTSpyCamera/TDSC_WorkAfterReview/filteredPcapCSV/VideoConferencing_filteredpcapcsv/zoom5_Flow.csv  data size:  (108, 84)\n",
      "file: D:/New pcaps_IoTSpyCamera/TDSC_WorkAfterReview/filteredPcapCSV/VideoConferencing_filteredpcapcsv/zoom_6_Flow.csv  data size:  (23, 84)\n",
      "file: D:/New pcaps_IoTSpyCamera/TDSC_WorkAfterReview/filteredPcapCSV/VideoConferencing_filteredpcapcsv/zoom_7_Flow.csv  data size:  (12, 84)\n",
      "file: D:/New pcaps_IoTSpyCamera/TDSC_WorkAfterReview/filteredPcapCSV/VideoConferencing_filteredpcapcsv/zoom_8_Flow.csv  data size:  (15, 84)\n",
      "(49051, 84)\n"
     ]
    }
   ],
   "source": [
    "###################################\\\n",
    "dfList = list()\n",
    "for fname in fnamesConf: \n",
    "    data = pd.read_csv(fname)\n",
    "    print('file:', fname, ' data size: ',data.shape)\n",
    "    dfList.append(data)\n",
    "############## combine the data frames\n",
    "confDF = pd.concat(dfList)\n",
    "print(confDF.shape)"
   ]
  },
  {
   "cell_type": "code",
   "execution_count": 16,
   "id": "b5dcbab4",
   "metadata": {},
   "outputs": [
    {
     "name": "stdout",
     "output_type": "stream",
     "text": [
      "['VConf_GMeet', 'VConf_Teams', 'VConf_Skype', 'VConf_Zoom']\n"
     ]
    }
   ],
   "source": [
    "print(list(confDF['Label'].unique()))"
   ]
  },
  {
   "cell_type": "code",
   "execution_count": 17,
   "id": "0757965c",
   "metadata": {},
   "outputs": [
    {
     "name": "stdout",
     "output_type": "stream",
     "text": [
      "['VConf', 'VConf_Teams', 'VConf_Skype', 'VConf_Zoom']\n"
     ]
    }
   ],
   "source": [
    "confDF['Label'].replace('VConf_GMeet','VConf',inplace=True)\n",
    "#uniqueLabels = list(ipcamDF['Label'].unique())\n",
    "#print(uniqueLabels)\n",
    "print(list(confDF['Label'].unique()))"
   ]
  },
  {
   "cell_type": "code",
   "execution_count": 18,
   "id": "02904f47",
   "metadata": {},
   "outputs": [
    {
     "name": "stdout",
     "output_type": "stream",
     "text": [
      "['VConf', 'VConf_Skype', 'VConf_Zoom']\n"
     ]
    }
   ],
   "source": [
    "confDF['Label'].replace('VConf_Teams','VConf',inplace=True)\n",
    "#uniqueLabels = list(ipcamDF['Label'].unique())\n",
    "#print(uniqueLabels)\n",
    "print(list(confDF['Label'].unique()))"
   ]
  },
  {
   "cell_type": "code",
   "execution_count": 19,
   "id": "2d71d0c6",
   "metadata": {},
   "outputs": [
    {
     "name": "stdout",
     "output_type": "stream",
     "text": [
      "['VConf', 'VConf_Zoom']\n"
     ]
    }
   ],
   "source": [
    "confDF['Label'].replace('VConf_Skype','VConf',inplace=True)\n",
    "#uniqueLabels = list(ipcamDF['Label'].unique())\n",
    "#print(uniqueLabels)\n",
    "print(list(confDF['Label'].unique()))"
   ]
  },
  {
   "cell_type": "code",
   "execution_count": 20,
   "id": "a44b7db3",
   "metadata": {},
   "outputs": [
    {
     "name": "stdout",
     "output_type": "stream",
     "text": [
      "['VConf']\n"
     ]
    }
   ],
   "source": [
    "confDF['Label'].replace('VConf_Zoom','VConf',inplace=True)\n",
    "uniqueLabels = list(confDF['Label'].unique())\n",
    "print(uniqueLabels)"
   ]
  },
  {
   "cell_type": "code",
   "execution_count": 21,
   "id": "e2a621cd",
   "metadata": {},
   "outputs": [
    {
     "name": "stdout",
     "output_type": "stream",
     "text": [
      "file: D:/New pcaps_IoTSpyCamera/TDSC_WorkAfterReview/Skype/New collection/Other data/csv/other1_Flow.csv  data size:  (12155, 84)\n",
      "file: D:/New pcaps_IoTSpyCamera/TDSC_WorkAfterReview/Skype/New collection/Other data/csv/other2_Flow.csv  data size:  (1795, 84)\n",
      "file: D:/New pcaps_IoTSpyCamera/TDSC_WorkAfterReview/Skype/New collection/Other data/csv/other3_Flow.csv  data size:  (11728, 84)\n",
      "file: D:/New pcaps_IoTSpyCamera/TDSC_WorkAfterReview/Skype/New collection/Other data/csv/other4_Flow.csv  data size:  (5358, 84)\n",
      "file: D:/New pcaps_IoTSpyCamera/TDSC_WorkAfterReview/Skype/New collection/Other data/csv/other3_Flow.csv  data size:  (11728, 84)\n",
      "(42764, 84)\n"
     ]
    }
   ],
   "source": [
    "###################################\\\n",
    "dfList = list()\n",
    "for fname in fnamesOther: \n",
    "    data = pd.read_csv(fname)\n",
    "    print('file:', fname, ' data size: ',data.shape)\n",
    "    dfList.append(data)\n",
    "############## combine the data frames\n",
    "otherDF = pd.concat(dfList)\n",
    "print(otherDF.shape)"
   ]
  },
  {
   "cell_type": "code",
   "execution_count": 22,
   "id": "db77c492",
   "metadata": {},
   "outputs": [
    {
     "name": "stdout",
     "output_type": "stream",
     "text": [
      "['Other', 'No Label']\n"
     ]
    }
   ],
   "source": [
    "print(list(otherDF['Label'].unique()))"
   ]
  },
  {
   "cell_type": "code",
   "execution_count": 23,
   "id": "0e65e001",
   "metadata": {},
   "outputs": [
    {
     "name": "stdout",
     "output_type": "stream",
     "text": [
      "['Other']\n"
     ]
    }
   ],
   "source": [
    "otherDF['Label'].replace('No Label','Other',inplace=True)\n",
    "#uniqueLabels = list(ipcamDF['Label'].unique())\n",
    "#print(uniqueLabels)\n",
    "print(list(otherDF['Label'].unique()))"
   ]
  },
  {
   "cell_type": "code",
   "execution_count": 24,
   "id": "a7d042db",
   "metadata": {},
   "outputs": [
    {
     "name": "stdout",
     "output_type": "stream",
     "text": [
      "['Other']\n"
     ]
    }
   ],
   "source": [
    "print(list(otherDF['Label'].unique()))"
   ]
  },
  {
   "cell_type": "code",
   "execution_count": 25,
   "id": "53a91242",
   "metadata": {},
   "outputs": [
    {
     "name": "stdout",
     "output_type": "stream",
     "text": [
      "['VConf']\n",
      "['VShare']\n",
      "['IPCam']\n",
      "['Other']\n"
     ]
    }
   ],
   "source": [
    "print(list(confDF['Label'].unique()))\n",
    "print(list(shareDF['Label'].unique()))\n",
    "print(list(ipcamDF['Label'].unique()))\n",
    "print(list(otherDF['Label'].unique()))"
   ]
  },
  {
   "cell_type": "code",
   "execution_count": 26,
   "id": "0f5848f0",
   "metadata": {},
   "outputs": [
    {
     "name": "stdout",
     "output_type": "stream",
     "text": [
      "(109695, 84)\n"
     ]
    }
   ],
   "source": [
    "######### creating master DF\n",
    "dfListAll = [ipcamDF,shareDF, confDF, otherDF]\n",
    "masterDF = pd.concat(dfListAll)\n",
    "print(masterDF.shape)"
   ]
  },
  {
   "cell_type": "code",
   "execution_count": 27,
   "id": "fb8005e8",
   "metadata": {},
   "outputs": [
    {
     "name": "stdout",
     "output_type": "stream",
     "text": [
      "['IPCam', 'VShare', 'VConf', 'Other']\n"
     ]
    }
   ],
   "source": [
    "uniqueLabels = list(masterDF['Label'].unique())\n",
    "print(uniqueLabels)"
   ]
  },
  {
   "cell_type": "code",
   "execution_count": 28,
   "id": "b13aa07b",
   "metadata": {},
   "outputs": [
    {
     "name": "stdout",
     "output_type": "stream",
     "text": [
      "pruneddata size:  (109695, 77)\n",
      "['Flow Duration', 'Tot Fwd Pkts', 'Tot Bwd Pkts', 'TotLen Fwd Pkts', 'TotLen Bwd Pkts', 'Fwd Pkt Len Max', 'Fwd Pkt Len Min', 'Fwd Pkt Len Mean', 'Fwd Pkt Len Std', 'Bwd Pkt Len Max', 'Bwd Pkt Len Min', 'Bwd Pkt Len Mean', 'Bwd Pkt Len Std', 'Flow Byts/s', 'Flow Pkts/s', 'Flow IAT Mean', 'Flow IAT Std', 'Flow IAT Max', 'Flow IAT Min', 'Fwd IAT Tot', 'Fwd IAT Mean', 'Fwd IAT Std', 'Fwd IAT Max', 'Fwd IAT Min', 'Bwd IAT Tot', 'Bwd IAT Mean', 'Bwd IAT Std', 'Bwd IAT Max', 'Bwd IAT Min', 'Fwd PSH Flags', 'Bwd PSH Flags', 'Fwd URG Flags', 'Bwd URG Flags', 'Fwd Header Len', 'Bwd Header Len', 'Fwd Pkts/s', 'Bwd Pkts/s', 'Pkt Len Min', 'Pkt Len Max', 'Pkt Len Mean', 'Pkt Len Std', 'Pkt Len Var', 'FIN Flag Cnt', 'SYN Flag Cnt', 'RST Flag Cnt', 'PSH Flag Cnt', 'ACK Flag Cnt', 'URG Flag Cnt', 'CWE Flag Count', 'ECE Flag Cnt', 'Down/Up Ratio', 'Pkt Size Avg', 'Fwd Seg Size Avg', 'Bwd Seg Size Avg', 'Fwd Byts/b Avg', 'Fwd Pkts/b Avg', 'Fwd Blk Rate Avg', 'Bwd Byts/b Avg', 'Bwd Pkts/b Avg', 'Bwd Blk Rate Avg', 'Subflow Fwd Pkts', 'Subflow Fwd Byts', 'Subflow Bwd Pkts', 'Subflow Bwd Byts', 'Init Fwd Win Byts', 'Init Bwd Win Byts', 'Fwd Act Data Pkts', 'Fwd Seg Size Min', 'Active Mean', 'Active Std', 'Active Max', 'Active Min', 'Idle Mean', 'Idle Std', 'Idle Max', 'Idle Min', 'Label']\n"
     ]
    }
   ],
   "source": [
    "#discard all those columns that helps in uniquely identifying a flow\n",
    "masterPruned = masterDF.iloc[:,np.arange(7,84)]\n",
    "print('pruneddata size: ', masterPruned.shape)\n",
    "ftList = list(masterPruned.columns)\n",
    "print(ftList)"
   ]
  },
  {
   "cell_type": "code",
   "execution_count": 29,
   "id": "e7c17837",
   "metadata": {},
   "outputs": [
    {
     "data": {
      "text/plain": [
       "(76976, 77)"
      ]
     },
     "execution_count": 29,
     "metadata": {},
     "output_type": "execute_result"
    }
   ],
   "source": [
    "#discard those flows that has 0 flow duration\n",
    "masterSelected = masterPruned.drop(masterPruned[masterPruned['Flow Duration']==0].index)\n",
    "masterSelected.shape"
   ]
  },
  {
   "cell_type": "code",
   "execution_count": 30,
   "id": "eb78e289",
   "metadata": {},
   "outputs": [
    {
     "name": "stdout",
     "output_type": "stream",
     "text": [
      "[]\n"
     ]
    }
   ],
   "source": [
    "#identify those columns that has non-numeric values\n",
    "typesList = masterSelected.dtypes\n",
    "ftCount = len(ftList)\n",
    "nonNumericFtList = list()\n",
    "for fi in range(ftCount):\n",
    "    if ftList[fi] != 'Label' and typesList[fi] != 'int64' and typesList[fi] != 'float64':\n",
    "        print(ftList[fi], '  ', typesList[fi])\n",
    "        nonNumericFtList.append(ftList[fi])\n",
    "print(nonNumericFtList)"
   ]
  },
  {
   "cell_type": "code",
   "execution_count": 31,
   "id": "6390b533",
   "metadata": {},
   "outputs": [],
   "source": [
    "for ft in nonNumericFtList:\n",
    "    masterSelected[ft] = pd.to_numeric(masterSelected[ft], errors='coerce')"
   ]
  },
  {
   "cell_type": "code",
   "execution_count": 32,
   "id": "477d012e",
   "metadata": {},
   "outputs": [
    {
     "name": "stdout",
     "output_type": "stream",
     "text": [
      "[]\n"
     ]
    }
   ],
   "source": [
    "print(nonNumericFtList)\n",
    "for ft in nonNumericFtList:\n",
    "    countNaN = masterSelected[ft].isna().sum()\n",
    "    print('converted to numeric ft: ', ft, '  countNaN: ', countNaN)"
   ]
  },
  {
   "cell_type": "code",
   "execution_count": 33,
   "id": "73d2da24",
   "metadata": {},
   "outputs": [
    {
     "name": "stdout",
     "output_type": "stream",
     "text": [
      "count inf:  0\n"
     ]
    }
   ],
   "source": [
    "number_inf = masterSelected[masterSelected == np.inf].count().sum()\n",
    "print('count inf: ',number_inf)"
   ]
  },
  {
   "cell_type": "code",
   "execution_count": 34,
   "id": "fb76f7bd",
   "metadata": {},
   "outputs": [
    {
     "name": "stdout",
     "output_type": "stream",
     "text": [
      "[]\n"
     ]
    }
   ],
   "source": [
    "typesList = masterSelected.dtypes\n",
    "ftCount = len(ftList)\n",
    "nonNumericFtList = list()\n",
    "for fi in range(ftCount):\n",
    "    if ftList[fi] != 'Label' and typesList[fi] != 'int64' and typesList[fi] != 'float64':\n",
    "        print(ftList[fi], '  ', typesList[fi])\n",
    "        nonNumericFtList.append(ftList[fi])\n",
    "print(nonNumericFtList)"
   ]
  },
  {
   "cell_type": "code",
   "execution_count": 35,
   "id": "634dc959",
   "metadata": {},
   "outputs": [
    {
     "name": "stdout",
     "output_type": "stream",
     "text": [
      "count:  1  ft:  Fwd PSH Flags  ftmin:  0  ftMax:  0\n",
      "count:  2  ft:  Fwd URG Flags  ftmin:  0  ftMax:  0\n",
      "count:  3  ft:  Bwd URG Flags  ftmin:  0  ftMax:  0\n",
      "count:  4  ft:  URG Flag Cnt  ftmin:  0  ftMax:  0\n",
      "count:  5  ft:  CWE Flag Count  ftmin:  0  ftMax:  0\n",
      "count:  6  ft:  ECE Flag Cnt  ftmin:  0  ftMax:  0\n",
      "count:  7  ft:  Fwd Byts/b Avg  ftmin:  0  ftMax:  0\n",
      "count:  8  ft:  Fwd Pkts/b Avg  ftmin:  0  ftMax:  0\n",
      "count:  9  ft:  Fwd Blk Rate Avg  ftmin:  0  ftMax:  0\n",
      "count:  10  ft:  Bwd Byts/b Avg  ftmin:  0  ftMax:  0\n",
      "count:  11  ft:  Bwd Pkts/b Avg  ftmin:  0  ftMax:  0\n",
      "count:  12  ft:  Bwd Blk Rate Avg  ftmin:  0  ftMax:  0\n",
      "count:  13  ft:  Init Fwd Win Byts  ftmin:  -1  ftMax:  -1\n",
      "count:  14  ft:  Fwd Seg Size Min  ftmin:  0  ftMax:  0\n",
      "['Fwd PSH Flags', 'Fwd URG Flags', 'Bwd URG Flags', 'URG Flag Cnt', 'CWE Flag Count', 'ECE Flag Cnt', 'Fwd Byts/b Avg', 'Fwd Pkts/b Avg', 'Fwd Blk Rate Avg', 'Bwd Byts/b Avg', 'Bwd Pkts/b Avg', 'Bwd Blk Rate Avg', 'Init Fwd Win Byts', 'Fwd Seg Size Min']\n"
     ]
    }
   ],
   "source": [
    "#identify those columns that has 0 std\n",
    "count = 0\n",
    "staticFtList = list()\n",
    "for ft in ftList:\n",
    "    if ft == 'Label':\n",
    "        continue\n",
    "    #print('ft : ', ft)\n",
    "    ftMin = masterSelected[ft].min()\n",
    "    ftMax = masterSelected[ft].max()\n",
    "    #std = masterPruned[ft].std()\n",
    "    \n",
    "    if ftMin == ftMax:\n",
    "        count += 1\n",
    "        print('count: ', count, ' ft: ', ft, ' ftmin: ', ftMin, ' ftMax: ', ftMax)\n",
    "        staticFtList.append(ft)\n",
    "print(staticFtList)"
   ]
  },
  {
   "cell_type": "code",
   "execution_count": 36,
   "id": "84c50548",
   "metadata": {},
   "outputs": [
    {
     "name": "stdout",
     "output_type": "stream",
     "text": [
      "before droping column:  (76976, 77)\n",
      "after droping column:  (76976, 63)\n"
     ]
    }
   ],
   "source": [
    "#remove those columns that have 0 std\n",
    "print('before droping column: ', masterSelected.shape)\n",
    "for ft in staticFtList:\n",
    "    masterSelected.drop([ft], axis=1,inplace=True)\n",
    "print('after droping column: ', masterSelected.shape)    "
   ]
  },
  {
   "cell_type": "code",
   "execution_count": 37,
   "id": "a7f4059c",
   "metadata": {},
   "outputs": [
    {
     "name": "stdout",
     "output_type": "stream",
     "text": [
      "63\n",
      "['Flow Duration', 'Tot Fwd Pkts', 'Tot Bwd Pkts', 'TotLen Fwd Pkts', 'TotLen Bwd Pkts', 'Fwd Pkt Len Max', 'Fwd Pkt Len Min', 'Fwd Pkt Len Mean', 'Fwd Pkt Len Std', 'Bwd Pkt Len Max', 'Bwd Pkt Len Min', 'Bwd Pkt Len Mean', 'Bwd Pkt Len Std', 'Flow Byts/s', 'Flow Pkts/s', 'Flow IAT Mean', 'Flow IAT Std', 'Flow IAT Max', 'Flow IAT Min', 'Fwd IAT Tot', 'Fwd IAT Mean', 'Fwd IAT Std', 'Fwd IAT Max', 'Fwd IAT Min', 'Bwd IAT Tot', 'Bwd IAT Mean', 'Bwd IAT Std', 'Bwd IAT Max', 'Bwd IAT Min', 'Bwd PSH Flags', 'Fwd Header Len', 'Bwd Header Len', 'Fwd Pkts/s', 'Bwd Pkts/s', 'Pkt Len Min', 'Pkt Len Max', 'Pkt Len Mean', 'Pkt Len Std', 'Pkt Len Var', 'FIN Flag Cnt', 'SYN Flag Cnt', 'RST Flag Cnt', 'PSH Flag Cnt', 'ACK Flag Cnt', 'Down/Up Ratio', 'Pkt Size Avg', 'Fwd Seg Size Avg', 'Bwd Seg Size Avg', 'Subflow Fwd Pkts', 'Subflow Fwd Byts', 'Subflow Bwd Pkts', 'Subflow Bwd Byts', 'Init Bwd Win Byts', 'Fwd Act Data Pkts', 'Active Mean', 'Active Std', 'Active Max', 'Active Min', 'Idle Mean', 'Idle Std', 'Idle Max', 'Idle Min', 'Label']\n"
     ]
    }
   ],
   "source": [
    "xCount = masterSelected.shape[1]\n",
    "print(xCount)\n",
    "finalFtList = list(masterSelected.columns)\n",
    "print(finalFtList)"
   ]
  },
  {
   "cell_type": "code",
   "execution_count": 38,
   "id": "a02eec4d",
   "metadata": {},
   "outputs": [],
   "source": [
    "#report intermediate data frame to a csv\n",
    "masterSelected.to_csv('C:/Users/Priyanka/Desktop/iCamInspector_GithubRepository/Code/ProcessedNPrunnedAllCombination_ourdataset.csv', index = False)"
   ]
  },
  {
   "cell_type": "code",
   "execution_count": null,
   "id": "840fb7c4",
   "metadata": {},
   "outputs": [],
   "source": [
    "#classification with all the features\n",
    "masterDS = masterSelected.values\n",
    "X = masterDS[:,:-1]\n",
    "Y = masterDS[:,-1]\n",
    "print(\"Xshape: \", X.shape)\n",
    "print(\"Yshape: \", Y.shape)"
   ]
  },
  {
   "cell_type": "code",
   "execution_count": 40,
   "id": "04be523d",
   "metadata": {},
   "outputs": [],
   "source": [
    "from sklearn.model_selection import train_test_split\n",
    "X_train, X_test, y_train, y_test = train_test_split(X, Y, test_size = 0.25, random_state = 0)"
   ]
  },
  {
   "cell_type": "markdown",
   "id": "bee4d576",
   "metadata": {},
   "source": [
    "Extra Tree Classifier"
   ]
  },
  {
   "cell_type": "code",
   "execution_count": 41,
   "id": "2db623fa",
   "metadata": {},
   "outputs": [],
   "source": [
    "# Building the model\n",
    "extra_tree_forest = ExtraTreesClassifier(n_estimators = 5, criterion ='entropy', max_features = xCount)\n",
    " \n",
    "     "
   ]
  },
  {
   "cell_type": "code",
   "execution_count": 42,
   "id": "cefbf3bd",
   "metadata": {},
   "outputs": [
    {
     "data": {
      "text/html": [
       "<style>#sk-container-id-1 {color: black;background-color: white;}#sk-container-id-1 pre{padding: 0;}#sk-container-id-1 div.sk-toggleable {background-color: white;}#sk-container-id-1 label.sk-toggleable__label {cursor: pointer;display: block;width: 100%;margin-bottom: 0;padding: 0.3em;box-sizing: border-box;text-align: center;}#sk-container-id-1 label.sk-toggleable__label-arrow:before {content: \"▸\";float: left;margin-right: 0.25em;color: #696969;}#sk-container-id-1 label.sk-toggleable__label-arrow:hover:before {color: black;}#sk-container-id-1 div.sk-estimator:hover label.sk-toggleable__label-arrow:before {color: black;}#sk-container-id-1 div.sk-toggleable__content {max-height: 0;max-width: 0;overflow: hidden;text-align: left;background-color: #f0f8ff;}#sk-container-id-1 div.sk-toggleable__content pre {margin: 0.2em;color: black;border-radius: 0.25em;background-color: #f0f8ff;}#sk-container-id-1 input.sk-toggleable__control:checked~div.sk-toggleable__content {max-height: 200px;max-width: 100%;overflow: auto;}#sk-container-id-1 input.sk-toggleable__control:checked~label.sk-toggleable__label-arrow:before {content: \"▾\";}#sk-container-id-1 div.sk-estimator input.sk-toggleable__control:checked~label.sk-toggleable__label {background-color: #d4ebff;}#sk-container-id-1 div.sk-label input.sk-toggleable__control:checked~label.sk-toggleable__label {background-color: #d4ebff;}#sk-container-id-1 input.sk-hidden--visually {border: 0;clip: rect(1px 1px 1px 1px);clip: rect(1px, 1px, 1px, 1px);height: 1px;margin: -1px;overflow: hidden;padding: 0;position: absolute;width: 1px;}#sk-container-id-1 div.sk-estimator {font-family: monospace;background-color: #f0f8ff;border: 1px dotted black;border-radius: 0.25em;box-sizing: border-box;margin-bottom: 0.5em;}#sk-container-id-1 div.sk-estimator:hover {background-color: #d4ebff;}#sk-container-id-1 div.sk-parallel-item::after {content: \"\";width: 100%;border-bottom: 1px solid gray;flex-grow: 1;}#sk-container-id-1 div.sk-label:hover label.sk-toggleable__label {background-color: #d4ebff;}#sk-container-id-1 div.sk-serial::before {content: \"\";position: absolute;border-left: 1px solid gray;box-sizing: border-box;top: 0;bottom: 0;left: 50%;z-index: 0;}#sk-container-id-1 div.sk-serial {display: flex;flex-direction: column;align-items: center;background-color: white;padding-right: 0.2em;padding-left: 0.2em;position: relative;}#sk-container-id-1 div.sk-item {position: relative;z-index: 1;}#sk-container-id-1 div.sk-parallel {display: flex;align-items: stretch;justify-content: center;background-color: white;position: relative;}#sk-container-id-1 div.sk-item::before, #sk-container-id-1 div.sk-parallel-item::before {content: \"\";position: absolute;border-left: 1px solid gray;box-sizing: border-box;top: 0;bottom: 0;left: 50%;z-index: -1;}#sk-container-id-1 div.sk-parallel-item {display: flex;flex-direction: column;z-index: 1;position: relative;background-color: white;}#sk-container-id-1 div.sk-parallel-item:first-child::after {align-self: flex-end;width: 50%;}#sk-container-id-1 div.sk-parallel-item:last-child::after {align-self: flex-start;width: 50%;}#sk-container-id-1 div.sk-parallel-item:only-child::after {width: 0;}#sk-container-id-1 div.sk-dashed-wrapped {border: 1px dashed gray;margin: 0 0.4em 0.5em 0.4em;box-sizing: border-box;padding-bottom: 0.4em;background-color: white;}#sk-container-id-1 div.sk-label label {font-family: monospace;font-weight: bold;display: inline-block;line-height: 1.2em;}#sk-container-id-1 div.sk-label-container {text-align: center;}#sk-container-id-1 div.sk-container {/* jupyter's `normalize.less` sets `[hidden] { display: none; }` but bootstrap.min.css set `[hidden] { display: none !important; }` so we also need the `!important` here to be able to override the default hidden behavior on the sphinx rendered scikit-learn.org. See: https://github.com/scikit-learn/scikit-learn/issues/21755 */display: inline-block !important;position: relative;}#sk-container-id-1 div.sk-text-repr-fallback {display: none;}</style><div id=\"sk-container-id-1\" class=\"sk-top-container\"><div class=\"sk-text-repr-fallback\"><pre>ExtraTreesClassifier(criterion=&#x27;entropy&#x27;, max_features=63, n_estimators=5)</pre><b>In a Jupyter environment, please rerun this cell to show the HTML representation or trust the notebook. <br />On GitHub, the HTML representation is unable to render, please try loading this page with nbviewer.org.</b></div><div class=\"sk-container\" hidden><div class=\"sk-item\"><div class=\"sk-estimator sk-toggleable\"><input class=\"sk-toggleable__control sk-hidden--visually\" id=\"sk-estimator-id-1\" type=\"checkbox\" checked><label for=\"sk-estimator-id-1\" class=\"sk-toggleable__label sk-toggleable__label-arrow\">ExtraTreesClassifier</label><div class=\"sk-toggleable__content\"><pre>ExtraTreesClassifier(criterion=&#x27;entropy&#x27;, max_features=63, n_estimators=5)</pre></div></div></div></div></div>"
      ],
      "text/plain": [
       "ExtraTreesClassifier(criterion='entropy', max_features=63, n_estimators=5)"
      ]
     },
     "execution_count": 42,
     "metadata": {},
     "output_type": "execute_result"
    }
   ],
   "source": [
    "# Training the model\n",
    "extra_tree_forest.fit(X, Y)"
   ]
  },
  {
   "cell_type": "code",
   "execution_count": 43,
   "id": "a2994698",
   "metadata": {},
   "outputs": [],
   "source": [
    "# Computing the importance of each feature\n",
    "feature_importance = extra_tree_forest.feature_importances_"
   ]
  },
  {
   "cell_type": "code",
   "execution_count": 44,
   "id": "e29ebb6d",
   "metadata": {},
   "outputs": [],
   "source": [
    "# Normalizing the individual importances\n",
    "feature_importance_normalized = np.std([tree.feature_importances_ for tree in\n",
    "                                        extra_tree_forest.estimators_],\n",
    "                                        axis = 0)"
   ]
  },
  {
   "cell_type": "code",
   "execution_count": 45,
   "id": "cbe4bc0e",
   "metadata": {},
   "outputs": [],
   "source": [
    "from sklearn.model_selection import cross_val_score\n",
    "from sklearn.model_selection import RepeatedStratifiedKFold\n",
    "from sklearn.ensemble import ExtraTreesClassifier\n",
    "from numpy import mean\n",
    "from numpy import std"
   ]
  },
  {
   "cell_type": "code",
   "execution_count": 46,
   "id": "ac35820c",
   "metadata": {},
   "outputs": [
    {
     "name": "stdout",
     "output_type": "stream",
     "text": [
      "Accuracy: 0.930 (0.003)\n"
     ]
    }
   ],
   "source": [
    "# evaluate the model\n",
    "cv = RepeatedStratifiedKFold(n_splits=10, n_repeats=3, random_state=1)\n",
    "n_scores = cross_val_score(extra_tree_forest, X, Y, scoring='accuracy', cv=cv, n_jobs=1, error_score='raise')\n",
    "# report performance\n",
    "print('Accuracy: %.3f (%.3f)' % (mean(n_scores), std(n_scores)))"
   ]
  },
  {
   "cell_type": "code",
   "execution_count": 47,
   "id": "4a93cbf8",
   "metadata": {},
   "outputs": [],
   "source": [
    "y_pred = extra_tree_forest.predict(X_test)"
   ]
  },
  {
   "cell_type": "code",
   "execution_count": 48,
   "id": "507c2b2d",
   "metadata": {},
   "outputs": [
    {
     "name": "stdout",
     "output_type": "stream",
     "text": [
      "[[1126    0    0    0]\n",
      " [   0 8850   93    5]\n",
      " [   0  290 7850    5]\n",
      " [   0   47   10  968]]\n"
     ]
    },
    {
     "data": {
      "text/plain": [
       "0.9766160881313656"
      ]
     },
     "execution_count": 48,
     "metadata": {},
     "output_type": "execute_result"
    }
   ],
   "source": [
    "from sklearn.metrics import confusion_matrix, accuracy_score\n",
    "cm = confusion_matrix(y_test, y_pred)\n",
    "print(cm)\n",
    "accuracy_score(y_test, y_pred)"
   ]
  },
  {
   "cell_type": "code",
   "execution_count": 50,
   "id": "a0dd7a2b",
   "metadata": {},
   "outputs": [
    {
     "name": "stdout",
     "output_type": "stream",
     "text": [
      "              precision    recall  f1-score   support\n",
      "\n",
      "       IPCam       1.00      1.00      1.00      1126\n",
      "       Other       0.96      0.99      0.98      8948\n",
      "       VConf       0.99      0.96      0.98      8145\n",
      "      VShare       0.99      0.94      0.97      1025\n",
      "\n",
      "    accuracy                           0.98     19244\n",
      "   macro avg       0.99      0.97      0.98     19244\n",
      "weighted avg       0.98      0.98      0.98     19244\n",
      "\n"
     ]
    }
   ],
   "source": [
    "from sklearn.metrics import classification_report\n",
    "\n",
    "print(classification_report(y_test, y_pred))"
   ]
  },
  {
   "cell_type": "code",
   "execution_count": 78,
   "id": "136a0064",
   "metadata": {},
   "outputs": [
    {
     "name": "stdout",
     "output_type": "stream",
     "text": [
      "[[1126    0    0    0]\n",
      " [   0  969    9   47]\n",
      " [   0    5 7850  290]\n",
      " [   0    5   93 8850]]\n",
      "\n",
      "\n",
      "IPCam as IPCam =  1126  percent =  1.0\n",
      "IPCam as VShare =  0  percent =  0.0\n",
      "IPCam as VConf =  0  percent =  0.0\n",
      "IPCam as Other =  0  percent =  0.0\n",
      "\n",
      "\n",
      "VShare as IPCam =  0  percent =  0.0\n",
      "VShare as VShare =  969  percent =  0.9453658536585365\n",
      "VShare as VConf =  9  percent =  0.00878048780487805\n",
      "VShare as Other =  47  percent =  0.045853658536585365\n",
      "\n",
      "\n",
      "VConf as IPCam =  0  percent =  0.0\n",
      "VConf as VShare =  5  percent =  0.0006138735420503376\n",
      "VConf as VConf =  7850  percent =  0.9637814610190301\n",
      "VConf as Other =  290  percent =  0.03560466543891958\n",
      "\n",
      "\n",
      "Other as IPCam =  0  percent =  0.0\n",
      "Other as VShare =  5  percent =  0.0005587840858292355\n",
      "Other as VConf =  93  percent =  0.010393383996423781\n",
      "Other as Other =  8850  percent =  0.989047831917747\n",
      "\n",
      "\n"
     ]
    }
   ],
   "source": [
    "comb_mat = metrics.confusion_matrix(y_test, y_pred, labels=uniqueLabels)\n",
    "#[i][j] ==> knwon to be in group i and predicted as group j\n",
    "print(comb_mat)\n",
    "print('\\n')\n",
    "print('IPCam as IPCam = ',comb_mat[0][0],' percent = ', (comb_mat[0][0]/(comb_mat[0][0]+comb_mat[0][1]+comb_mat[0][2]+comb_mat[0][3])))\n",
    "print('IPCam as VShare = ',comb_mat[0][1],' percent = ', (comb_mat[0][1]/(comb_mat[0][0]+comb_mat[0][1]+comb_mat[0][2]+comb_mat[0][3])))\n",
    "print('IPCam as VConf = ',comb_mat[0][2],' percent = ', (comb_mat[0][2]/(comb_mat[0][0]+comb_mat[0][1]+comb_mat[0][2]+comb_mat[0][3])))\n",
    "print('IPCam as Other = ',comb_mat[0][3],' percent = ', (comb_mat[0][3]/(comb_mat[0][0]+comb_mat[0][1]+comb_mat[0][2]+comb_mat[0][3])))\n",
    "print('\\n')\n",
    "\n",
    "print('VShare as IPCam = ',comb_mat[1][0],' percent = ', (comb_mat[1][0]/(comb_mat[1][0]+comb_mat[1][1]+comb_mat[1][2]+comb_mat[1][3])))\n",
    "print('VShare as VShare = ',comb_mat[1][1],' percent = ', (comb_mat[1][1]/(comb_mat[1][0]+comb_mat[1][1]+comb_mat[1][2]+comb_mat[1][3])))\n",
    "print('VShare as VConf = ',comb_mat[1][2],' percent = ', (comb_mat[1][2]/(comb_mat[1][0]+comb_mat[1][1]+comb_mat[1][2]+comb_mat[1][3])))\n",
    "print('VShare as Other = ',comb_mat[1][3],' percent = ', (comb_mat[1][3]/(comb_mat[1][0]+comb_mat[1][1]+comb_mat[1][2]+comb_mat[1][3])))\n",
    "print('\\n')\n",
    "\n",
    "print('VConf as IPCam = ',comb_mat[2][0],' percent = ', (comb_mat[2][0]/(comb_mat[2][0]+comb_mat[2][1]+comb_mat[2][2]+comb_mat[2][3])))\n",
    "print('VConf as VShare = ',comb_mat[2][1],' percent = ', (comb_mat[2][1]/(comb_mat[2][0]+comb_mat[2][1]+comb_mat[2][2]+comb_mat[2][3])))\n",
    "print('VConf as VConf = ',comb_mat[2][2],' percent = ', (comb_mat[2][2]/(comb_mat[2][0]+comb_mat[2][1]+comb_mat[2][2]+comb_mat[2][3])))\n",
    "print('VConf as Other = ',comb_mat[2][3],' percent = ', (comb_mat[2][3]/(comb_mat[2][0]+comb_mat[2][1]+comb_mat[2][2]+comb_mat[2][3])))\n",
    "print('\\n')\n",
    "\n",
    "print('Other as IPCam = ',comb_mat[3][0],' percent = ', (comb_mat[3][0]/(comb_mat[3][0]+comb_mat[3][1]+comb_mat[3][2]+comb_mat[3][3])))\n",
    "print('Other as VShare = ',comb_mat[3][1],' percent = ', (comb_mat[3][1]/(comb_mat[3][0]+comb_mat[3][1]+comb_mat[3][2]+comb_mat[3][3])))\n",
    "print('Other as VConf = ',comb_mat[3][2],' percent = ', (comb_mat[3][2]/(comb_mat[3][0]+comb_mat[3][1]+comb_mat[3][2]+comb_mat[3][3])))\n",
    "print('Other as Other = ',comb_mat[3][3],' percent = ', (comb_mat[3][3]/(comb_mat[3][0]+comb_mat[3][1]+comb_mat[3][2]+comb_mat[3][3])))\n",
    "print('\\n')"
   ]
  },
  {
   "cell_type": "markdown",
   "id": "18649166",
   "metadata": {},
   "source": [
    "Guassian Naive Baise"
   ]
  },
  {
   "cell_type": "code",
   "execution_count": 51,
   "id": "5c103b29",
   "metadata": {},
   "outputs": [],
   "source": [
    "#report intermediate data frame to a csv\n",
    "masterSelected.to_csv('C:/Users/Priyanka/Desktop/iCamInspector_GithubRepository/Code/ProcessedNPrunnedAllCombination_ourdataset.csv', index = False)"
   ]
  },
  {
   "cell_type": "code",
   "execution_count": 52,
   "id": "5e2a7a20",
   "metadata": {},
   "outputs": [
    {
     "name": "stdout",
     "output_type": "stream",
     "text": [
      "Xshape:  (76976, 62)\n",
      "Yshape:  (76976,)\n"
     ]
    }
   ],
   "source": [
    "#classification with all the features\n",
    "masterDS = masterSelected.values\n",
    "X = masterDS[:,:-1]\n",
    "Y = masterDS[:,-1]\n",
    "print(\"Xshape: \", X.shape)\n",
    "print(\"Yshape: \", Y.shape)"
   ]
  },
  {
   "cell_type": "code",
   "execution_count": 53,
   "id": "7ad444b2",
   "metadata": {},
   "outputs": [],
   "source": [
    "x_train, x_test, y_train, y_test = train_test_split(X, Y, test_size=.25, random_state=50)"
   ]
  },
  {
   "cell_type": "code",
   "execution_count": 54,
   "id": "c289a833",
   "metadata": {},
   "outputs": [],
   "source": [
    "from sklearn.naive_bayes import GaussianNB\n",
    "from sklearn.metrics import accuracy_score\n",
    "from sklearn.model_selection import train_test_split\n",
    "import numpy as np"
   ]
  },
  {
   "cell_type": "code",
   "execution_count": 55,
   "id": "c91d43e1",
   "metadata": {},
   "outputs": [
    {
     "data": {
      "text/html": [
       "<style>#sk-container-id-2 {color: black;background-color: white;}#sk-container-id-2 pre{padding: 0;}#sk-container-id-2 div.sk-toggleable {background-color: white;}#sk-container-id-2 label.sk-toggleable__label {cursor: pointer;display: block;width: 100%;margin-bottom: 0;padding: 0.3em;box-sizing: border-box;text-align: center;}#sk-container-id-2 label.sk-toggleable__label-arrow:before {content: \"▸\";float: left;margin-right: 0.25em;color: #696969;}#sk-container-id-2 label.sk-toggleable__label-arrow:hover:before {color: black;}#sk-container-id-2 div.sk-estimator:hover label.sk-toggleable__label-arrow:before {color: black;}#sk-container-id-2 div.sk-toggleable__content {max-height: 0;max-width: 0;overflow: hidden;text-align: left;background-color: #f0f8ff;}#sk-container-id-2 div.sk-toggleable__content pre {margin: 0.2em;color: black;border-radius: 0.25em;background-color: #f0f8ff;}#sk-container-id-2 input.sk-toggleable__control:checked~div.sk-toggleable__content {max-height: 200px;max-width: 100%;overflow: auto;}#sk-container-id-2 input.sk-toggleable__control:checked~label.sk-toggleable__label-arrow:before {content: \"▾\";}#sk-container-id-2 div.sk-estimator input.sk-toggleable__control:checked~label.sk-toggleable__label {background-color: #d4ebff;}#sk-container-id-2 div.sk-label input.sk-toggleable__control:checked~label.sk-toggleable__label {background-color: #d4ebff;}#sk-container-id-2 input.sk-hidden--visually {border: 0;clip: rect(1px 1px 1px 1px);clip: rect(1px, 1px, 1px, 1px);height: 1px;margin: -1px;overflow: hidden;padding: 0;position: absolute;width: 1px;}#sk-container-id-2 div.sk-estimator {font-family: monospace;background-color: #f0f8ff;border: 1px dotted black;border-radius: 0.25em;box-sizing: border-box;margin-bottom: 0.5em;}#sk-container-id-2 div.sk-estimator:hover {background-color: #d4ebff;}#sk-container-id-2 div.sk-parallel-item::after {content: \"\";width: 100%;border-bottom: 1px solid gray;flex-grow: 1;}#sk-container-id-2 div.sk-label:hover label.sk-toggleable__label {background-color: #d4ebff;}#sk-container-id-2 div.sk-serial::before {content: \"\";position: absolute;border-left: 1px solid gray;box-sizing: border-box;top: 0;bottom: 0;left: 50%;z-index: 0;}#sk-container-id-2 div.sk-serial {display: flex;flex-direction: column;align-items: center;background-color: white;padding-right: 0.2em;padding-left: 0.2em;position: relative;}#sk-container-id-2 div.sk-item {position: relative;z-index: 1;}#sk-container-id-2 div.sk-parallel {display: flex;align-items: stretch;justify-content: center;background-color: white;position: relative;}#sk-container-id-2 div.sk-item::before, #sk-container-id-2 div.sk-parallel-item::before {content: \"\";position: absolute;border-left: 1px solid gray;box-sizing: border-box;top: 0;bottom: 0;left: 50%;z-index: -1;}#sk-container-id-2 div.sk-parallel-item {display: flex;flex-direction: column;z-index: 1;position: relative;background-color: white;}#sk-container-id-2 div.sk-parallel-item:first-child::after {align-self: flex-end;width: 50%;}#sk-container-id-2 div.sk-parallel-item:last-child::after {align-self: flex-start;width: 50%;}#sk-container-id-2 div.sk-parallel-item:only-child::after {width: 0;}#sk-container-id-2 div.sk-dashed-wrapped {border: 1px dashed gray;margin: 0 0.4em 0.5em 0.4em;box-sizing: border-box;padding-bottom: 0.4em;background-color: white;}#sk-container-id-2 div.sk-label label {font-family: monospace;font-weight: bold;display: inline-block;line-height: 1.2em;}#sk-container-id-2 div.sk-label-container {text-align: center;}#sk-container-id-2 div.sk-container {/* jupyter's `normalize.less` sets `[hidden] { display: none; }` but bootstrap.min.css set `[hidden] { display: none !important; }` so we also need the `!important` here to be able to override the default hidden behavior on the sphinx rendered scikit-learn.org. See: https://github.com/scikit-learn/scikit-learn/issues/21755 */display: inline-block !important;position: relative;}#sk-container-id-2 div.sk-text-repr-fallback {display: none;}</style><div id=\"sk-container-id-2\" class=\"sk-top-container\"><div class=\"sk-text-repr-fallback\"><pre>GaussianNB()</pre><b>In a Jupyter environment, please rerun this cell to show the HTML representation or trust the notebook. <br />On GitHub, the HTML representation is unable to render, please try loading this page with nbviewer.org.</b></div><div class=\"sk-container\" hidden><div class=\"sk-item\"><div class=\"sk-estimator sk-toggleable\"><input class=\"sk-toggleable__control sk-hidden--visually\" id=\"sk-estimator-id-2\" type=\"checkbox\" checked><label for=\"sk-estimator-id-2\" class=\"sk-toggleable__label sk-toggleable__label-arrow\">GaussianNB</label><div class=\"sk-toggleable__content\"><pre>GaussianNB()</pre></div></div></div></div></div>"
      ],
      "text/plain": [
       "GaussianNB()"
      ]
     },
     "execution_count": 55,
     "metadata": {},
     "output_type": "execute_result"
    }
   ],
   "source": [
    "clf = GaussianNB()\n",
    "clf.fit(x_train, y_train.flatten())"
   ]
  },
  {
   "cell_type": "code",
   "execution_count": 56,
   "id": "227d17d0",
   "metadata": {},
   "outputs": [
    {
     "name": "stdout",
     "output_type": "stream",
     "text": [
      "Accuracy Score:  0.5067033880690085\n",
      "[[ 461  628   15   23]\n",
      " [ 255 8135  327   28]\n",
      " [1078 6163  994   41]\n",
      " [ 148  725   62  161]]\n"
     ]
    }
   ],
   "source": [
    "predictions = clf.predict(x_test)\n",
    "print('Accuracy Score: ', accuracy_score(predictions, y_test))\n",
    "from sklearn.metrics import confusion_matrix \n",
    "cm = confusion_matrix(y_test, predictions) \n",
    "print(cm)"
   ]
  },
  {
   "cell_type": "code",
   "execution_count": 57,
   "id": "47271905",
   "metadata": {},
   "outputs": [
    {
     "name": "stdout",
     "output_type": "stream",
     "text": [
      "              precision    recall  f1-score   support\n",
      "\n",
      "       IPCam       0.24      0.41      0.30      1127\n",
      "       Other       0.52      0.93      0.67      8745\n",
      "       VConf       0.71      0.12      0.21      8276\n",
      "      VShare       0.64      0.15      0.24      1096\n",
      "\n",
      "    accuracy                           0.51     19244\n",
      "   macro avg       0.53      0.40      0.35     19244\n",
      "weighted avg       0.59      0.51      0.42     19244\n",
      "\n"
     ]
    }
   ],
   "source": [
    "from sklearn.metrics import classification_report\n",
    "print(classification_report(y_test, predictions))"
   ]
  },
  {
   "cell_type": "markdown",
   "id": "6394fecf",
   "metadata": {},
   "source": [
    "KNN Classifier"
   ]
  },
  {
   "cell_type": "code",
   "execution_count": 58,
   "id": "53901fda",
   "metadata": {},
   "outputs": [],
   "source": [
    "#report intermediate data frame to a csv\n",
    "masterSelected.to_csv('C:/Users/Priyanka/Desktop/iCamInspector_GithubRepository/Code/ProcessedNPrunnedAllCombination_ourdataset.csv', index = False)"
   ]
  },
  {
   "cell_type": "code",
   "execution_count": 59,
   "id": "49329e67",
   "metadata": {},
   "outputs": [
    {
     "name": "stdout",
     "output_type": "stream",
     "text": [
      "Xshape:  (76976, 62)\n",
      "Yshape:  (76976,)\n"
     ]
    }
   ],
   "source": [
    "#classification with all the features\n",
    "masterDS = masterSelected.values\n",
    "X = masterDS[:,:-1]\n",
    "Y = masterDS[:,-1]\n",
    "print(\"Xshape: \", X.shape)\n",
    "print(\"Yshape: \", Y.shape)"
   ]
  },
  {
   "cell_type": "code",
   "execution_count": 60,
   "id": "e175b352",
   "metadata": {},
   "outputs": [],
   "source": [
    "from sklearn.model_selection import train_test_split\n",
    "X_train, X_test, y_train, y_test = train_test_split(X, Y, test_size = 0.25, random_state = 0)"
   ]
  },
  {
   "cell_type": "code",
   "execution_count": 61,
   "id": "9b034442",
   "metadata": {},
   "outputs": [],
   "source": [
    "from sklearn.preprocessing import StandardScaler\n",
    "sc = StandardScaler()\n",
    "X_train = sc.fit_transform(X_train)\n",
    "X_test = sc.transform(X_test) #avoid data leakage"
   ]
  },
  {
   "cell_type": "code",
   "execution_count": 62,
   "id": "aa417176",
   "metadata": {},
   "outputs": [],
   "source": [
    "from math import sqrt\n",
    "class KNN():\n",
    "  def __init__(self,k):\n",
    "    self.k=k\n",
    "    print(self.k)\n",
    "  def fit(self,X_train,y_train):\n",
    "    self.x_train=X_train\n",
    "    self.y_train=y_train\n",
    "  def calculate_euclidean(self,sample1,sample2):\n",
    "    distance=0.0\n",
    "    for i in range(len(sample1)):\n",
    "      distance+=(sample1[i]-sample2[i])**2 #Euclidean Distance = sqrt(sum i to N (x1_i – x2_i)^2)\n",
    "    return sqrt(distance)\n",
    "  def nearest_neighbors(self,test_sample):\n",
    "    distances=[]#calculate distances from a test sample to every sample in a training set\n",
    "    for i in range(len(self.x_train)):\n",
    "      distances.append((self.y_train[i],self.calculate_euclidean(self.x_train[i],test_sample)))\n",
    "    distances.sort(key=lambda x:x[1])#sort in ascending order, based on a distance value\n",
    "    neighbors=[]\n",
    "    for i in range(self.k): #get first k samples\n",
    "      neighbors.append(distances[i][0])\n",
    "    return neighbors\n",
    "  def predict(self,test_set):\n",
    "    predictions=[]\n",
    "    for test_sample in test_set:\n",
    "      neighbors=self.nearest_neighbors(test_sample)\n",
    "      labels=[sample for sample in neighbors]\n",
    "      prediction=max(labels,key=labels.count)\n",
    "      predictions.append(prediction)\n",
    "    return predictions"
   ]
  },
  {
   "cell_type": "code",
   "execution_count": 63,
   "id": "827ed145",
   "metadata": {},
   "outputs": [
    {
     "name": "stdout",
     "output_type": "stream",
     "text": [
      "5\n"
     ]
    }
   ],
   "source": [
    "model=KNN(5) #our model\n",
    "model.fit(X_train,y_train)"
   ]
  },
  {
   "cell_type": "code",
   "execution_count": 64,
   "id": "6d10da3b",
   "metadata": {},
   "outputs": [
    {
     "data": {
      "text/html": [
       "<style>#sk-container-id-3 {color: black;background-color: white;}#sk-container-id-3 pre{padding: 0;}#sk-container-id-3 div.sk-toggleable {background-color: white;}#sk-container-id-3 label.sk-toggleable__label {cursor: pointer;display: block;width: 100%;margin-bottom: 0;padding: 0.3em;box-sizing: border-box;text-align: center;}#sk-container-id-3 label.sk-toggleable__label-arrow:before {content: \"▸\";float: left;margin-right: 0.25em;color: #696969;}#sk-container-id-3 label.sk-toggleable__label-arrow:hover:before {color: black;}#sk-container-id-3 div.sk-estimator:hover label.sk-toggleable__label-arrow:before {color: black;}#sk-container-id-3 div.sk-toggleable__content {max-height: 0;max-width: 0;overflow: hidden;text-align: left;background-color: #f0f8ff;}#sk-container-id-3 div.sk-toggleable__content pre {margin: 0.2em;color: black;border-radius: 0.25em;background-color: #f0f8ff;}#sk-container-id-3 input.sk-toggleable__control:checked~div.sk-toggleable__content {max-height: 200px;max-width: 100%;overflow: auto;}#sk-container-id-3 input.sk-toggleable__control:checked~label.sk-toggleable__label-arrow:before {content: \"▾\";}#sk-container-id-3 div.sk-estimator input.sk-toggleable__control:checked~label.sk-toggleable__label {background-color: #d4ebff;}#sk-container-id-3 div.sk-label input.sk-toggleable__control:checked~label.sk-toggleable__label {background-color: #d4ebff;}#sk-container-id-3 input.sk-hidden--visually {border: 0;clip: rect(1px 1px 1px 1px);clip: rect(1px, 1px, 1px, 1px);height: 1px;margin: -1px;overflow: hidden;padding: 0;position: absolute;width: 1px;}#sk-container-id-3 div.sk-estimator {font-family: monospace;background-color: #f0f8ff;border: 1px dotted black;border-radius: 0.25em;box-sizing: border-box;margin-bottom: 0.5em;}#sk-container-id-3 div.sk-estimator:hover {background-color: #d4ebff;}#sk-container-id-3 div.sk-parallel-item::after {content: \"\";width: 100%;border-bottom: 1px solid gray;flex-grow: 1;}#sk-container-id-3 div.sk-label:hover label.sk-toggleable__label {background-color: #d4ebff;}#sk-container-id-3 div.sk-serial::before {content: \"\";position: absolute;border-left: 1px solid gray;box-sizing: border-box;top: 0;bottom: 0;left: 50%;z-index: 0;}#sk-container-id-3 div.sk-serial {display: flex;flex-direction: column;align-items: center;background-color: white;padding-right: 0.2em;padding-left: 0.2em;position: relative;}#sk-container-id-3 div.sk-item {position: relative;z-index: 1;}#sk-container-id-3 div.sk-parallel {display: flex;align-items: stretch;justify-content: center;background-color: white;position: relative;}#sk-container-id-3 div.sk-item::before, #sk-container-id-3 div.sk-parallel-item::before {content: \"\";position: absolute;border-left: 1px solid gray;box-sizing: border-box;top: 0;bottom: 0;left: 50%;z-index: -1;}#sk-container-id-3 div.sk-parallel-item {display: flex;flex-direction: column;z-index: 1;position: relative;background-color: white;}#sk-container-id-3 div.sk-parallel-item:first-child::after {align-self: flex-end;width: 50%;}#sk-container-id-3 div.sk-parallel-item:last-child::after {align-self: flex-start;width: 50%;}#sk-container-id-3 div.sk-parallel-item:only-child::after {width: 0;}#sk-container-id-3 div.sk-dashed-wrapped {border: 1px dashed gray;margin: 0 0.4em 0.5em 0.4em;box-sizing: border-box;padding-bottom: 0.4em;background-color: white;}#sk-container-id-3 div.sk-label label {font-family: monospace;font-weight: bold;display: inline-block;line-height: 1.2em;}#sk-container-id-3 div.sk-label-container {text-align: center;}#sk-container-id-3 div.sk-container {/* jupyter's `normalize.less` sets `[hidden] { display: none; }` but bootstrap.min.css set `[hidden] { display: none !important; }` so we also need the `!important` here to be able to override the default hidden behavior on the sphinx rendered scikit-learn.org. See: https://github.com/scikit-learn/scikit-learn/issues/21755 */display: inline-block !important;position: relative;}#sk-container-id-3 div.sk-text-repr-fallback {display: none;}</style><div id=\"sk-container-id-3\" class=\"sk-top-container\"><div class=\"sk-text-repr-fallback\"><pre>KNeighborsClassifier()</pre><b>In a Jupyter environment, please rerun this cell to show the HTML representation or trust the notebook. <br />On GitHub, the HTML representation is unable to render, please try loading this page with nbviewer.org.</b></div><div class=\"sk-container\" hidden><div class=\"sk-item\"><div class=\"sk-estimator sk-toggleable\"><input class=\"sk-toggleable__control sk-hidden--visually\" id=\"sk-estimator-id-3\" type=\"checkbox\" checked><label for=\"sk-estimator-id-3\" class=\"sk-toggleable__label sk-toggleable__label-arrow\">KNeighborsClassifier</label><div class=\"sk-toggleable__content\"><pre>KNeighborsClassifier()</pre></div></div></div></div></div>"
      ],
      "text/plain": [
       "KNeighborsClassifier()"
      ]
     },
     "execution_count": 64,
     "metadata": {},
     "output_type": "execute_result"
    }
   ],
   "source": [
    "from sklearn.neighbors import KNeighborsClassifier\n",
    "classifier = KNeighborsClassifier(n_neighbors = 5, metric = 'minkowski', p = 2)#The default metric is minkowski, and with p=2 is equivalent to the standard Euclidean metric.\n",
    "classifier.fit(X_train, y_train)"
   ]
  },
  {
   "cell_type": "code",
   "execution_count": 65,
   "id": "ff07fe21",
   "metadata": {},
   "outputs": [],
   "source": [
    "y_pred = classifier.predict(X_test)"
   ]
  },
  {
   "cell_type": "code",
   "execution_count": 66,
   "id": "4aae542f",
   "metadata": {},
   "outputs": [
    {
     "name": "stdout",
     "output_type": "stream",
     "text": [
      "[[ 986   60   54   26]\n",
      " [  31 8174  638  105]\n",
      " [  40  735 7283   87]\n",
      " [  15  310  155  545]]\n"
     ]
    },
    {
     "data": {
      "text/plain": [
       "0.8827686551652463"
      ]
     },
     "execution_count": 66,
     "metadata": {},
     "output_type": "execute_result"
    }
   ],
   "source": [
    "from sklearn.metrics import confusion_matrix, accuracy_score\n",
    "cm = confusion_matrix(y_test, y_pred)\n",
    "print(cm)\n",
    "accuracy_score(y_test, y_pred)"
   ]
  },
  {
   "cell_type": "code",
   "execution_count": 67,
   "id": "af9b636e",
   "metadata": {},
   "outputs": [
    {
     "name": "stdout",
     "output_type": "stream",
     "text": [
      "              precision    recall  f1-score   support\n",
      "\n",
      "       IPCam       0.92      0.88      0.90      1126\n",
      "       Other       0.88      0.91      0.90      8948\n",
      "       VConf       0.90      0.89      0.89      8145\n",
      "      VShare       0.71      0.53      0.61      1025\n",
      "\n",
      "    accuracy                           0.88     19244\n",
      "   macro avg       0.85      0.80      0.82     19244\n",
      "weighted avg       0.88      0.88      0.88     19244\n",
      "\n"
     ]
    }
   ],
   "source": [
    "from sklearn.metrics import classification_report\n",
    "print(classification_report(y_test, y_pred))"
   ]
  },
  {
   "cell_type": "markdown",
   "id": "374a90c7",
   "metadata": {},
   "source": [
    "XGBoost Classifier"
   ]
  },
  {
   "cell_type": "code",
   "execution_count": 74,
   "id": "2804a5e6",
   "metadata": {},
   "outputs": [
    {
     "name": "stdout",
     "output_type": "stream",
     "text": [
      "[0]\n"
     ]
    }
   ],
   "source": [
    "ipcamDF['Label'].replace('IPCam',0,inplace=True)\n",
    "uniqueLabels = list(ipcamDF['Label'].unique())\n",
    "print(uniqueLabels)"
   ]
  },
  {
   "cell_type": "code",
   "execution_count": 75,
   "id": "9644f847",
   "metadata": {},
   "outputs": [
    {
     "name": "stdout",
     "output_type": "stream",
     "text": [
      "[3]\n"
     ]
    }
   ],
   "source": [
    "shareDF['Label'].replace('VShare',3,inplace=True)\n",
    "uniqueLabels = list(shareDF['Label'].unique())\n",
    "print(uniqueLabels)"
   ]
  },
  {
   "cell_type": "code",
   "execution_count": 76,
   "id": "1e7662d5",
   "metadata": {},
   "outputs": [
    {
     "name": "stdout",
     "output_type": "stream",
     "text": [
      "[2]\n"
     ]
    }
   ],
   "source": [
    "confDF['Label'].replace('VConf',2,inplace=True)\n",
    "uniqueLabels = list(confDF['Label'].unique())\n",
    "print(uniqueLabels)"
   ]
  },
  {
   "cell_type": "code",
   "execution_count": 77,
   "id": "31062ac2",
   "metadata": {},
   "outputs": [
    {
     "name": "stdout",
     "output_type": "stream",
     "text": [
      "[1]\n"
     ]
    }
   ],
   "source": [
    "otherDF['Label'].replace('Other',1,inplace=True)\n",
    "uniqueLabels = list(otherDF['Label'].unique())\n",
    "print(uniqueLabels)\n",
    "#print(list(otherDF['Label'].unique()))"
   ]
  },
  {
   "cell_type": "code",
   "execution_count": 78,
   "id": "a8921db0",
   "metadata": {},
   "outputs": [
    {
     "name": "stdout",
     "output_type": "stream",
     "text": [
      "[2]\n",
      "[3]\n",
      "[0]\n",
      "[1]\n"
     ]
    }
   ],
   "source": [
    "print(list(confDF['Label'].unique()))\n",
    "print(list(shareDF['Label'].unique()))\n",
    "print(list(ipcamDF['Label'].unique()))\n",
    "print(list(otherDF['Label'].unique()))"
   ]
  },
  {
   "cell_type": "code",
   "execution_count": 79,
   "id": "359171d0",
   "metadata": {},
   "outputs": [
    {
     "name": "stdout",
     "output_type": "stream",
     "text": [
      "(109695, 84)\n"
     ]
    }
   ],
   "source": [
    "######### creating master DF\n",
    "dfListAll = [ipcamDF,shareDF, confDF, otherDF]\n",
    "masterDF = pd.concat(dfListAll)\n",
    "print(masterDF.shape)"
   ]
  },
  {
   "cell_type": "code",
   "execution_count": 80,
   "id": "4dabe45c",
   "metadata": {},
   "outputs": [
    {
     "name": "stdout",
     "output_type": "stream",
     "text": [
      "[0, 3, 2, 1]\n"
     ]
    }
   ],
   "source": [
    "uniqueLabels = list(masterDF['Label'].unique())\n",
    "print(uniqueLabels)"
   ]
  },
  {
   "cell_type": "code",
   "execution_count": 81,
   "id": "c28d1f7e",
   "metadata": {},
   "outputs": [
    {
     "name": "stdout",
     "output_type": "stream",
     "text": [
      "pruneddata size:  (109695, 77)\n",
      "['Flow Duration', 'Tot Fwd Pkts', 'Tot Bwd Pkts', 'TotLen Fwd Pkts', 'TotLen Bwd Pkts', 'Fwd Pkt Len Max', 'Fwd Pkt Len Min', 'Fwd Pkt Len Mean', 'Fwd Pkt Len Std', 'Bwd Pkt Len Max', 'Bwd Pkt Len Min', 'Bwd Pkt Len Mean', 'Bwd Pkt Len Std', 'Flow Byts/s', 'Flow Pkts/s', 'Flow IAT Mean', 'Flow IAT Std', 'Flow IAT Max', 'Flow IAT Min', 'Fwd IAT Tot', 'Fwd IAT Mean', 'Fwd IAT Std', 'Fwd IAT Max', 'Fwd IAT Min', 'Bwd IAT Tot', 'Bwd IAT Mean', 'Bwd IAT Std', 'Bwd IAT Max', 'Bwd IAT Min', 'Fwd PSH Flags', 'Bwd PSH Flags', 'Fwd URG Flags', 'Bwd URG Flags', 'Fwd Header Len', 'Bwd Header Len', 'Fwd Pkts/s', 'Bwd Pkts/s', 'Pkt Len Min', 'Pkt Len Max', 'Pkt Len Mean', 'Pkt Len Std', 'Pkt Len Var', 'FIN Flag Cnt', 'SYN Flag Cnt', 'RST Flag Cnt', 'PSH Flag Cnt', 'ACK Flag Cnt', 'URG Flag Cnt', 'CWE Flag Count', 'ECE Flag Cnt', 'Down/Up Ratio', 'Pkt Size Avg', 'Fwd Seg Size Avg', 'Bwd Seg Size Avg', 'Fwd Byts/b Avg', 'Fwd Pkts/b Avg', 'Fwd Blk Rate Avg', 'Bwd Byts/b Avg', 'Bwd Pkts/b Avg', 'Bwd Blk Rate Avg', 'Subflow Fwd Pkts', 'Subflow Fwd Byts', 'Subflow Bwd Pkts', 'Subflow Bwd Byts', 'Init Fwd Win Byts', 'Init Bwd Win Byts', 'Fwd Act Data Pkts', 'Fwd Seg Size Min', 'Active Mean', 'Active Std', 'Active Max', 'Active Min', 'Idle Mean', 'Idle Std', 'Idle Max', 'Idle Min', 'Label']\n"
     ]
    }
   ],
   "source": [
    "#discard all those columns that helps in uniquely identifying a flow\n",
    "masterPruned = masterDF.iloc[:,np.arange(7,84)]\n",
    "print('pruneddata size: ', masterPruned.shape)\n",
    "ftList = list(masterPruned.columns)\n",
    "print(ftList)"
   ]
  },
  {
   "cell_type": "code",
   "execution_count": 82,
   "id": "42f946b6",
   "metadata": {},
   "outputs": [
    {
     "data": {
      "text/plain": [
       "(76976, 77)"
      ]
     },
     "execution_count": 82,
     "metadata": {},
     "output_type": "execute_result"
    }
   ],
   "source": [
    "#discard those flows that has 0 flow duration\n",
    "masterSelected = masterPruned.drop(masterPruned[masterPruned['Flow Duration']==0].index)\n",
    "masterSelected.shape"
   ]
  },
  {
   "cell_type": "code",
   "execution_count": 83,
   "id": "15f4cf05",
   "metadata": {},
   "outputs": [
    {
     "name": "stdout",
     "output_type": "stream",
     "text": [
      "[]\n"
     ]
    }
   ],
   "source": [
    "#identify those columns that has non-numeric values\n",
    "typesList = masterSelected.dtypes\n",
    "ftCount = len(ftList)\n",
    "nonNumericFtList = list()\n",
    "for fi in range(ftCount):\n",
    "    if ftList[fi] != 'Label' and typesList[fi] != 'int64' and typesList[fi] != 'float64':\n",
    "        print(ftList[fi], '  ', typesList[fi])\n",
    "        nonNumericFtList.append(ftList[fi])\n",
    "print(nonNumericFtList)"
   ]
  },
  {
   "cell_type": "code",
   "execution_count": 84,
   "id": "fdac855d",
   "metadata": {},
   "outputs": [],
   "source": [
    "for ft in nonNumericFtList:\n",
    "    masterSelected[ft] = pd.to_numeric(masterSelected[ft], errors='coerce')"
   ]
  },
  {
   "cell_type": "code",
   "execution_count": 85,
   "id": "5e7dde77",
   "metadata": {},
   "outputs": [
    {
     "name": "stdout",
     "output_type": "stream",
     "text": [
      "[]\n"
     ]
    }
   ],
   "source": [
    "print(nonNumericFtList)\n",
    "for ft in nonNumericFtList:\n",
    "    countNaN = masterSelected[ft].isna().sum()\n",
    "    print('converted to numeric ft: ', ft, '  countNaN: ', countNaN)"
   ]
  },
  {
   "cell_type": "code",
   "execution_count": 86,
   "id": "9ed341f1",
   "metadata": {},
   "outputs": [
    {
     "name": "stdout",
     "output_type": "stream",
     "text": [
      "count inf:  0\n"
     ]
    }
   ],
   "source": [
    "number_inf = masterSelected[masterSelected == np.inf].count().sum()\n",
    "print('count inf: ',number_inf)"
   ]
  },
  {
   "cell_type": "code",
   "execution_count": 87,
   "id": "ddd1ca3d",
   "metadata": {},
   "outputs": [
    {
     "name": "stdout",
     "output_type": "stream",
     "text": [
      "[]\n"
     ]
    }
   ],
   "source": [
    "typesList = masterSelected.dtypes\n",
    "ftCount = len(ftList)\n",
    "nonNumericFtList = list()\n",
    "for fi in range(ftCount):\n",
    "    if ftList[fi] != 'Label' and typesList[fi] != 'int64' and typesList[fi] != 'float64':\n",
    "        print(ftList[fi], '  ', typesList[fi])\n",
    "        nonNumericFtList.append(ftList[fi])\n",
    "print(nonNumericFtList)"
   ]
  },
  {
   "cell_type": "code",
   "execution_count": 88,
   "id": "8eb3796e",
   "metadata": {},
   "outputs": [
    {
     "name": "stdout",
     "output_type": "stream",
     "text": [
      "count:  1  ft:  Fwd PSH Flags  ftmin:  0  ftMax:  0\n",
      "count:  2  ft:  Fwd URG Flags  ftmin:  0  ftMax:  0\n",
      "count:  3  ft:  Bwd URG Flags  ftmin:  0  ftMax:  0\n",
      "count:  4  ft:  URG Flag Cnt  ftmin:  0  ftMax:  0\n",
      "count:  5  ft:  CWE Flag Count  ftmin:  0  ftMax:  0\n",
      "count:  6  ft:  ECE Flag Cnt  ftmin:  0  ftMax:  0\n",
      "count:  7  ft:  Fwd Byts/b Avg  ftmin:  0  ftMax:  0\n",
      "count:  8  ft:  Fwd Pkts/b Avg  ftmin:  0  ftMax:  0\n",
      "count:  9  ft:  Fwd Blk Rate Avg  ftmin:  0  ftMax:  0\n",
      "count:  10  ft:  Bwd Byts/b Avg  ftmin:  0  ftMax:  0\n",
      "count:  11  ft:  Bwd Pkts/b Avg  ftmin:  0  ftMax:  0\n",
      "count:  12  ft:  Bwd Blk Rate Avg  ftmin:  0  ftMax:  0\n",
      "count:  13  ft:  Init Fwd Win Byts  ftmin:  -1  ftMax:  -1\n",
      "count:  14  ft:  Fwd Seg Size Min  ftmin:  0  ftMax:  0\n",
      "['Fwd PSH Flags', 'Fwd URG Flags', 'Bwd URG Flags', 'URG Flag Cnt', 'CWE Flag Count', 'ECE Flag Cnt', 'Fwd Byts/b Avg', 'Fwd Pkts/b Avg', 'Fwd Blk Rate Avg', 'Bwd Byts/b Avg', 'Bwd Pkts/b Avg', 'Bwd Blk Rate Avg', 'Init Fwd Win Byts', 'Fwd Seg Size Min']\n"
     ]
    }
   ],
   "source": [
    "#identify those columns that has 0 std\n",
    "count = 0\n",
    "staticFtList = list()\n",
    "for ft in ftList:\n",
    "    if ft == 'Label':\n",
    "        continue\n",
    "    #print('ft : ', ft)\n",
    "    ftMin = masterSelected[ft].min()\n",
    "    ftMax = masterSelected[ft].max()\n",
    "    #std = masterPruned[ft].std()\n",
    "    \n",
    "    if ftMin == ftMax:\n",
    "        count += 1\n",
    "        print('count: ', count, ' ft: ', ft, ' ftmin: ', ftMin, ' ftMax: ', ftMax)\n",
    "        staticFtList.append(ft)\n",
    "print(staticFtList)"
   ]
  },
  {
   "cell_type": "code",
   "execution_count": 89,
   "id": "8ea8d430",
   "metadata": {},
   "outputs": [
    {
     "name": "stdout",
     "output_type": "stream",
     "text": [
      "before droping column:  (76976, 77)\n",
      "after droping column:  (76976, 63)\n"
     ]
    }
   ],
   "source": [
    "#remove those columns that have 0 std\n",
    "print('before droping column: ', masterSelected.shape)\n",
    "for ft in staticFtList:\n",
    "    masterSelected.drop([ft], axis=1,inplace=True)\n",
    "print('after droping column: ', masterSelected.shape) "
   ]
  },
  {
   "cell_type": "code",
   "execution_count": 90,
   "id": "b59d534d",
   "metadata": {},
   "outputs": [
    {
     "name": "stdout",
     "output_type": "stream",
     "text": [
      "63\n",
      "['Flow Duration', 'Tot Fwd Pkts', 'Tot Bwd Pkts', 'TotLen Fwd Pkts', 'TotLen Bwd Pkts', 'Fwd Pkt Len Max', 'Fwd Pkt Len Min', 'Fwd Pkt Len Mean', 'Fwd Pkt Len Std', 'Bwd Pkt Len Max', 'Bwd Pkt Len Min', 'Bwd Pkt Len Mean', 'Bwd Pkt Len Std', 'Flow Byts/s', 'Flow Pkts/s', 'Flow IAT Mean', 'Flow IAT Std', 'Flow IAT Max', 'Flow IAT Min', 'Fwd IAT Tot', 'Fwd IAT Mean', 'Fwd IAT Std', 'Fwd IAT Max', 'Fwd IAT Min', 'Bwd IAT Tot', 'Bwd IAT Mean', 'Bwd IAT Std', 'Bwd IAT Max', 'Bwd IAT Min', 'Bwd PSH Flags', 'Fwd Header Len', 'Bwd Header Len', 'Fwd Pkts/s', 'Bwd Pkts/s', 'Pkt Len Min', 'Pkt Len Max', 'Pkt Len Mean', 'Pkt Len Std', 'Pkt Len Var', 'FIN Flag Cnt', 'SYN Flag Cnt', 'RST Flag Cnt', 'PSH Flag Cnt', 'ACK Flag Cnt', 'Down/Up Ratio', 'Pkt Size Avg', 'Fwd Seg Size Avg', 'Bwd Seg Size Avg', 'Subflow Fwd Pkts', 'Subflow Fwd Byts', 'Subflow Bwd Pkts', 'Subflow Bwd Byts', 'Init Bwd Win Byts', 'Fwd Act Data Pkts', 'Active Mean', 'Active Std', 'Active Max', 'Active Min', 'Idle Mean', 'Idle Std', 'Idle Max', 'Idle Min', 'Label']\n"
     ]
    }
   ],
   "source": [
    "xCount = masterSelected.shape[1]\n",
    "print(xCount)\n",
    "finalFtList = list(masterSelected.columns)\n",
    "print(finalFtList)"
   ]
  },
  {
   "cell_type": "code",
   "execution_count": 91,
   "id": "bccf25b0",
   "metadata": {},
   "outputs": [],
   "source": [
    "#report intermediate data frame to a csv\n",
    "masterSelected.to_csv('C:/Users/Priyanka/Desktop/iCamInspector_GithubRepository/Code/ProcessedNPrunnedAllCombination_ourdataset_xgboost.csv', index = False)"
   ]
  },
  {
   "cell_type": "code",
   "execution_count": 92,
   "id": "bb313328",
   "metadata": {},
   "outputs": [
    {
     "name": "stdout",
     "output_type": "stream",
     "text": [
      "Xshape:  (76976, 62)\n",
      "Yshape:  (76976,)\n"
     ]
    }
   ],
   "source": [
    "#classification with all the features\n",
    "masterDS = masterSelected.values\n",
    "X = masterDS[:,:-1]\n",
    "#X = masterDS[:,:-1].values\n",
    "Y = masterDS[:,-1]\n",
    "#Y = masterDS['Label'].values\n",
    "print(\"Xshape: \", X.shape)\n",
    "print(\"Yshape: \", Y.shape)"
   ]
  },
  {
   "cell_type": "code",
   "execution_count": 93,
   "id": "8ab6979e",
   "metadata": {},
   "outputs": [],
   "source": [
    "from sklearn.preprocessing import LabelEncoder\n",
    "le = LabelEncoder()\n",
    "y_train = le.fit_transform(y_train)"
   ]
  },
  {
   "cell_type": "code",
   "execution_count": 94,
   "id": "7296fa93",
   "metadata": {},
   "outputs": [
    {
     "name": "stdout",
     "output_type": "stream",
     "text": [
      "(57732,)\n"
     ]
    }
   ],
   "source": [
    "# split X and y into training and testing sets\n",
    "\n",
    "from sklearn.model_selection import train_test_split\n",
    "\n",
    "X_train, X_test, y_train, y_test = train_test_split(X, Y, test_size = 0.25, random_state = 0)\n",
    "#y_train_xgb = y_train.map({\"IPCam\": 0, \"Other\":1, \"VConf\":2, \"VShare\": 3})\n",
    "#X_train, X_test, y_train, y_test = train_test_split(X, Y, Label, test_size=test_size, stratify = labels)\n",
    "\n",
    "#xgb = XGBClassifier(n_estimators = 400, learning_rate = 0.1, max_depth = 3)\n",
    "#xgb.fit(X_train.values, y_train)\n",
    "\n",
    "from sklearn.preprocessing import LabelEncoder\n",
    "le = LabelEncoder()\n",
    "y_train = le.fit_transform(y_train)\n",
    "print(y_train.shape)"
   ]
  },
  {
   "cell_type": "code",
   "execution_count": 95,
   "id": "7ce2a6e9",
   "metadata": {},
   "outputs": [
    {
     "data": {
      "text/html": [
       "<style>#sk-container-id-5 {color: black;background-color: white;}#sk-container-id-5 pre{padding: 0;}#sk-container-id-5 div.sk-toggleable {background-color: white;}#sk-container-id-5 label.sk-toggleable__label {cursor: pointer;display: block;width: 100%;margin-bottom: 0;padding: 0.3em;box-sizing: border-box;text-align: center;}#sk-container-id-5 label.sk-toggleable__label-arrow:before {content: \"▸\";float: left;margin-right: 0.25em;color: #696969;}#sk-container-id-5 label.sk-toggleable__label-arrow:hover:before {color: black;}#sk-container-id-5 div.sk-estimator:hover label.sk-toggleable__label-arrow:before {color: black;}#sk-container-id-5 div.sk-toggleable__content {max-height: 0;max-width: 0;overflow: hidden;text-align: left;background-color: #f0f8ff;}#sk-container-id-5 div.sk-toggleable__content pre {margin: 0.2em;color: black;border-radius: 0.25em;background-color: #f0f8ff;}#sk-container-id-5 input.sk-toggleable__control:checked~div.sk-toggleable__content {max-height: 200px;max-width: 100%;overflow: auto;}#sk-container-id-5 input.sk-toggleable__control:checked~label.sk-toggleable__label-arrow:before {content: \"▾\";}#sk-container-id-5 div.sk-estimator input.sk-toggleable__control:checked~label.sk-toggleable__label {background-color: #d4ebff;}#sk-container-id-5 div.sk-label input.sk-toggleable__control:checked~label.sk-toggleable__label {background-color: #d4ebff;}#sk-container-id-5 input.sk-hidden--visually {border: 0;clip: rect(1px 1px 1px 1px);clip: rect(1px, 1px, 1px, 1px);height: 1px;margin: -1px;overflow: hidden;padding: 0;position: absolute;width: 1px;}#sk-container-id-5 div.sk-estimator {font-family: monospace;background-color: #f0f8ff;border: 1px dotted black;border-radius: 0.25em;box-sizing: border-box;margin-bottom: 0.5em;}#sk-container-id-5 div.sk-estimator:hover {background-color: #d4ebff;}#sk-container-id-5 div.sk-parallel-item::after {content: \"\";width: 100%;border-bottom: 1px solid gray;flex-grow: 1;}#sk-container-id-5 div.sk-label:hover label.sk-toggleable__label {background-color: #d4ebff;}#sk-container-id-5 div.sk-serial::before {content: \"\";position: absolute;border-left: 1px solid gray;box-sizing: border-box;top: 0;bottom: 0;left: 50%;z-index: 0;}#sk-container-id-5 div.sk-serial {display: flex;flex-direction: column;align-items: center;background-color: white;padding-right: 0.2em;padding-left: 0.2em;position: relative;}#sk-container-id-5 div.sk-item {position: relative;z-index: 1;}#sk-container-id-5 div.sk-parallel {display: flex;align-items: stretch;justify-content: center;background-color: white;position: relative;}#sk-container-id-5 div.sk-item::before, #sk-container-id-5 div.sk-parallel-item::before {content: \"\";position: absolute;border-left: 1px solid gray;box-sizing: border-box;top: 0;bottom: 0;left: 50%;z-index: -1;}#sk-container-id-5 div.sk-parallel-item {display: flex;flex-direction: column;z-index: 1;position: relative;background-color: white;}#sk-container-id-5 div.sk-parallel-item:first-child::after {align-self: flex-end;width: 50%;}#sk-container-id-5 div.sk-parallel-item:last-child::after {align-self: flex-start;width: 50%;}#sk-container-id-5 div.sk-parallel-item:only-child::after {width: 0;}#sk-container-id-5 div.sk-dashed-wrapped {border: 1px dashed gray;margin: 0 0.4em 0.5em 0.4em;box-sizing: border-box;padding-bottom: 0.4em;background-color: white;}#sk-container-id-5 div.sk-label label {font-family: monospace;font-weight: bold;display: inline-block;line-height: 1.2em;}#sk-container-id-5 div.sk-label-container {text-align: center;}#sk-container-id-5 div.sk-container {/* jupyter's `normalize.less` sets `[hidden] { display: none; }` but bootstrap.min.css set `[hidden] { display: none !important; }` so we also need the `!important` here to be able to override the default hidden behavior on the sphinx rendered scikit-learn.org. See: https://github.com/scikit-learn/scikit-learn/issues/21755 */display: inline-block !important;position: relative;}#sk-container-id-5 div.sk-text-repr-fallback {display: none;}</style><div id=\"sk-container-id-5\" class=\"sk-top-container\"><div class=\"sk-text-repr-fallback\"><pre>XGBClassifier(base_score=None, booster=None, callbacks=None,\n",
       "              colsample_bylevel=None, colsample_bynode=None,\n",
       "              colsample_bytree=None, device=None, early_stopping_rounds=None,\n",
       "              enable_categorical=False, eval_metric=None, feature_types=None,\n",
       "              gamma=None, grow_policy=None, importance_type=None,\n",
       "              interaction_constraints=None, learning_rate=1.0, max_bin=None,\n",
       "              max_cat_threshold=None, max_cat_to_onehot=None,\n",
       "              max_delta_step=None, max_depth=4, max_leaves=None,\n",
       "              min_child_weight=None, missing=nan, monotone_constraints=None,\n",
       "              multi_strategy=None, n_estimators=250, n_jobs=None,\n",
       "              num_parallel_tree=None, objective=&#x27;multi:softprob&#x27;, ...)</pre><b>In a Jupyter environment, please rerun this cell to show the HTML representation or trust the notebook. <br />On GitHub, the HTML representation is unable to render, please try loading this page with nbviewer.org.</b></div><div class=\"sk-container\" hidden><div class=\"sk-item\"><div class=\"sk-estimator sk-toggleable\"><input class=\"sk-toggleable__control sk-hidden--visually\" id=\"sk-estimator-id-5\" type=\"checkbox\" checked><label for=\"sk-estimator-id-5\" class=\"sk-toggleable__label sk-toggleable__label-arrow\">XGBClassifier</label><div class=\"sk-toggleable__content\"><pre>XGBClassifier(base_score=None, booster=None, callbacks=None,\n",
       "              colsample_bylevel=None, colsample_bynode=None,\n",
       "              colsample_bytree=None, device=None, early_stopping_rounds=None,\n",
       "              enable_categorical=False, eval_metric=None, feature_types=None,\n",
       "              gamma=None, grow_policy=None, importance_type=None,\n",
       "              interaction_constraints=None, learning_rate=1.0, max_bin=None,\n",
       "              max_cat_threshold=None, max_cat_to_onehot=None,\n",
       "              max_delta_step=None, max_depth=4, max_leaves=None,\n",
       "              min_child_weight=None, missing=nan, monotone_constraints=None,\n",
       "              multi_strategy=None, n_estimators=250, n_jobs=None,\n",
       "              num_parallel_tree=None, objective=&#x27;multi:softprob&#x27;, ...)</pre></div></div></div></div></div>"
      ],
      "text/plain": [
       "XGBClassifier(base_score=None, booster=None, callbacks=None,\n",
       "              colsample_bylevel=None, colsample_bynode=None,\n",
       "              colsample_bytree=None, device=None, early_stopping_rounds=None,\n",
       "              enable_categorical=False, eval_metric=None, feature_types=None,\n",
       "              gamma=None, grow_policy=None, importance_type=None,\n",
       "              interaction_constraints=None, learning_rate=1.0, max_bin=None,\n",
       "              max_cat_threshold=None, max_cat_to_onehot=None,\n",
       "              max_delta_step=None, max_depth=4, max_leaves=None,\n",
       "              min_child_weight=None, missing=nan, monotone_constraints=None,\n",
       "              multi_strategy=None, n_estimators=250, n_jobs=None,\n",
       "              num_parallel_tree=None, objective='multi:softprob', ...)"
      ]
     },
     "execution_count": 95,
     "metadata": {},
     "output_type": "execute_result"
    }
   ],
   "source": [
    "#import XGBClassifier\n",
    "from xgboost import XGBClassifier\n",
    "# declare parameters\n",
    "params = {\n",
    "            'objective':'binary:logistic',\n",
    "            'max_depth': 4,\n",
    "            #'alpha': 0.1,\n",
    "            'learning_rate': 1.0,\n",
    "            'n_estimators':250\n",
    "         }\n",
    "                      \n",
    "# instantiate the classifier \n",
    "xgb_clf = XGBClassifier(**params)\n",
    "\n",
    "# fit the classifier to the training data\n",
    "xgb_clf.fit(X_train, y_train)\n"
   ]
  },
  {
   "cell_type": "code",
   "execution_count": 96,
   "id": "9963006d",
   "metadata": {},
   "outputs": [
    {
     "name": "stdout",
     "output_type": "stream",
     "text": [
      "XGBClassifier(base_score=None, booster=None, callbacks=None,\n",
      "              colsample_bylevel=None, colsample_bynode=None,\n",
      "              colsample_bytree=None, device=None, early_stopping_rounds=None,\n",
      "              enable_categorical=False, eval_metric=None, feature_types=None,\n",
      "              gamma=None, grow_policy=None, importance_type=None,\n",
      "              interaction_constraints=None, learning_rate=1.0, max_bin=None,\n",
      "              max_cat_threshold=None, max_cat_to_onehot=None,\n",
      "              max_delta_step=None, max_depth=4, max_leaves=None,\n",
      "              min_child_weight=None, missing=nan, monotone_constraints=None,\n",
      "              multi_strategy=None, n_estimators=250, n_jobs=None,\n",
      "              num_parallel_tree=None, objective='multi:softprob', ...)\n"
     ]
    }
   ],
   "source": [
    "#alternatively view the parameters of the xgb trained model\n",
    "print(xgb_clf)"
   ]
  },
  {
   "cell_type": "code",
   "execution_count": 97,
   "id": "abd9bb6b",
   "metadata": {},
   "outputs": [
    {
     "name": "stdout",
     "output_type": "stream",
     "text": [
      "(19244,)\n"
     ]
    }
   ],
   "source": [
    "# make predictions on test data\n",
    "y_pred = xgb_clf.predict(X_test)\n",
    "print(y_pred.shape)"
   ]
  },
  {
   "cell_type": "code",
   "execution_count": 98,
   "id": "822ff851",
   "metadata": {},
   "outputs": [
    {
     "name": "stdout",
     "output_type": "stream",
     "text": [
      "XGBoost model accuracy score: 0.9337\n"
     ]
    }
   ],
   "source": [
    "# check accuracy score\n",
    "from sklearn.metrics import accuracy_score\n",
    "print('XGBoost model accuracy score: {0:0.4f}'. format(accuracy_score(y_test, y_pred)))"
   ]
  },
  {
   "cell_type": "markdown",
   "id": "26828985",
   "metadata": {},
   "source": [
    "Random Forest Classifier"
   ]
  },
  {
   "cell_type": "code",
   "execution_count": 99,
   "id": "f8ad55b9",
   "metadata": {},
   "outputs": [],
   "source": [
    "#report intermediate data frame to a csv\n",
    "masterSelected.to_csv('C:/Users/Priyanka/Desktop/iCamInspector_GithubRepository/Code/ProcessedNPrunnedAllCombination_ourdataset.csv', index = False)"
   ]
  },
  {
   "cell_type": "code",
   "execution_count": 100,
   "id": "69dc0eea",
   "metadata": {},
   "outputs": [
    {
     "name": "stdout",
     "output_type": "stream",
     "text": [
      "Xshape:  (76976, 62)\n",
      "Yshape:  (76976,)\n"
     ]
    }
   ],
   "source": [
    "#classification with all the features\n",
    "masterDS = masterSelected.values\n",
    "X = masterDS[:,:-1]\n",
    "Y = masterDS[:,-1]\n",
    "print(\"Xshape: \", X.shape)\n",
    "print(\"Yshape: \", Y.shape)"
   ]
  },
  {
   "cell_type": "code",
   "execution_count": 101,
   "id": "13f31f19",
   "metadata": {},
   "outputs": [],
   "source": [
    "# split data into training and testing sets\n",
    "from sklearn.model_selection import train_test_split\n",
    "X_train, X_test, y_train, y_test = train_test_split(X, Y, test_size = 0.33, random_state = 42)"
   ]
  },
  {
   "cell_type": "code",
   "execution_count": 102,
   "id": "fc32415e",
   "metadata": {},
   "outputs": [
    {
     "data": {
      "text/plain": [
       "((51573, 62), (25403, 62))"
      ]
     },
     "execution_count": 102,
     "metadata": {},
     "output_type": "execute_result"
    }
   ],
   "source": [
    "# check the shape of X_train and X_test\n",
    "X_train.shape, X_test.shape"
   ]
  },
  {
   "cell_type": "code",
   "execution_count": 103,
   "id": "9ed7966d",
   "metadata": {},
   "outputs": [],
   "source": [
    "#from sklearn.preprocessing import CategoricalEncoder\n",
    "import category_encoders as ce"
   ]
  },
  {
   "cell_type": "code",
   "execution_count": 104,
   "id": "b6ee5ff1",
   "metadata": {},
   "outputs": [],
   "source": [
    "# encode categorical variables with ordinal encoding\n",
    "encoder = ce.OrdinalEncoder(cols=[])\n",
    "X_train = encoder.fit_transform(X_train)\n",
    "X_test = encoder.transform(X_test)"
   ]
  },
  {
   "cell_type": "code",
   "execution_count": 105,
   "id": "0fa08f07",
   "metadata": {},
   "outputs": [
    {
     "name": "stdout",
     "output_type": "stream",
     "text": [
      "Model accuracy score with 10 decision-trees : 0.9220\n"
     ]
    }
   ],
   "source": [
    "# import Random Forest classifier\n",
    "from sklearn.ensemble import RandomForestClassifier\n",
    "from sklearn.metrics import accuracy_score\n",
    "\n",
    "# instantiate the classifier \n",
    "rfc = RandomForestClassifier(random_state=0)\n",
    "\n",
    "# fit the model\n",
    "rfc.fit(X_train, y_train)\n",
    "\n",
    "# Predict the Test set results\n",
    "y_pred = rfc.predict(X_test)\n",
    "\n",
    "# Check accuracy score \n",
    "print('Model accuracy score with 10 decision-trees : {0:0.4f}'. format(accuracy_score(y_test, y_pred)))\n",
    "#Model accuracy score with 10 decision-trees : 0.9247"
   ]
  },
  {
   "cell_type": "code",
   "execution_count": 106,
   "id": "3702a27f",
   "metadata": {},
   "outputs": [
    {
     "name": "stdout",
     "output_type": "stream",
     "text": [
      "Model accuracy score with 100 decision-trees : 0.9220\n"
     ]
    }
   ],
   "source": [
    "# instantiate the classifier with n_estimators = 100\n",
    "rfc_100 = RandomForestClassifier(n_estimators=100, random_state=0)\n",
    "\n",
    "# fit the model to the training set\n",
    "rfc_100.fit(X_train, y_train)\n",
    "\n",
    "# Predict on the test set results\n",
    "y_pred_100 = rfc_100.predict(X_test)\n",
    "\n",
    "# Check accuracy score \n",
    "print('Model accuracy score with 100 decision-trees : {0:0.4f}'. format(accuracy_score(y_test, y_pred_100)))"
   ]
  },
  {
   "cell_type": "markdown",
   "id": "a844e086",
   "metadata": {},
   "source": [
    "LKSVM Classifier"
   ]
  },
  {
   "cell_type": "code",
   "execution_count": null,
   "id": "bb406e15",
   "metadata": {},
   "outputs": [],
   "source": [
    "from sklearn.svm import SVC\n",
    "from sklearn import metrics\n",
    "from sklearn.model_selection import train_test_split\n",
    "from sklearn.preprocessing import StandardScaler\n",
    "import pandas as pd\n",
    "\n",
    "# Load the dataset\n",
    "\n",
    "icam = pd.read_csv('D:/Springer_IJIS/ML_code_output/ProcessedNPrunnedAllCombination_Others_LKsvm_copyWithreducingfnames.csv') #Our dataset\n",
    "\n",
    "# Splitting the data into features and labels\n",
    "X = icam.iloc[:, :-1]\n",
    "y = icam.iloc[:, -1]\n",
    "\n",
    "# Scaling the features\n",
    "scaler = StandardScaler()\n",
    "X = scaler.fit_transform(X)\n",
    "\n",
    "# Splitting the data into training and test sets\n",
    "X_train, X_test, y_train, y_test = train_test_split(X, y, test_size=0.25, random_state=109)\n",
    "\n",
    "# Create a svm Classifier\n",
    "clf = SVC(kernel='linear') \n",
    "\n",
    "# Train the model using the training sets\n",
    "clf.fit(X_train, y_train)\n",
    "\n",
    "# Predict the response for test dataset\n",
    "y_pred = clf.predict(X_test)\n",
    "\n",
    "# Model Accuracy: how often is the classifier correct?\n",
    "print(\"Accuracy:\", metrics.accuracy_score(y_test, y_pred))"
   ]
  },
  {
   "cell_type": "code",
   "execution_count": null,
   "id": "ed996f8c",
   "metadata": {},
   "outputs": [],
   "source": []
  },
  {
   "cell_type": "code",
   "execution_count": null,
   "id": "98fc7a19",
   "metadata": {},
   "outputs": [],
   "source": []
  },
  {
   "cell_type": "code",
   "execution_count": null,
   "id": "8196033f",
   "metadata": {},
   "outputs": [],
   "source": []
  }
 ],
 "metadata": {
  "kernelspec": {
   "display_name": "Python 3 (ipykernel)",
   "language": "python",
   "name": "python3"
  },
  "language_info": {
   "codemirror_mode": {
    "name": "ipython",
    "version": 3
   },
   "file_extension": ".py",
   "mimetype": "text/x-python",
   "name": "python",
   "nbconvert_exporter": "python",
   "pygments_lexer": "ipython3",
   "version": "3.10.5"
  }
 },
 "nbformat": 4,
 "nbformat_minor": 5
}
