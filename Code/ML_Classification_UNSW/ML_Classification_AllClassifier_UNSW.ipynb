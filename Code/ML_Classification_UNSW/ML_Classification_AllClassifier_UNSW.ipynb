{
 "cells": [
  {
   "cell_type": "code",
   "execution_count": 1,
   "id": "787717e7",
   "metadata": {},
   "outputs": [],
   "source": [
    "import pandas as pd\n",
    "import numpy as np\n",
    "from sklearn.model_selection import train_test_split\n",
    "from sklearn.feature_selection import SelectKBest\n",
    "from sklearn.feature_selection import f_classif\n",
    "from sklearn.model_selection import cross_val_score\n",
    "from sklearn.tree import DecisionTreeClassifier\n",
    "from sklearn import metrics\n",
    "from matplotlib import pyplot\n",
    "from sklearn.ensemble import ExtraTreesClassifier\n",
    "from sklearn.datasets import make_classification\n",
    "from sklearn.model_selection import KFold, cross_val_score\n",
    "from numpy import mean"
   ]
  },
  {
   "cell_type": "code",
   "execution_count": 2,
   "id": "8106a777",
   "metadata": {},
   "outputs": [],
   "source": [
    "fnamesIPcam = [\"D:/Springer_IJIS/UNSWpcap/csvfiles/Dropcam_unsw16-09-23.pcap_Flow.csv\",\n",
    "          \"D:/Springer_IJIS/UNSWpcap/csvfiles/Dropcam_unsw16-09-24.pcap_Flow.csv\",\n",
    "          \"D:/Springer_IJIS/UNSWpcap/csvfiles/Dropcam_unsw16-09-25.pcap_Flow.csv\",\n",
    "          \"D:/Springer_IJIS/UNSWpcap/csvfiles/Dropcam_unsw16-09-26.pcap_Flow.csv\",\n",
    "          \"D:/Springer_IJIS/UNSWpcap/csvfiles/Dropcam_unsw16-09-27.pcap_Flow.csv\",\n",
    "          \"D:/Springer_IJIS/UNSWpcap/csvfiles/Dropcam_unsw16-09-28.pcap_Flow.csv\",\n",
    "          \"D:/Springer_IJIS/UNSWpcap/csvfiles/Dropcam_unsw16-09-29.pcap_Flow.csv\",\n",
    "          \"D:/Springer_IJIS/UNSWpcap/csvfiles/Dropcam_unsw16-09-30.pcap_Flow.csv\",\n",
    "          \"D:/Springer_IJIS/UNSWpcap/csvfiles/Dropcam_unsw16-11-21.pcap_Flow.csv\",\n",
    "          \"D:/Springer_IJIS/UNSWpcap/csvfiles/Netatmo_unsw16-09-23.pcap_Flow.csv\",\n",
    "          \"D:/Springer_IJIS/UNSWpcap/csvfiles/Netatmo_unsw16-09-24.pcap_Flow.csv\",\n",
    "          \"D:/Springer_IJIS/UNSWpcap/csvfiles/Netatmo_unsw16-09-25.pcap_Flow.csv\",\n",
    "          \"D:/Springer_IJIS/UNSWpcap/csvfiles/Netatmo_unsw16-09-26.pcap_Flow.csv\",\n",
    "          \"D:/Springer_IJIS/UNSWpcap/csvfiles/Netatmo_unsw16-09-27.pcap_Flow.csv\",\n",
    "          \"D:/Springer_IJIS/UNSWpcap/csvfiles/Netatmo_unsw16-09-28.pcap_Flow.csv\",\n",
    "          \"D:/Springer_IJIS/UNSWpcap/csvfiles/Netatmo_unsw16-09-29.pcap_Flow.csv\",\n",
    "          \"D:/Springer_IJIS/UNSWpcap/csvfiles/Netatmo_unsw16-09-30.pcap_Flow.csv\",\n",
    "          \"D:/Springer_IJIS/UNSWpcap/csvfiles/Netatmo_unsw16-11-21.pcap_Flow.csv\",\n",
    "          \"D:/Springer_IJIS/UNSWpcap/csvfiles/SamsungSmarCam_unsw16-09-23.pcap_Flow.csv\",\n",
    "          \"D:/Springer_IJIS/UNSWpcap/csvfiles/SamsungSmarCam_unsw16-09-24.pcap_Flow.csv\",\n",
    "          \"D:/Springer_IJIS/UNSWpcap/csvfiles/SamsungSmarCam_unsw16-09-25.pcap_Flow.csv\",\n",
    "          \"D:/Springer_IJIS/UNSWpcap/csvfiles/SamsungSmarCam_unsw16-09-26.pcap_Flow.csv\",\n",
    "          \"D:/Springer_IJIS/UNSWpcap/csvfiles/SamsungSmarCam_unsw16-09-27.pcap_Flow.csv\",\n",
    "          \"D:/Springer_IJIS/UNSWpcap/csvfiles/SamsungSmarCam_unsw16-09-28.pcap_Flow.csv\",\n",
    "          \"D:/Springer_IJIS/UNSWpcap/csvfiles/SamsungSmarCam_unsw16-09-29.pcap_Flow.csv\",\n",
    "          \"D:/Springer_IJIS/UNSWpcap/csvfiles/SamsungSmarCam_unsw16-09-30.pcap_Flow.csv\",\n",
    "          \"D:/Springer_IJIS/UNSWpcap/csvfiles/SamsungSmarCam_unsw16-11-21.pcap_Flow.csv\",\n",
    "          \"D:/Springer_IJIS/UNSWpcap/csvfiles/TP-LinkCamera_unsw16-09-23.pcap_Flow.csv\",\n",
    "          \"D:/Springer_IJIS/UNSWpcap/csvfiles/TP-LinkCamera_unsw16-09-24.pcap_Flow.csv\",\n",
    "          \"D:/Springer_IJIS/UNSWpcap/csvfiles/TP-LinkCamera_unsw16-09-25.pcap_Flow.csv\",\n",
    "          \"D:/Springer_IJIS/UNSWpcap/csvfiles/TP-LinkCamera_unsw16-09-26.pcap_Flow.csv\",\n",
    "          \"D:/Springer_IJIS/UNSWpcap/csvfiles/TP-LinkCamera_unsw16-09-27.pcap_Flow.csv\",\n",
    "          \"D:/Springer_IJIS/UNSWpcap/csvfiles/TP-LinkCamera_unsw16-09-28.pcap_Flow.csv\",\n",
    "          \"D:/Springer_IJIS/UNSWpcap/csvfiles/TP-LinkCamera_unsw16-09-29.pcap_Flow.csv\",\n",
    "          \"D:/Springer_IJIS/UNSWpcap/csvfiles/TP-LinkCamera_unsw16-09-30.pcap_Flow.csv\",\n",
    "          \"D:/Springer_IJIS/UNSWpcap/csvfiles/WithingsBabyMonitor_unsw16-09-23.pcap_Flow.csv\",\n",
    "          \"D:/Springer_IJIS/UNSWpcap/csvfiles/WithingsBabyMonitor_unsw16-09-24.pcap_Flow.csv\",\n",
    "          \"D:/Springer_IJIS/UNSWpcap/csvfiles/WithingsBabyMonitor_unsw16-09-25.pcap_Flow.csv\",\n",
    "          \"D:/Springer_IJIS/UNSWpcap/csvfiles/WithingsBabyMonitor_unsw16-09-26.pcap_Flow.csv\",\n",
    "          \"D:/Springer_IJIS/UNSWpcap/csvfiles/WithingsBabyMonitor_unsw16-09-27.pcap_Flow.csv\",\n",
    "          \"D:/Springer_IJIS/UNSWpcap/csvfiles/WithingsBabyMonitor_unsw16-09-28.pcap_Flow.csv\",\n",
    "          \"D:/Springer_IJIS/UNSWpcap/csvfiles/WithingsBabyMonitor_unsw16-09-29.pcap_Flow.csv\",\n",
    "          \"D:/Springer_IJIS/UNSWpcap/csvfiles/WithingsBabyMonitor_unsw16-09-30.pcap_Flow.csv\",\n",
    "          ]"
   ]
  },
  {
   "cell_type": "code",
   "execution_count": 3,
   "id": "547fe0d0",
   "metadata": {},
   "outputs": [
    {
     "name": "stdout",
     "output_type": "stream",
     "text": [
      "file: D:/Springer_IJIS/UNSWpcap/csvfiles/Dropcam_unsw16-09-23.pcap_Flow.csv  data size:  (722, 84)\n",
      "file: D:/Springer_IJIS/UNSWpcap/csvfiles/Dropcam_unsw16-09-24.pcap_Flow.csv  data size:  (754, 84)\n",
      "file: D:/Springer_IJIS/UNSWpcap/csvfiles/Dropcam_unsw16-09-25.pcap_Flow.csv  data size:  (721, 84)\n",
      "file: D:/Springer_IJIS/UNSWpcap/csvfiles/Dropcam_unsw16-09-26.pcap_Flow.csv  data size:  (747, 84)\n",
      "file: D:/Springer_IJIS/UNSWpcap/csvfiles/Dropcam_unsw16-09-27.pcap_Flow.csv  data size:  (722, 84)\n",
      "file: D:/Springer_IJIS/UNSWpcap/csvfiles/Dropcam_unsw16-09-28.pcap_Flow.csv  data size:  (746, 84)\n",
      "file: D:/Springer_IJIS/UNSWpcap/csvfiles/Dropcam_unsw16-09-29.pcap_Flow.csv  data size:  (721, 84)\n",
      "file: D:/Springer_IJIS/UNSWpcap/csvfiles/Dropcam_unsw16-09-30.pcap_Flow.csv  data size:  (722, 84)\n",
      "file: D:/Springer_IJIS/UNSWpcap/csvfiles/Dropcam_unsw16-11-21.pcap_Flow.csv  data size:  (722, 84)\n",
      "file: D:/Springer_IJIS/UNSWpcap/csvfiles/Netatmo_unsw16-09-23.pcap_Flow.csv  data size:  (2071, 84)\n",
      "file: D:/Springer_IJIS/UNSWpcap/csvfiles/Netatmo_unsw16-09-24.pcap_Flow.csv  data size:  (1474, 84)\n",
      "file: D:/Springer_IJIS/UNSWpcap/csvfiles/Netatmo_unsw16-09-25.pcap_Flow.csv  data size:  (1400, 84)\n",
      "file: D:/Springer_IJIS/UNSWpcap/csvfiles/Netatmo_unsw16-09-26.pcap_Flow.csv  data size:  (2025, 84)\n",
      "file: D:/Springer_IJIS/UNSWpcap/csvfiles/Netatmo_unsw16-09-27.pcap_Flow.csv  data size:  (1774, 84)\n",
      "file: D:/Springer_IJIS/UNSWpcap/csvfiles/Netatmo_unsw16-09-28.pcap_Flow.csv  data size:  (2897, 84)\n",
      "file: D:/Springer_IJIS/UNSWpcap/csvfiles/Netatmo_unsw16-09-29.pcap_Flow.csv  data size:  (2137, 84)\n",
      "file: D:/Springer_IJIS/UNSWpcap/csvfiles/Netatmo_unsw16-09-30.pcap_Flow.csv  data size:  (1682, 84)\n",
      "file: D:/Springer_IJIS/UNSWpcap/csvfiles/Netatmo_unsw16-11-21.pcap_Flow.csv  data size:  (1737, 84)\n",
      "file: D:/Springer_IJIS/UNSWpcap/csvfiles/SamsungSmarCam_unsw16-09-23.pcap_Flow.csv  data size:  (7962, 84)\n",
      "file: D:/Springer_IJIS/UNSWpcap/csvfiles/SamsungSmarCam_unsw16-09-24.pcap_Flow.csv  data size:  (5594, 84)\n",
      "file: D:/Springer_IJIS/UNSWpcap/csvfiles/SamsungSmarCam_unsw16-09-25.pcap_Flow.csv  data size:  (5528, 84)\n",
      "file: D:/Springer_IJIS/UNSWpcap/csvfiles/SamsungSmarCam_unsw16-09-26.pcap_Flow.csv  data size:  (7554, 84)\n",
      "file: D:/Springer_IJIS/UNSWpcap/csvfiles/SamsungSmarCam_unsw16-09-27.pcap_Flow.csv  data size:  (7244, 84)\n",
      "file: D:/Springer_IJIS/UNSWpcap/csvfiles/SamsungSmarCam_unsw16-09-28.pcap_Flow.csv  data size:  (9574, 84)\n",
      "file: D:/Springer_IJIS/UNSWpcap/csvfiles/SamsungSmarCam_unsw16-09-29.pcap_Flow.csv  data size:  (7203, 84)\n",
      "file: D:/Springer_IJIS/UNSWpcap/csvfiles/SamsungSmarCam_unsw16-09-30.pcap_Flow.csv  data size:  (6493, 84)\n",
      "file: D:/Springer_IJIS/UNSWpcap/csvfiles/SamsungSmarCam_unsw16-11-21.pcap_Flow.csv  data size:  (4391, 84)\n",
      "file: D:/Springer_IJIS/UNSWpcap/csvfiles/TP-LinkCamera_unsw16-09-23.pcap_Flow.csv  data size:  (1248, 84)\n",
      "file: D:/Springer_IJIS/UNSWpcap/csvfiles/TP-LinkCamera_unsw16-09-24.pcap_Flow.csv  data size:  (1308, 84)\n",
      "file: D:/Springer_IJIS/UNSWpcap/csvfiles/TP-LinkCamera_unsw16-09-25.pcap_Flow.csv  data size:  (1226, 84)\n",
      "file: D:/Springer_IJIS/UNSWpcap/csvfiles/TP-LinkCamera_unsw16-09-26.pcap_Flow.csv  data size:  (1248, 84)\n",
      "file: D:/Springer_IJIS/UNSWpcap/csvfiles/TP-LinkCamera_unsw16-09-27.pcap_Flow.csv  data size:  (1226, 84)\n",
      "file: D:/Springer_IJIS/UNSWpcap/csvfiles/TP-LinkCamera_unsw16-09-28.pcap_Flow.csv  data size:  (1385, 84)\n",
      "file: D:/Springer_IJIS/UNSWpcap/csvfiles/TP-LinkCamera_unsw16-09-29.pcap_Flow.csv  data size:  (1420, 84)\n",
      "file: D:/Springer_IJIS/UNSWpcap/csvfiles/TP-LinkCamera_unsw16-09-30.pcap_Flow.csv  data size:  (1466, 84)\n",
      "file: D:/Springer_IJIS/UNSWpcap/csvfiles/WithingsBabyMonitor_unsw16-09-23.pcap_Flow.csv  data size:  (1804, 84)\n",
      "file: D:/Springer_IJIS/UNSWpcap/csvfiles/WithingsBabyMonitor_unsw16-09-24.pcap_Flow.csv  data size:  (1585, 84)\n",
      "file: D:/Springer_IJIS/UNSWpcap/csvfiles/WithingsBabyMonitor_unsw16-09-25.pcap_Flow.csv  data size:  (1572, 84)\n",
      "file: D:/Springer_IJIS/UNSWpcap/csvfiles/WithingsBabyMonitor_unsw16-09-26.pcap_Flow.csv  data size:  (1729, 84)\n",
      "file: D:/Springer_IJIS/UNSWpcap/csvfiles/WithingsBabyMonitor_unsw16-09-27.pcap_Flow.csv  data size:  (1818, 84)\n",
      "file: D:/Springer_IJIS/UNSWpcap/csvfiles/WithingsBabyMonitor_unsw16-09-28.pcap_Flow.csv  data size:  (1957, 84)\n",
      "file: D:/Springer_IJIS/UNSWpcap/csvfiles/WithingsBabyMonitor_unsw16-09-29.pcap_Flow.csv  data size:  (1732, 84)\n",
      "file: D:/Springer_IJIS/UNSWpcap/csvfiles/WithingsBabyMonitor_unsw16-09-30.pcap_Flow.csv  data size:  (1891, 84)\n",
      "(109932, 84)\n"
     ]
    }
   ],
   "source": [
    "dfList = list()\n",
    "for fname in fnamesIPcam: \n",
    "    data = pd.read_csv(fname)\n",
    "    print('file:', fname, ' data size: ',data.shape)\n",
    "    dfList.append(data)\n",
    "############## combine the data frames\n",
    "ipcamDF = pd.concat(dfList)\n",
    "print(ipcamDF.shape)"
   ]
  },
  {
   "cell_type": "code",
   "execution_count": 4,
   "id": "582fa80e",
   "metadata": {},
   "outputs": [
    {
     "name": "stdout",
     "output_type": "stream",
     "text": [
      "['Dropcam', 'NetatmoCam', 'SamsungSmartCam', 'TPLinkCam', 'WithingsCam']\n"
     ]
    }
   ],
   "source": [
    "#see unique labels\n",
    "print(list(ipcamDF['Label'].unique()))"
   ]
  },
  {
   "cell_type": "code",
   "execution_count": 5,
   "id": "1889dbaf",
   "metadata": {},
   "outputs": [
    {
     "name": "stdout",
     "output_type": "stream",
     "text": [
      "['Dropcam', 'NetatmoCam', 'SamsungSmartCam', 'TPLinkCam', 'WithingsCam']\n"
     ]
    }
   ],
   "source": [
    "ipcamDF['Label'].replace('No Label','IPCam',inplace=True)\n",
    "#uniqueLabels = list(ipcamDF['Label'].unique())\n",
    "#print(uniqueLabels)\n",
    "print(list(ipcamDF['Label'].unique()))"
   ]
  },
  {
   "cell_type": "code",
   "execution_count": 6,
   "id": "8b1f386f",
   "metadata": {},
   "outputs": [
    {
     "name": "stdout",
     "output_type": "stream",
     "text": [
      "(109932, 84)\n"
     ]
    }
   ],
   "source": [
    "######### creating master DF\n",
    "dfListAll = [ipcamDF]#,shareDF, confDF, otherDF]\n",
    "masterDF = pd.concat(dfListAll)\n",
    "print(masterDF.shape)"
   ]
  },
  {
   "cell_type": "code",
   "execution_count": 7,
   "id": "713b45ca",
   "metadata": {},
   "outputs": [
    {
     "name": "stdout",
     "output_type": "stream",
     "text": [
      "pruneddata size:  (109932, 77)\n",
      "['Flow Duration', 'Tot Fwd Pkts', 'Tot Bwd Pkts', 'TotLen Fwd Pkts', 'TotLen Bwd Pkts', 'Fwd Pkt Len Max', 'Fwd Pkt Len Min', 'Fwd Pkt Len Mean', 'Fwd Pkt Len Std', 'Bwd Pkt Len Max', 'Bwd Pkt Len Min', 'Bwd Pkt Len Mean', 'Bwd Pkt Len Std', 'Flow Byts/s', 'Flow Pkts/s', 'Flow IAT Mean', 'Flow IAT Std', 'Flow IAT Max', 'Flow IAT Min', 'Fwd IAT Tot', 'Fwd IAT Mean', 'Fwd IAT Std', 'Fwd IAT Max', 'Fwd IAT Min', 'Bwd IAT Tot', 'Bwd IAT Mean', 'Bwd IAT Std', 'Bwd IAT Max', 'Bwd IAT Min', 'Fwd PSH Flags', 'Bwd PSH Flags', 'Fwd URG Flags', 'Bwd URG Flags', 'Fwd Header Len', 'Bwd Header Len', 'Fwd Pkts/s', 'Bwd Pkts/s', 'Pkt Len Min', 'Pkt Len Max', 'Pkt Len Mean', 'Pkt Len Std', 'Pkt Len Var', 'FIN Flag Cnt', 'SYN Flag Cnt', 'RST Flag Cnt', 'PSH Flag Cnt', 'ACK Flag Cnt', 'URG Flag Cnt', 'CWE Flag Count', 'ECE Flag Cnt', 'Down/Up Ratio', 'Pkt Size Avg', 'Fwd Seg Size Avg', 'Bwd Seg Size Avg', 'Fwd Byts/b Avg', 'Fwd Pkts/b Avg', 'Fwd Blk Rate Avg', 'Bwd Byts/b Avg', 'Bwd Pkts/b Avg', 'Bwd Blk Rate Avg', 'Subflow Fwd Pkts', 'Subflow Fwd Byts', 'Subflow Bwd Pkts', 'Subflow Bwd Byts', 'Init Fwd Win Byts', 'Init Bwd Win Byts', 'Fwd Act Data Pkts', 'Fwd Seg Size Min', 'Active Mean', 'Active Std', 'Active Max', 'Active Min', 'Idle Mean', 'Idle Std', 'Idle Max', 'Idle Min', 'Label']\n"
     ]
    }
   ],
   "source": [
    "#discard all those columns that helps in uniquely identifying a flow\n",
    "masterPruned = masterDF.iloc[:,np.arange(7,84)]\n",
    "print('pruneddata size: ', masterPruned.shape)\n",
    "ftList = list(masterPruned.columns)\n",
    "print(ftList)"
   ]
  },
  {
   "cell_type": "code",
   "execution_count": 8,
   "id": "a9da7673",
   "metadata": {},
   "outputs": [
    {
     "name": "stdout",
     "output_type": "stream",
     "text": [
      "['Dropcam', 'NetatmoCam', 'SamsungSmartCam', 'TPLinkCam', 'WithingsCam']\n"
     ]
    }
   ],
   "source": [
    "uniqueLabels = list(masterDF['Label'].unique())\n",
    "print(uniqueLabels)"
   ]
  },
  {
   "cell_type": "code",
   "execution_count": 9,
   "id": "1eb9e0b7",
   "metadata": {},
   "outputs": [
    {
     "name": "stdout",
     "output_type": "stream",
     "text": [
      "pruneddata size:  (109932, 77)\n",
      "['Flow Duration', 'Tot Fwd Pkts', 'Tot Bwd Pkts', 'TotLen Fwd Pkts', 'TotLen Bwd Pkts', 'Fwd Pkt Len Max', 'Fwd Pkt Len Min', 'Fwd Pkt Len Mean', 'Fwd Pkt Len Std', 'Bwd Pkt Len Max', 'Bwd Pkt Len Min', 'Bwd Pkt Len Mean', 'Bwd Pkt Len Std', 'Flow Byts/s', 'Flow Pkts/s', 'Flow IAT Mean', 'Flow IAT Std', 'Flow IAT Max', 'Flow IAT Min', 'Fwd IAT Tot', 'Fwd IAT Mean', 'Fwd IAT Std', 'Fwd IAT Max', 'Fwd IAT Min', 'Bwd IAT Tot', 'Bwd IAT Mean', 'Bwd IAT Std', 'Bwd IAT Max', 'Bwd IAT Min', 'Fwd PSH Flags', 'Bwd PSH Flags', 'Fwd URG Flags', 'Bwd URG Flags', 'Fwd Header Len', 'Bwd Header Len', 'Fwd Pkts/s', 'Bwd Pkts/s', 'Pkt Len Min', 'Pkt Len Max', 'Pkt Len Mean', 'Pkt Len Std', 'Pkt Len Var', 'FIN Flag Cnt', 'SYN Flag Cnt', 'RST Flag Cnt', 'PSH Flag Cnt', 'ACK Flag Cnt', 'URG Flag Cnt', 'CWE Flag Count', 'ECE Flag Cnt', 'Down/Up Ratio', 'Pkt Size Avg', 'Fwd Seg Size Avg', 'Bwd Seg Size Avg', 'Fwd Byts/b Avg', 'Fwd Pkts/b Avg', 'Fwd Blk Rate Avg', 'Bwd Byts/b Avg', 'Bwd Pkts/b Avg', 'Bwd Blk Rate Avg', 'Subflow Fwd Pkts', 'Subflow Fwd Byts', 'Subflow Bwd Pkts', 'Subflow Bwd Byts', 'Init Fwd Win Byts', 'Init Bwd Win Byts', 'Fwd Act Data Pkts', 'Fwd Seg Size Min', 'Active Mean', 'Active Std', 'Active Max', 'Active Min', 'Idle Mean', 'Idle Std', 'Idle Max', 'Idle Min', 'Label']\n"
     ]
    }
   ],
   "source": [
    "#discard all those columns that helps in uniquely identifying a flow\n",
    "masterPruned = masterDF.iloc[:,np.arange(7,84)]\n",
    "print('pruneddata size: ', masterPruned.shape)\n",
    "ftList = list(masterPruned.columns)\n",
    "print(ftList)"
   ]
  },
  {
   "cell_type": "code",
   "execution_count": 10,
   "id": "77a28b8f",
   "metadata": {},
   "outputs": [
    {
     "data": {
      "text/plain": [
       "(109932, 77)"
      ]
     },
     "execution_count": 10,
     "metadata": {},
     "output_type": "execute_result"
    }
   ],
   "source": [
    "#discard those flows that has 0 flow duration\n",
    "masterSelected = masterPruned.drop(masterPruned[masterPruned['Flow Duration']==0].index)\n",
    "masterSelected.shape"
   ]
  },
  {
   "cell_type": "code",
   "execution_count": 11,
   "id": "e2459bd6",
   "metadata": {},
   "outputs": [
    {
     "name": "stdout",
     "output_type": "stream",
     "text": [
      "[]\n"
     ]
    }
   ],
   "source": [
    "#identify those columns that has non-numeric values\n",
    "typesList = masterSelected.dtypes\n",
    "ftCount = len(ftList)\n",
    "nonNumericFtList = list()\n",
    "for fi in range(ftCount):\n",
    "    if ftList[fi] != 'Label' and typesList[fi] != 'int64' and typesList[fi] != 'float64':\n",
    "        print(ftList[fi], '  ', typesList[fi])\n",
    "        nonNumericFtList.append(ftList[fi])\n",
    "print(nonNumericFtList)"
   ]
  },
  {
   "cell_type": "code",
   "execution_count": 12,
   "id": "8d126cfa",
   "metadata": {},
   "outputs": [],
   "source": [
    "for ft in nonNumericFtList:\n",
    "    masterSelected[ft] = pd.to_numeric(masterSelected[ft], errors='coerce')"
   ]
  },
  {
   "cell_type": "code",
   "execution_count": 13,
   "id": "1c44beda",
   "metadata": {},
   "outputs": [
    {
     "name": "stdout",
     "output_type": "stream",
     "text": [
      "[]\n"
     ]
    }
   ],
   "source": [
    "print(nonNumericFtList)\n",
    "for ft in nonNumericFtList:\n",
    "    countNaN = masterSelected[ft].isna().sum()\n",
    "    print('converted to numeric ft: ', ft, '  countNaN: ', countNaN)"
   ]
  },
  {
   "cell_type": "code",
   "execution_count": 14,
   "id": "d3cb532f",
   "metadata": {},
   "outputs": [
    {
     "name": "stdout",
     "output_type": "stream",
     "text": [
      "count inf:  0\n"
     ]
    }
   ],
   "source": [
    "number_inf = masterSelected[masterSelected == np.inf].count().sum()\n",
    "print('count inf: ',number_inf)"
   ]
  },
  {
   "cell_type": "code",
   "execution_count": 15,
   "id": "d2b5963a",
   "metadata": {},
   "outputs": [
    {
     "name": "stdout",
     "output_type": "stream",
     "text": [
      "[]\n"
     ]
    }
   ],
   "source": [
    "typesList = masterSelected.dtypes\n",
    "ftCount = len(ftList)\n",
    "nonNumericFtList = list()\n",
    "for fi in range(ftCount):\n",
    "    if ftList[fi] != 'Label' and typesList[fi] != 'int64' and typesList[fi] != 'float64':\n",
    "        print(ftList[fi], '  ', typesList[fi])\n",
    "        nonNumericFtList.append(ftList[fi])\n",
    "print(nonNumericFtList)"
   ]
  },
  {
   "cell_type": "code",
   "execution_count": 16,
   "id": "a902f161",
   "metadata": {},
   "outputs": [
    {
     "name": "stdout",
     "output_type": "stream",
     "text": [
      "count:  1  ft:  Fwd PSH Flags  ftmin:  0  ftMax:  0\n",
      "count:  2  ft:  Fwd URG Flags  ftmin:  0  ftMax:  0\n",
      "count:  3  ft:  Bwd URG Flags  ftmin:  0  ftMax:  0\n",
      "count:  4  ft:  URG Flag Cnt  ftmin:  0  ftMax:  0\n",
      "count:  5  ft:  CWE Flag Count  ftmin:  0  ftMax:  0\n",
      "count:  6  ft:  ECE Flag Cnt  ftmin:  0  ftMax:  0\n",
      "count:  7  ft:  Fwd Byts/b Avg  ftmin:  0  ftMax:  0\n",
      "count:  8  ft:  Fwd Pkts/b Avg  ftmin:  0  ftMax:  0\n",
      "count:  9  ft:  Fwd Blk Rate Avg  ftmin:  0  ftMax:  0\n",
      "count:  10  ft:  Bwd Byts/b Avg  ftmin:  0  ftMax:  0\n",
      "count:  11  ft:  Bwd Pkts/b Avg  ftmin:  0  ftMax:  0\n",
      "count:  12  ft:  Bwd Blk Rate Avg  ftmin:  0  ftMax:  0\n",
      "count:  13  ft:  Init Fwd Win Byts  ftmin:  -1  ftMax:  -1\n",
      "count:  14  ft:  Fwd Seg Size Min  ftmin:  0  ftMax:  0\n",
      "['Fwd PSH Flags', 'Fwd URG Flags', 'Bwd URG Flags', 'URG Flag Cnt', 'CWE Flag Count', 'ECE Flag Cnt', 'Fwd Byts/b Avg', 'Fwd Pkts/b Avg', 'Fwd Blk Rate Avg', 'Bwd Byts/b Avg', 'Bwd Pkts/b Avg', 'Bwd Blk Rate Avg', 'Init Fwd Win Byts', 'Fwd Seg Size Min']\n"
     ]
    }
   ],
   "source": [
    "#identify those columns that has 0 std\n",
    "count = 0\n",
    "staticFtList = list()\n",
    "for ft in ftList:\n",
    "    if ft == 'Label':\n",
    "        continue\n",
    "    #print('ft : ', ft)\n",
    "    ftMin = masterSelected[ft].min()\n",
    "    ftMax = masterSelected[ft].max()\n",
    "    #std = masterPruned[ft].std()\n",
    "    \n",
    "    if ftMin == ftMax:\n",
    "        count += 1\n",
    "        print('count: ', count, ' ft: ', ft, ' ftmin: ', ftMin, ' ftMax: ', ftMax)\n",
    "        staticFtList.append(ft)\n",
    "print(staticFtList)"
   ]
  },
  {
   "cell_type": "code",
   "execution_count": 17,
   "id": "b5dc693e",
   "metadata": {},
   "outputs": [
    {
     "name": "stdout",
     "output_type": "stream",
     "text": [
      "before droping column:  (109932, 77)\n",
      "after droping column:  (109932, 63)\n"
     ]
    }
   ],
   "source": [
    "#remove those columns that have 0 std\n",
    "print('before droping column: ', masterSelected.shape)\n",
    "for ft in staticFtList:\n",
    "    masterSelected.drop([ft], axis=1,inplace=True)\n",
    "print('after droping column: ', masterSelected.shape)  "
   ]
  },
  {
   "cell_type": "code",
   "execution_count": 18,
   "id": "6925fdc5",
   "metadata": {},
   "outputs": [
    {
     "name": "stdout",
     "output_type": "stream",
     "text": [
      "63\n",
      "['Flow Duration', 'Tot Fwd Pkts', 'Tot Bwd Pkts', 'TotLen Fwd Pkts', 'TotLen Bwd Pkts', 'Fwd Pkt Len Max', 'Fwd Pkt Len Min', 'Fwd Pkt Len Mean', 'Fwd Pkt Len Std', 'Bwd Pkt Len Max', 'Bwd Pkt Len Min', 'Bwd Pkt Len Mean', 'Bwd Pkt Len Std', 'Flow Byts/s', 'Flow Pkts/s', 'Flow IAT Mean', 'Flow IAT Std', 'Flow IAT Max', 'Flow IAT Min', 'Fwd IAT Tot', 'Fwd IAT Mean', 'Fwd IAT Std', 'Fwd IAT Max', 'Fwd IAT Min', 'Bwd IAT Tot', 'Bwd IAT Mean', 'Bwd IAT Std', 'Bwd IAT Max', 'Bwd IAT Min', 'Bwd PSH Flags', 'Fwd Header Len', 'Bwd Header Len', 'Fwd Pkts/s', 'Bwd Pkts/s', 'Pkt Len Min', 'Pkt Len Max', 'Pkt Len Mean', 'Pkt Len Std', 'Pkt Len Var', 'FIN Flag Cnt', 'SYN Flag Cnt', 'RST Flag Cnt', 'PSH Flag Cnt', 'ACK Flag Cnt', 'Down/Up Ratio', 'Pkt Size Avg', 'Fwd Seg Size Avg', 'Bwd Seg Size Avg', 'Subflow Fwd Pkts', 'Subflow Fwd Byts', 'Subflow Bwd Pkts', 'Subflow Bwd Byts', 'Init Bwd Win Byts', 'Fwd Act Data Pkts', 'Active Mean', 'Active Std', 'Active Max', 'Active Min', 'Idle Mean', 'Idle Std', 'Idle Max', 'Idle Min', 'Label']\n"
     ]
    }
   ],
   "source": [
    "xCount = masterSelected.shape[1]\n",
    "print(xCount)\n",
    "finalFtList = list(masterSelected.columns)\n",
    "print(finalFtList)"
   ]
  },
  {
   "cell_type": "code",
   "execution_count": 19,
   "id": "aa79c546",
   "metadata": {},
   "outputs": [],
   "source": [
    "#report intermediate data frame to a csv\n",
    "masterSelected.to_csv('C:/Users/Priyanka/Desktop/iCamInspector_GithubRepository/Code/ProcessedNPrunnedAllCombination_UNSW.csv', index = False)"
   ]
  },
  {
   "cell_type": "code",
   "execution_count": 20,
   "id": "10958701",
   "metadata": {},
   "outputs": [
    {
     "name": "stdout",
     "output_type": "stream",
     "text": [
      "Xshape:  (109932, 62)\n",
      "Yshape:  (109932,)\n"
     ]
    }
   ],
   "source": [
    "#classification with all the features\n",
    "masterDS = masterSelected.values\n",
    "X = masterDS[:,:-1]\n",
    "Y = masterDS[:,-1]\n",
    "print(\"Xshape: \", X.shape)\n",
    "print(\"Yshape: \", Y.shape)"
   ]
  },
  {
   "cell_type": "markdown",
   "id": "f9e55ebe",
   "metadata": {},
   "source": [
    "Extra Tree Classifier"
   ]
  },
  {
   "cell_type": "code",
   "execution_count": 21,
   "id": "fe45d000",
   "metadata": {},
   "outputs": [],
   "source": [
    "from sklearn.model_selection import train_test_split\n",
    "X_train, X_test, y_train, y_test = train_test_split(X, Y, test_size = 0.25, random_state = 0)"
   ]
  },
  {
   "cell_type": "code",
   "execution_count": 22,
   "id": "38901aec",
   "metadata": {},
   "outputs": [],
   "source": [
    "# Building the model\n",
    "extra_tree_forest = ExtraTreesClassifier(n_estimators = 5, criterion ='entropy', max_features = xCount)"
   ]
  },
  {
   "cell_type": "code",
   "execution_count": 23,
   "id": "dfc333d6",
   "metadata": {},
   "outputs": [
    {
     "data": {
      "text/html": [
       "<style>#sk-container-id-1 {color: black;background-color: white;}#sk-container-id-1 pre{padding: 0;}#sk-container-id-1 div.sk-toggleable {background-color: white;}#sk-container-id-1 label.sk-toggleable__label {cursor: pointer;display: block;width: 100%;margin-bottom: 0;padding: 0.3em;box-sizing: border-box;text-align: center;}#sk-container-id-1 label.sk-toggleable__label-arrow:before {content: \"▸\";float: left;margin-right: 0.25em;color: #696969;}#sk-container-id-1 label.sk-toggleable__label-arrow:hover:before {color: black;}#sk-container-id-1 div.sk-estimator:hover label.sk-toggleable__label-arrow:before {color: black;}#sk-container-id-1 div.sk-toggleable__content {max-height: 0;max-width: 0;overflow: hidden;text-align: left;background-color: #f0f8ff;}#sk-container-id-1 div.sk-toggleable__content pre {margin: 0.2em;color: black;border-radius: 0.25em;background-color: #f0f8ff;}#sk-container-id-1 input.sk-toggleable__control:checked~div.sk-toggleable__content {max-height: 200px;max-width: 100%;overflow: auto;}#sk-container-id-1 input.sk-toggleable__control:checked~label.sk-toggleable__label-arrow:before {content: \"▾\";}#sk-container-id-1 div.sk-estimator input.sk-toggleable__control:checked~label.sk-toggleable__label {background-color: #d4ebff;}#sk-container-id-1 div.sk-label input.sk-toggleable__control:checked~label.sk-toggleable__label {background-color: #d4ebff;}#sk-container-id-1 input.sk-hidden--visually {border: 0;clip: rect(1px 1px 1px 1px);clip: rect(1px, 1px, 1px, 1px);height: 1px;margin: -1px;overflow: hidden;padding: 0;position: absolute;width: 1px;}#sk-container-id-1 div.sk-estimator {font-family: monospace;background-color: #f0f8ff;border: 1px dotted black;border-radius: 0.25em;box-sizing: border-box;margin-bottom: 0.5em;}#sk-container-id-1 div.sk-estimator:hover {background-color: #d4ebff;}#sk-container-id-1 div.sk-parallel-item::after {content: \"\";width: 100%;border-bottom: 1px solid gray;flex-grow: 1;}#sk-container-id-1 div.sk-label:hover label.sk-toggleable__label {background-color: #d4ebff;}#sk-container-id-1 div.sk-serial::before {content: \"\";position: absolute;border-left: 1px solid gray;box-sizing: border-box;top: 0;bottom: 0;left: 50%;z-index: 0;}#sk-container-id-1 div.sk-serial {display: flex;flex-direction: column;align-items: center;background-color: white;padding-right: 0.2em;padding-left: 0.2em;position: relative;}#sk-container-id-1 div.sk-item {position: relative;z-index: 1;}#sk-container-id-1 div.sk-parallel {display: flex;align-items: stretch;justify-content: center;background-color: white;position: relative;}#sk-container-id-1 div.sk-item::before, #sk-container-id-1 div.sk-parallel-item::before {content: \"\";position: absolute;border-left: 1px solid gray;box-sizing: border-box;top: 0;bottom: 0;left: 50%;z-index: -1;}#sk-container-id-1 div.sk-parallel-item {display: flex;flex-direction: column;z-index: 1;position: relative;background-color: white;}#sk-container-id-1 div.sk-parallel-item:first-child::after {align-self: flex-end;width: 50%;}#sk-container-id-1 div.sk-parallel-item:last-child::after {align-self: flex-start;width: 50%;}#sk-container-id-1 div.sk-parallel-item:only-child::after {width: 0;}#sk-container-id-1 div.sk-dashed-wrapped {border: 1px dashed gray;margin: 0 0.4em 0.5em 0.4em;box-sizing: border-box;padding-bottom: 0.4em;background-color: white;}#sk-container-id-1 div.sk-label label {font-family: monospace;font-weight: bold;display: inline-block;line-height: 1.2em;}#sk-container-id-1 div.sk-label-container {text-align: center;}#sk-container-id-1 div.sk-container {/* jupyter's `normalize.less` sets `[hidden] { display: none; }` but bootstrap.min.css set `[hidden] { display: none !important; }` so we also need the `!important` here to be able to override the default hidden behavior on the sphinx rendered scikit-learn.org. See: https://github.com/scikit-learn/scikit-learn/issues/21755 */display: inline-block !important;position: relative;}#sk-container-id-1 div.sk-text-repr-fallback {display: none;}</style><div id=\"sk-container-id-1\" class=\"sk-top-container\"><div class=\"sk-text-repr-fallback\"><pre>ExtraTreesClassifier(criterion=&#x27;entropy&#x27;, max_features=63, n_estimators=5)</pre><b>In a Jupyter environment, please rerun this cell to show the HTML representation or trust the notebook. <br />On GitHub, the HTML representation is unable to render, please try loading this page with nbviewer.org.</b></div><div class=\"sk-container\" hidden><div class=\"sk-item\"><div class=\"sk-estimator sk-toggleable\"><input class=\"sk-toggleable__control sk-hidden--visually\" id=\"sk-estimator-id-1\" type=\"checkbox\" checked><label for=\"sk-estimator-id-1\" class=\"sk-toggleable__label sk-toggleable__label-arrow\">ExtraTreesClassifier</label><div class=\"sk-toggleable__content\"><pre>ExtraTreesClassifier(criterion=&#x27;entropy&#x27;, max_features=63, n_estimators=5)</pre></div></div></div></div></div>"
      ],
      "text/plain": [
       "ExtraTreesClassifier(criterion='entropy', max_features=63, n_estimators=5)"
      ]
     },
     "execution_count": 23,
     "metadata": {},
     "output_type": "execute_result"
    }
   ],
   "source": [
    "# Training the model\n",
    "extra_tree_forest.fit(X, Y)"
   ]
  },
  {
   "cell_type": "code",
   "execution_count": 24,
   "id": "410d8c95",
   "metadata": {},
   "outputs": [],
   "source": [
    "# Computing the importance of each feature\n",
    "feature_importance = extra_tree_forest.feature_importances_"
   ]
  },
  {
   "cell_type": "code",
   "execution_count": 25,
   "id": "7df3ea64",
   "metadata": {},
   "outputs": [],
   "source": [
    "# Normalizing the individual importances\n",
    "feature_importance_normalized = np.std([tree.feature_importances_ for tree in\n",
    "                                        extra_tree_forest.estimators_],\n",
    "                                        axis = 0)"
   ]
  },
  {
   "cell_type": "code",
   "execution_count": 26,
   "id": "741b80f6",
   "metadata": {},
   "outputs": [],
   "source": [
    "from sklearn.model_selection import cross_val_score\n",
    "from sklearn.model_selection import RepeatedStratifiedKFold\n",
    "from sklearn.ensemble import ExtraTreesClassifier\n",
    "from numpy import mean\n",
    "from numpy import std"
   ]
  },
  {
   "cell_type": "code",
   "execution_count": 27,
   "id": "492eb7a9",
   "metadata": {},
   "outputs": [
    {
     "name": "stdout",
     "output_type": "stream",
     "text": [
      "Accuracy: 0.998 (0.000)\n"
     ]
    }
   ],
   "source": [
    "# evaluate the model\n",
    "cv = RepeatedStratifiedKFold(n_splits=10, n_repeats=3, random_state=1)\n",
    "n_scores = cross_val_score(extra_tree_forest, X, Y, scoring='accuracy', cv=cv, n_jobs=1, error_score='raise')\n",
    "# report performance\n",
    "print('Accuracy: %.3f (%.3f)' % (mean(n_scores), std(n_scores)))"
   ]
  },
  {
   "cell_type": "code",
   "execution_count": 28,
   "id": "2a9bd0b8",
   "metadata": {},
   "outputs": [],
   "source": [
    "y_pred = extra_tree_forest.predict(X_test)"
   ]
  },
  {
   "cell_type": "code",
   "execution_count": 29,
   "id": "6f9699e8",
   "metadata": {},
   "outputs": [
    {
     "name": "stdout",
     "output_type": "stream",
     "text": [
      "[[ 1637     0     0     0     0]\n",
      " [    0  4293     0     0     0]\n",
      " [    0     0 15384     0     0]\n",
      " [    0     1     0  2653     0]\n",
      " [    0     0     0     0  3515]]\n"
     ]
    },
    {
     "data": {
      "text/plain": [
       "0.9999636138703926"
      ]
     },
     "execution_count": 29,
     "metadata": {},
     "output_type": "execute_result"
    }
   ],
   "source": [
    "from sklearn.metrics import confusion_matrix, accuracy_score\n",
    "cm = confusion_matrix(y_test, y_pred)\n",
    "print(cm)\n",
    "accuracy_score(y_test, y_pred)"
   ]
  },
  {
   "cell_type": "code",
   "execution_count": 30,
   "id": "021c0b4d",
   "metadata": {},
   "outputs": [
    {
     "name": "stdout",
     "output_type": "stream",
     "text": [
      "                 precision    recall  f1-score   support\n",
      "\n",
      "        Dropcam       1.00      1.00      1.00      1637\n",
      "     NetatmoCam       1.00      1.00      1.00      4293\n",
      "SamsungSmartCam       1.00      1.00      1.00     15384\n",
      "      TPLinkCam       1.00      1.00      1.00      2654\n",
      "    WithingsCam       1.00      1.00      1.00      3515\n",
      "\n",
      "       accuracy                           1.00     27483\n",
      "      macro avg       1.00      1.00      1.00     27483\n",
      "   weighted avg       1.00      1.00      1.00     27483\n",
      "\n"
     ]
    }
   ],
   "source": [
    "from sklearn.metrics import classification_report\n",
    "print(classification_report(y_test, y_pred))"
   ]
  },
  {
   "cell_type": "markdown",
   "id": "a9bf1967",
   "metadata": {},
   "source": [
    "Guassian Naive Bays Classifier"
   ]
  },
  {
   "cell_type": "code",
   "execution_count": 31,
   "id": "ae81d51f",
   "metadata": {},
   "outputs": [],
   "source": [
    "x_train, x_test, y_train, y_test = train_test_split(X, Y, test_size=.25, random_state=50)"
   ]
  },
  {
   "cell_type": "code",
   "execution_count": 32,
   "id": "561ebd0e",
   "metadata": {},
   "outputs": [],
   "source": [
    "from sklearn.naive_bayes import GaussianNB\n",
    "from sklearn.metrics import accuracy_score\n",
    "from sklearn.model_selection import train_test_split\n",
    "import numpy as np"
   ]
  },
  {
   "cell_type": "code",
   "execution_count": 33,
   "id": "43851bba",
   "metadata": {},
   "outputs": [
    {
     "data": {
      "text/html": [
       "<style>#sk-container-id-2 {color: black;background-color: white;}#sk-container-id-2 pre{padding: 0;}#sk-container-id-2 div.sk-toggleable {background-color: white;}#sk-container-id-2 label.sk-toggleable__label {cursor: pointer;display: block;width: 100%;margin-bottom: 0;padding: 0.3em;box-sizing: border-box;text-align: center;}#sk-container-id-2 label.sk-toggleable__label-arrow:before {content: \"▸\";float: left;margin-right: 0.25em;color: #696969;}#sk-container-id-2 label.sk-toggleable__label-arrow:hover:before {color: black;}#sk-container-id-2 div.sk-estimator:hover label.sk-toggleable__label-arrow:before {color: black;}#sk-container-id-2 div.sk-toggleable__content {max-height: 0;max-width: 0;overflow: hidden;text-align: left;background-color: #f0f8ff;}#sk-container-id-2 div.sk-toggleable__content pre {margin: 0.2em;color: black;border-radius: 0.25em;background-color: #f0f8ff;}#sk-container-id-2 input.sk-toggleable__control:checked~div.sk-toggleable__content {max-height: 200px;max-width: 100%;overflow: auto;}#sk-container-id-2 input.sk-toggleable__control:checked~label.sk-toggleable__label-arrow:before {content: \"▾\";}#sk-container-id-2 div.sk-estimator input.sk-toggleable__control:checked~label.sk-toggleable__label {background-color: #d4ebff;}#sk-container-id-2 div.sk-label input.sk-toggleable__control:checked~label.sk-toggleable__label {background-color: #d4ebff;}#sk-container-id-2 input.sk-hidden--visually {border: 0;clip: rect(1px 1px 1px 1px);clip: rect(1px, 1px, 1px, 1px);height: 1px;margin: -1px;overflow: hidden;padding: 0;position: absolute;width: 1px;}#sk-container-id-2 div.sk-estimator {font-family: monospace;background-color: #f0f8ff;border: 1px dotted black;border-radius: 0.25em;box-sizing: border-box;margin-bottom: 0.5em;}#sk-container-id-2 div.sk-estimator:hover {background-color: #d4ebff;}#sk-container-id-2 div.sk-parallel-item::after {content: \"\";width: 100%;border-bottom: 1px solid gray;flex-grow: 1;}#sk-container-id-2 div.sk-label:hover label.sk-toggleable__label {background-color: #d4ebff;}#sk-container-id-2 div.sk-serial::before {content: \"\";position: absolute;border-left: 1px solid gray;box-sizing: border-box;top: 0;bottom: 0;left: 50%;z-index: 0;}#sk-container-id-2 div.sk-serial {display: flex;flex-direction: column;align-items: center;background-color: white;padding-right: 0.2em;padding-left: 0.2em;position: relative;}#sk-container-id-2 div.sk-item {position: relative;z-index: 1;}#sk-container-id-2 div.sk-parallel {display: flex;align-items: stretch;justify-content: center;background-color: white;position: relative;}#sk-container-id-2 div.sk-item::before, #sk-container-id-2 div.sk-parallel-item::before {content: \"\";position: absolute;border-left: 1px solid gray;box-sizing: border-box;top: 0;bottom: 0;left: 50%;z-index: -1;}#sk-container-id-2 div.sk-parallel-item {display: flex;flex-direction: column;z-index: 1;position: relative;background-color: white;}#sk-container-id-2 div.sk-parallel-item:first-child::after {align-self: flex-end;width: 50%;}#sk-container-id-2 div.sk-parallel-item:last-child::after {align-self: flex-start;width: 50%;}#sk-container-id-2 div.sk-parallel-item:only-child::after {width: 0;}#sk-container-id-2 div.sk-dashed-wrapped {border: 1px dashed gray;margin: 0 0.4em 0.5em 0.4em;box-sizing: border-box;padding-bottom: 0.4em;background-color: white;}#sk-container-id-2 div.sk-label label {font-family: monospace;font-weight: bold;display: inline-block;line-height: 1.2em;}#sk-container-id-2 div.sk-label-container {text-align: center;}#sk-container-id-2 div.sk-container {/* jupyter's `normalize.less` sets `[hidden] { display: none; }` but bootstrap.min.css set `[hidden] { display: none !important; }` so we also need the `!important` here to be able to override the default hidden behavior on the sphinx rendered scikit-learn.org. See: https://github.com/scikit-learn/scikit-learn/issues/21755 */display: inline-block !important;position: relative;}#sk-container-id-2 div.sk-text-repr-fallback {display: none;}</style><div id=\"sk-container-id-2\" class=\"sk-top-container\"><div class=\"sk-text-repr-fallback\"><pre>GaussianNB()</pre><b>In a Jupyter environment, please rerun this cell to show the HTML representation or trust the notebook. <br />On GitHub, the HTML representation is unable to render, please try loading this page with nbviewer.org.</b></div><div class=\"sk-container\" hidden><div class=\"sk-item\"><div class=\"sk-estimator sk-toggleable\"><input class=\"sk-toggleable__control sk-hidden--visually\" id=\"sk-estimator-id-2\" type=\"checkbox\" checked><label for=\"sk-estimator-id-2\" class=\"sk-toggleable__label sk-toggleable__label-arrow\">GaussianNB</label><div class=\"sk-toggleable__content\"><pre>GaussianNB()</pre></div></div></div></div></div>"
      ],
      "text/plain": [
       "GaussianNB()"
      ]
     },
     "execution_count": 33,
     "metadata": {},
     "output_type": "execute_result"
    }
   ],
   "source": [
    "clf = GaussianNB()\n",
    "clf.fit(x_train, y_train.flatten())"
   ]
  },
  {
   "cell_type": "code",
   "execution_count": 34,
   "id": "4949cb82",
   "metadata": {},
   "outputs": [
    {
     "name": "stdout",
     "output_type": "stream",
     "text": [
      "Accuracy Score:  0.3410835789397082\n"
     ]
    }
   ],
   "source": [
    "predictions = clf.predict(x_test)\n",
    "print('Accuracy Score: ', accuracy_score(predictions, y_test))"
   ]
  },
  {
   "cell_type": "code",
   "execution_count": 35,
   "id": "798ea8f3",
   "metadata": {},
   "outputs": [
    {
     "name": "stdout",
     "output_type": "stream",
     "text": [
      "[[ 1595     3     5    11    22]\n",
      " [    1  1992   291    13  1974]\n",
      " [    4    24   827  3148 11358]\n",
      " [    0     2   122  1441  1120]\n",
      " [    0     8     3     0  3519]]\n"
     ]
    }
   ],
   "source": [
    "from sklearn.metrics import confusion_matrix \n",
    "cm = confusion_matrix(y_test, predictions) \n",
    "print(cm)"
   ]
  },
  {
   "cell_type": "code",
   "execution_count": 36,
   "id": "a43030af",
   "metadata": {},
   "outputs": [
    {
     "name": "stdout",
     "output_type": "stream",
     "text": [
      "                 precision    recall  f1-score   support\n",
      "\n",
      "        Dropcam       1.00      0.97      0.99      1636\n",
      "     NetatmoCam       0.98      0.47      0.63      4271\n",
      "SamsungSmartCam       0.66      0.05      0.10     15361\n",
      "      TPLinkCam       0.31      0.54      0.39      2685\n",
      "    WithingsCam       0.20      1.00      0.33      3530\n",
      "\n",
      "       accuracy                           0.34     27483\n",
      "      macro avg       0.63      0.61      0.49     27483\n",
      "   weighted avg       0.64      0.34      0.29     27483\n",
      "\n"
     ]
    }
   ],
   "source": [
    "from sklearn.metrics import classification_report\n",
    "print(classification_report(y_test, predictions))"
   ]
  },
  {
   "cell_type": "markdown",
   "id": "6dcc91e4",
   "metadata": {},
   "source": [
    "KNN Classifier"
   ]
  },
  {
   "cell_type": "code",
   "execution_count": 37,
   "id": "c6a47763",
   "metadata": {},
   "outputs": [],
   "source": [
    "from sklearn.model_selection import train_test_split\n",
    "X_train, X_test, y_train, y_test = train_test_split(X, Y, test_size = 0.25, random_state = 0)"
   ]
  },
  {
   "cell_type": "code",
   "execution_count": 38,
   "id": "a9cdd700",
   "metadata": {},
   "outputs": [],
   "source": [
    "from sklearn.preprocessing import StandardScaler\n",
    "sc = StandardScaler()\n",
    "X_train = sc.fit_transform(X_train)\n",
    "X_test = sc.transform(X_test) #avoid data leakage"
   ]
  },
  {
   "cell_type": "code",
   "execution_count": 39,
   "id": "7c022e66",
   "metadata": {},
   "outputs": [],
   "source": [
    "from math import sqrt\n",
    "class KNN():\n",
    "  def __init__(self,k):\n",
    "    self.k=k\n",
    "    print(self.k)\n",
    "  def fit(self,X_train,y_train):\n",
    "    self.x_train=X_train\n",
    "    self.y_train=y_train\n",
    "  def calculate_euclidean(self,sample1,sample2):\n",
    "    distance=0.0\n",
    "    for i in range(len(sample1)):\n",
    "      distance+=(sample1[i]-sample2[i])**2 #Euclidean Distance = sqrt(sum i to N (x1_i – x2_i)^2)\n",
    "    return sqrt(distance)\n",
    "  def nearest_neighbors(self,test_sample):\n",
    "    distances=[]#calculate distances from a test sample to every sample in a training set\n",
    "    for i in range(len(self.x_train)):\n",
    "      distances.append((self.y_train[i],self.calculate_euclidean(self.x_train[i],test_sample)))\n",
    "    distances.sort(key=lambda x:x[1])#sort in ascending order, based on a distance value\n",
    "    neighbors=[]\n",
    "    for i in range(self.k): #get first k samples\n",
    "      neighbors.append(distances[i][0])\n",
    "    return neighbors\n",
    "  def predict(self,test_set):\n",
    "    predictions=[]\n",
    "    for test_sample in test_set:\n",
    "      neighbors=self.nearest_neighbors(test_sample)\n",
    "      labels=[sample for sample in neighbors]\n",
    "      prediction=max(labels,key=labels.count)\n",
    "      predictions.append(prediction)\n",
    "    return predictions"
   ]
  },
  {
   "cell_type": "code",
   "execution_count": 40,
   "id": "6289606d",
   "metadata": {},
   "outputs": [
    {
     "name": "stdout",
     "output_type": "stream",
     "text": [
      "5\n"
     ]
    }
   ],
   "source": [
    "model=KNN(5) #our model\n",
    "model.fit(X_train,y_train)"
   ]
  },
  {
   "cell_type": "code",
   "execution_count": 41,
   "id": "95f45ab6",
   "metadata": {},
   "outputs": [
    {
     "data": {
      "text/html": [
       "<style>#sk-container-id-3 {color: black;background-color: white;}#sk-container-id-3 pre{padding: 0;}#sk-container-id-3 div.sk-toggleable {background-color: white;}#sk-container-id-3 label.sk-toggleable__label {cursor: pointer;display: block;width: 100%;margin-bottom: 0;padding: 0.3em;box-sizing: border-box;text-align: center;}#sk-container-id-3 label.sk-toggleable__label-arrow:before {content: \"▸\";float: left;margin-right: 0.25em;color: #696969;}#sk-container-id-3 label.sk-toggleable__label-arrow:hover:before {color: black;}#sk-container-id-3 div.sk-estimator:hover label.sk-toggleable__label-arrow:before {color: black;}#sk-container-id-3 div.sk-toggleable__content {max-height: 0;max-width: 0;overflow: hidden;text-align: left;background-color: #f0f8ff;}#sk-container-id-3 div.sk-toggleable__content pre {margin: 0.2em;color: black;border-radius: 0.25em;background-color: #f0f8ff;}#sk-container-id-3 input.sk-toggleable__control:checked~div.sk-toggleable__content {max-height: 200px;max-width: 100%;overflow: auto;}#sk-container-id-3 input.sk-toggleable__control:checked~label.sk-toggleable__label-arrow:before {content: \"▾\";}#sk-container-id-3 div.sk-estimator input.sk-toggleable__control:checked~label.sk-toggleable__label {background-color: #d4ebff;}#sk-container-id-3 div.sk-label input.sk-toggleable__control:checked~label.sk-toggleable__label {background-color: #d4ebff;}#sk-container-id-3 input.sk-hidden--visually {border: 0;clip: rect(1px 1px 1px 1px);clip: rect(1px, 1px, 1px, 1px);height: 1px;margin: -1px;overflow: hidden;padding: 0;position: absolute;width: 1px;}#sk-container-id-3 div.sk-estimator {font-family: monospace;background-color: #f0f8ff;border: 1px dotted black;border-radius: 0.25em;box-sizing: border-box;margin-bottom: 0.5em;}#sk-container-id-3 div.sk-estimator:hover {background-color: #d4ebff;}#sk-container-id-3 div.sk-parallel-item::after {content: \"\";width: 100%;border-bottom: 1px solid gray;flex-grow: 1;}#sk-container-id-3 div.sk-label:hover label.sk-toggleable__label {background-color: #d4ebff;}#sk-container-id-3 div.sk-serial::before {content: \"\";position: absolute;border-left: 1px solid gray;box-sizing: border-box;top: 0;bottom: 0;left: 50%;z-index: 0;}#sk-container-id-3 div.sk-serial {display: flex;flex-direction: column;align-items: center;background-color: white;padding-right: 0.2em;padding-left: 0.2em;position: relative;}#sk-container-id-3 div.sk-item {position: relative;z-index: 1;}#sk-container-id-3 div.sk-parallel {display: flex;align-items: stretch;justify-content: center;background-color: white;position: relative;}#sk-container-id-3 div.sk-item::before, #sk-container-id-3 div.sk-parallel-item::before {content: \"\";position: absolute;border-left: 1px solid gray;box-sizing: border-box;top: 0;bottom: 0;left: 50%;z-index: -1;}#sk-container-id-3 div.sk-parallel-item {display: flex;flex-direction: column;z-index: 1;position: relative;background-color: white;}#sk-container-id-3 div.sk-parallel-item:first-child::after {align-self: flex-end;width: 50%;}#sk-container-id-3 div.sk-parallel-item:last-child::after {align-self: flex-start;width: 50%;}#sk-container-id-3 div.sk-parallel-item:only-child::after {width: 0;}#sk-container-id-3 div.sk-dashed-wrapped {border: 1px dashed gray;margin: 0 0.4em 0.5em 0.4em;box-sizing: border-box;padding-bottom: 0.4em;background-color: white;}#sk-container-id-3 div.sk-label label {font-family: monospace;font-weight: bold;display: inline-block;line-height: 1.2em;}#sk-container-id-3 div.sk-label-container {text-align: center;}#sk-container-id-3 div.sk-container {/* jupyter's `normalize.less` sets `[hidden] { display: none; }` but bootstrap.min.css set `[hidden] { display: none !important; }` so we also need the `!important` here to be able to override the default hidden behavior on the sphinx rendered scikit-learn.org. See: https://github.com/scikit-learn/scikit-learn/issues/21755 */display: inline-block !important;position: relative;}#sk-container-id-3 div.sk-text-repr-fallback {display: none;}</style><div id=\"sk-container-id-3\" class=\"sk-top-container\"><div class=\"sk-text-repr-fallback\"><pre>KNeighborsClassifier()</pre><b>In a Jupyter environment, please rerun this cell to show the HTML representation or trust the notebook. <br />On GitHub, the HTML representation is unable to render, please try loading this page with nbviewer.org.</b></div><div class=\"sk-container\" hidden><div class=\"sk-item\"><div class=\"sk-estimator sk-toggleable\"><input class=\"sk-toggleable__control sk-hidden--visually\" id=\"sk-estimator-id-3\" type=\"checkbox\" checked><label for=\"sk-estimator-id-3\" class=\"sk-toggleable__label sk-toggleable__label-arrow\">KNeighborsClassifier</label><div class=\"sk-toggleable__content\"><pre>KNeighborsClassifier()</pre></div></div></div></div></div>"
      ],
      "text/plain": [
       "KNeighborsClassifier()"
      ]
     },
     "execution_count": 41,
     "metadata": {},
     "output_type": "execute_result"
    }
   ],
   "source": [
    "from sklearn.neighbors import KNeighborsClassifier\n",
    "classifier = KNeighborsClassifier(n_neighbors = 5, metric = 'minkowski', p = 2)#The default metric is minkowski, and with p=2 is equivalent to the standard Euclidean metric.\n",
    "classifier.fit(X_train, y_train)"
   ]
  },
  {
   "cell_type": "code",
   "execution_count": 42,
   "id": "c50d88d2",
   "metadata": {},
   "outputs": [],
   "source": [
    "y_pred = classifier.predict(X_test)"
   ]
  },
  {
   "cell_type": "code",
   "execution_count": 43,
   "id": "90141e4f",
   "metadata": {},
   "outputs": [
    {
     "name": "stdout",
     "output_type": "stream",
     "text": [
      "[[ 1621     6     9     1     0]\n",
      " [    0  4264    26     2     1]\n",
      " [   13    28 15339     3     1]\n",
      " [    6    14    10  2623     1]\n",
      " [    2     5     2     0  3506]]\n"
     ]
    },
    {
     "data": {
      "text/plain": [
       "0.9952698031510389"
      ]
     },
     "execution_count": 43,
     "metadata": {},
     "output_type": "execute_result"
    }
   ],
   "source": [
    "from sklearn.metrics import confusion_matrix, accuracy_score\n",
    "cm = confusion_matrix(y_test, y_pred)\n",
    "print(cm)\n",
    "accuracy_score(y_test, y_pred)"
   ]
  },
  {
   "cell_type": "code",
   "execution_count": 44,
   "id": "7c1c50ff",
   "metadata": {},
   "outputs": [
    {
     "name": "stdout",
     "output_type": "stream",
     "text": [
      "                 precision    recall  f1-score   support\n",
      "\n",
      "        Dropcam       0.99      0.99      0.99      1637\n",
      "     NetatmoCam       0.99      0.99      0.99      4293\n",
      "SamsungSmartCam       1.00      1.00      1.00     15384\n",
      "      TPLinkCam       1.00      0.99      0.99      2654\n",
      "    WithingsCam       1.00      1.00      1.00      3515\n",
      "\n",
      "       accuracy                           1.00     27483\n",
      "      macro avg       0.99      0.99      0.99     27483\n",
      "   weighted avg       1.00      1.00      1.00     27483\n",
      "\n"
     ]
    }
   ],
   "source": [
    "from sklearn.metrics import classification_report\n",
    "print(classification_report(y_test, y_pred))"
   ]
  },
  {
   "cell_type": "markdown",
   "id": "00e9e15d",
   "metadata": {},
   "source": [
    "Decision Tree Classifier"
   ]
  },
  {
   "cell_type": "code",
   "execution_count": 45,
   "id": "a70326da",
   "metadata": {},
   "outputs": [],
   "source": [
    "from sklearn.model_selection import train_test_split\n",
    "from sklearn.model_selection import cross_val_score\n",
    "from sklearn.tree import DecisionTreeClassifier"
   ]
  },
  {
   "cell_type": "code",
   "execution_count": 46,
   "id": "19baf0a6",
   "metadata": {},
   "outputs": [],
   "source": [
    "#max tree depth = 10\n",
    "depth = 11 #run the cells of 19, 20, 21 for the other values of depth -- to generate plot\n",
    "clf = DecisionTreeClassifier(max_depth = depth, random_state = 42)\n",
    "#scores = cross_val_score(clf, X, Y, cv=10)\n",
    "#print(scores)"
   ]
  },
  {
   "cell_type": "code",
   "execution_count": 47,
   "id": "f63e81a1",
   "metadata": {},
   "outputs": [],
   "source": [
    "score_list = cross_val_score(clf, X, Y, cv=10)"
   ]
  },
  {
   "cell_type": "code",
   "execution_count": 48,
   "id": "bb1f3813",
   "metadata": {},
   "outputs": [
    {
     "name": "stdout",
     "output_type": "stream",
     "text": [
      "score list:  [0.98444606 0.9859014  0.99536068 0.95569908 0.99254071 0.99335941\n",
      " 0.98817429 0.99608842 0.99581552 0.98635495]\n",
      "depth =  11  avg. score =  0.9873740530568339  std. score:  0.011354418802149864\n"
     ]
    }
   ],
   "source": [
    "print('score list: ', score_list)\n",
    "print('depth = ', depth, ' avg. score = ', np.average(score_list), ' std. score: ', np.std(score_list))"
   ]
  },
  {
   "cell_type": "code",
   "execution_count": 49,
   "id": "a223d340",
   "metadata": {},
   "outputs": [],
   "source": [
    "#create train and test set \n",
    "X_train, X_test, y_train, y_test = train_test_split(X, Y, test_size=0.33, random_state=42)"
   ]
  },
  {
   "cell_type": "code",
   "execution_count": 50,
   "id": "793c4d85",
   "metadata": {},
   "outputs": [
    {
     "data": {
      "text/html": [
       "<style>#sk-container-id-4 {color: black;background-color: white;}#sk-container-id-4 pre{padding: 0;}#sk-container-id-4 div.sk-toggleable {background-color: white;}#sk-container-id-4 label.sk-toggleable__label {cursor: pointer;display: block;width: 100%;margin-bottom: 0;padding: 0.3em;box-sizing: border-box;text-align: center;}#sk-container-id-4 label.sk-toggleable__label-arrow:before {content: \"▸\";float: left;margin-right: 0.25em;color: #696969;}#sk-container-id-4 label.sk-toggleable__label-arrow:hover:before {color: black;}#sk-container-id-4 div.sk-estimator:hover label.sk-toggleable__label-arrow:before {color: black;}#sk-container-id-4 div.sk-toggleable__content {max-height: 0;max-width: 0;overflow: hidden;text-align: left;background-color: #f0f8ff;}#sk-container-id-4 div.sk-toggleable__content pre {margin: 0.2em;color: black;border-radius: 0.25em;background-color: #f0f8ff;}#sk-container-id-4 input.sk-toggleable__control:checked~div.sk-toggleable__content {max-height: 200px;max-width: 100%;overflow: auto;}#sk-container-id-4 input.sk-toggleable__control:checked~label.sk-toggleable__label-arrow:before {content: \"▾\";}#sk-container-id-4 div.sk-estimator input.sk-toggleable__control:checked~label.sk-toggleable__label {background-color: #d4ebff;}#sk-container-id-4 div.sk-label input.sk-toggleable__control:checked~label.sk-toggleable__label {background-color: #d4ebff;}#sk-container-id-4 input.sk-hidden--visually {border: 0;clip: rect(1px 1px 1px 1px);clip: rect(1px, 1px, 1px, 1px);height: 1px;margin: -1px;overflow: hidden;padding: 0;position: absolute;width: 1px;}#sk-container-id-4 div.sk-estimator {font-family: monospace;background-color: #f0f8ff;border: 1px dotted black;border-radius: 0.25em;box-sizing: border-box;margin-bottom: 0.5em;}#sk-container-id-4 div.sk-estimator:hover {background-color: #d4ebff;}#sk-container-id-4 div.sk-parallel-item::after {content: \"\";width: 100%;border-bottom: 1px solid gray;flex-grow: 1;}#sk-container-id-4 div.sk-label:hover label.sk-toggleable__label {background-color: #d4ebff;}#sk-container-id-4 div.sk-serial::before {content: \"\";position: absolute;border-left: 1px solid gray;box-sizing: border-box;top: 0;bottom: 0;left: 50%;z-index: 0;}#sk-container-id-4 div.sk-serial {display: flex;flex-direction: column;align-items: center;background-color: white;padding-right: 0.2em;padding-left: 0.2em;position: relative;}#sk-container-id-4 div.sk-item {position: relative;z-index: 1;}#sk-container-id-4 div.sk-parallel {display: flex;align-items: stretch;justify-content: center;background-color: white;position: relative;}#sk-container-id-4 div.sk-item::before, #sk-container-id-4 div.sk-parallel-item::before {content: \"\";position: absolute;border-left: 1px solid gray;box-sizing: border-box;top: 0;bottom: 0;left: 50%;z-index: -1;}#sk-container-id-4 div.sk-parallel-item {display: flex;flex-direction: column;z-index: 1;position: relative;background-color: white;}#sk-container-id-4 div.sk-parallel-item:first-child::after {align-self: flex-end;width: 50%;}#sk-container-id-4 div.sk-parallel-item:last-child::after {align-self: flex-start;width: 50%;}#sk-container-id-4 div.sk-parallel-item:only-child::after {width: 0;}#sk-container-id-4 div.sk-dashed-wrapped {border: 1px dashed gray;margin: 0 0.4em 0.5em 0.4em;box-sizing: border-box;padding-bottom: 0.4em;background-color: white;}#sk-container-id-4 div.sk-label label {font-family: monospace;font-weight: bold;display: inline-block;line-height: 1.2em;}#sk-container-id-4 div.sk-label-container {text-align: center;}#sk-container-id-4 div.sk-container {/* jupyter's `normalize.less` sets `[hidden] { display: none; }` but bootstrap.min.css set `[hidden] { display: none !important; }` so we also need the `!important` here to be able to override the default hidden behavior on the sphinx rendered scikit-learn.org. See: https://github.com/scikit-learn/scikit-learn/issues/21755 */display: inline-block !important;position: relative;}#sk-container-id-4 div.sk-text-repr-fallback {display: none;}</style><div id=\"sk-container-id-4\" class=\"sk-top-container\"><div class=\"sk-text-repr-fallback\"><pre>DecisionTreeClassifier(max_depth=11, random_state=42)</pre><b>In a Jupyter environment, please rerun this cell to show the HTML representation or trust the notebook. <br />On GitHub, the HTML representation is unable to render, please try loading this page with nbviewer.org.</b></div><div class=\"sk-container\" hidden><div class=\"sk-item\"><div class=\"sk-estimator sk-toggleable\"><input class=\"sk-toggleable__control sk-hidden--visually\" id=\"sk-estimator-id-4\" type=\"checkbox\" checked><label for=\"sk-estimator-id-4\" class=\"sk-toggleable__label sk-toggleable__label-arrow\">DecisionTreeClassifier</label><div class=\"sk-toggleable__content\"><pre>DecisionTreeClassifier(max_depth=11, random_state=42)</pre></div></div></div></div></div>"
      ],
      "text/plain": [
       "DecisionTreeClassifier(max_depth=11, random_state=42)"
      ]
     },
     "execution_count": 50,
     "metadata": {},
     "output_type": "execute_result"
    }
   ],
   "source": [
    "depth = 11 #take final depth from above analysis\n",
    "clf = DecisionTreeClassifier(max_depth = depth, random_state = 42)\n",
    "clf.fit(X_train, y_train)"
   ]
  },
  {
   "cell_type": "code",
   "execution_count": 51,
   "id": "0238fc7b",
   "metadata": {},
   "outputs": [],
   "source": [
    "test_pred_decision_tree = clf.predict(X_test)"
   ]
  },
  {
   "cell_type": "code",
   "execution_count": 52,
   "id": "d26f0345",
   "metadata": {},
   "outputs": [
    {
     "name": "stdout",
     "output_type": "stream",
     "text": [
      "[[ 2111    10    20     1     1]\n",
      " [    1  5559    90    16     2]\n",
      " [    5    17 20394    14     5]\n",
      " [    1     9    11  3406     2]\n",
      " [    0    11    12     0  4580]]\n"
     ]
    }
   ],
   "source": [
    "confusion_matrix = metrics.confusion_matrix(y_test, test_pred_decision_tree)\n",
    "print(confusion_matrix)"
   ]
  },
  {
   "cell_type": "code",
   "execution_count": 53,
   "id": "1a79ca7d",
   "metadata": {},
   "outputs": [
    {
     "name": "stdout",
     "output_type": "stream",
     "text": [
      "accuracy =  0.9937151992943382  precision:  [0.996695   0.99161613 0.99352073 0.99098051 0.99782135]  recall:  [0.98506766 0.98076923 0.99799364 0.99329251 0.99500326]   f1:  [0.99084722 0.98616285 0.99575216 0.99213516 0.99641031]\n"
     ]
    }
   ],
   "source": [
    "accuracy = metrics.accuracy_score(y_test, test_pred_decision_tree)\n",
    "precision = metrics.precision_score(y_test, test_pred_decision_tree, average=None)\n",
    "recall = metrics.recall_score(y_test, test_pred_decision_tree, average =None)\n",
    "f1 = metrics.f1_score(y_test, test_pred_decision_tree, average=None)\n",
    "\n",
    "print('accuracy = ', accuracy, ' precision: ', precision, ' recall: ', recall, '  f1: ',f1)"
   ]
  },
  {
   "cell_type": "markdown",
   "id": "6acb8783",
   "metadata": {},
   "source": [
    "LKSVM Classifier"
   ]
  },
  {
   "cell_type": "code",
   "execution_count": 54,
   "id": "af218eb5",
   "metadata": {},
   "outputs": [
    {
     "name": "stdout",
     "output_type": "stream",
     "text": [
      "Accuracy: 0.9674344140013826\n"
     ]
    }
   ],
   "source": [
    "from sklearn.svm import SVC\n",
    "from sklearn import metrics\n",
    "from sklearn.model_selection import train_test_split\n",
    "from sklearn.preprocessing import StandardScaler\n",
    "import pandas as pd\n",
    "\n",
    "# Load the dataset\n",
    "icam = pd.read_csv('D:/Springer_IJIS/ML_code_output/ProcessedNPrunnedAllCombination_UNSW_LKSVM.csv') #UNSW dataset\n",
    "\n",
    "# Splitting the data into features and labels\n",
    "X = icam.iloc[:, :-1]\n",
    "y = icam.iloc[:, -1]\n",
    "\n",
    "# Scaling the features\n",
    "scaler = StandardScaler()\n",
    "X = scaler.fit_transform(X)\n",
    "\n",
    "# Splitting the data into training and test sets\n",
    "X_train, X_test, y_train, y_test = train_test_split(X, y, test_size=0.25, random_state=109)\n",
    "\n",
    "# Create a svm Classifier\n",
    "clf = SVC(kernel='linear') \n",
    "\n",
    "# Train the model using the training sets\n",
    "clf.fit(X_train, y_train)\n",
    "\n",
    "# Predict the response for test dataset\n",
    "y_pred = clf.predict(X_test)\n",
    "\n",
    "# Model Accuracy: how often is the classifier correct?\n",
    "print(\"Accuracy:\",metrics.accuracy_score(y_test, y_pred))"
   ]
  },
  {
   "cell_type": "markdown",
   "id": "b3777225",
   "metadata": {},
   "source": [
    "Random Forest Classifier"
   ]
  },
  {
   "cell_type": "code",
   "execution_count": 55,
   "id": "28b6434c",
   "metadata": {},
   "outputs": [],
   "source": [
    "# split data into training and testing sets\n",
    "\n",
    "from sklearn.model_selection import train_test_split\n",
    "X_train, X_test, y_train, y_test = train_test_split(X, Y, test_size = 0.33, random_state = 42)"
   ]
  },
  {
   "cell_type": "code",
   "execution_count": 56,
   "id": "6e3f8817",
   "metadata": {},
   "outputs": [
    {
     "data": {
      "text/plain": [
       "((73654, 62), (36278, 62))"
      ]
     },
     "execution_count": 56,
     "metadata": {},
     "output_type": "execute_result"
    }
   ],
   "source": [
    "# check the shape of X_train and X_test\n",
    "X_train.shape, X_test.shape"
   ]
  },
  {
   "cell_type": "code",
   "execution_count": 57,
   "id": "4901d419",
   "metadata": {},
   "outputs": [],
   "source": [
    "#from sklearn.preprocessing import CategoricalEncoder\n",
    "import category_encoders as ce"
   ]
  },
  {
   "cell_type": "code",
   "execution_count": 58,
   "id": "13e2f178",
   "metadata": {},
   "outputs": [],
   "source": [
    "# encode categorical variables with ordinal encoding\n",
    "\n",
    "encoder = ce.OrdinalEncoder(cols=[])\n",
    "X_train = encoder.fit_transform(X_train)\n",
    "X_test = encoder.transform(X_test)"
   ]
  },
  {
   "cell_type": "code",
   "execution_count": 59,
   "id": "c526d8cb",
   "metadata": {},
   "outputs": [
    {
     "name": "stdout",
     "output_type": "stream",
     "text": [
      "Model accuracy score with 10 decision-trees : 0.9972\n"
     ]
    }
   ],
   "source": [
    "# import Random Forest classifier\n",
    "\n",
    "from sklearn.ensemble import RandomForestClassifier\n",
    "from sklearn.metrics import accuracy_score\n",
    "\n",
    "# instantiate the classifier \n",
    "rfc = RandomForestClassifier(random_state=0)\n",
    "\n",
    "# fit the model\n",
    "rfc.fit(X_train, y_train)\n",
    "\n",
    "# Predict the Test set results\n",
    "y_pred = rfc.predict(X_test)\n",
    "\n",
    "# Check accuracy score \n",
    "print('Model accuracy score with 10 decision-trees : {0:0.4f}'. format(accuracy_score(y_test, y_pred)))\n",
    "#Model accuracy score with 10 decision-trees : 0.9247"
   ]
  },
  {
   "cell_type": "code",
   "execution_count": 60,
   "id": "e82ceec4",
   "metadata": {},
   "outputs": [
    {
     "name": "stdout",
     "output_type": "stream",
     "text": [
      "Model accuracy score with 100 decision-trees : 0.9972\n"
     ]
    }
   ],
   "source": [
    "# instantiate the classifier with n_estimators = 100\n",
    "rfc_100 = RandomForestClassifier(n_estimators=100, random_state=0)\n",
    "\n",
    "# fit the model to the training set\n",
    "rfc_100.fit(X_train, y_train)\n",
    "\n",
    "# Predict on the test set results\n",
    "y_pred_100 = rfc_100.predict(X_test)\n",
    "\n",
    "# Check accuracy score \n",
    "print('Model accuracy score with 100 decision-trees : {0:0.4f}'. format(accuracy_score(y_test, y_pred_100)))"
   ]
  },
  {
   "cell_type": "code",
   "execution_count": 61,
   "id": "e2e212e0",
   "metadata": {},
   "outputs": [
    {
     "data": {
      "text/html": [
       "<style>#sk-container-id-5 {color: black;background-color: white;}#sk-container-id-5 pre{padding: 0;}#sk-container-id-5 div.sk-toggleable {background-color: white;}#sk-container-id-5 label.sk-toggleable__label {cursor: pointer;display: block;width: 100%;margin-bottom: 0;padding: 0.3em;box-sizing: border-box;text-align: center;}#sk-container-id-5 label.sk-toggleable__label-arrow:before {content: \"▸\";float: left;margin-right: 0.25em;color: #696969;}#sk-container-id-5 label.sk-toggleable__label-arrow:hover:before {color: black;}#sk-container-id-5 div.sk-estimator:hover label.sk-toggleable__label-arrow:before {color: black;}#sk-container-id-5 div.sk-toggleable__content {max-height: 0;max-width: 0;overflow: hidden;text-align: left;background-color: #f0f8ff;}#sk-container-id-5 div.sk-toggleable__content pre {margin: 0.2em;color: black;border-radius: 0.25em;background-color: #f0f8ff;}#sk-container-id-5 input.sk-toggleable__control:checked~div.sk-toggleable__content {max-height: 200px;max-width: 100%;overflow: auto;}#sk-container-id-5 input.sk-toggleable__control:checked~label.sk-toggleable__label-arrow:before {content: \"▾\";}#sk-container-id-5 div.sk-estimator input.sk-toggleable__control:checked~label.sk-toggleable__label {background-color: #d4ebff;}#sk-container-id-5 div.sk-label input.sk-toggleable__control:checked~label.sk-toggleable__label {background-color: #d4ebff;}#sk-container-id-5 input.sk-hidden--visually {border: 0;clip: rect(1px 1px 1px 1px);clip: rect(1px, 1px, 1px, 1px);height: 1px;margin: -1px;overflow: hidden;padding: 0;position: absolute;width: 1px;}#sk-container-id-5 div.sk-estimator {font-family: monospace;background-color: #f0f8ff;border: 1px dotted black;border-radius: 0.25em;box-sizing: border-box;margin-bottom: 0.5em;}#sk-container-id-5 div.sk-estimator:hover {background-color: #d4ebff;}#sk-container-id-5 div.sk-parallel-item::after {content: \"\";width: 100%;border-bottom: 1px solid gray;flex-grow: 1;}#sk-container-id-5 div.sk-label:hover label.sk-toggleable__label {background-color: #d4ebff;}#sk-container-id-5 div.sk-serial::before {content: \"\";position: absolute;border-left: 1px solid gray;box-sizing: border-box;top: 0;bottom: 0;left: 50%;z-index: 0;}#sk-container-id-5 div.sk-serial {display: flex;flex-direction: column;align-items: center;background-color: white;padding-right: 0.2em;padding-left: 0.2em;position: relative;}#sk-container-id-5 div.sk-item {position: relative;z-index: 1;}#sk-container-id-5 div.sk-parallel {display: flex;align-items: stretch;justify-content: center;background-color: white;position: relative;}#sk-container-id-5 div.sk-item::before, #sk-container-id-5 div.sk-parallel-item::before {content: \"\";position: absolute;border-left: 1px solid gray;box-sizing: border-box;top: 0;bottom: 0;left: 50%;z-index: -1;}#sk-container-id-5 div.sk-parallel-item {display: flex;flex-direction: column;z-index: 1;position: relative;background-color: white;}#sk-container-id-5 div.sk-parallel-item:first-child::after {align-self: flex-end;width: 50%;}#sk-container-id-5 div.sk-parallel-item:last-child::after {align-self: flex-start;width: 50%;}#sk-container-id-5 div.sk-parallel-item:only-child::after {width: 0;}#sk-container-id-5 div.sk-dashed-wrapped {border: 1px dashed gray;margin: 0 0.4em 0.5em 0.4em;box-sizing: border-box;padding-bottom: 0.4em;background-color: white;}#sk-container-id-5 div.sk-label label {font-family: monospace;font-weight: bold;display: inline-block;line-height: 1.2em;}#sk-container-id-5 div.sk-label-container {text-align: center;}#sk-container-id-5 div.sk-container {/* jupyter's `normalize.less` sets `[hidden] { display: none; }` but bootstrap.min.css set `[hidden] { display: none !important; }` so we also need the `!important` here to be able to override the default hidden behavior on the sphinx rendered scikit-learn.org. See: https://github.com/scikit-learn/scikit-learn/issues/21755 */display: inline-block !important;position: relative;}#sk-container-id-5 div.sk-text-repr-fallback {display: none;}</style><div id=\"sk-container-id-5\" class=\"sk-top-container\"><div class=\"sk-text-repr-fallback\"><pre>RandomForestClassifier(random_state=0)</pre><b>In a Jupyter environment, please rerun this cell to show the HTML representation or trust the notebook. <br />On GitHub, the HTML representation is unable to render, please try loading this page with nbviewer.org.</b></div><div class=\"sk-container\" hidden><div class=\"sk-item\"><div class=\"sk-estimator sk-toggleable\"><input class=\"sk-toggleable__control sk-hidden--visually\" id=\"sk-estimator-id-5\" type=\"checkbox\" checked><label for=\"sk-estimator-id-5\" class=\"sk-toggleable__label sk-toggleable__label-arrow\">RandomForestClassifier</label><div class=\"sk-toggleable__content\"><pre>RandomForestClassifier(random_state=0)</pre></div></div></div></div></div>"
      ],
      "text/plain": [
       "RandomForestClassifier(random_state=0)"
      ]
     },
     "execution_count": 61,
     "metadata": {},
     "output_type": "execute_result"
    }
   ],
   "source": [
    "# create the classifier with n_estimators = 100\n",
    "clf = RandomForestClassifier(n_estimators=100, random_state=0)\n",
    "\n",
    "# fit the model to the training set\n",
    "clf.fit(X_train, y_train)"
   ]
  },
  {
   "cell_type": "code",
   "execution_count": 62,
   "id": "4cca0902",
   "metadata": {},
   "outputs": [
    {
     "name": "stdout",
     "output_type": "stream",
     "text": [
      "Confusion matrix\n",
      "\n",
      " [[ 2128     1    13     1     0]\n",
      " [    2  5625    37     2     2]\n",
      " [   10    17 20404     3     1]\n",
      " [    0     3     4  3422     0]\n",
      " [    0     1     3     0  4599]]\n"
     ]
    }
   ],
   "source": [
    "# Print the Confusion Matrix and slice it into four pieces\n",
    "\n",
    "from sklearn.metrics import confusion_matrix\n",
    "cm = confusion_matrix(y_test, y_pred)\n",
    "print('Confusion matrix\\n\\n', cm)\n"
   ]
  },
  {
   "cell_type": "markdown",
   "id": "0fe3d702",
   "metadata": {},
   "source": [
    "XGBoost Classifier"
   ]
  },
  {
   "cell_type": "code",
   "execution_count": 19,
   "id": "dae8677d",
   "metadata": {},
   "outputs": [
    {
     "name": "stdout",
     "output_type": "stream",
     "text": [
      "['0', 'NetatmoCam', 'SamsungSmartCam', 'TPLinkCam', 'WithingsCam']\n"
     ]
    }
   ],
   "source": [
    "ipcamDF['Label'].replace('Dropcam','0',inplace=True)\n",
    "#uniqueLabels = list(ipcamDF['Label'].unique())\n",
    "#print(uniqueLabels)\n",
    "print(list(ipcamDF['Label'].unique()))"
   ]
  },
  {
   "cell_type": "code",
   "execution_count": 20,
   "id": "e54ad87f",
   "metadata": {},
   "outputs": [
    {
     "name": "stdout",
     "output_type": "stream",
     "text": [
      "['0', '1', 'SamsungSmartCam', 'TPLinkCam', 'WithingsCam']\n"
     ]
    }
   ],
   "source": [
    "ipcamDF['Label'].replace('NetatmoCam','1',inplace=True)\n",
    "#uniqueLabels = list(ipcamDF['Label'].unique())\n",
    "#print(uniqueLabels)\n",
    "print(list(ipcamDF['Label'].unique()))"
   ]
  },
  {
   "cell_type": "code",
   "execution_count": 21,
   "id": "a3172135",
   "metadata": {},
   "outputs": [
    {
     "name": "stdout",
     "output_type": "stream",
     "text": [
      "['0', '1', '2', 'TPLinkCam', 'WithingsCam']\n"
     ]
    }
   ],
   "source": [
    "ipcamDF['Label'].replace('SamsungSmartCam','2',inplace=True)\n",
    "#uniqueLabels = list(ipcamDF['Label'].unique())\n",
    "#print(uniqueLabels)\n",
    "print(list(ipcamDF['Label'].unique()))"
   ]
  },
  {
   "cell_type": "code",
   "execution_count": 22,
   "id": "8e004a89",
   "metadata": {},
   "outputs": [
    {
     "name": "stdout",
     "output_type": "stream",
     "text": [
      "['0', '1', '2', '3', 'WithingsCam']\n"
     ]
    }
   ],
   "source": [
    "ipcamDF['Label'].replace('TPLinkCam','3',inplace=True)\n",
    "#uniqueLabels = list(ipcamDF['Label'].unique())\n",
    "#print(uniqueLabels)\n",
    "print(list(ipcamDF['Label'].unique()))"
   ]
  },
  {
   "cell_type": "code",
   "execution_count": 23,
   "id": "2427c6c0",
   "metadata": {},
   "outputs": [
    {
     "name": "stdout",
     "output_type": "stream",
     "text": [
      "['0', '1', '2', '3', '4']\n"
     ]
    }
   ],
   "source": [
    "ipcamDF['Label'].replace('WithingsCam','4',inplace=True)\n",
    "#uniqueLabels = list(ipcamDF['Label'].unique())\n",
    "#print(uniqueLabels)\n",
    "print(list(ipcamDF['Label'].unique()))"
   ]
  },
  {
   "cell_type": "code",
   "execution_count": 24,
   "id": "9492b966",
   "metadata": {},
   "outputs": [
    {
     "name": "stdout",
     "output_type": "stream",
     "text": [
      "(109932, 84)\n"
     ]
    }
   ],
   "source": [
    "######### creating master DF\n",
    "dfListAll = [ipcamDF]\n",
    "masterDF = pd.concat(dfListAll)\n",
    "print(masterDF.shape)"
   ]
  },
  {
   "cell_type": "code",
   "execution_count": 25,
   "id": "26b5183c",
   "metadata": {},
   "outputs": [
    {
     "name": "stdout",
     "output_type": "stream",
     "text": [
      "['0', '1', '2', '3', '4']\n"
     ]
    }
   ],
   "source": [
    "uniqueLabels = list(masterDF['Label'].unique())\n",
    "print(uniqueLabels)"
   ]
  },
  {
   "cell_type": "code",
   "execution_count": 26,
   "id": "dcb92128",
   "metadata": {},
   "outputs": [
    {
     "name": "stdout",
     "output_type": "stream",
     "text": [
      "pruneddata size:  (109932, 77)\n",
      "['Flow Duration', 'Tot Fwd Pkts', 'Tot Bwd Pkts', 'TotLen Fwd Pkts', 'TotLen Bwd Pkts', 'Fwd Pkt Len Max', 'Fwd Pkt Len Min', 'Fwd Pkt Len Mean', 'Fwd Pkt Len Std', 'Bwd Pkt Len Max', 'Bwd Pkt Len Min', 'Bwd Pkt Len Mean', 'Bwd Pkt Len Std', 'Flow Byts/s', 'Flow Pkts/s', 'Flow IAT Mean', 'Flow IAT Std', 'Flow IAT Max', 'Flow IAT Min', 'Fwd IAT Tot', 'Fwd IAT Mean', 'Fwd IAT Std', 'Fwd IAT Max', 'Fwd IAT Min', 'Bwd IAT Tot', 'Bwd IAT Mean', 'Bwd IAT Std', 'Bwd IAT Max', 'Bwd IAT Min', 'Fwd PSH Flags', 'Bwd PSH Flags', 'Fwd URG Flags', 'Bwd URG Flags', 'Fwd Header Len', 'Bwd Header Len', 'Fwd Pkts/s', 'Bwd Pkts/s', 'Pkt Len Min', 'Pkt Len Max', 'Pkt Len Mean', 'Pkt Len Std', 'Pkt Len Var', 'FIN Flag Cnt', 'SYN Flag Cnt', 'RST Flag Cnt', 'PSH Flag Cnt', 'ACK Flag Cnt', 'URG Flag Cnt', 'CWE Flag Count', 'ECE Flag Cnt', 'Down/Up Ratio', 'Pkt Size Avg', 'Fwd Seg Size Avg', 'Bwd Seg Size Avg', 'Fwd Byts/b Avg', 'Fwd Pkts/b Avg', 'Fwd Blk Rate Avg', 'Bwd Byts/b Avg', 'Bwd Pkts/b Avg', 'Bwd Blk Rate Avg', 'Subflow Fwd Pkts', 'Subflow Fwd Byts', 'Subflow Bwd Pkts', 'Subflow Bwd Byts', 'Init Fwd Win Byts', 'Init Bwd Win Byts', 'Fwd Act Data Pkts', 'Fwd Seg Size Min', 'Active Mean', 'Active Std', 'Active Max', 'Active Min', 'Idle Mean', 'Idle Std', 'Idle Max', 'Idle Min', 'Label']\n"
     ]
    }
   ],
   "source": [
    "#discard all those columns that helps in uniquely identifying a flow\n",
    "masterPruned = masterDF.iloc[:,np.arange(7,84)]\n",
    "print('pruneddata size: ', masterPruned.shape)\n",
    "ftList = list(masterPruned.columns)\n",
    "print(ftList)"
   ]
  },
  {
   "cell_type": "code",
   "execution_count": 27,
   "id": "a84e8192",
   "metadata": {},
   "outputs": [
    {
     "data": {
      "text/plain": [
       "(109932, 77)"
      ]
     },
     "execution_count": 27,
     "metadata": {},
     "output_type": "execute_result"
    }
   ],
   "source": [
    "#discard those flows that has 0 flow duration\n",
    "masterSelected = masterPruned.drop(masterPruned[masterPruned['Flow Duration']==0].index)\n",
    "masterSelected.shape"
   ]
  },
  {
   "cell_type": "code",
   "execution_count": 28,
   "id": "96227592",
   "metadata": {},
   "outputs": [
    {
     "name": "stdout",
     "output_type": "stream",
     "text": [
      "[]\n"
     ]
    }
   ],
   "source": [
    "#identify those columns that has non-numeric values\n",
    "typesList = masterSelected.dtypes\n",
    "ftCount = len(ftList)\n",
    "nonNumericFtList = list()\n",
    "for fi in range(ftCount):\n",
    "    if ftList[fi] != 'Label' and typesList[fi] != 'int64' and typesList[fi] != 'float64':\n",
    "        print(ftList[fi], '  ', typesList[fi])\n",
    "        nonNumericFtList.append(ftList[fi])\n",
    "print(nonNumericFtList)"
   ]
  },
  {
   "cell_type": "code",
   "execution_count": 29,
   "id": "de8e16a4",
   "metadata": {},
   "outputs": [],
   "source": [
    "for ft in nonNumericFtList:\n",
    "    masterSelected[ft] = pd.to_numeric(masterSelected[ft], errors='coerce')"
   ]
  },
  {
   "cell_type": "code",
   "execution_count": 30,
   "id": "7273d5e0",
   "metadata": {},
   "outputs": [
    {
     "name": "stdout",
     "output_type": "stream",
     "text": [
      "[]\n"
     ]
    }
   ],
   "source": [
    "print(nonNumericFtList)\n",
    "for ft in nonNumericFtList:\n",
    "    countNaN = masterSelected[ft].isna().sum()\n",
    "    print('converted to numeric ft: ', ft, '  countNaN: ', countNaN)"
   ]
  },
  {
   "cell_type": "code",
   "execution_count": 31,
   "id": "77f4bac0",
   "metadata": {},
   "outputs": [
    {
     "name": "stdout",
     "output_type": "stream",
     "text": [
      "count inf:  0\n"
     ]
    }
   ],
   "source": [
    "number_inf = masterSelected[masterSelected == np.inf].count().sum()\n",
    "print('count inf: ',number_inf)"
   ]
  },
  {
   "cell_type": "code",
   "execution_count": 32,
   "id": "79abf391",
   "metadata": {},
   "outputs": [
    {
     "name": "stdout",
     "output_type": "stream",
     "text": [
      "[]\n"
     ]
    }
   ],
   "source": [
    "typesList = masterSelected.dtypes\n",
    "ftCount = len(ftList)\n",
    "nonNumericFtList = list()\n",
    "for fi in range(ftCount):\n",
    "    if ftList[fi] != 'Label' and typesList[fi] != 'int64' and typesList[fi] != 'float64':\n",
    "        print(ftList[fi], '  ', typesList[fi])\n",
    "        nonNumericFtList.append(ftList[fi])\n",
    "print(nonNumericFtList)"
   ]
  },
  {
   "cell_type": "code",
   "execution_count": 33,
   "id": "3a28b77f",
   "metadata": {},
   "outputs": [
    {
     "name": "stdout",
     "output_type": "stream",
     "text": [
      "count:  1  ft:  Fwd PSH Flags  ftmin:  0  ftMax:  0\n",
      "count:  2  ft:  Fwd URG Flags  ftmin:  0  ftMax:  0\n",
      "count:  3  ft:  Bwd URG Flags  ftmin:  0  ftMax:  0\n",
      "count:  4  ft:  URG Flag Cnt  ftmin:  0  ftMax:  0\n",
      "count:  5  ft:  CWE Flag Count  ftmin:  0  ftMax:  0\n",
      "count:  6  ft:  ECE Flag Cnt  ftmin:  0  ftMax:  0\n",
      "count:  7  ft:  Fwd Byts/b Avg  ftmin:  0  ftMax:  0\n",
      "count:  8  ft:  Fwd Pkts/b Avg  ftmin:  0  ftMax:  0\n",
      "count:  9  ft:  Fwd Blk Rate Avg  ftmin:  0  ftMax:  0\n",
      "count:  10  ft:  Bwd Byts/b Avg  ftmin:  0  ftMax:  0\n",
      "count:  11  ft:  Bwd Pkts/b Avg  ftmin:  0  ftMax:  0\n",
      "count:  12  ft:  Bwd Blk Rate Avg  ftmin:  0  ftMax:  0\n",
      "count:  13  ft:  Init Fwd Win Byts  ftmin:  -1  ftMax:  -1\n",
      "count:  14  ft:  Fwd Seg Size Min  ftmin:  0  ftMax:  0\n",
      "['Fwd PSH Flags', 'Fwd URG Flags', 'Bwd URG Flags', 'URG Flag Cnt', 'CWE Flag Count', 'ECE Flag Cnt', 'Fwd Byts/b Avg', 'Fwd Pkts/b Avg', 'Fwd Blk Rate Avg', 'Bwd Byts/b Avg', 'Bwd Pkts/b Avg', 'Bwd Blk Rate Avg', 'Init Fwd Win Byts', 'Fwd Seg Size Min']\n"
     ]
    }
   ],
   "source": [
    "#identify those columns that has 0 std\n",
    "count = 0\n",
    "staticFtList = list()\n",
    "for ft in ftList:\n",
    "    if ft == 'Label':\n",
    "        continue\n",
    "    #print('ft : ', ft)\n",
    "    ftMin = masterSelected[ft].min()\n",
    "    ftMax = masterSelected[ft].max()\n",
    "    #std = masterPruned[ft].std()\n",
    "    \n",
    "    if ftMin == ftMax:\n",
    "        count += 1\n",
    "        print('count: ', count, ' ft: ', ft, ' ftmin: ', ftMin, ' ftMax: ', ftMax)\n",
    "        staticFtList.append(ft)\n",
    "print(staticFtList)"
   ]
  },
  {
   "cell_type": "code",
   "execution_count": 34,
   "id": "acfa6645",
   "metadata": {},
   "outputs": [
    {
     "name": "stdout",
     "output_type": "stream",
     "text": [
      "before droping column:  (109932, 77)\n",
      "after droping column:  (109932, 63)\n"
     ]
    }
   ],
   "source": [
    "#remove those columns that have 0 std\n",
    "print('before droping column: ', masterSelected.shape)\n",
    "for ft in staticFtList:\n",
    "    masterSelected.drop([ft], axis=1,inplace=True)\n",
    "print('after droping column: ', masterSelected.shape)    "
   ]
  },
  {
   "cell_type": "code",
   "execution_count": 35,
   "id": "484b8882",
   "metadata": {},
   "outputs": [
    {
     "name": "stdout",
     "output_type": "stream",
     "text": [
      "63\n",
      "['Flow Duration', 'Tot Fwd Pkts', 'Tot Bwd Pkts', 'TotLen Fwd Pkts', 'TotLen Bwd Pkts', 'Fwd Pkt Len Max', 'Fwd Pkt Len Min', 'Fwd Pkt Len Mean', 'Fwd Pkt Len Std', 'Bwd Pkt Len Max', 'Bwd Pkt Len Min', 'Bwd Pkt Len Mean', 'Bwd Pkt Len Std', 'Flow Byts/s', 'Flow Pkts/s', 'Flow IAT Mean', 'Flow IAT Std', 'Flow IAT Max', 'Flow IAT Min', 'Fwd IAT Tot', 'Fwd IAT Mean', 'Fwd IAT Std', 'Fwd IAT Max', 'Fwd IAT Min', 'Bwd IAT Tot', 'Bwd IAT Mean', 'Bwd IAT Std', 'Bwd IAT Max', 'Bwd IAT Min', 'Bwd PSH Flags', 'Fwd Header Len', 'Bwd Header Len', 'Fwd Pkts/s', 'Bwd Pkts/s', 'Pkt Len Min', 'Pkt Len Max', 'Pkt Len Mean', 'Pkt Len Std', 'Pkt Len Var', 'FIN Flag Cnt', 'SYN Flag Cnt', 'RST Flag Cnt', 'PSH Flag Cnt', 'ACK Flag Cnt', 'Down/Up Ratio', 'Pkt Size Avg', 'Fwd Seg Size Avg', 'Bwd Seg Size Avg', 'Subflow Fwd Pkts', 'Subflow Fwd Byts', 'Subflow Bwd Pkts', 'Subflow Bwd Byts', 'Init Bwd Win Byts', 'Fwd Act Data Pkts', 'Active Mean', 'Active Std', 'Active Max', 'Active Min', 'Idle Mean', 'Idle Std', 'Idle Max', 'Idle Min', 'Label']\n"
     ]
    }
   ],
   "source": [
    "xCount = masterSelected.shape[1]\n",
    "print(xCount)\n",
    "finalFtList = list(masterSelected.columns)\n",
    "print(finalFtList)"
   ]
  },
  {
   "cell_type": "code",
   "execution_count": 36,
   "id": "2e240402",
   "metadata": {},
   "outputs": [],
   "source": [
    "#report intermediate data frame to a csv\n",
    "masterSelected.to_csv('C:/Users/Priyanka/Desktop/iCamInspector_GithubRepository/Code/ProcessedNPrunnedAllCombination_UNSW_XGBoost.csv', index = False)"
   ]
  },
  {
   "cell_type": "code",
   "execution_count": 37,
   "id": "f32d4d2e",
   "metadata": {},
   "outputs": [],
   "source": [
    "import pandas as pd\n",
    "masterSelected=pd.read_csv('C:/Users/Priyanka/Desktop/iCamInspector_GithubRepository/Code/ProcessedNPrunnedAllCombination_UNSW_XGBoost.csv')"
   ]
  },
  {
   "cell_type": "code",
   "execution_count": 38,
   "id": "ecfc21e0",
   "metadata": {},
   "outputs": [
    {
     "name": "stdout",
     "output_type": "stream",
     "text": [
      "[0, 1, 2, 3, 4]\n"
     ]
    }
   ],
   "source": [
    "print(list(masterSelected['Label'].unique()))"
   ]
  },
  {
   "cell_type": "code",
   "execution_count": 39,
   "id": "7c0b88e8",
   "metadata": {},
   "outputs": [
    {
     "name": "stdout",
     "output_type": "stream",
     "text": [
      "Xshape:  (109932, 62)\n",
      "Yshape:  (109932,)\n"
     ]
    }
   ],
   "source": [
    "#classification with all the features\n",
    "masterDS = masterSelected.values\n",
    "X = masterDS[:,:-1]\n",
    "Y = masterDS[:,-1]\n",
    "print(\"Xshape: \", X.shape)\n",
    "print(\"Yshape: \", Y.shape)"
   ]
  },
  {
   "cell_type": "code",
   "execution_count": 40,
   "id": "e0964f89",
   "metadata": {},
   "outputs": [
    {
     "name": "stdout",
     "output_type": "stream",
     "text": [
      "(82449,)\n"
     ]
    }
   ],
   "source": [
    "from sklearn.model_selection import train_test_split\n",
    "\n",
    "X_train, X_test, y_train, y_test = train_test_split(X, Y, test_size = 0.25, random_state = 0)\n",
    "#y_train_xgb = y_train.map({\"IPCam\": 0, \"Other\":1, \"VConf\":2, \"VShare\": 3})\n",
    "#X_train, X_test, y_train, y_test = train_test_split(X, Y, Label, test_size=test_size, stratify = labels)\n",
    "\n",
    "#xgb = XGBClassifier(n_estimators = 400, learning_rate = 0.1, max_depth = 3)\n",
    "#xgb.fit(X_train.values, y_train)\n",
    "\n",
    "from sklearn.preprocessing import LabelEncoder\n",
    "le = LabelEncoder()\n",
    "y_train = le.fit_transform(y_train)\n",
    "print(y_train.shape)"
   ]
  },
  {
   "cell_type": "code",
   "execution_count": 41,
   "id": "681692b6",
   "metadata": {},
   "outputs": [
    {
     "data": {
      "text/html": [
       "<style>#sk-container-id-1 {color: black;background-color: white;}#sk-container-id-1 pre{padding: 0;}#sk-container-id-1 div.sk-toggleable {background-color: white;}#sk-container-id-1 label.sk-toggleable__label {cursor: pointer;display: block;width: 100%;margin-bottom: 0;padding: 0.3em;box-sizing: border-box;text-align: center;}#sk-container-id-1 label.sk-toggleable__label-arrow:before {content: \"▸\";float: left;margin-right: 0.25em;color: #696969;}#sk-container-id-1 label.sk-toggleable__label-arrow:hover:before {color: black;}#sk-container-id-1 div.sk-estimator:hover label.sk-toggleable__label-arrow:before {color: black;}#sk-container-id-1 div.sk-toggleable__content {max-height: 0;max-width: 0;overflow: hidden;text-align: left;background-color: #f0f8ff;}#sk-container-id-1 div.sk-toggleable__content pre {margin: 0.2em;color: black;border-radius: 0.25em;background-color: #f0f8ff;}#sk-container-id-1 input.sk-toggleable__control:checked~div.sk-toggleable__content {max-height: 200px;max-width: 100%;overflow: auto;}#sk-container-id-1 input.sk-toggleable__control:checked~label.sk-toggleable__label-arrow:before {content: \"▾\";}#sk-container-id-1 div.sk-estimator input.sk-toggleable__control:checked~label.sk-toggleable__label {background-color: #d4ebff;}#sk-container-id-1 div.sk-label input.sk-toggleable__control:checked~label.sk-toggleable__label {background-color: #d4ebff;}#sk-container-id-1 input.sk-hidden--visually {border: 0;clip: rect(1px 1px 1px 1px);clip: rect(1px, 1px, 1px, 1px);height: 1px;margin: -1px;overflow: hidden;padding: 0;position: absolute;width: 1px;}#sk-container-id-1 div.sk-estimator {font-family: monospace;background-color: #f0f8ff;border: 1px dotted black;border-radius: 0.25em;box-sizing: border-box;margin-bottom: 0.5em;}#sk-container-id-1 div.sk-estimator:hover {background-color: #d4ebff;}#sk-container-id-1 div.sk-parallel-item::after {content: \"\";width: 100%;border-bottom: 1px solid gray;flex-grow: 1;}#sk-container-id-1 div.sk-label:hover label.sk-toggleable__label {background-color: #d4ebff;}#sk-container-id-1 div.sk-serial::before {content: \"\";position: absolute;border-left: 1px solid gray;box-sizing: border-box;top: 0;bottom: 0;left: 50%;z-index: 0;}#sk-container-id-1 div.sk-serial {display: flex;flex-direction: column;align-items: center;background-color: white;padding-right: 0.2em;padding-left: 0.2em;position: relative;}#sk-container-id-1 div.sk-item {position: relative;z-index: 1;}#sk-container-id-1 div.sk-parallel {display: flex;align-items: stretch;justify-content: center;background-color: white;position: relative;}#sk-container-id-1 div.sk-item::before, #sk-container-id-1 div.sk-parallel-item::before {content: \"\";position: absolute;border-left: 1px solid gray;box-sizing: border-box;top: 0;bottom: 0;left: 50%;z-index: -1;}#sk-container-id-1 div.sk-parallel-item {display: flex;flex-direction: column;z-index: 1;position: relative;background-color: white;}#sk-container-id-1 div.sk-parallel-item:first-child::after {align-self: flex-end;width: 50%;}#sk-container-id-1 div.sk-parallel-item:last-child::after {align-self: flex-start;width: 50%;}#sk-container-id-1 div.sk-parallel-item:only-child::after {width: 0;}#sk-container-id-1 div.sk-dashed-wrapped {border: 1px dashed gray;margin: 0 0.4em 0.5em 0.4em;box-sizing: border-box;padding-bottom: 0.4em;background-color: white;}#sk-container-id-1 div.sk-label label {font-family: monospace;font-weight: bold;display: inline-block;line-height: 1.2em;}#sk-container-id-1 div.sk-label-container {text-align: center;}#sk-container-id-1 div.sk-container {/* jupyter's `normalize.less` sets `[hidden] { display: none; }` but bootstrap.min.css set `[hidden] { display: none !important; }` so we also need the `!important` here to be able to override the default hidden behavior on the sphinx rendered scikit-learn.org. See: https://github.com/scikit-learn/scikit-learn/issues/21755 */display: inline-block !important;position: relative;}#sk-container-id-1 div.sk-text-repr-fallback {display: none;}</style><div id=\"sk-container-id-1\" class=\"sk-top-container\"><div class=\"sk-text-repr-fallback\"><pre>XGBClassifier(base_score=None, booster=None, callbacks=None,\n",
       "              colsample_bylevel=None, colsample_bynode=None,\n",
       "              colsample_bytree=None, device=None, early_stopping_rounds=None,\n",
       "              enable_categorical=False, eval_metric=None, feature_types=None,\n",
       "              gamma=None, grow_policy=None, importance_type=None,\n",
       "              interaction_constraints=None, learning_rate=1.0, max_bin=None,\n",
       "              max_cat_threshold=None, max_cat_to_onehot=None,\n",
       "              max_delta_step=None, max_depth=4, max_leaves=None,\n",
       "              min_child_weight=None, missing=nan, monotone_constraints=None,\n",
       "              multi_strategy=None, n_estimators=250, n_jobs=None,\n",
       "              num_parallel_tree=None, objective=&#x27;multi:softprob&#x27;, ...)</pre><b>In a Jupyter environment, please rerun this cell to show the HTML representation or trust the notebook. <br />On GitHub, the HTML representation is unable to render, please try loading this page with nbviewer.org.</b></div><div class=\"sk-container\" hidden><div class=\"sk-item\"><div class=\"sk-estimator sk-toggleable\"><input class=\"sk-toggleable__control sk-hidden--visually\" id=\"sk-estimator-id-1\" type=\"checkbox\" checked><label for=\"sk-estimator-id-1\" class=\"sk-toggleable__label sk-toggleable__label-arrow\">XGBClassifier</label><div class=\"sk-toggleable__content\"><pre>XGBClassifier(base_score=None, booster=None, callbacks=None,\n",
       "              colsample_bylevel=None, colsample_bynode=None,\n",
       "              colsample_bytree=None, device=None, early_stopping_rounds=None,\n",
       "              enable_categorical=False, eval_metric=None, feature_types=None,\n",
       "              gamma=None, grow_policy=None, importance_type=None,\n",
       "              interaction_constraints=None, learning_rate=1.0, max_bin=None,\n",
       "              max_cat_threshold=None, max_cat_to_onehot=None,\n",
       "              max_delta_step=None, max_depth=4, max_leaves=None,\n",
       "              min_child_weight=None, missing=nan, monotone_constraints=None,\n",
       "              multi_strategy=None, n_estimators=250, n_jobs=None,\n",
       "              num_parallel_tree=None, objective=&#x27;multi:softprob&#x27;, ...)</pre></div></div></div></div></div>"
      ],
      "text/plain": [
       "XGBClassifier(base_score=None, booster=None, callbacks=None,\n",
       "              colsample_bylevel=None, colsample_bynode=None,\n",
       "              colsample_bytree=None, device=None, early_stopping_rounds=None,\n",
       "              enable_categorical=False, eval_metric=None, feature_types=None,\n",
       "              gamma=None, grow_policy=None, importance_type=None,\n",
       "              interaction_constraints=None, learning_rate=1.0, max_bin=None,\n",
       "              max_cat_threshold=None, max_cat_to_onehot=None,\n",
       "              max_delta_step=None, max_depth=4, max_leaves=None,\n",
       "              min_child_weight=None, missing=nan, monotone_constraints=None,\n",
       "              multi_strategy=None, n_estimators=250, n_jobs=None,\n",
       "              num_parallel_tree=None, objective='multi:softprob', ...)"
      ]
     },
     "execution_count": 41,
     "metadata": {},
     "output_type": "execute_result"
    }
   ],
   "source": [
    "#import XGBClassifier\n",
    "from xgboost import XGBClassifier\n",
    "# declare parameters\n",
    "params = {\n",
    "            'objective':'binary:logistic',\n",
    "            'max_depth': 4,\n",
    "            #'alpha': 0.1,\n",
    "            'learning_rate': 1.0,\n",
    "            'n_estimators':250\n",
    "         }\n",
    "                      \n",
    "# instantiate the classifier \n",
    "xgb_clf = XGBClassifier(**params)\n",
    "\n",
    "# fit the classifier to the training data\n",
    "xgb_clf.fit(X_train, y_train)"
   ]
  },
  {
   "cell_type": "code",
   "execution_count": 42,
   "id": "6b4d6204",
   "metadata": {},
   "outputs": [
    {
     "name": "stdout",
     "output_type": "stream",
     "text": [
      "XGBClassifier(base_score=None, booster=None, callbacks=None,\n",
      "              colsample_bylevel=None, colsample_bynode=None,\n",
      "              colsample_bytree=None, device=None, early_stopping_rounds=None,\n",
      "              enable_categorical=False, eval_metric=None, feature_types=None,\n",
      "              gamma=None, grow_policy=None, importance_type=None,\n",
      "              interaction_constraints=None, learning_rate=1.0, max_bin=None,\n",
      "              max_cat_threshold=None, max_cat_to_onehot=None,\n",
      "              max_delta_step=None, max_depth=4, max_leaves=None,\n",
      "              min_child_weight=None, missing=nan, monotone_constraints=None,\n",
      "              multi_strategy=None, n_estimators=250, n_jobs=None,\n",
      "              num_parallel_tree=None, objective='multi:softprob', ...)\n"
     ]
    }
   ],
   "source": [
    "#alternatively view the parameters of the xgb trained model\n",
    "print(xgb_clf)"
   ]
  },
  {
   "cell_type": "code",
   "execution_count": 43,
   "id": "70b28a9b",
   "metadata": {},
   "outputs": [
    {
     "name": "stdout",
     "output_type": "stream",
     "text": [
      "(27483,)\n"
     ]
    }
   ],
   "source": [
    "# make predictions on test data\n",
    "y_pred = xgb_clf.predict(X_test)\n",
    "print(y_pred.shape)"
   ]
  },
  {
   "cell_type": "code",
   "execution_count": 44,
   "id": "246c5e3a",
   "metadata": {},
   "outputs": [
    {
     "name": "stdout",
     "output_type": "stream",
     "text": [
      "XGBoost model accuracy score: 0.9982\n"
     ]
    }
   ],
   "source": [
    "# check accuracy score\n",
    "from sklearn.metrics import accuracy_score\n",
    "print('XGBoost model accuracy score: {0:0.4f}'. format(accuracy_score(y_test, y_pred)))"
   ]
  },
  {
   "cell_type": "code",
   "execution_count": 45,
   "id": "5b1df81c",
   "metadata": {},
   "outputs": [
    {
     "name": "stdout",
     "output_type": "stream",
     "text": [
      "[[ 1624     2    11     0     0]\n",
      " [    0  4288     4     1     0]\n",
      " [    6    11 15363     4     0]\n",
      " [    0     5     3  2645     1]\n",
      " [    0     0     1     0  3514]]\n"
     ]
    },
    {
     "data": {
      "text/plain": [
       "0.9982170796492377"
      ]
     },
     "execution_count": 45,
     "metadata": {},
     "output_type": "execute_result"
    }
   ],
   "source": [
    "from sklearn.metrics import confusion_matrix, accuracy_score\n",
    "cm = confusion_matrix(y_test, y_pred) #our model\n",
    "print(cm)\n",
    "accuracy_score(y_test, y_pred)"
   ]
  },
  {
   "cell_type": "code",
   "execution_count": null,
   "id": "5cf47b19",
   "metadata": {},
   "outputs": [],
   "source": []
  }
 ],
 "metadata": {
  "kernelspec": {
   "display_name": "Python 3 (ipykernel)",
   "language": "python",
   "name": "python3"
  },
  "language_info": {
   "codemirror_mode": {
    "name": "ipython",
    "version": 3
   },
   "file_extension": ".py",
   "mimetype": "text/x-python",
   "name": "python",
   "nbconvert_exporter": "python",
   "pygments_lexer": "ipython3",
   "version": "3.10.5"
  }
 },
 "nbformat": 4,
 "nbformat_minor": 5
}
